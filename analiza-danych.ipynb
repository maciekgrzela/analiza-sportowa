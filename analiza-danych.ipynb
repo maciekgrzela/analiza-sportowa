{
 "cells": [
  {
   "cell_type": "markdown",
   "metadata": {
    "collapsed": true,
    "pycharm": {
     "name": "#%% md\n"
    }
   },
   "source": [
    "# Analiza sportowa - Analiza Danych\n",
    "## Projekt realizowany w ramach przedmiotu: Metody Przetwarzania Dużych Ilości Danych\n",
    "### Grupa projektowa:\n",
    "+  Filip Kozak\n",
    "+  Maciej Grzela\n",
    "+  Paweł Owczarek\n",
    "+  Szymon Tusznio"
   ]
  },
  {
   "cell_type": "markdown",
   "source": [
    "### Zaimportowanie wykorzystywanych bibliotek oraz konfiguracja wyświetlania zbiorów danych dla biblioteki Pandas"
   ],
   "metadata": {
    "collapsed": false,
    "pycharm": {
     "name": "#%% md\n"
    }
   }
  },
  {
   "cell_type": "code",
   "execution_count": 1,
   "outputs": [
    {
     "data": {
      "text/plain": "<IPython.core.display.HTML object>",
      "text/html": "<style>\n.output {\n    flex-direction: row;\n}\n</style>"
     },
     "execution_count": 1,
     "metadata": {},
     "output_type": "execute_result"
    }
   ],
   "source": [
    "import pandas as pd\n",
    "import numpy as np\n",
    "import matplotlib.pyplot as plt\n",
    "from IPython.display import display, HTML\n",
    "\n",
    "pd.set_option('display.max_columns', None)\n",
    "pd.set_option('display.width', 320)\n",
    "css = \"\"\"\n",
    ".output {\n",
    "    flex-direction: row;\n",
    "}\n",
    "\"\"\"\n",
    "HTML('<style>{}</style>'.format(css))"
   ],
   "metadata": {
    "collapsed": false,
    "pycharm": {
     "name": "#%%\n"
    }
   }
  },
  {
   "cell_type": "markdown",
   "source": [
    "### Wczytanie danych z pliku csv oraz zapisanie ich do struktury DataFrame dostępnej w ramach biblioteki Pandas"
   ],
   "metadata": {
    "collapsed": false,
    "pycharm": {
     "name": "#%% md\n"
    }
   }
  },
  {
   "cell_type": "code",
   "execution_count": 7,
   "outputs": [
    {
     "data": {
      "text/plain": "(16087, 17)"
     },
     "execution_count": 7,
     "metadata": {},
     "output_type": "execute_result"
    }
   ],
   "source": [
    "transfer_df = pd.read_csv(\n",
    "    'transfers-data-frame-cleared.csv',\n",
    "    sep=',',\n",
    "    header=0,\n",
    "    index_col=0,\n",
    ")\n",
    "\n",
    "transfer_df = transfer_df.fillna(\"\")"
   ],
   "metadata": {
    "collapsed": false,
    "pycharm": {
     "name": "#%%\n"
    }
   }
  },
  {
   "cell_type": "markdown",
   "source": [
    "### Wyświetlenie szczegółów dotyczących zbioru danych"
   ],
   "metadata": {
    "collapsed": false,
    "pycharm": {
     "name": "#%% md\n"
    }
   }
  },
  {
   "cell_type": "code",
   "execution_count": 9,
   "outputs": [
    {
     "data": {
      "text/plain": "              Club ClubLeagueLevel ClubLeagueNationality               Player  PlayerAge      PlayerPosition PlayerPositionScut PlayerNationality     Operation Bought/Sold  PlayerMarketValue            ClubAssigned ClubAssignedLeagueLevel ClubAssignedLeagueNationality  TransferValue  PlayerWithoutClub  \\\n1   Legia Warszawa          1.liga                Polska          Ernest Muci         19  Środkowy napastnik                ŚNP           Albania      Transfer     Kupiony          1000000.0               KF Tirana                  1.liga                       Albania       500000.0              False   \n2   Legia Warszawa          1.liga                Polska      Josip Juranovic         24       Prawy obrońca                POB         Chorwacja      Transfer     Kupiony          2500000.0        HNK Hajduk Split                  1.liga                     Chorwacja       400000.0              False   \n3   Legia Warszawa          1.liga                Polska    Jasur Yakhshiboev         23     Prawy napastnik                PNP        Uzbekistan      Transfer     Kupiony           700000.0      Pakhtakor Tashkent                  1.liga                    Uzbekistan       300000.0              False   \n4   Legia Warszawa          1.liga                Polska           Rafa Lopes         29  Środkowy napastnik                ŚNP        Portugalia      Transfer     Kupiony           500000.0                Cracovia                  1.liga                        Polska       150000.0              False   \n5   Legia Warszawa          1.liga                Polska     Bartosz Kapustka         23  Ofensywny pomocnik                OPM            Polska      Transfer     Kupiony          1500000.0          Leicester City                  1.liga                        Anglia            0.0              False   \n6   Legia Warszawa          1.liga                Polska          Artur Boruc         40            Bramkarz                BRK            Polska      Transfer     Kupiony            50000.0         AFC Bournemouth                  2.liga                        Anglia            0.0              False   \n7   Legia Warszawa          1.liga                Polska     Filip Mladenovic         28        Lewy obrońca                LOB            Serbia      Transfer     Kupiony          2500000.0           Lechia Gdańsk                  1.liga                        Polska            0.0              False   \n8   Legia Warszawa          1.liga                Polska     Michal Karbownik         19       Prawy obrońca                POB            Polska  Wypożyczenie     Kupiony          5000000.0  Brighton & Hove Albion                  1.liga                        Anglia            0.0              False   \n9   Legia Warszawa          1.liga                Polska        Joel Valencia         25      Lewy napastnik                LNP           Ekwador  Wypożyczenie     Kupiony           400000.0            FC Brentford                  1.liga                        Anglia            0.0              False   \n10  Legia Warszawa          1.liga                Polska  Bartlomiej Ciepiela         19  Ofensywny pomocnik                OPM            Polska      Transfer     Kupiony                0.0       Legia Warszawa II                  4.liga                        Polska            0.0              False   \n\n   PlayerGenericPosition  \n1              Napastnik  \n2                Obrońca  \n3              Napastnik  \n4              Napastnik  \n5               Pomocnik  \n6               Bramkarz  \n7                Obrońca  \n8                Obrońca  \n9              Napastnik  \n10              Pomocnik  ",
      "text/html": "<div>\n<style scoped>\n    .dataframe tbody tr th:only-of-type {\n        vertical-align: middle;\n    }\n\n    .dataframe tbody tr th {\n        vertical-align: top;\n    }\n\n    .dataframe thead th {\n        text-align: right;\n    }\n</style>\n<table border=\"1\" class=\"dataframe\">\n  <thead>\n    <tr style=\"text-align: right;\">\n      <th></th>\n      <th>Club</th>\n      <th>ClubLeagueLevel</th>\n      <th>ClubLeagueNationality</th>\n      <th>Player</th>\n      <th>PlayerAge</th>\n      <th>PlayerPosition</th>\n      <th>PlayerPositionScut</th>\n      <th>PlayerNationality</th>\n      <th>Operation</th>\n      <th>Bought/Sold</th>\n      <th>PlayerMarketValue</th>\n      <th>ClubAssigned</th>\n      <th>ClubAssignedLeagueLevel</th>\n      <th>ClubAssignedLeagueNationality</th>\n      <th>TransferValue</th>\n      <th>PlayerWithoutClub</th>\n      <th>PlayerGenericPosition</th>\n    </tr>\n  </thead>\n  <tbody>\n    <tr>\n      <th>1</th>\n      <td>Legia Warszawa</td>\n      <td>1.liga</td>\n      <td>Polska</td>\n      <td>Ernest Muci</td>\n      <td>19</td>\n      <td>Środkowy napastnik</td>\n      <td>ŚNP</td>\n      <td>Albania</td>\n      <td>Transfer</td>\n      <td>Kupiony</td>\n      <td>1000000.0</td>\n      <td>KF Tirana</td>\n      <td>1.liga</td>\n      <td>Albania</td>\n      <td>500000.0</td>\n      <td>False</td>\n      <td>Napastnik</td>\n    </tr>\n    <tr>\n      <th>2</th>\n      <td>Legia Warszawa</td>\n      <td>1.liga</td>\n      <td>Polska</td>\n      <td>Josip Juranovic</td>\n      <td>24</td>\n      <td>Prawy obrońca</td>\n      <td>POB</td>\n      <td>Chorwacja</td>\n      <td>Transfer</td>\n      <td>Kupiony</td>\n      <td>2500000.0</td>\n      <td>HNK Hajduk Split</td>\n      <td>1.liga</td>\n      <td>Chorwacja</td>\n      <td>400000.0</td>\n      <td>False</td>\n      <td>Obrońca</td>\n    </tr>\n    <tr>\n      <th>3</th>\n      <td>Legia Warszawa</td>\n      <td>1.liga</td>\n      <td>Polska</td>\n      <td>Jasur Yakhshiboev</td>\n      <td>23</td>\n      <td>Prawy napastnik</td>\n      <td>PNP</td>\n      <td>Uzbekistan</td>\n      <td>Transfer</td>\n      <td>Kupiony</td>\n      <td>700000.0</td>\n      <td>Pakhtakor Tashkent</td>\n      <td>1.liga</td>\n      <td>Uzbekistan</td>\n      <td>300000.0</td>\n      <td>False</td>\n      <td>Napastnik</td>\n    </tr>\n    <tr>\n      <th>4</th>\n      <td>Legia Warszawa</td>\n      <td>1.liga</td>\n      <td>Polska</td>\n      <td>Rafa Lopes</td>\n      <td>29</td>\n      <td>Środkowy napastnik</td>\n      <td>ŚNP</td>\n      <td>Portugalia</td>\n      <td>Transfer</td>\n      <td>Kupiony</td>\n      <td>500000.0</td>\n      <td>Cracovia</td>\n      <td>1.liga</td>\n      <td>Polska</td>\n      <td>150000.0</td>\n      <td>False</td>\n      <td>Napastnik</td>\n    </tr>\n    <tr>\n      <th>5</th>\n      <td>Legia Warszawa</td>\n      <td>1.liga</td>\n      <td>Polska</td>\n      <td>Bartosz Kapustka</td>\n      <td>23</td>\n      <td>Ofensywny pomocnik</td>\n      <td>OPM</td>\n      <td>Polska</td>\n      <td>Transfer</td>\n      <td>Kupiony</td>\n      <td>1500000.0</td>\n      <td>Leicester City</td>\n      <td>1.liga</td>\n      <td>Anglia</td>\n      <td>0.0</td>\n      <td>False</td>\n      <td>Pomocnik</td>\n    </tr>\n    <tr>\n      <th>6</th>\n      <td>Legia Warszawa</td>\n      <td>1.liga</td>\n      <td>Polska</td>\n      <td>Artur Boruc</td>\n      <td>40</td>\n      <td>Bramkarz</td>\n      <td>BRK</td>\n      <td>Polska</td>\n      <td>Transfer</td>\n      <td>Kupiony</td>\n      <td>50000.0</td>\n      <td>AFC Bournemouth</td>\n      <td>2.liga</td>\n      <td>Anglia</td>\n      <td>0.0</td>\n      <td>False</td>\n      <td>Bramkarz</td>\n    </tr>\n    <tr>\n      <th>7</th>\n      <td>Legia Warszawa</td>\n      <td>1.liga</td>\n      <td>Polska</td>\n      <td>Filip Mladenovic</td>\n      <td>28</td>\n      <td>Lewy obrońca</td>\n      <td>LOB</td>\n      <td>Serbia</td>\n      <td>Transfer</td>\n      <td>Kupiony</td>\n      <td>2500000.0</td>\n      <td>Lechia Gdańsk</td>\n      <td>1.liga</td>\n      <td>Polska</td>\n      <td>0.0</td>\n      <td>False</td>\n      <td>Obrońca</td>\n    </tr>\n    <tr>\n      <th>8</th>\n      <td>Legia Warszawa</td>\n      <td>1.liga</td>\n      <td>Polska</td>\n      <td>Michal Karbownik</td>\n      <td>19</td>\n      <td>Prawy obrońca</td>\n      <td>POB</td>\n      <td>Polska</td>\n      <td>Wypożyczenie</td>\n      <td>Kupiony</td>\n      <td>5000000.0</td>\n      <td>Brighton &amp; Hove Albion</td>\n      <td>1.liga</td>\n      <td>Anglia</td>\n      <td>0.0</td>\n      <td>False</td>\n      <td>Obrońca</td>\n    </tr>\n    <tr>\n      <th>9</th>\n      <td>Legia Warszawa</td>\n      <td>1.liga</td>\n      <td>Polska</td>\n      <td>Joel Valencia</td>\n      <td>25</td>\n      <td>Lewy napastnik</td>\n      <td>LNP</td>\n      <td>Ekwador</td>\n      <td>Wypożyczenie</td>\n      <td>Kupiony</td>\n      <td>400000.0</td>\n      <td>FC Brentford</td>\n      <td>1.liga</td>\n      <td>Anglia</td>\n      <td>0.0</td>\n      <td>False</td>\n      <td>Napastnik</td>\n    </tr>\n    <tr>\n      <th>10</th>\n      <td>Legia Warszawa</td>\n      <td>1.liga</td>\n      <td>Polska</td>\n      <td>Bartlomiej Ciepiela</td>\n      <td>19</td>\n      <td>Ofensywny pomocnik</td>\n      <td>OPM</td>\n      <td>Polska</td>\n      <td>Transfer</td>\n      <td>Kupiony</td>\n      <td>0.0</td>\n      <td>Legia Warszawa II</td>\n      <td>4.liga</td>\n      <td>Polska</td>\n      <td>0.0</td>\n      <td>False</td>\n      <td>Pomocnik</td>\n    </tr>\n  </tbody>\n</table>\n</div>"
     },
     "metadata": {},
     "output_type": "display_data"
    },
    {
     "data": {
      "text/plain": "(16087, 17)"
     },
     "metadata": {},
     "output_type": "display_data"
    },
    {
     "name": "stdout",
     "output_type": "stream",
     "text": [
      "<class 'pandas.core.frame.DataFrame'>\n",
      "Int64Index: 16087 entries, 1 to 19019\n",
      "Data columns (total 17 columns):\n",
      " #   Column                         Non-Null Count  Dtype  \n",
      "---  ------                         --------------  -----  \n",
      " 0   Club                           16087 non-null  object \n",
      " 1   ClubLeagueLevel                16087 non-null  object \n",
      " 2   ClubLeagueNationality          16087 non-null  object \n",
      " 3   Player                         16087 non-null  object \n",
      " 4   PlayerAge                      16087 non-null  int64  \n",
      " 5   PlayerPosition                 16087 non-null  object \n",
      " 6   PlayerPositionScut             16087 non-null  object \n",
      " 7   PlayerNationality              16087 non-null  object \n",
      " 8   Operation                      16087 non-null  object \n",
      " 9   Bought/Sold                    16087 non-null  object \n",
      " 10  PlayerMarketValue              16087 non-null  float64\n",
      " 11  ClubAssigned                   16087 non-null  object \n",
      " 12  ClubAssignedLeagueLevel        16087 non-null  object \n",
      " 13  ClubAssignedLeagueNationality  16087 non-null  object \n",
      " 14  TransferValue                  16087 non-null  float64\n",
      " 15  PlayerWithoutClub              16087 non-null  bool   \n",
      " 16  PlayerGenericPosition          16087 non-null  object \n",
      "dtypes: bool(1), float64(2), int64(1), object(13)\n",
      "memory usage: 2.1+ MB\n"
     ]
    },
    {
     "data": {
      "text/plain": "None"
     },
     "metadata": {},
     "output_type": "display_data"
    },
    {
     "data": {
      "text/plain": "          PlayerAge  PlayerMarketValue  TransferValue\ncount  16087.000000       1.608700e+04   1.608700e+04\nmean      24.795487       2.450819e+06   8.595076e+05\nstd        4.252338       5.795068e+06   4.326322e+06\nmin       15.000000       0.000000e+00   0.000000e+00\n25%       22.000000       2.500000e+05   0.000000e+00\n50%       24.000000       6.000000e+05   0.000000e+00\n75%       28.000000       2.000000e+06   0.000000e+00\nmax       40.000000       8.000000e+07   8.000000e+07",
      "text/html": "<div>\n<style scoped>\n    .dataframe tbody tr th:only-of-type {\n        vertical-align: middle;\n    }\n\n    .dataframe tbody tr th {\n        vertical-align: top;\n    }\n\n    .dataframe thead th {\n        text-align: right;\n    }\n</style>\n<table border=\"1\" class=\"dataframe\">\n  <thead>\n    <tr style=\"text-align: right;\">\n      <th></th>\n      <th>PlayerAge</th>\n      <th>PlayerMarketValue</th>\n      <th>TransferValue</th>\n    </tr>\n  </thead>\n  <tbody>\n    <tr>\n      <th>count</th>\n      <td>16087.000000</td>\n      <td>1.608700e+04</td>\n      <td>1.608700e+04</td>\n    </tr>\n    <tr>\n      <th>mean</th>\n      <td>24.795487</td>\n      <td>2.450819e+06</td>\n      <td>8.595076e+05</td>\n    </tr>\n    <tr>\n      <th>std</th>\n      <td>4.252338</td>\n      <td>5.795068e+06</td>\n      <td>4.326322e+06</td>\n    </tr>\n    <tr>\n      <th>min</th>\n      <td>15.000000</td>\n      <td>0.000000e+00</td>\n      <td>0.000000e+00</td>\n    </tr>\n    <tr>\n      <th>25%</th>\n      <td>22.000000</td>\n      <td>2.500000e+05</td>\n      <td>0.000000e+00</td>\n    </tr>\n    <tr>\n      <th>50%</th>\n      <td>24.000000</td>\n      <td>6.000000e+05</td>\n      <td>0.000000e+00</td>\n    </tr>\n    <tr>\n      <th>75%</th>\n      <td>28.000000</td>\n      <td>2.000000e+06</td>\n      <td>0.000000e+00</td>\n    </tr>\n    <tr>\n      <th>max</th>\n      <td>40.000000</td>\n      <td>8.000000e+07</td>\n      <td>8.000000e+07</td>\n    </tr>\n  </tbody>\n</table>\n</div>"
     },
     "metadata": {},
     "output_type": "display_data"
    }
   ],
   "source": [
    "display(transfer_df.head(10))\n",
    "display(transfer_df.shape)\n",
    "display(transfer_df.info())\n",
    "display(transfer_df.describe())"
   ],
   "metadata": {
    "collapsed": false,
    "pycharm": {
     "name": "#%%\n"
    }
   }
  },
  {
   "cell_type": "code",
   "execution_count": 10,
   "outputs": [
    {
     "data": {
      "text/plain": "<matplotlib.lines.Line2D at 0x7fcbb812c0b8>"
     },
     "execution_count": 10,
     "metadata": {},
     "output_type": "execute_result"
    },
    {
     "data": {
      "text/plain": "<Figure size 1008x432 with 1 Axes>",
      "image/png": "[encoded data removed]"
     },
     "metadata": {
      "needs_background": "light"
     },
     "output_type": "display_data"
    }
   ],
   "source": [
    "ax = transfer_df['PlayerAge'].plot(kind='density', figsize=(14,6))\n",
    "ax.axvline(transfer_df['PlayerAge'].mean(), color='red')\n",
    "ax.axvline(transfer_df['PlayerAge'].median(), color='green')"
   ],
   "metadata": {
    "collapsed": false,
    "pycharm": {
     "name": "#%%\n"
    }
   }
  }
 ],
 "metadata": {
  "kernelspec": {
   "display_name": "Python 3",
   "language": "python",
   "name": "python3"
  },
  "language_info": {
   "codemirror_mode": {
    "name": "ipython",
    "version": 2
   },
   "file_extension": ".py",
   "mimetype": "text/x-python",
   "name": "python",
   "nbconvert_exporter": "python",
   "pygments_lexer": "ipython2",
   "version": "2.7.6"
  }
 },
 "nbformat": 4,
 "nbformat_minor": 0
}