{
 "cells": [
  {
   "cell_type": "markdown",
   "metadata": {
    "collapsed": true,
    "pycharm": {
     "name": "#%% md\n"
    }
   },
   "source": [
    "# Analiza sportowa - Analiza Danych\n",
    "## Projekt realizowany w ramach przedmiotu: Metody Przetwarzania Dużych Ilości Danych\n",
    "### Grupa projektowa:\n",
    "+  Filip Kozak\n",
    "+  Maciej Grzela\n",
    "+  Paweł Owczarek\n",
    "+  Szymon Tusznio"
   ]
  },
  {
   "cell_type": "markdown",
   "source": [
    "### Zaimportowanie wykorzystywanych bibliotek oraz konfiguracja wyświetlania zbiorów danych dla biblioteki Pandas"
   ],
   "metadata": {
    "collapsed": false,
    "pycharm": {
     "name": "#%% md\n"
    }
   }
  },
  {
   "cell_type": "code",
   "execution_count": 2,
   "outputs": [
    {
     "data": {
      "text/plain": "<IPython.core.display.HTML object>",
      "text/html": "<style>\n.output {\n    flex-direction: row;\n}\n</style>"
     },
     "execution_count": 2,
     "metadata": {},
     "output_type": "execute_result"
    }
   ],
   "source": [
    "import pandas as pd\n",
    "import numpy as np\n",
    "import matplotlib.pyplot as plt\n",
    "from IPython.display import display, HTML\n",
    "\n",
    "pd.set_option('display.max_columns', None)\n",
    "pd.set_option('display.width', 320)\n",
    "pd.reset_option(\"display.max_rows\")\n",
    "\n",
    "css = \"\"\"\n",
    ".output {\n",
    "    flex-direction: row;\n",
    "}\n",
    "\"\"\"\n",
    "HTML('<style>{}</style>'.format(css))"
   ],
   "metadata": {
    "collapsed": false,
    "pycharm": {
     "name": "#%%\n"
    }
   }
  },
  {
   "cell_type": "markdown",
   "source": [
    "### Wczytanie danych z pliku csv oraz zapisanie ich do struktury DataFrame dostępnej w ramach biblioteki Pandas"
   ],
   "metadata": {
    "collapsed": false,
    "pycharm": {
     "name": "#%% md\n"
    }
   }
  },
  {
   "cell_type": "code",
   "execution_count": 4,
   "outputs": [],
   "source": [
    "transfer_df = pd.read_csv(\n",
    "    'csv/transfers-data-frame-cleared.csv',\n",
    "    sep=',',\n",
    "    header=0,\n",
    "    index_col=0,\n",
    ")\n",
    "\n",
    "transfer_df = transfer_df.fillna(\"\")"
   ],
   "metadata": {
    "collapsed": false,
    "pycharm": {
     "name": "#%%\n"
    }
   }
  },
  {
   "cell_type": "markdown",
   "source": [
    "### Wyświetlenie szczegółów dotyczących zbioru danych"
   ],
   "metadata": {
    "collapsed": false,
    "pycharm": {
     "name": "#%% md\n"
    }
   }
  },
  {
   "cell_type": "code",
   "execution_count": 5,
   "outputs": [
    {
     "data": {
      "text/plain": "              Club  ClubLeagueLevel ClubLeagueNationality               Player  PlayerAge      PlayerPosition PlayerPositionScut PlayerNationality     Operation Bought/Sold  PlayerMarketValue            ClubAssigned  ClubAssignedLeagueLevel ClubAssignedLeagueNationality  TransferValue  PlayerWithoutClub  \\\n1   Legia Warszawa                1                Polska          Ernest Muci         19  Środkowy napastnik                ŚNP           Albania      Transfer     Kupiony            1000000               KF Tirana                        1                       Albania         500000              False   \n2   Legia Warszawa                1                Polska      Josip Juranovic         24       Prawy obrońca                POB         Chorwacja      Transfer     Kupiony            2500000        HNK Hajduk Split                        1                     Chorwacja         400000              False   \n3   Legia Warszawa                1                Polska    Jasur Yakhshiboev         23     Prawy napastnik                PNP        Uzbekistan      Transfer     Kupiony             700000      Pakhtakor Tashkent                        1                    Uzbekistan         300000              False   \n4   Legia Warszawa                1                Polska           Rafa Lopes         29  Środkowy napastnik                ŚNP        Portugalia      Transfer     Kupiony             500000                Cracovia                        1                        Polska         150000              False   \n5   Legia Warszawa                1                Polska     Bartosz Kapustka         23  Ofensywny pomocnik                OPM            Polska      Transfer     Kupiony            1500000          Leicester City                        1                        Anglia              0              False   \n6   Legia Warszawa                1                Polska          Artur Boruc         40            Bramkarz                BRK            Polska      Transfer     Kupiony              50000         AFC Bournemouth                        2                        Anglia              0              False   \n7   Legia Warszawa                1                Polska     Filip Mladenovic         28        Lewy obrońca                LOB            Serbia      Transfer     Kupiony            2500000           Lechia Gdańsk                        1                        Polska              0              False   \n8   Legia Warszawa                1                Polska     Michal Karbownik         19       Prawy obrońca                POB            Polska  Wypożyczenie     Kupiony            5000000  Brighton & Hove Albion                        1                        Anglia              0              False   \n9   Legia Warszawa                1                Polska        Joel Valencia         25      Lewy napastnik                LNP           Ekwador  Wypożyczenie     Kupiony             400000            FC Brentford                        1                        Anglia              0              False   \n10  Legia Warszawa                1                Polska  Bartlomiej Ciepiela         19  Ofensywny pomocnik                OPM            Polska      Transfer     Kupiony                  0       Legia Warszawa II                        4                        Polska              0              False   \n\n   PlayerGenericPosition                   PlayerAgeGroup  \n1              Napastnik                            Młody  \n2                Obrońca                     W sile wieku  \n3              Napastnik                     W sile wieku  \n4              Napastnik                     W sile wieku  \n5               Pomocnik                     W sile wieku  \n6               Bramkarz  Zbliżający się do końca kariery  \n7                Obrońca                     W sile wieku  \n8                Obrońca                            Młody  \n9              Napastnik                     W sile wieku  \n10              Pomocnik                            Młody  ",
      "text/html": "<div>\n<style scoped>\n    .dataframe tbody tr th:only-of-type {\n        vertical-align: middle;\n    }\n\n    .dataframe tbody tr th {\n        vertical-align: top;\n    }\n\n    .dataframe thead th {\n        text-align: right;\n    }\n</style>\n<table border=\"1\" class=\"dataframe\">\n  <thead>\n    <tr style=\"text-align: right;\">\n      <th></th>\n      <th>Club</th>\n      <th>ClubLeagueLevel</th>\n      <th>ClubLeagueNationality</th>\n      <th>Player</th>\n      <th>PlayerAge</th>\n      <th>PlayerPosition</th>\n      <th>PlayerPositionScut</th>\n      <th>PlayerNationality</th>\n      <th>Operation</th>\n      <th>Bought/Sold</th>\n      <th>PlayerMarketValue</th>\n      <th>ClubAssigned</th>\n      <th>ClubAssignedLeagueLevel</th>\n      <th>ClubAssignedLeagueNationality</th>\n      <th>TransferValue</th>\n      <th>PlayerWithoutClub</th>\n      <th>PlayerGenericPosition</th>\n      <th>PlayerAgeGroup</th>\n    </tr>\n  </thead>\n  <tbody>\n    <tr>\n      <th>1</th>\n      <td>Legia Warszawa</td>\n      <td>1</td>\n      <td>Polska</td>\n      <td>Ernest Muci</td>\n      <td>19</td>\n      <td>Środkowy napastnik</td>\n      <td>ŚNP</td>\n      <td>Albania</td>\n      <td>Transfer</td>\n      <td>Kupiony</td>\n      <td>1000000</td>\n      <td>KF Tirana</td>\n      <td>1</td>\n      <td>Albania</td>\n      <td>500000</td>\n      <td>False</td>\n      <td>Napastnik</td>\n      <td>Młody</td>\n    </tr>\n    <tr>\n      <th>2</th>\n      <td>Legia Warszawa</td>\n      <td>1</td>\n      <td>Polska</td>\n      <td>Josip Juranovic</td>\n      <td>24</td>\n      <td>Prawy obrońca</td>\n      <td>POB</td>\n      <td>Chorwacja</td>\n      <td>Transfer</td>\n      <td>Kupiony</td>\n      <td>2500000</td>\n      <td>HNK Hajduk Split</td>\n      <td>1</td>\n      <td>Chorwacja</td>\n      <td>400000</td>\n      <td>False</td>\n      <td>Obrońca</td>\n      <td>W sile wieku</td>\n    </tr>\n    <tr>\n      <th>3</th>\n      <td>Legia Warszawa</td>\n      <td>1</td>\n      <td>Polska</td>\n      <td>Jasur Yakhshiboev</td>\n      <td>23</td>\n      <td>Prawy napastnik</td>\n      <td>PNP</td>\n      <td>Uzbekistan</td>\n      <td>Transfer</td>\n      <td>Kupiony</td>\n      <td>700000</td>\n      <td>Pakhtakor Tashkent</td>\n      <td>1</td>\n      <td>Uzbekistan</td>\n      <td>300000</td>\n      <td>False</td>\n      <td>Napastnik</td>\n      <td>W sile wieku</td>\n    </tr>\n    <tr>\n      <th>4</th>\n      <td>Legia Warszawa</td>\n      <td>1</td>\n      <td>Polska</td>\n      <td>Rafa Lopes</td>\n      <td>29</td>\n      <td>Środkowy napastnik</td>\n      <td>ŚNP</td>\n      <td>Portugalia</td>\n      <td>Transfer</td>\n      <td>Kupiony</td>\n      <td>500000</td>\n      <td>Cracovia</td>\n      <td>1</td>\n      <td>Polska</td>\n      <td>150000</td>\n      <td>False</td>\n      <td>Napastnik</td>\n      <td>W sile wieku</td>\n    </tr>\n    <tr>\n      <th>5</th>\n      <td>Legia Warszawa</td>\n      <td>1</td>\n      <td>Polska</td>\n      <td>Bartosz Kapustka</td>\n      <td>23</td>\n      <td>Ofensywny pomocnik</td>\n      <td>OPM</td>\n      <td>Polska</td>\n      <td>Transfer</td>\n      <td>Kupiony</td>\n      <td>1500000</td>\n      <td>Leicester City</td>\n      <td>1</td>\n      <td>Anglia</td>\n      <td>0</td>\n      <td>False</td>\n      <td>Pomocnik</td>\n      <td>W sile wieku</td>\n    </tr>\n    <tr>\n      <th>6</th>\n      <td>Legia Warszawa</td>\n      <td>1</td>\n      <td>Polska</td>\n      <td>Artur Boruc</td>\n      <td>40</td>\n      <td>Bramkarz</td>\n      <td>BRK</td>\n      <td>Polska</td>\n      <td>Transfer</td>\n      <td>Kupiony</td>\n      <td>50000</td>\n      <td>AFC Bournemouth</td>\n      <td>2</td>\n      <td>Anglia</td>\n      <td>0</td>\n      <td>False</td>\n      <td>Bramkarz</td>\n      <td>Zbliżający się do końca kariery</td>\n    </tr>\n    <tr>\n      <th>7</th>\n      <td>Legia Warszawa</td>\n      <td>1</td>\n      <td>Polska</td>\n      <td>Filip Mladenovic</td>\n      <td>28</td>\n      <td>Lewy obrońca</td>\n      <td>LOB</td>\n      <td>Serbia</td>\n      <td>Transfer</td>\n      <td>Kupiony</td>\n      <td>2500000</td>\n      <td>Lechia Gdańsk</td>\n      <td>1</td>\n      <td>Polska</td>\n      <td>0</td>\n      <td>False</td>\n      <td>Obrońca</td>\n      <td>W sile wieku</td>\n    </tr>\n    <tr>\n      <th>8</th>\n      <td>Legia Warszawa</td>\n      <td>1</td>\n      <td>Polska</td>\n      <td>Michal Karbownik</td>\n      <td>19</td>\n      <td>Prawy obrońca</td>\n      <td>POB</td>\n      <td>Polska</td>\n      <td>Wypożyczenie</td>\n      <td>Kupiony</td>\n      <td>5000000</td>\n      <td>Brighton &amp; Hove Albion</td>\n      <td>1</td>\n      <td>Anglia</td>\n      <td>0</td>\n      <td>False</td>\n      <td>Obrońca</td>\n      <td>Młody</td>\n    </tr>\n    <tr>\n      <th>9</th>\n      <td>Legia Warszawa</td>\n      <td>1</td>\n      <td>Polska</td>\n      <td>Joel Valencia</td>\n      <td>25</td>\n      <td>Lewy napastnik</td>\n      <td>LNP</td>\n      <td>Ekwador</td>\n      <td>Wypożyczenie</td>\n      <td>Kupiony</td>\n      <td>400000</td>\n      <td>FC Brentford</td>\n      <td>1</td>\n      <td>Anglia</td>\n      <td>0</td>\n      <td>False</td>\n      <td>Napastnik</td>\n      <td>W sile wieku</td>\n    </tr>\n    <tr>\n      <th>10</th>\n      <td>Legia Warszawa</td>\n      <td>1</td>\n      <td>Polska</td>\n      <td>Bartlomiej Ciepiela</td>\n      <td>19</td>\n      <td>Ofensywny pomocnik</td>\n      <td>OPM</td>\n      <td>Polska</td>\n      <td>Transfer</td>\n      <td>Kupiony</td>\n      <td>0</td>\n      <td>Legia Warszawa II</td>\n      <td>4</td>\n      <td>Polska</td>\n      <td>0</td>\n      <td>False</td>\n      <td>Pomocnik</td>\n      <td>Młody</td>\n    </tr>\n  </tbody>\n</table>\n</div>"
     },
     "metadata": {},
     "output_type": "display_data"
    },
    {
     "data": {
      "text/plain": "(12061, 18)"
     },
     "metadata": {},
     "output_type": "display_data"
    },
    {
     "name": "stdout",
     "output_type": "stream",
     "text": [
      "<class 'pandas.core.frame.DataFrame'>\n",
      "Int64Index: 12061 entries, 1 to 24471\n",
      "Data columns (total 18 columns):\n",
      " #   Column                         Non-Null Count  Dtype \n",
      "---  ------                         --------------  ----- \n",
      " 0   Club                           12061 non-null  object\n",
      " 1   ClubLeagueLevel                12061 non-null  int64 \n",
      " 2   ClubLeagueNationality          12061 non-null  object\n",
      " 3   Player                         12061 non-null  object\n",
      " 4   PlayerAge                      12061 non-null  int64 \n",
      " 5   PlayerPosition                 12061 non-null  object\n",
      " 6   PlayerPositionScut             12061 non-null  object\n",
      " 7   PlayerNationality              12061 non-null  object\n",
      " 8   Operation                      12061 non-null  object\n",
      " 9   Bought/Sold                    12061 non-null  object\n",
      " 10  PlayerMarketValue              12061 non-null  int64 \n",
      " 11  ClubAssigned                   12061 non-null  object\n",
      " 12  ClubAssignedLeagueLevel        12061 non-null  int64 \n",
      " 13  ClubAssignedLeagueNationality  12061 non-null  object\n",
      " 14  TransferValue                  12061 non-null  int64 \n",
      " 15  PlayerWithoutClub              12061 non-null  bool  \n",
      " 16  PlayerGenericPosition          12061 non-null  object\n",
      " 17  PlayerAgeGroup                 12061 non-null  object\n",
      "dtypes: bool(1), int64(5), object(12)\n",
      "memory usage: 1.7+ MB\n"
     ]
    },
    {
     "data": {
      "text/plain": "None"
     },
     "metadata": {},
     "output_type": "display_data"
    },
    {
     "data": {
      "text/plain": "       ClubLeagueLevel     PlayerAge  PlayerMarketValue  ClubAssignedLeagueLevel  TransferValue\ncount          12061.0  12061.000000       1.206100e+04             12061.000000   1.206100e+04\nmean               1.0     24.886411       1.954666e+06                 1.656828   6.595562e+05\nstd                0.0      4.329681       5.015453e+06                 1.363849   3.684380e+06\nmin                1.0     15.000000       0.000000e+00                 0.000000   0.000000e+00\n25%                1.0     22.000000       2.000000e+05                 1.000000   0.000000e+00\n50%                1.0     24.000000       4.500000e+05                 1.000000   0.000000e+00\n75%                1.0     28.000000       1.500000e+06                 2.000000   0.000000e+00\nmax                1.0     40.000000       8.000000e+07                 8.000000   8.000000e+07",
      "text/html": "<div>\n<style scoped>\n    .dataframe tbody tr th:only-of-type {\n        vertical-align: middle;\n    }\n\n    .dataframe tbody tr th {\n        vertical-align: top;\n    }\n\n    .dataframe thead th {\n        text-align: right;\n    }\n</style>\n<table border=\"1\" class=\"dataframe\">\n  <thead>\n    <tr style=\"text-align: right;\">\n      <th></th>\n      <th>ClubLeagueLevel</th>\n      <th>PlayerAge</th>\n      <th>PlayerMarketValue</th>\n      <th>ClubAssignedLeagueLevel</th>\n      <th>TransferValue</th>\n    </tr>\n  </thead>\n  <tbody>\n    <tr>\n      <th>count</th>\n      <td>12061.0</td>\n      <td>12061.000000</td>\n      <td>1.206100e+04</td>\n      <td>12061.000000</td>\n      <td>1.206100e+04</td>\n    </tr>\n    <tr>\n      <th>mean</th>\n      <td>1.0</td>\n      <td>24.886411</td>\n      <td>1.954666e+06</td>\n      <td>1.656828</td>\n      <td>6.595562e+05</td>\n    </tr>\n    <tr>\n      <th>std</th>\n      <td>0.0</td>\n      <td>4.329681</td>\n      <td>5.015453e+06</td>\n      <td>1.363849</td>\n      <td>3.684380e+06</td>\n    </tr>\n    <tr>\n      <th>min</th>\n      <td>1.0</td>\n      <td>15.000000</td>\n      <td>0.000000e+00</td>\n      <td>0.000000</td>\n      <td>0.000000e+00</td>\n    </tr>\n    <tr>\n      <th>25%</th>\n      <td>1.0</td>\n      <td>22.000000</td>\n      <td>2.000000e+05</td>\n      <td>1.000000</td>\n      <td>0.000000e+00</td>\n    </tr>\n    <tr>\n      <th>50%</th>\n      <td>1.0</td>\n      <td>24.000000</td>\n      <td>4.500000e+05</td>\n      <td>1.000000</td>\n      <td>0.000000e+00</td>\n    </tr>\n    <tr>\n      <th>75%</th>\n      <td>1.0</td>\n      <td>28.000000</td>\n      <td>1.500000e+06</td>\n      <td>2.000000</td>\n      <td>0.000000e+00</td>\n    </tr>\n    <tr>\n      <th>max</th>\n      <td>1.0</td>\n      <td>40.000000</td>\n      <td>8.000000e+07</td>\n      <td>8.000000</td>\n      <td>8.000000e+07</td>\n    </tr>\n  </tbody>\n</table>\n</div>"
     },
     "metadata": {},
     "output_type": "display_data"
    }
   ],
   "source": [
    "display(transfer_df.head(10))\n",
    "display(transfer_df.shape)\n",
    "display(transfer_df.info())\n",
    "display(transfer_df.describe())"
   ],
   "metadata": {
    "collapsed": false,
    "pycharm": {
     "name": "#%%\n"
    }
   }
  },
  {
   "cell_type": "markdown",
   "source": [
    "### Przypisanie typu string dla wszystkich kolumn tekstowych"
   ],
   "metadata": {
    "collapsed": false
   }
  },
  {
   "cell_type": "code",
   "execution_count": 6,
   "outputs": [
    {
     "name": "stdout",
     "output_type": "stream",
     "text": [
      "<class 'pandas.core.frame.DataFrame'>\n",
      "Int64Index: 12061 entries, 1 to 24471\n",
      "Data columns (total 18 columns):\n",
      " #   Column                         Non-Null Count  Dtype \n",
      "---  ------                         --------------  ----- \n",
      " 0   Club                           12061 non-null  string\n",
      " 1   ClubLeagueLevel                12061 non-null  int64 \n",
      " 2   ClubLeagueNationality          12061 non-null  string\n",
      " 3   Player                         12061 non-null  string\n",
      " 4   PlayerAge                      12061 non-null  int64 \n",
      " 5   PlayerPosition                 12061 non-null  string\n",
      " 6   PlayerPositionScut             12061 non-null  string\n",
      " 7   PlayerNationality              12061 non-null  string\n",
      " 8   Operation                      12061 non-null  string\n",
      " 9   Bought/Sold                    12061 non-null  string\n",
      " 10  PlayerMarketValue              12061 non-null  int64 \n",
      " 11  ClubAssigned                   12061 non-null  string\n",
      " 12  ClubAssignedLeagueLevel        12061 non-null  int64 \n",
      " 13  ClubAssignedLeagueNationality  12061 non-null  string\n",
      " 14  TransferValue                  12061 non-null  string\n",
      " 15  PlayerWithoutClub              12061 non-null  bool  \n",
      " 16  PlayerGenericPosition          12061 non-null  string\n",
      " 17  PlayerAgeGroup                 12061 non-null  string\n",
      "dtypes: bool(1), int64(4), string(13)\n",
      "memory usage: 1.7 MB\n"
     ]
    }
   ],
   "source": [
    "transfer_df['Club'] = transfer_df['Club'].astype(\"string\")\n",
    "transfer_df['ClubLeagueNationality'] = transfer_df['ClubLeagueNationality'].astype(\"string\")\n",
    "transfer_df['TransferValue'] = transfer_df['TransferValue'].astype(\"string\")\n",
    "transfer_df['Player'] = transfer_df['Player'].astype(\"string\")\n",
    "transfer_df['PlayerPosition'] = transfer_df['PlayerPosition'].astype(\"string\")\n",
    "transfer_df['PlayerPositionScut'] = transfer_df['PlayerPositionScut'].astype(\"string\")\n",
    "transfer_df['PlayerGenericPosition'] = transfer_df['PlayerGenericPosition'].astype(\"string\")\n",
    "transfer_df['PlayerNationality'] = transfer_df['PlayerNationality'].astype(\"string\")\n",
    "transfer_df['Operation'] = transfer_df['Operation'].astype(\"string\")\n",
    "transfer_df['Bought/Sold'] = transfer_df['Bought/Sold'].astype(\"string\")\n",
    "transfer_df['ClubAssigned'] = transfer_df['ClubAssigned'].astype(\"string\")\n",
    "transfer_df['ClubAssignedLeagueNationality'] = transfer_df['ClubAssignedLeagueNationality'].astype(\"string\")\n",
    "transfer_df['PlayerAgeGroup'] = transfer_df['PlayerAgeGroup'].astype(\"string\")\n",
    "\n",
    "transfer_df.info()"
   ],
   "metadata": {
    "collapsed": false,
    "pycharm": {
     "name": "#%%\n"
    }
   }
  },
  {
   "cell_type": "code",
   "execution_count": 7,
   "outputs": [
    {
     "data": {
      "text/plain": "<matplotlib.lines.Line2D at 0x7fbe81f8bb38>"
     },
     "execution_count": 7,
     "metadata": {},
     "output_type": "execute_result"
    },
    {
     "data": {
      "text/plain": "<Figure size 1008x432 with 1 Axes>",
      "image/png": "[encoded data removed]"
     },
     "metadata": {
      "needs_background": "light"
     },
     "output_type": "display_data"
    }
   ],
   "source": [
    "ax = transfer_df['PlayerAge'].plot(kind='density', figsize=(14,6))\n",
    "ax.axvline(transfer_df['PlayerAge'].mean(), color='red')\n",
    "ax.axvline(transfer_df['PlayerAge'].median(), color='green')"
   ],
   "metadata": {
    "collapsed": false,
    "pycharm": {
     "name": "#%%\n"
    }
   }
  },
  {
   "cell_type": "code",
   "execution_count": null,
   "outputs": [],
   "source": [],
   "metadata": {
    "collapsed": false,
    "pycharm": {
     "name": "#%%\n"
    }
   }
  }
 ],
 "metadata": {
  "kernelspec": {
   "display_name": "Python 3",
   "language": "python",
   "name": "python3"
  },
  "language_info": {
   "codemirror_mode": {
    "name": "ipython",
    "version": 2
   },
   "file_extension": ".py",
   "mimetype": "text/x-python",
   "name": "python",
   "nbconvert_exporter": "python",
   "pygments_lexer": "ipython2",
   "version": "2.7.6"
  }
 },
 "nbformat": 4,
 "nbformat_minor": 0
}