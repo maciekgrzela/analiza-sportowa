{
 "cells": [
  {
   "cell_type": "markdown",
   "metadata": {
    "collapsed": true,
    "pycharm": {
     "name": "#%% md\n"
    }
   },
   "source": [
    "# Analiza sportowa - Ekstrakcja danych\n",
    "Projekt realizowany w ramach przedmiotu: Metody Przetwarzania Dużych Ilości Danych\n",
    "Grupa projektowa:\n",
    "+ Filip Kozak\n",
    "+ Maciej Grzela\n",
    "+ Paweł Owczarek\n",
    "+ Szymon Tusznio"
   ]
  },
  {
   "cell_type": "markdown",
   "source": [
    "## Dane dotyczące transferów zawodników pomiędzy klubami z 41 wybranych najwyższych klas rozgrywkowych\n",
    "\n",
    "- ### Źródła danych (serwis transfermarkt.pl):\n",
    "    + 'https://www.transfermarkt.pl/pko-ekstraklasa/transfers/wettbewerb/PL1/plus/?saison_id=2020&s_w=&leihe=1&intern=0&intern=1',\n",
    "    + 'https://www.transfermarkt.pl/premier-league/transfers/wettbewerb/GB1/plus/?saison_id=2020&s_w=&leihe=1&intern=0&intern=1',\n",
    "    + 'https://www.transfermarkt.pl/laliga/transfers/wettbewerb/ES1/plus/?saison_id=2020&s_w=&leihe=1&intern=0&intern=1',\n",
    "    + 'https://www.transfermarkt.pl/bundesliga/transfers/wettbewerb/L1/plus/?saison_id=2020&s_w=&leihe=1&intern=0&intern=1',\n",
    "    + 'https://www.transfermarkt.pl/serie-a/transfers/wettbewerb/IT1/plus/?saison_id=2020&s_w=&leihe=3&intern=0&intern=1',\n",
    "    + 'https://www.transfermarkt.pl/ligue-1/transfers/wettbewerb/FR1/plus/?saison_id=2020&s_w=&leihe=1&intern=0&intern=1',\n",
    "    + 'https://www.transfermarkt.pl/premier-liga/transfers/wettbewerb/RU1/plus/?saison_id=2020&s_w=&leihe=1&intern=0&intern=1',\n",
    "    + 'https://www.transfermarkt.pl/bundesliga/transfers/wettbewerb/A1/plus/?saison_id=2020&s_w=&leihe=1&intern=0&intern=1',\n",
    "    + 'https://www.transfermarkt.pl/campeonato-brasileiro-serie-a/transfers/wettbewerb/BRA1/plus/?saison_id=2020&s_w=&leihe=1&intern=0&intern=1',\n",
    "    + 'https://www.transfermarkt.pl/eredivisie/transfers/wettbewerb/NL1/plus/?saison_id=2020&s_w=&leihe=1&intern=0&intern=1',\n",
    "    + 'https://www.transfermarkt.pl/liga-portugal-bwin/transfers/wettbewerb/PO1/plus/?saison_id=2020&s_w=&leihe=1&intern=0&intern=1',\n",
    "    + 'https://www.transfermarkt.pl/superliga/transfers/wettbewerb/AR1N/plus/?saison_id=2019&s_w=&leihe=1&intern=0&intern=1',\n",
    "    + 'https://www.transfermarkt.pl/major-league-soccer/transfers/wettbewerb/MLS1/plus/?saison_id=2020&s_w=&leihe=1&intern=0&intern=1'\n",
    "    + 'https://www.transfermarkt.pl/scottish-premiership/transfers/wettbewerb/SC1/plus/?saison_id=2020&s_w=&leihe=1&intern=0&intern=1',\n",
    "    + 'https://www.transfermarkt.pl/super-liga-srbije/transfers/wettbewerb/SER1/plus/?saison_id=2020&s_w=&leihe=1&intern=0&intern=1',\n",
    "    + 'https://www.transfermarkt.pl/premier-liha/transfers/wettbewerb/UKR1/plus/?saison_id=2020&s_w=&leihe=1&intern=0&intern=1',\n",
    "    + 'https://www.transfermarkt.pl/jupiler-pro-league/transfers/wettbewerb/BE1/plus/?saison_id=2020&s_w=&leihe=1&intern=0&intern=1',\n",
    "    + 'https://www.transfermarkt.pl/super-league/transfers/wettbewerb/C1/plus/?saison_id=2020&s_w=&leihe=1&intern=0&intern=1',\n",
    "    + 'https://www.transfermarkt.pl/super-lig/transfers/wettbewerb/TR1/plus/?saison_id=2020&s_w=&leihe=1&intern=0&intern=1',\n",
    "    + 'https://www.transfermarkt.pl/chinese-super-league/transfers/wettbewerb/CSL/plus/?saison_id=2020&s_w=&leihe=1&intern=0&intern=1',\n",
    "    + 'https://www.transfermarkt.pl/qatar-stars-league/transfers/wettbewerb/QSL/plus/?saison_id=2020&s_w=&leihe=1&intern=0&intern=1',\n",
    "    + 'https://www.transfermarkt.pl/super-league-1/transfers/wettbewerb/GR1/plus/?saison_id=2020&s_w=&leihe=1&intern=0&intern=1',\n",
    "    + 'https://www.transfermarkt.pl/1-hnl/transfers/wettbewerb/KR1/plus/?saison_id=2020&s_w=&leihe=1&intern=0&intern=1',\n",
    "    + 'https://www.transfermarkt.pl/superligaen/transfers/wettbewerb/DK1/plus/?saison_id=2020&s_w=&leihe=1&intern=0&intern=1',\n",
    "    + 'https://www.transfermarkt.pl/fortuna-liga/transfers/wettbewerb/TS1/plus/?saison_id=2020&s_w=&leihe=1&intern=0&intern=1',\n",
    "    + 'https://www.transfermarkt.pl/protathlima-cyta/transfers/wettbewerb/ZYP1/plus/?saison_id=2020&s_w=&leihe=1&intern=0&intern=1',\n",
    "    + 'https://www.transfermarkt.pl/eliteserien/transfers/wettbewerb/NO1/plus/?saison_id=2020&s_w=&leihe=1&intern=0&intern=1',\n",
    "    + 'https://www.transfermarkt.pl/ligat-haal/transfers/wettbewerb/ISR1/plus/?saison_id=2020&s_w=&leihe=1&intern=0&intern=1',\n",
    "    + 'https://www.transfermarkt.pl/allsvenskan/transfers/wettbewerb/SE1/plus/?saison_id=2020&s_w=&leihe=1&intern=0&intern=1',\n",
    "    + 'https://www.transfermarkt.pl/efbet-liga/transfers/wettbewerb/BU1/plus/?saison_id=2020&s_w=&leihe=1&intern=0&intern=1',\n",
    "    + 'https://www.transfermarkt.pl/championship/transfers/wettbewerb/GB2/plus/?saison_id=2020&s_w=&leihe=1&intern=0&intern=1',\n",
    "    + 'https://www.transfermarkt.pl/league-one/transfers/wettbewerb/GB3/plus/?saison_id=2020&s_w=&leihe=1&intern=0&intern=1',\n",
    "    + 'https://www.transfermarkt.pl/nemzeti-bajnoksag/transfers/wettbewerb/UNG1/plus/?saison_id=2020&s_w=&leihe=1&intern=0&intern=1',\n",
    "    + 'https://www.transfermarkt.pl/nemzeti-bajnoksag/transfers/wettbewerb/FI1/plus/?saison_id=2020&s_w=&leihe=1&intern=0&intern=1',\n",
    "    + 'https://www.transfermarkt.pl/liga-mx-clausura/transfers/wettbewerb/MEX1/plus/?saison_id=2020&s_w=&leihe=1&intern=0&intern=1',\n",
    "    + 'https://www.transfermarkt.pl/saudi-professional-league/transfers/wettbewerb/SA1/plus/?saison_id=2020&s_w=&leihe=1&intern=0&intern=1',\n",
    "    + 'https://www.transfermarkt.pl/j1-league/transfers/wettbewerb/JAP1/plus/?saison_id=2020&s_w=&leihe=1&intern=0&intern=1',\n",
    "    + 'https://www.transfermarkt.pl/uae-pro-league/transfers/wettbewerb/UAE1/plus/?saison_id=2020&s_w=&leihe=1&intern=0&intern=1',\n",
    "    + 'https://www.transfermarkt.pl/liga-dimayor-ii/transfers/wettbewerb/COL1/plus/?saison_id=2020&s_w=&leihe=1&intern=0&intern=1',\n",
    "    + 'https://www.transfermarkt.pl/egyptian-premier-league/transfers/wettbewerb/EGY1/plus/?saison_id=2020&s_w=&leihe=1&intern=0&intern=1'\n",
    "\n",
    "+ ### Struktura analizowanych danych danych:\n",
    "    + 'Club' - nazwa pierwszego klubu biorącego udział w operacji transferu/wypożyczenia zawodnika\n",
    "    + 'ClubLeagueLevel' - poziom rozgrywkowy na którym występuje pierwszy z klubów\n",
    "    + 'ClubLeagueNationality' - kraj w którym prowadzi swoją działalność pierwszy z klubów\n",
    "    + 'Player' - zawodnik będący przedmiotem transferu\n",
    "    + 'PlayerAge' - wiek zawodnika\n",
    "    + 'PlayerHeight' - wzrost zawodnika\n",
    "    + 'TransferDate' - data transferu\n",
    "    + 'PlayerMetchesPlayed' - mecze rozegrane przez zawodnika\n",
    "    + 'PlayerGoals' - liczba bramek zdobytych przez zawodnika\n",
    "    + 'PlayerAssists' - liczba asyst zdobytych przez zawodnika\n",
    "    + 'PlayerOwnGoals' - liczba bramek samobójczych zdobytych przez zawodnika\n",
    "    + 'PlayerSubstitutionIn' - liczba wejść zawodnika na boisko w ramach zmiany zawodnika\n",
    "    + 'PlayerSubstitutionOut' - liczba zejść zawodnika z boiska w ramach zmiany zawodnika\n",
    "    + 'PlayerYellowCards' - liczba żółtych kartek zdobytych przez zawodnika\n",
    "    + 'PlayerSecondYellowCards' - liczba dwóch żółtych kartek zdobytych przez zawodnika w trakcie jednego meczu\n",
    "    + 'PlayerRedCards' - liczba czerwonych kartek zdobytych przez zawodnika\n",
    "    + 'PlayerMinutesPlayed' - liczba minut które zawodnik zagrał na boisku\n",
    "    + 'PlayerPosition' - pozycja na której gra dany zawodnik\n",
    "    + 'PlayerPositionScut' - oznaczenie pozycji zawodnika w formie skrótu\n",
    "    + 'PlayerNationality' - narodowość zawodnika\n",
    "    + 'Operation' - transfer lub wypożyczenie\n",
    "    + 'Bought/Sold' - pole określające czy zawodnik został pozyskany czy sprzedany przez pierwszy z klubów\n",
    "    + 'PlayerMarketValue' - wartość rynkowa zawodnika\n",
    "    + 'ClubAssigned' - nazwa drugiego klubu biorącego udział w operacji transferu/wypożyczenia zawodnika\n",
    "    + 'ClubAssignedLeagueLevel' - poziom rozgrywkowy na którym występuje drugi z klubów\n",
    "    + 'ClubAssignedLeagueNationality' - kraj w którym prowadzi swoją działalność drugi z klubów\n",
    "    + 'TransferValue' - suma pieniędzy przekazana pomiędzy klubami w ramach transferu/wypożyczenia"
   ],
   "metadata": {
    "collapsed": false,
    "pycharm": {
     "name": "#%% md\n"
    }
   }
  },
  {
   "cell_type": "markdown",
   "source": [
    "# Ekstrakcja danych dotyczących transferów zawodników"
   ],
   "metadata": {
    "collapsed": false,
    "pycharm": {
     "name": "#%% md\n"
    }
   }
  },
  {
   "cell_type": "markdown",
   "source": [
    "### Zaimportowanie wykorzystywanych bibliotek oraz konfiguracja wyświetlania zbiorów danych dla biblioteki Pandas"
   ],
   "metadata": {
    "collapsed": false
   }
  },
  {
   "cell_type": "code",
   "execution_count": 2,
   "outputs": [],
   "source": [
    "import requests\n",
    "import pandas as pd\n",
    "import numpy as np\n",
    "from bs4 import BeautifulSoup\n",
    "\n",
    "pd.set_option('display.max_columns', None)\n",
    "pd.set_option('display.width', 320)"
   ],
   "metadata": {
    "collapsed": false,
    "pycharm": {
     "name": "#%%\n"
    }
   }
  },
  {
   "cell_type": "markdown",
   "source": [
    "### Zdefiniowanie listy źródeł danych.\n",
    "### Następnie, określenie kolekcji nazw plików html zapisywanych w pamięci, do których wprowadzone zostaną zawartości stron pobranych z poszczególnych źródeł.\n",
    "### Kolejno, zdefiniowanie nagłówka żądania o nazwie  'User-Agent'. Dzięki temu nagłówkowi, serwis transfermarkt.pl postrzega żądania wygenerowane z niniejszego skryptu jako żądania wysyłane przez przeglądarkę internetową.\n",
    "### Ostatnim elementem przedstawionego fragmentu kodu jest pętla iterująca po źródłach danych, wykonująca żądania dla każdego z nich, a następnie zapisująca zawartość odpowiedzi serwisu do pliku html."
   ],
   "metadata": {
    "collapsed": false,
    "pycharm": {
     "name": "#%% md\n"
    }
   }
  },
  {
   "cell_type": "code",
   "execution_count": null,
   "outputs": [],
   "source": [
    "transfers_sites_list = [\n",
    "    'https://www.transfermarkt.pl/pko-ekstraklasa/transfers/wettbewerb/PL1/plus/?saison_id=2020&s_w=&leihe=1&intern=0&intern=1',\n",
    "    'https://www.transfermarkt.pl/premier-league/transfers/wettbewerb/GB1/plus/?saison_id=2020&s_w=&leihe=1&intern=0&intern=1',\n",
    "    'https://www.transfermarkt.pl/laliga/transfers/wettbewerb/ES1/plus/?saison_id=2020&s_w=&leihe=1&intern=0&intern=1',\n",
    "    'https://www.transfermarkt.pl/bundesliga/transfers/wettbewerb/L1/plus/?saison_id=2020&s_w=&leihe=1&intern=0&intern=1',\n",
    "    'https://www.transfermarkt.pl/serie-a/transfers/wettbewerb/IT1/plus/?saison_id=2020&s_w=&leihe=3&intern=0&intern=1',\n",
    "    'https://www.transfermarkt.pl/ligue-1/transfers/wettbewerb/FR1/plus/?saison_id=2020&s_w=&leihe=1&intern=0&intern=1',\n",
    "    'https://www.transfermarkt.pl/premier-liga/transfers/wettbewerb/RU1/plus/?saison_id=2020&s_w=&leihe=1&intern=0&intern=1',\n",
    "    'https://www.transfermarkt.pl/bundesliga/transfers/wettbewerb/A1/plus/?saison_id=2020&s_w=&leihe=1&intern=0&intern=1',\n",
    "    'https://www.transfermarkt.pl/campeonato-brasileiro-serie-a/transfers/wettbewerb/BRA1/plus/?saison_id=2020&s_w=&leihe=1&intern=0&intern=1',\n",
    "    'https://www.transfermarkt.pl/eredivisie/transfers/wettbewerb/NL1/plus/?saison_id=2020&s_w=&leihe=1&intern=0&intern=1',\n",
    "    'https://www.transfermarkt.pl/liga-portugal-bwin/transfers/wettbewerb/PO1/plus/?saison_id=2020&s_w=&leihe=1&intern=0&intern=1',\n",
    "    'https://www.transfermarkt.pl/superliga/transfers/wettbewerb/AR1N/plus/?saison_id=2019&s_w=&leihe=1&intern=0&intern=1',\n",
    "    'https://www.transfermarkt.pl/major-league-soccer/transfers/wettbewerb/MLS1/plus/?saison_id=2020&s_w=&leihe=1&intern=0&intern=1'\n",
    "    'https://www.transfermarkt.pl/scottish-premiership/transfers/wettbewerb/SC1/plus/?saison_id=2020&s_w=&leihe=1&intern=0&intern=1',\n",
    "    'https://www.transfermarkt.pl/super-liga-srbije/transfers/wettbewerb/SER1/plus/?saison_id=2020&s_w=&leihe=1&intern=0&intern=1',\n",
    "    'https://www.transfermarkt.pl/premier-liha/transfers/wettbewerb/UKR1/plus/?saison_id=2020&s_w=&leihe=1&intern=0&intern=1',\n",
    "    'https://www.transfermarkt.pl/jupiler-pro-league/transfers/wettbewerb/BE1/plus/?saison_id=2020&s_w=&leihe=1&intern=0&intern=1',\n",
    "    'https://www.transfermarkt.pl/super-league/transfers/wettbewerb/C1/plus/?saison_id=2020&s_w=&leihe=1&intern=0&intern=1',\n",
    "    'https://www.transfermarkt.pl/super-lig/transfers/wettbewerb/TR1/plus/?saison_id=2020&s_w=&leihe=1&intern=0&intern=1',\n",
    "    'https://www.transfermarkt.pl/chinese-super-league/transfers/wettbewerb/CSL/plus/?saison_id=2020&s_w=&leihe=1&intern=0&intern=1',\n",
    "    'https://www.transfermarkt.pl/qatar-stars-league/transfers/wettbewerb/QSL/plus/?saison_id=2020&s_w=&leihe=1&intern=0&intern=1',\n",
    "    'https://www.transfermarkt.pl/super-league-1/transfers/wettbewerb/GR1/plus/?saison_id=2020&s_w=&leihe=1&intern=0&intern=1',\n",
    "    'https://www.transfermarkt.pl/1-hnl/transfers/wettbewerb/KR1/plus/?saison_id=2020&s_w=&leihe=1&intern=0&intern=1',\n",
    "    'https://www.transfermarkt.pl/superligaen/transfers/wettbewerb/DK1/plus/?saison_id=2020&s_w=&leihe=1&intern=0&intern=1',\n",
    "    'https://www.transfermarkt.pl/fortuna-liga/transfers/wettbewerb/TS1/plus/?saison_id=2020&s_w=&leihe=1&intern=0&intern=1',\n",
    "    'https://www.transfermarkt.pl/protathlima-cyta/transfers/wettbewerb/ZYP1/plus/?saison_id=2020&s_w=&leihe=1&intern=0&intern=1',\n",
    "    'https://www.transfermarkt.pl/eliteserien/transfers/wettbewerb/NO1/plus/?saison_id=2020&s_w=&leihe=1&intern=0&intern=1',\n",
    "    'https://www.transfermarkt.pl/ligat-haal/transfers/wettbewerb/ISR1/plus/?saison_id=2020&s_w=&leihe=1&intern=0&intern=1',\n",
    "    'https://www.transfermarkt.pl/allsvenskan/transfers/wettbewerb/SE1/plus/?saison_id=2020&s_w=&leihe=1&intern=0&intern=1',\n",
    "    'https://www.transfermarkt.pl/efbet-liga/transfers/wettbewerb/BU1/plus/?saison_id=2020&s_w=&leihe=1&intern=0&intern=1',\n",
    "    'https://www.transfermarkt.pl/championship/transfers/wettbewerb/GB2/plus/?saison_id=2020&s_w=&leihe=1&intern=0&intern=1',\n",
    "    'https://www.transfermarkt.pl/league-one/transfers/wettbewerb/GB3/plus/?saison_id=2020&s_w=&leihe=1&intern=0&intern=1',\n",
    "    'https://www.transfermarkt.pl/nemzeti-bajnoksag/transfers/wettbewerb/UNG1/plus/?saison_id=2020&s_w=&leihe=1&intern=0&intern=1',\n",
    "    'https://www.transfermarkt.pl/nemzeti-bajnoksag/transfers/wettbewerb/FI1/plus/?saison_id=2020&s_w=&leihe=1&intern=0&intern=1',\n",
    "    'https://www.transfermarkt.pl/liga-mx-clausura/transfers/wettbewerb/MEX1/plus/?saison_id=2020&s_w=&leihe=1&intern=0&intern=1',\n",
    "    'https://www.transfermarkt.pl/saudi-professional-league/transfers/wettbewerb/SA1/plus/?saison_id=2020&s_w=&leihe=1&intern=0&intern=1',\n",
    "    'https://www.transfermarkt.pl/j1-league/transfers/wettbewerb/JAP1/plus/?saison_id=2020&s_w=&leihe=1&intern=0&intern=1',\n",
    "    'https://www.transfermarkt.pl/uae-pro-league/transfers/wettbewerb/UAE1/plus/?saison_id=2020&s_w=&leihe=1&intern=0&intern=1',\n",
    "    'https://www.transfermarkt.pl/liga-dimayor-ii/transfers/wettbewerb/COL1/plus/?saison_id=2020&s_w=&leihe=1&intern=0&intern=1',\n",
    "    'https://www.transfermarkt.pl/egyptian-premier-league/transfers/wettbewerb/EGY1/plus/?saison_id=2020&s_w=&leihe=1&intern=0&intern=1'\n",
    "]\n",
    "\n",
    "file_names = [\"html/transfers-file-\"+site[site.find('.pl')+4:site.find('/transfers')]+\".html\" for site in transfers_sites_list]\n",
    "headers = {\n",
    "    'User-Agent': 'Mozilla/5.0 (X11; Linux x86_64) AppleWebKit/537.36 (KHTML, like Gecko) Chrome/47.0.2526.106 Safari/537.36'\n",
    "}\n",
    "\n",
    "for index, site in enumerate(transfers_sites_list):\n",
    "    webpage = requests.get(site, headers=headers)\n",
    "    file_name = file_names[index]\n",
    "    file = open(file_name, \"w+\", encoding=\"utf-8\")\n",
    "    file_names.append(file_name)\n",
    "    file.write(webpage.text)\n",
    "    file.close()\n",
    "\n",
    "transfers = list()"
   ],
   "metadata": {
    "collapsed": false,
    "pycharm": {
     "name": "#%%\n"
    }
   }
  },
  {
   "cell_type": "markdown",
   "source": [
    "### Implementacja metody, która dla danego klubu piłkarskiego uzyskuje informacje o kraju oraz lidze w której klub się znajduje.\n",
    "### Funkcja magazynuje dane w strukturze słownika w celu redukcji liczby żądań generowanych w stronę serwisu"
   ],
   "metadata": {
    "collapsed": false
   }
  },
  {
   "cell_type": "code",
   "execution_count": null,
   "outputs": [],
   "source": [
    "club_league_info_dict = dict()\n",
    "\n",
    "\n",
    "def get_club_info(club_href):\n",
    "    club_info = club_league_info_dict.get(club_href, None)\n",
    "\n",
    "    if club_info is None:\n",
    "        club_page = requests.get(\"https://transfermarkt.pl\"+club_href, headers=headers)\n",
    "        club_page_soup = BeautifulSoup(club_page.text, 'html.parser')\n",
    "\n",
    "        if len(club_page_soup.select('div.dataZusatzbox')) == 0:\n",
    "            club_league_info_dict[club_href] = [\"\", \"\"]\n",
    "            return [\"\", \"\"]\n",
    "\n",
    "        club_league_level = club_page_soup.select(\"div.dataZusatzbox > div.dataZusatzDaten > span.mediumpunkt\")[0].text.replace(\"\\n\", \"\").strip()[-6:]\n",
    "        club_league_nationality = club_page_soup.select(\"div.dataZusatzbox > div.dataZusatzDaten > span.mediumpunkt > a > img\")[0][\"alt\"].strip()\n",
    "        club_league_info = [club_league_level, club_league_nationality]\n",
    "        club_league_info_dict[club_href] = club_league_info\n",
    "        club_info = club_league_info\n",
    "\n",
    "    return club_info"
   ],
   "metadata": {
    "collapsed": false,
    "pycharm": {
     "name": "#%%\n"
    }
   }
  },
  {
   "cell_type": "markdown",
   "source": [
    "### Implementacja metody, która dla danego piłkarza uzyskuje informacje o statystykach dotyczących rozegranych meczów.\n",
    "### Funkcja magazynuje dane w strukturze słownika w celu redukcji liczby żądań generowanych w stronę serwisu"
   ],
   "metadata": {
    "collapsed": false
   }
  },
  {
   "cell_type": "code",
   "execution_count": null,
   "outputs": [],
   "source": [
    "player_info_dict = dict()\n",
    "\n",
    "def get_player_additional_info(player_href, player_position):\n",
    "    player_info = player_info_dict.get(player_href, None)\n",
    "\n",
    "    if player_info is None:\n",
    "        player_fetched_info = list()\n",
    "        transfermarkt_prefix = \"https://www.transfermarkt.pl\"\n",
    "        player_name = player_href.split(\"/\")[1]\n",
    "        player_id = player_href.split(\"/\")[-1]\n",
    "\n",
    "        full_href = transfermarkt_prefix + \"/\" + player_name + \"/leistungsdaten/spieler/\" + player_id + \"/plus/1?saison=ges\"\n",
    "\n",
    "        player_page = requests.get(full_href, headers=headers)\n",
    "        player_page_soup = BeautifulSoup(player_page.text, 'html.parser')\n",
    "\n",
    "        player_height_soup = player_page_soup.select('span.dataValue[itemprop=\"height\"]')\n",
    "\n",
    "        if len(player_height_soup) != 0:\n",
    "            player_fetched_info.append(float(player_height_soup[0].text[:-1].replace(\",\", \".\")))\n",
    "        else:\n",
    "            player_fetched_info.append(np.nan)\n",
    "\n",
    "        player_transfer_date_soup = player_page_soup.select('span.dataItem:-soup-contains(\"W drużynie od:\") + span.dataValue')\n",
    "\n",
    "        if len(player_transfer_date_soup) != 0:\n",
    "            player_fetched_info.append(player_transfer_date_soup[0].text)\n",
    "        else:\n",
    "            player_fetched_info.append(np.nan)\n",
    "\n",
    "        player_stats_soup = player_page_soup.select('td:-soup-contains(\"Łącznie:\") ~ td')\n",
    "\n",
    "        if len(player_stats_soup) != 0:\n",
    "            player_fetched_info.append(player_stats_soup[1].text)\n",
    "            player_fetched_info.append(player_stats_soup[2].text)\n",
    "            player_fetched_info.append(0 if player_position == \"BRK\" else player_stats_soup[3].text)\n",
    "            player_fetched_info.append(player_stats_soup[3].text if player_position == \"BRK\" else player_stats_soup[4].text)\n",
    "            player_fetched_info.append(player_stats_soup[4].text if player_position == \"BRK\" else player_stats_soup[5].text)\n",
    "            player_fetched_info.append(player_stats_soup[5].text if player_position == \"BRK\" else player_stats_soup[6].text)\n",
    "            player_fetched_info.append(player_stats_soup[6].text if player_position == \"BRK\" else player_stats_soup[7].text)\n",
    "            player_fetched_info.append(player_stats_soup[7].text if player_position == \"BRK\" else player_stats_soup[8].text)\n",
    "            player_fetched_info.append(player_stats_soup[8].text if player_position == \"BRK\" else player_stats_soup[9].text)\n",
    "            player_fetched_info.append(player_stats_soup[-1].text)\n",
    "        else:\n",
    "            player_fetched_info.extend([0, 0, 0, 0, 0, 0, 0, 0, 0, 0, 0, 0])\n",
    "\n",
    "        player_fetched_info = [0 if x == \"-\" else x for x in player_fetched_info]\n",
    "\n",
    "        player_info_dict[player_href] = player_fetched_info\n",
    "        player_info = player_fetched_info\n",
    "\n",
    "    return player_info"
   ],
   "metadata": {
    "collapsed": false,
    "pycharm": {
     "name": "#%%\n"
    }
   }
  },
  {
   "cell_type": "markdown",
   "source": [
    "### Implementacja metod iterujących po strukturze znaczników znajdujących się wewnątrz określonych plików html, a także gromadzących dane z tych plików\n",
    "\n",
    "### Dane zbierane są do postaci wielowymiarowej listy, która będzie następnie wykorzystywana przy tworzeniu obiektu DataFrame"
   ],
   "metadata": {
    "collapsed": false
   }
  },
  {
   "cell_type": "code",
   "execution_count": null,
   "outputs": [],
   "source": [
    "def gather_info_from_file(file_name):\n",
    "    file = open(file_name, \"r\", encoding=\"utf-8\")\n",
    "    file_content = file.read()\n",
    "    file.close()\n",
    "    soup = BeautifulSoup(file_content, 'html.parser')\n",
    "    transfers_tables = soup.select('#main > *:nth-child(13) > .large-8.columns > div')\n",
    "    transfers_league = soup.select('#main .box-personeninfos > div.list:nth-child(1) > table.profilheader > tr:nth-child(1) > td')[0].text.strip().split(\"\\xa0-\\xa0\\xa0\")\n",
    "    transfers_rows = list()\n",
    "    for transfers_table_index in range(3, len(transfers_tables)):\n",
    "        transfers_rows.append(gather_info_about_table(transfers_tables[transfers_table_index], transfers_league))\n",
    "\n",
    "    return transfers_rows\n",
    "\n",
    "\n",
    "def gather_info_about_table(table_div, league_info):\n",
    "    club_name = table_div.select('.table-header > a')[0]['title']\n",
    "    player_rows = list()\n",
    "    for table in table_div.select('table'):\n",
    "        bought_or_sold = table.select(\"thead > tr > th:nth-child(1)\")[0].text\n",
    "        for player in table.select('tbody > tr'):\n",
    "            player_name = player.select('td:nth-child(1) > div > span > a')[0].text\n",
    "            player_age = player.select('td:nth-child(2)')[0].text\n",
    "            player_nationality = player.select('td:nth-child(3) > img')[0]['title']\n",
    "            player_position = player.select('td:nth-child(4)')[0].text\n",
    "            player_position_scut = player.select('td:nth-child(5)')[0].text\n",
    "            player_value = player.select('td:nth-child(6)')[0].text\n",
    "            player_additional_info = get_player_additional_info(player.select('td:nth-child(1) > div > span > a')[0]['href'], player_position_scut)\n",
    "            player_club_assigned = player.select('td:nth-child(7) > a')[0]['title'] if len(player.select('td:nth-child(7) > a')) > 0 else \"\"\n",
    "            player_club_assigned_info = get_club_info(player.select('td:nth-child(7) > a')[0]['href']) if len(player.select('td:nth-child(7) > a')) > 0 else \"\"\n",
    "            player_club_assigned_level = player_club_assigned_info[0] if (len(player_club_assigned_info) == 2) else \"\"\n",
    "            player_club_assigned_nationality = player_club_assigned_info[1] if (len(player_club_assigned_info) == 2) else \"\"\n",
    "            player_compensation = player.select('td:nth-child(9) > a')[0].text.lower()\n",
    "            player_transfer_or_loan = player.select('td:nth-child(9) > a')[0].text.lower()\n",
    "\n",
    "            player_rows.append([club_name, league_info[0], league_info[1], player_name, player_age, player_additional_info[0], player_additional_info[1], player_additional_info[2], player_additional_info[3], player_additional_info[4], player_additional_info[5], player_additional_info[6], player_additional_info[7], player_additional_info[8], player_additional_info[9], player_additional_info[10], player_additional_info[11], player_position, player_position_scut, player_nationality, player_transfer_or_loan, bought_or_sold, player_value, player_club_assigned, player_club_assigned_level, player_club_assigned_nationality, player_compensation])\n",
    "\n",
    "    return player_rows\n",
    "\n",
    "for index, name in enumerate(file_names):\n",
    "    transfers.append(gather_info_from_file(name))"
   ],
   "metadata": {
    "collapsed": false,
    "pycharm": {
     "name": "#%%\n"
    }
   }
  },
  {
   "cell_type": "markdown",
   "source": [
    "### Przekształcenie wielowymiarowej listy do formy kolekcji dwuwymiarowej\n",
    "### Inicjalizacja obiektu typu DataFrame dla biblioteki Pandas\n",
    "### Zapis danych do formatu csv w celu przeprowadzania dalszej analizy na podstawie pojedynczego pliku"
   ],
   "metadata": {
    "collapsed": false
   }
  },
  {
   "cell_type": "code",
   "execution_count": null,
   "outputs": [],
   "source": [
    "def flatten_list(list_to_flat):\n",
    "    return [e for sl in list_to_flat for e in sl]\n",
    "\n",
    "transfers_columns = ['Club', 'ClubLeagueLevel', 'ClubLeagueNationality', 'Player', 'PlayerAge', 'PlayerHeight',\n",
    "                     'TransferDate', 'PlayerMatchesPlayed', 'PlayerGoals', 'PlayerAssists', 'PlayerOwnGoals',\n",
    "                     'PlayerSubstitutionIn', 'PlayerSubstitutionOut', 'PlayerYellowCards', 'PlayerSecondYellowCards',\n",
    "                     'PlayerRedCards', 'PlayerMinutesPlayed', 'PlayerPosition', 'PlayerPositionScut',\n",
    "                     'PlayerNationality', 'Operation', 'Bought/Sold', 'PlayerMarketValue', 'ClubAssigned',\n",
    "                     'ClubAssignedLeagueLevel', 'ClubAssignedLeagueNationality', 'TransferValue']\n",
    "\n",
    "transfers = flatten_list(flatten_list(transfers))\n",
    "transfers_df = pd.DataFrame(transfers, columns=transfers_columns)\n",
    "transfers_df.to_csv('transfers-data-frame.csv', encoding='utf-8')"
   ],
   "metadata": {
    "collapsed": false,
    "pycharm": {
     "name": "#%%\n"
    }
   }
  }
 ],
 "metadata": {
  "kernelspec": {
   "display_name": "Python 3",
   "language": "python",
   "name": "python3"
  },
  "language_info": {
   "codemirror_mode": {
    "name": "ipython",
    "version": 2
   },
   "file_extension": ".py",
   "mimetype": "text/x-python",
   "name": "python",
   "nbconvert_exporter": "python",
   "pygments_lexer": "ipython2",
   "version": "2.7.6"
  }
 },
 "nbformat": 4,
 "nbformat_minor": 0
}