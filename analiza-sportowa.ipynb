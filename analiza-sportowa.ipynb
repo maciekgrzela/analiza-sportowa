{
 "cells": [
  {
   "cell_type": "markdown",
   "metadata": {
    "collapsed": true,
    "pycharm": {
     "name": "#%% md\n"
    }
   },
   "source": [
    "# Analiza sportowa\n",
    "# Projekt realizowany w ramach przedmiotu _Metody przetwarzania dużych ilości danych_\n",
    "\n",
    "## Źródła danych\n",
    "+ Dane pobrane ze strony https://www.flashscore.pl\n",
    "+ Dane pobrane ze strony https://www.transfermarkt.pl\n",
    "+ __Football API__ SportMonks https://www.sportmonks.com/football-api\n",
    "\n",
    "## Grupa projektowa\n",
    "+ Maciej Grzela\n",
    "+ Paweł Owczarek\n",
    "+ Filip Kozak\n",
    "+ Szymon Tusznio"
   ]
  },
  {
   "cell_type": "markdown",
   "metadata": {},
   "source": [
    "# Zaimportowanie wszystkich bibliotek używanych w czasie realizacji projektu"
   ]
  },
  {
   "cell_type": "code",
   "execution_count": 5,
   "metadata": {
    "pycharm": {
     "name": "#%%\n"
    }
   },
   "outputs": [
    {
     "name": "stderr",
     "output_type": "stream",
     "text": [
      "WARNING: pip is being invoked by an old script wrapper. This will fail in a future version of pip.\n",
      "Please see https://github.com/pypa/pip/issues/5599 for advice on fixing the underlying issue.\n",
      "To avoid this problem you can invoke Python with '-m pip' instead of running pip directly.\n"
     ]
    },
    {
     "name": "stdout",
     "output_type": "stream",
     "text": [
      "Defaulting to user installation because normal site-packages is not writeable\n",
      "Requirement already satisfied: BeautifulSoup4 in /home/maciek/.local/lib/python3.6/site-packages (4.10.0)\n",
      "Requirement already satisfied: soupsieve>1.2 in /home/maciek/.local/lib/python3.6/site-packages (from BeautifulSoup4) (2.3.1)\n"
     ]
    }
   ],
   "source": [
    "import pip\n",
    "\n",
    "if int(pip.__version__.split('.')[0])>9:\n",
    "    from pip._internal import main\n",
    "else:\n",
    "    from pip import main\n",
    "def install(package):\n",
    "    main(['install', package])\n",
    "\n",
    "install('BeautifulSoup4')\n",
    "\n",
    "import requests\n",
    "import pandas as pd\n",
    "import numpy as np\n",
    "from bs4 import BeautifulSoup\n",
    "import matplotlib.pyplot as plt"
   ]
  },
  {
   "cell_type": "code",
   "execution_count": null,
   "outputs": [],
   "source": [],
   "metadata": {
    "collapsed": false,
    "pycharm": {
     "name": "#%%\n"
    }
   }
  },
  {
   "cell_type": "markdown",
   "metadata": {},
   "source": [
    "# Zwycięzcy rozgrywek ligowych w polsce w latach 1998/1999 - 2020/2021"
   ]
  },
  {
   "cell_type": "code",
   "execution_count": 6,
   "metadata": {
    "pycharm": {
     "name": "#%%\n"
    }
   },
   "outputs": [
    {
     "data": {
      "text/plain": "                                           Winner\nSeason                                           \nPKO BP Ekstraklasa 2020/2021      Legia Warszawa \nPKO BP Ekstraklasa 2019/2020      Legia Warszawa \nLOTTO Ekstraklasa 2018/2019        Piast Gliwice \nLOTTO Ekstraklasa 2017/2018       Legia Warszawa \nLOTTO Ekstraklasa 2016/2017       Legia Warszawa \nEkstraklasa 2015/2016             Legia Warszawa \nEkstraklasa 2014/2015                Lech Poznań \nEkstraklasa 2013/2014             Legia Warszawa \nEkstraklasa 2012/2013             Legia Warszawa \nT-Mobile Ekstraklasa 2011/2012     Śląsk Wrocław \nEkstraklasa 2010/2011               Wisła Kraków \nT-Mobile Ekstraklasa 2009/2010       Lech Poznań \nT-Mobile Ekstraklasa 2008/2009      Wisła Kraków \nEkstraklasa 2007/2008               Wisła Kraków \nEkstraklasa 2006/2007             Zagłębie Lubin \nEkstraklasa 2005/2006             Legia Warszawa \nEkstraklasa 2004/2005               Wisła Kraków \nEkstraklasa 2003/2004               Wisła Kraków \nEkstraklasa 2002/2003               Wisła Kraków \nEkstraklasa 2001/2002             Legia Warszawa \nEkstraklasa 2000/2001               Wisła Kraków \nEkstraklasa 1999/2000           Polonia Warszawa \nEkstraklasa 1998/1999               Wisła Kraków ",
      "text/html": "<div>\n<style scoped>\n    .dataframe tbody tr th:only-of-type {\n        vertical-align: middle;\n    }\n\n    .dataframe tbody tr th {\n        vertical-align: top;\n    }\n\n    .dataframe thead th {\n        text-align: right;\n    }\n</style>\n<table border=\"1\" class=\"dataframe\">\n  <thead>\n    <tr style=\"text-align: right;\">\n      <th></th>\n      <th>Winner</th>\n    </tr>\n    <tr>\n      <th>Season</th>\n      <th></th>\n    </tr>\n  </thead>\n  <tbody>\n    <tr>\n      <th>PKO BP Ekstraklasa 2020/2021</th>\n      <td>Legia Warszawa</td>\n    </tr>\n    <tr>\n      <th>PKO BP Ekstraklasa 2019/2020</th>\n      <td>Legia Warszawa</td>\n    </tr>\n    <tr>\n      <th>LOTTO Ekstraklasa 2018/2019</th>\n      <td>Piast Gliwice</td>\n    </tr>\n    <tr>\n      <th>LOTTO Ekstraklasa 2017/2018</th>\n      <td>Legia Warszawa</td>\n    </tr>\n    <tr>\n      <th>LOTTO Ekstraklasa 2016/2017</th>\n      <td>Legia Warszawa</td>\n    </tr>\n    <tr>\n      <th>Ekstraklasa 2015/2016</th>\n      <td>Legia Warszawa</td>\n    </tr>\n    <tr>\n      <th>Ekstraklasa 2014/2015</th>\n      <td>Lech Poznań</td>\n    </tr>\n    <tr>\n      <th>Ekstraklasa 2013/2014</th>\n      <td>Legia Warszawa</td>\n    </tr>\n    <tr>\n      <th>Ekstraklasa 2012/2013</th>\n      <td>Legia Warszawa</td>\n    </tr>\n    <tr>\n      <th>T-Mobile Ekstraklasa 2011/2012</th>\n      <td>Śląsk Wrocław</td>\n    </tr>\n    <tr>\n      <th>Ekstraklasa 2010/2011</th>\n      <td>Wisła Kraków</td>\n    </tr>\n    <tr>\n      <th>T-Mobile Ekstraklasa 2009/2010</th>\n      <td>Lech Poznań</td>\n    </tr>\n    <tr>\n      <th>T-Mobile Ekstraklasa 2008/2009</th>\n      <td>Wisła Kraków</td>\n    </tr>\n    <tr>\n      <th>Ekstraklasa 2007/2008</th>\n      <td>Wisła Kraków</td>\n    </tr>\n    <tr>\n      <th>Ekstraklasa 2006/2007</th>\n      <td>Zagłębie Lubin</td>\n    </tr>\n    <tr>\n      <th>Ekstraklasa 2005/2006</th>\n      <td>Legia Warszawa</td>\n    </tr>\n    <tr>\n      <th>Ekstraklasa 2004/2005</th>\n      <td>Wisła Kraków</td>\n    </tr>\n    <tr>\n      <th>Ekstraklasa 2003/2004</th>\n      <td>Wisła Kraków</td>\n    </tr>\n    <tr>\n      <th>Ekstraklasa 2002/2003</th>\n      <td>Wisła Kraków</td>\n    </tr>\n    <tr>\n      <th>Ekstraklasa 2001/2002</th>\n      <td>Legia Warszawa</td>\n    </tr>\n    <tr>\n      <th>Ekstraklasa 2000/2001</th>\n      <td>Wisła Kraków</td>\n    </tr>\n    <tr>\n      <th>Ekstraklasa 1999/2000</th>\n      <td>Polonia Warszawa</td>\n    </tr>\n    <tr>\n      <th>Ekstraklasa 1998/1999</th>\n      <td>Wisła Kraków</td>\n    </tr>\n  </tbody>\n</table>\n</div>"
     },
     "execution_count": 6,
     "metadata": {},
     "output_type": "execute_result"
    }
   ],
   "source": [
    "try:\n",
    "    file = open(\"flashscore-ekstraklasa-archive.html\", \"r\")\n",
    "    html_data = file.read()\n",
    "    file.close()\n",
    "except IOError:\n",
    "    webpage = requests.get(\"https://www.flashscore.pl/pilka-nozna/polska/pko-bp-ekstraklasa/archiwum/\")\n",
    "    file = open(\"flashscore-ekstraklasa-archive.html\", \"w+\")\n",
    "    file.write(webpage.text)\n",
    "    html_data = webpage.text\n",
    "    file.close()\n",
    "\n",
    "soup = BeautifulSoup(html_data, 'html.parser')\n",
    "seasons_table = soup.select('#tournament-page-archiv > .profileTable__row--background')\n",
    "\n",
    "season_names = list()\n",
    "season_winners = list()\n",
    "\n",
    "for line in seasons_table[1:]:\n",
    "    season_name = line.select('.leagueTable__seasonName > a')\n",
    "    season_names.append(season_name[0].text)\n",
    "    season_winner = line.select('.leagueTable__winnerBlock > .leagueTable__seasonName > a')\n",
    "    season_winners.append(season_winner[0].text)\n",
    "\n",
    "\n",
    "seasons_df = pd.DataFrame({\n",
    "    'Season': pd.Series(season_names),\n",
    "    'Winner': pd.Series(season_winners),\n",
    "}, columns=['Season', 'Winner'])\n",
    "\n",
    "seasons_df = seasons_df.set_index('Season')\n",
    "seasons_df"
   ]
  },
  {
   "cell_type": "markdown",
   "source": [
    "# Liczba zwycięstw w lidze dla każdego z zespołów, który wygrał ligę co najmniej raz"
   ],
   "metadata": {
    "collapsed": false
   }
  },
  {
   "cell_type": "code",
   "execution_count": 7,
   "outputs": [
    {
     "data": {
      "text/plain": "<AxesSubplot:xlabel='Winner'>"
     },
     "execution_count": 7,
     "metadata": {},
     "output_type": "execute_result"
    },
    {
     "data": {
      "text/plain": "<Figure size 1008x432 with 1 Axes>",
      "image/png": "[encoded data removed]"
     },
     "metadata": {
      "needs_background": "light"
     },
     "output_type": "display_data"
    }
   ],
   "source": [
    "seasons_df.value_counts().plot(kind='bar', figsize=(14,6))"
   ],
   "metadata": {
    "collapsed": false,
    "pycharm": {
     "name": "#%%\n"
    }
   }
  },
  {
   "cell_type": "code",
   "execution_count": null,
   "outputs": [],
   "source": [],
   "metadata": {
    "collapsed": false,
    "pycharm": {
     "name": "#%%\n"
    }
   }
  }
 ],
 "metadata": {
  "kernelspec": {
   "display_name": "Python 3",
   "language": "python",
   "name": "python3"
  },
  "language_info": {
   "codemirror_mode": {
    "name": "ipython",
    "version": 3
   },
   "file_extension": ".py",
   "mimetype": "text/x-python",
   "name": "python",
   "nbconvert_exporter": "python",
   "pygments_lexer": "ipython3",
   "version": "3.6.9"
  }
 },
 "nbformat": 4,
 "nbformat_minor": 1
}