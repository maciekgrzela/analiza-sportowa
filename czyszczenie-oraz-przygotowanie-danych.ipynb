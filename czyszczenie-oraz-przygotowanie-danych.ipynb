{
 "cells": [
  {
   "cell_type": "markdown",
   "metadata": {
    "collapsed": true,
    "pycharm": {
     "name": "#%% md\n"
    }
   },
   "source": [
    "# Analiza sportowa - Czyszczenie danych oraz ich przygotowanie do analizy\n",
    "## Projekt realizowany w ramach przedmiotu: Metody Przetwarzania Dużych Ilości Danych\n",
    "### Grupa projektowa:\n",
    "+  Filip Kozak\n",
    "+  Maciej Grzela\n",
    "+  Paweł Owczarek\n",
    "+  Szymon Tusznio"
   ]
  },
  {
   "cell_type": "markdown",
   "metadata": {
    "pycharm": {
     "name": "#%% md\n"
    }
   },
   "source": [
    "## W ramach niniejszego etapu przeprowadzone zostaną następujące operacje:\n",
    "+ ### Wczytanie danych z pliku CSV\n",
    "+ ### Usunięcie wpisów niepoprawnych z punktu widzenia typu danych\n",
    "+ ### Usunięcie wpisów niepoprawnych z punktu widzenia wiedzy dziedzinowej\n",
    "+ ### Modyfikacja formatu przechowywania wartości liczbowych\n",
    "+ ### Wyliczenie wartości dla danych pustych"
   ]
  },
  {
   "cell_type": "markdown",
   "metadata": {},
   "source": [
    "### Zaimportowanie wykorzystywanych bibliotek oraz konfiguracja wyświetlania zbiorów danych dla biblioteki Pandas"
   ]
  },
  {
   "cell_type": "code",
   "execution_count": 45,
   "metadata": {
    "pycharm": {
     "name": "#%%\n"
    }
   },
   "outputs": [
    {
     "ename": "ModuleNotFoundError",
     "evalue": "No module named 'babel'",
     "output_type": "error",
     "traceback": [
      "\u001B[0;31m---------------------------------------------------------------------------\u001B[0m",
      "\u001B[0;31mModuleNotFoundError\u001B[0m                       Traceback (most recent call last)",
      "\u001B[0;32m<ipython-input-45-d9ae1a97ace3>\u001B[0m in \u001B[0;36m<module>\u001B[0;34m\u001B[0m\n\u001B[1;32m      5\u001B[0m \u001B[0;32mimport\u001B[0m \u001B[0mmatplotlib\u001B[0m\u001B[0;34m.\u001B[0m\u001B[0mpyplot\u001B[0m \u001B[0;32mas\u001B[0m \u001B[0mplt\u001B[0m\u001B[0;34m\u001B[0m\u001B[0;34m\u001B[0m\u001B[0m\n\u001B[1;32m      6\u001B[0m \u001B[0;32mfrom\u001B[0m \u001B[0mIPython\u001B[0m\u001B[0;34m.\u001B[0m\u001B[0mdisplay\u001B[0m \u001B[0;32mimport\u001B[0m \u001B[0mdisplay\u001B[0m\u001B[0;34m,\u001B[0m \u001B[0mHTML\u001B[0m\u001B[0;34m\u001B[0m\u001B[0;34m\u001B[0m\u001B[0m\n\u001B[0;32m----> 7\u001B[0;31m \u001B[0;32mfrom\u001B[0m \u001B[0mbabel\u001B[0m\u001B[0;34m.\u001B[0m\u001B[0mnumbers\u001B[0m \u001B[0;32mimport\u001B[0m \u001B[0mparse_decimal\u001B[0m\u001B[0;34m\u001B[0m\u001B[0;34m\u001B[0m\u001B[0m\n\u001B[0m\u001B[1;32m      8\u001B[0m \u001B[0;34m\u001B[0m\u001B[0m\n\u001B[1;32m      9\u001B[0m \u001B[0mpd\u001B[0m\u001B[0;34m.\u001B[0m\u001B[0mset_option\u001B[0m\u001B[0;34m(\u001B[0m\u001B[0;34m'display.max_columns'\u001B[0m\u001B[0;34m,\u001B[0m \u001B[0;32mNone\u001B[0m\u001B[0;34m)\u001B[0m\u001B[0;34m\u001B[0m\u001B[0;34m\u001B[0m\u001B[0m\n",
      "\u001B[0;31mModuleNotFoundError\u001B[0m: No module named 'babel'"
     ]
    }
   ],
   "source": [
    "import requests\n",
    "import pandas as pd\n",
    "import numpy as np\n",
    "from bs4 import BeautifulSoup\n",
    "import matplotlib.pyplot as plt\n",
    "from IPython.display import display, HTML\n",
    "from babel.numbers import parse_decimal\n",
    "\n",
    "pd.set_option('display.max_columns', None)\n",
    "pd.set_option('display.width', 320)\n",
    "css = \"\"\"\n",
    ".output {\n",
    "    flex-direction: row;\n",
    "}\n",
    "\"\"\"\n",
    "HTML('<style>{}</style>'.format(css))"
   ]
  },
  {
   "cell_type": "markdown",
   "metadata": {
    "pycharm": {
     "name": "#%% md\n"
    }
   },
   "source": [
    "### Wczytanie danych z pliku csv oraz zapisanie ich do struktury DataFrame dostępnej w ramach biblioteki Pandas\n",
    "### Sprawdzenie dla jakich kolumn występują wartości nieokreślone"
   ]
  },
  {
   "cell_type": "code",
   "execution_count": null,
   "metadata": {
    "pycharm": {
     "name": "#%%\n"
    }
   },
   "outputs": [],
   "source": [
    "transfer_df = pd.read_csv(\n",
    "    'transfers-data-frame.csv',\n",
    "    sep=',',\n",
    "    header=0,\n",
    "    index_col=0\n",
    ")\n",
    "\n",
    "display(transfer_df)\n",
    "display(pd.isnull(transfer_df).sum())"
   ]
  },
  {
   "cell_type": "markdown",
   "metadata": {},
   "source": [
    "### Wyświetlenie wierszy dla których występują wartości nieokreślone"
   ]
  },
  {
   "cell_type": "code",
   "execution_count": null,
   "metadata": {
    "pycharm": {
     "name": "#%%\n"
    }
   },
   "outputs": [],
   "source": [
    "is_nan = transfer_df.isna()\n",
    "rows_has_nan = is_nan.any(axis=1)\n",
    "transfer_df[rows_has_nan][[\"Club\", \"Player\", \"ClubAssigned\", \"ClubAssignedLeagueLevel\", \"ClubAssignedLeagueNationality\", \"TransferValue\"]]"
   ]
  },
  {
   "cell_type": "markdown",
   "metadata": {
    "pycharm": {
     "name": "#%% md\n"
    }
   },
   "source": [
    "### Wnioskując na podstawie wierszy zawierających wartości nieokreślone możemy zauważyć, że przeprowadzane transfery dotyczą:\n",
    "+ ### Przenosin zawodnika do drużyny rezerw/drużyny młodzieżowej/szkółki piłkarskiej\n",
    "+ ### Przenosin zawodnika do drużyny na poziomie rozgrywkowym nieuwzględnianym w ramach grupy poziomów rozgrywkowych futbolu profesjonalnego\n",
    "+ ### Dyskwalifikacji/pauzy zawodnika\n",
    "+ ### Przenosin zawodnika do klubu piłkarskiego, którego dane nie zostały wprowadzone\n",
    "+ ### Zakończenia współpracy pomiędzy zawodnikiem a klubem\n",
    "\n",
    "### Obserwacje spełniające jedno z czterech pierwszych kryteriów powyższej listy możemy uznać jako obserwacje odstające. Wiersze te, zostaną usunięte ze zbioru danych.\n",
    "### Obserwacje spełniające piąte kryterium należy uznać jako poprawne. Aby uwzględnić przypadek zakończenia współpracy pomiędzy zawodnikiem a klubem należy stworzyć nową kolumnę wartości True/False"
   ]
  },
  {
   "cell_type": "markdown",
   "metadata": {
    "pycharm": {
     "name": "#%% md\n"
    }
   },
   "source": [
    "### Zdefiniowanie kolumny 'PlayerWithoutClub' przyjmującej wartość true dla zawodników bez klubu po transferze\n",
    "### Wyczyszczenie wartości dla kolumny 'ClubAssigned'"
   ]
  },
  {
   "cell_type": "code",
   "execution_count": 34,
   "metadata": {
    "pycharm": {
     "name": "#%%\n"
    }
   },
   "outputs": [
    {
     "name": "stderr",
     "output_type": "stream",
     "text": [
      "/usr/local/lib/python3.6/dist-packages/pandas/core/series.py:4582: SettingWithCopyWarning: \n",
      "A value is trying to be set on a copy of a slice from a DataFrame\n",
      "\n",
      "See the caveats in the documentation: https://pandas.pydata.org/pandas-docs/stable/user_guide/indexing.html#returning-a-view-versus-a-copy\n",
      "  method=method,\n",
      "/home/maciek/.local/lib/python3.6/site-packages/ipykernel_launcher.py:4: SettingWithCopyWarning: \n",
      "A value is trying to be set on a copy of a slice from a DataFrame.\n",
      "Try using .loc[row_indexer,col_indexer] = value instead\n",
      "\n",
      "See the caveats in the documentation: https://pandas.pydata.org/pandas-docs/stable/user_guide/indexing.html#returning-a-view-versus-a-copy\n",
      "  after removing the cwd from sys.path.\n",
      "/home/maciek/.local/lib/python3.6/site-packages/ipykernel_launcher.py:6: UserWarning: Boolean Series key will be reindexed to match DataFrame index.\n",
      "  \n"
     ]
    },
    {
     "data": {
      "text/html": [
       "<div>\n",
       "<style scoped>\n",
       "    .dataframe tbody tr th:only-of-type {\n",
       "        vertical-align: middle;\n",
       "    }\n",
       "\n",
       "    .dataframe tbody tr th {\n",
       "        vertical-align: top;\n",
       "    }\n",
       "\n",
       "    .dataframe thead th {\n",
       "        text-align: right;\n",
       "    }\n",
       "</style>\n",
       "<table border=\"1\" class=\"dataframe\">\n",
       "  <thead>\n",
       "    <tr style=\"text-align: right;\">\n",
       "      <th></th>\n",
       "      <th>Club</th>\n",
       "      <th>Player</th>\n",
       "      <th>ClubAssigned</th>\n",
       "      <th>PlayerWithoutClub</th>\n",
       "      <th>ClubAssignedLeagueLevel</th>\n",
       "      <th>ClubAssignedLeagueNationality</th>\n",
       "      <th>TransferValue</th>\n",
       "    </tr>\n",
       "  </thead>\n",
       "  <tbody>\n",
       "    <tr>\n",
       "      <th>36</th>\n",
       "      <td>Legia Warszawa</td>\n",
       "      <td>Dominik Nagy</td>\n",
       "      <td>Bez Klubu</td>\n",
       "      <td>True</td>\n",
       "      <td></td>\n",
       "      <td></td>\n",
       "      <td>-</td>\n",
       "    </tr>\n",
       "    <tr>\n",
       "      <th>37</th>\n",
       "      <td>Legia Warszawa</td>\n",
       "      <td>William Rémy</td>\n",
       "      <td>Bez Klubu</td>\n",
       "      <td>True</td>\n",
       "      <td></td>\n",
       "      <td></td>\n",
       "      <td>-</td>\n",
       "    </tr>\n",
       "    <tr>\n",
       "      <th>100</th>\n",
       "      <td>Piast Gliwice</td>\n",
       "      <td>Michal Chrapek</td>\n",
       "      <td>Bez Klubu</td>\n",
       "      <td>True</td>\n",
       "      <td></td>\n",
       "      <td></td>\n",
       "      <td>-</td>\n",
       "    </tr>\n",
       "    <tr>\n",
       "      <th>186</th>\n",
       "      <td>Śląsk Wrocław</td>\n",
       "      <td>Filip Markovic</td>\n",
       "      <td>Bez Klubu</td>\n",
       "      <td>True</td>\n",
       "      <td></td>\n",
       "      <td></td>\n",
       "      <td>-</td>\n",
       "    </tr>\n",
       "    <tr>\n",
       "      <th>187</th>\n",
       "      <td>Śląsk Wrocław</td>\n",
       "      <td>Michal Chrapek</td>\n",
       "      <td>Bez Klubu</td>\n",
       "      <td>True</td>\n",
       "      <td></td>\n",
       "      <td></td>\n",
       "      <td>-</td>\n",
       "    </tr>\n",
       "    <tr>\n",
       "      <th>...</th>\n",
       "      <td>...</td>\n",
       "      <td>...</td>\n",
       "      <td>...</td>\n",
       "      <td>...</td>\n",
       "      <td>...</td>\n",
       "      <td>...</td>\n",
       "      <td>...</td>\n",
       "    </tr>\n",
       "    <tr>\n",
       "      <th>18966</th>\n",
       "      <td>Colorado Rapids</td>\n",
       "      <td>Oliver Larraz</td>\n",
       "      <td>Bez Klubu</td>\n",
       "      <td>True</td>\n",
       "      <td></td>\n",
       "      <td></td>\n",
       "      <td>-</td>\n",
       "    </tr>\n",
       "    <tr>\n",
       "      <th>18992</th>\n",
       "      <td>Los Angeles Galaxy</td>\n",
       "      <td>Víctor Vázquez</td>\n",
       "      <td>Bez Klubu</td>\n",
       "      <td>True</td>\n",
       "      <td></td>\n",
       "      <td></td>\n",
       "      <td>bez odstępnego</td>\n",
       "    </tr>\n",
       "    <tr>\n",
       "      <th>19014</th>\n",
       "      <td>Los Angeles Galaxy</td>\n",
       "      <td>Josh Drack</td>\n",
       "      <td>Bez Klubu</td>\n",
       "      <td>True</td>\n",
       "      <td></td>\n",
       "      <td></td>\n",
       "      <td>-</td>\n",
       "    </tr>\n",
       "    <tr>\n",
       "      <th>19015</th>\n",
       "      <td>Los Angeles Galaxy</td>\n",
       "      <td>David Bingham</td>\n",
       "      <td>Bez Klubu</td>\n",
       "      <td>True</td>\n",
       "      <td></td>\n",
       "      <td></td>\n",
       "      <td>-</td>\n",
       "    </tr>\n",
       "    <tr>\n",
       "      <th>19016</th>\n",
       "      <td>Los Angeles Galaxy</td>\n",
       "      <td>Diédié Traoré</td>\n",
       "      <td>Bez Klubu</td>\n",
       "      <td>True</td>\n",
       "      <td></td>\n",
       "      <td></td>\n",
       "      <td>-</td>\n",
       "    </tr>\n",
       "  </tbody>\n",
       "</table>\n",
       "<p>893 rows × 7 columns</p>\n",
       "</div>"
      ],
      "text/plain": [
       "                     Club          Player ClubAssigned  PlayerWithoutClub ClubAssignedLeagueLevel ClubAssignedLeagueNationality   TransferValue\n",
       "36         Legia Warszawa    Dominik Nagy    Bez Klubu               True                                                                     -\n",
       "37         Legia Warszawa    William Rémy    Bez Klubu               True                                                                     -\n",
       "100         Piast Gliwice  Michal Chrapek    Bez Klubu               True                                                                     -\n",
       "186         Śląsk Wrocław  Filip Markovic    Bez Klubu               True                                                                     -\n",
       "187         Śląsk Wrocław  Michal Chrapek    Bez Klubu               True                                                                     -\n",
       "...                   ...             ...          ...                ...                     ...                           ...             ...\n",
       "18966     Colorado Rapids   Oliver Larraz    Bez Klubu               True                                                                     -\n",
       "18992  Los Angeles Galaxy  Víctor Vázquez    Bez Klubu               True                                                        bez odstępnego\n",
       "19014  Los Angeles Galaxy      Josh Drack    Bez Klubu               True                                                                     -\n",
       "19015  Los Angeles Galaxy   David Bingham    Bez Klubu               True                                                                     -\n",
       "19016  Los Angeles Galaxy   Diédié Traoré    Bez Klubu               True                                                                     -\n",
       "\n",
       "[893 rows x 7 columns]"
      ]
     },
     "execution_count": 34,
     "metadata": {},
     "output_type": "execute_result"
    }
   ],
   "source": [
    "without_club_label = \"Bez Klubu\"\n",
    "transfer_df[\"ClubAssigned\"].replace({\"Bez klubuBez klubu\": without_club_label}, inplace=True)\n",
    "\n",
    "transfer_df['PlayerWithoutClub'] = transfer_df['ClubAssigned'].map(lambda x: x == without_club_label)\n",
    "\n",
    "transfer_df[rows_has_nan][[\"Club\", \"Player\", \"ClubAssigned\", \"PlayerWithoutClub\", \"ClubAssignedLeagueLevel\", \"ClubAssignedLeagueNationality\", \"TransferValue\"]]"
   ]
  },
  {
   "cell_type": "markdown",
   "metadata": {},
   "source": [
    "### Wyznaczenie zbioru obserwacji do usunięcia\n",
    "### Usunięcie zbioru obserwacji odstających"
   ]
  },
  {
   "cell_type": "code",
   "execution_count": 35,
   "metadata": {
    "pycharm": {
     "name": "#%%\n"
    }
   },
   "outputs": [
    {
     "name": "stderr",
     "output_type": "stream",
     "text": [
      "/home/maciek/.local/lib/python3.6/site-packages/ipykernel_launcher.py:1: UserWarning: Boolean Series key will be reindexed to match DataFrame index.\n",
      "  \"\"\"Entry point for launching an IPython kernel.\n"
     ]
    },
    {
     "data": {
      "text/html": [
       "<div>\n",
       "<style scoped>\n",
       "    .dataframe tbody tr th:only-of-type {\n",
       "        vertical-align: middle;\n",
       "    }\n",
       "\n",
       "    .dataframe tbody tr th {\n",
       "        vertical-align: top;\n",
       "    }\n",
       "\n",
       "    .dataframe thead th {\n",
       "        text-align: right;\n",
       "    }\n",
       "</style>\n",
       "<table border=\"1\" class=\"dataframe\">\n",
       "  <thead>\n",
       "    <tr style=\"text-align: right;\">\n",
       "      <th></th>\n",
       "      <th>Club</th>\n",
       "      <th>ClubLeagueLevel</th>\n",
       "      <th>ClubLeagueNationality</th>\n",
       "      <th>Player</th>\n",
       "      <th>PlayerAge</th>\n",
       "      <th>PlayerPosition</th>\n",
       "      <th>PlayerPositionScut</th>\n",
       "      <th>PlayerNationality</th>\n",
       "      <th>Operation</th>\n",
       "      <th>Bought/Sold</th>\n",
       "      <th>PlayerMarketValue</th>\n",
       "      <th>ClubAssigned</th>\n",
       "      <th>ClubAssignedLeagueLevel</th>\n",
       "      <th>ClubAssignedLeagueNationality</th>\n",
       "      <th>TransferValue</th>\n",
       "      <th>PlayerWithoutClub</th>\n",
       "      <th>PlayerGenericPosition</th>\n",
       "    </tr>\n",
       "  </thead>\n",
       "  <tbody>\n",
       "  </tbody>\n",
       "</table>\n",
       "</div>"
      ],
      "text/plain": [
       "Empty DataFrame\n",
       "Columns: [Club, ClubLeagueLevel, ClubLeagueNationality, Player, PlayerAge, PlayerPosition, PlayerPositionScut, PlayerNationality, Operation, Bought/Sold, PlayerMarketValue, ClubAssigned, ClubAssignedLeagueLevel, ClubAssignedLeagueNationality, TransferValue, PlayerWithoutClub, PlayerGenericPosition]\n",
       "Index: []"
      ]
     },
     "metadata": {},
     "output_type": "display_data"
    },
    {
     "name": "stderr",
     "output_type": "stream",
     "text": [
      "/usr/local/lib/python3.6/dist-packages/pandas/core/frame.py:4174: SettingWithCopyWarning: \n",
      "A value is trying to be set on a copy of a slice from a DataFrame\n",
      "\n",
      "See the caveats in the documentation: https://pandas.pydata.org/pandas-docs/stable/user_guide/indexing.html#returning-a-view-versus-a-copy\n",
      "  errors=errors,\n"
     ]
    },
    {
     "data": {
      "text/html": [
       "<div>\n",
       "<style scoped>\n",
       "    .dataframe tbody tr th:only-of-type {\n",
       "        vertical-align: middle;\n",
       "    }\n",
       "\n",
       "    .dataframe tbody tr th {\n",
       "        vertical-align: top;\n",
       "    }\n",
       "\n",
       "    .dataframe thead th {\n",
       "        text-align: right;\n",
       "    }\n",
       "</style>\n",
       "<table border=\"1\" class=\"dataframe\">\n",
       "  <thead>\n",
       "    <tr style=\"text-align: right;\">\n",
       "      <th></th>\n",
       "      <th>Club</th>\n",
       "      <th>ClubLeagueLevel</th>\n",
       "      <th>ClubLeagueNationality</th>\n",
       "      <th>Player</th>\n",
       "      <th>PlayerAge</th>\n",
       "      <th>PlayerPosition</th>\n",
       "      <th>PlayerPositionScut</th>\n",
       "      <th>PlayerNationality</th>\n",
       "      <th>Operation</th>\n",
       "      <th>Bought/Sold</th>\n",
       "      <th>PlayerMarketValue</th>\n",
       "      <th>ClubAssigned</th>\n",
       "      <th>ClubAssignedLeagueLevel</th>\n",
       "      <th>ClubAssignedLeagueNationality</th>\n",
       "      <th>TransferValue</th>\n",
       "      <th>PlayerWithoutClub</th>\n",
       "      <th>PlayerGenericPosition</th>\n",
       "    </tr>\n",
       "  </thead>\n",
       "  <tbody>\n",
       "    <tr>\n",
       "      <th>1</th>\n",
       "      <td>Legia Warszawa</td>\n",
       "      <td>1</td>\n",
       "      <td>Polska</td>\n",
       "      <td>Ernest Muci</td>\n",
       "      <td>19</td>\n",
       "      <td>Środkowy napastnik</td>\n",
       "      <td>ŚNP</td>\n",
       "      <td>Albania</td>\n",
       "      <td>Transfer</td>\n",
       "      <td>Kupiony</td>\n",
       "      <td>1,00 mln €</td>\n",
       "      <td>KF Tirana</td>\n",
       "      <td>1.liga</td>\n",
       "      <td>Albania</td>\n",
       "      <td>500 tys. €</td>\n",
       "      <td>False</td>\n",
       "      <td>Napastnik</td>\n",
       "    </tr>\n",
       "    <tr>\n",
       "      <th>2</th>\n",
       "      <td>Legia Warszawa</td>\n",
       "      <td>1</td>\n",
       "      <td>Polska</td>\n",
       "      <td>Josip Juranovic</td>\n",
       "      <td>24</td>\n",
       "      <td>Prawy obrońca</td>\n",
       "      <td>POB</td>\n",
       "      <td>Chorwacja</td>\n",
       "      <td>Transfer</td>\n",
       "      <td>Kupiony</td>\n",
       "      <td>2,50 mln €</td>\n",
       "      <td>HNK Hajduk Split</td>\n",
       "      <td>1.liga</td>\n",
       "      <td>Chorwacja</td>\n",
       "      <td>400 tys. €</td>\n",
       "      <td>False</td>\n",
       "      <td>Obrońca</td>\n",
       "    </tr>\n",
       "    <tr>\n",
       "      <th>3</th>\n",
       "      <td>Legia Warszawa</td>\n",
       "      <td>1</td>\n",
       "      <td>Polska</td>\n",
       "      <td>Jasur Yakhshiboev</td>\n",
       "      <td>23</td>\n",
       "      <td>Prawy napastnik</td>\n",
       "      <td>PNP</td>\n",
       "      <td>Uzbekistan</td>\n",
       "      <td>Transfer</td>\n",
       "      <td>Kupiony</td>\n",
       "      <td>700 tys. €</td>\n",
       "      <td>Pakhtakor Tashkent</td>\n",
       "      <td>1.liga</td>\n",
       "      <td>Uzbekistan</td>\n",
       "      <td>300 tys. €</td>\n",
       "      <td>False</td>\n",
       "      <td>Napastnik</td>\n",
       "    </tr>\n",
       "    <tr>\n",
       "      <th>4</th>\n",
       "      <td>Legia Warszawa</td>\n",
       "      <td>1</td>\n",
       "      <td>Polska</td>\n",
       "      <td>Rafa Lopes</td>\n",
       "      <td>29</td>\n",
       "      <td>Środkowy napastnik</td>\n",
       "      <td>ŚNP</td>\n",
       "      <td>Portugalia</td>\n",
       "      <td>Transfer</td>\n",
       "      <td>Kupiony</td>\n",
       "      <td>500 tys. €</td>\n",
       "      <td>Cracovia</td>\n",
       "      <td>1.liga</td>\n",
       "      <td>Polska</td>\n",
       "      <td>150 tys. €</td>\n",
       "      <td>False</td>\n",
       "      <td>Napastnik</td>\n",
       "    </tr>\n",
       "    <tr>\n",
       "      <th>5</th>\n",
       "      <td>Legia Warszawa</td>\n",
       "      <td>1</td>\n",
       "      <td>Polska</td>\n",
       "      <td>Bartosz Kapustka</td>\n",
       "      <td>23</td>\n",
       "      <td>Ofensywny pomocnik</td>\n",
       "      <td>OPM</td>\n",
       "      <td>Polska</td>\n",
       "      <td>Transfer</td>\n",
       "      <td>Kupiony</td>\n",
       "      <td>1,50 mln €</td>\n",
       "      <td>Leicester City</td>\n",
       "      <td>1.liga</td>\n",
       "      <td>Anglia</td>\n",
       "      <td>bez odstępnego</td>\n",
       "      <td>False</td>\n",
       "      <td>Pomocnik</td>\n",
       "    </tr>\n",
       "    <tr>\n",
       "      <th>...</th>\n",
       "      <td>...</td>\n",
       "      <td>...</td>\n",
       "      <td>...</td>\n",
       "      <td>...</td>\n",
       "      <td>...</td>\n",
       "      <td>...</td>\n",
       "      <td>...</td>\n",
       "      <td>...</td>\n",
       "      <td>...</td>\n",
       "      <td>...</td>\n",
       "      <td>...</td>\n",
       "      <td>...</td>\n",
       "      <td>...</td>\n",
       "      <td>...</td>\n",
       "      <td>...</td>\n",
       "      <td>...</td>\n",
       "      <td>...</td>\n",
       "    </tr>\n",
       "    <tr>\n",
       "      <th>19015</th>\n",
       "      <td>Los Angeles Galaxy</td>\n",
       "      <td>1</td>\n",
       "      <td>Stany Zjednaczone</td>\n",
       "      <td>David Bingham</td>\n",
       "      <td>31</td>\n",
       "      <td>Bramkarz</td>\n",
       "      <td>BRK</td>\n",
       "      <td>Stany Zjednaczone</td>\n",
       "      <td>Transfer</td>\n",
       "      <td>Sprzedany</td>\n",
       "      <td>400 tys. €</td>\n",
       "      <td>Bez Klubu</td>\n",
       "      <td></td>\n",
       "      <td></td>\n",
       "      <td>-</td>\n",
       "      <td>True</td>\n",
       "      <td>Bramkarz</td>\n",
       "    </tr>\n",
       "    <tr>\n",
       "      <th>19016</th>\n",
       "      <td>Los Angeles Galaxy</td>\n",
       "      <td>1</td>\n",
       "      <td>Stany Zjednaczone</td>\n",
       "      <td>Diédié Traoré</td>\n",
       "      <td>22</td>\n",
       "      <td>Lewy obrońca</td>\n",
       "      <td>LOB</td>\n",
       "      <td>Francja</td>\n",
       "      <td>Transfer</td>\n",
       "      <td>Sprzedany</td>\n",
       "      <td>200 tys. €</td>\n",
       "      <td>Bez Klubu</td>\n",
       "      <td></td>\n",
       "      <td></td>\n",
       "      <td>-</td>\n",
       "      <td>True</td>\n",
       "      <td>Obrońca</td>\n",
       "    </tr>\n",
       "    <tr>\n",
       "      <th>19017</th>\n",
       "      <td>Los Angeles Galaxy</td>\n",
       "      <td>1</td>\n",
       "      <td>Stany Zjednaczone</td>\n",
       "      <td>Yony González</td>\n",
       "      <td>26</td>\n",
       "      <td>Prawy napastnik</td>\n",
       "      <td>PNP</td>\n",
       "      <td>Kolumbia</td>\n",
       "      <td>Wypożyczenie</td>\n",
       "      <td>Sprzedany</td>\n",
       "      <td>1,60 mln €</td>\n",
       "      <td>Benfika Lizbona</td>\n",
       "      <td>1.liga</td>\n",
       "      <td>Portugalia</td>\n",
       "      <td>koniec wypżyczenia31 gru 2020</td>\n",
       "      <td>False</td>\n",
       "      <td>Napastnik</td>\n",
       "    </tr>\n",
       "    <tr>\n",
       "      <th>19018</th>\n",
       "      <td>Los Angeles Galaxy</td>\n",
       "      <td>1</td>\n",
       "      <td>Stany Zjednaczone</td>\n",
       "      <td>Carlos Harvey</td>\n",
       "      <td>20</td>\n",
       "      <td>Defensywny pomocnik</td>\n",
       "      <td>DPM</td>\n",
       "      <td>Panama</td>\n",
       "      <td>Wypożyczenie</td>\n",
       "      <td>Sprzedany</td>\n",
       "      <td>175 tys. €</td>\n",
       "      <td>Los Angeles Galaxy II</td>\n",
       "      <td>2.liga</td>\n",
       "      <td>Stany Zjednaczone</td>\n",
       "      <td>koniec wypżyczenia30 gru 2020</td>\n",
       "      <td>False</td>\n",
       "      <td>Pomocnik</td>\n",
       "    </tr>\n",
       "    <tr>\n",
       "      <th>19019</th>\n",
       "      <td>Los Angeles Galaxy</td>\n",
       "      <td>1</td>\n",
       "      <td>Stany Zjednaczone</td>\n",
       "      <td>Cristian Pavón</td>\n",
       "      <td>24</td>\n",
       "      <td>Prawy napastnik</td>\n",
       "      <td>PNP</td>\n",
       "      <td>Argentyna</td>\n",
       "      <td>Wypożyczenie</td>\n",
       "      <td>Sprzedany</td>\n",
       "      <td>10,00 mln €</td>\n",
       "      <td>Club Atlético Boca Juniors</td>\n",
       "      <td>1.liga</td>\n",
       "      <td>Argentyna</td>\n",
       "      <td>koniec wypżyczenia31 gru 2020</td>\n",
       "      <td>False</td>\n",
       "      <td>Napastnik</td>\n",
       "    </tr>\n",
       "  </tbody>\n",
       "</table>\n",
       "<p>16087 rows × 17 columns</p>\n",
       "</div>"
      ],
      "text/plain": [
       "                     Club ClubLeagueLevel ClubLeagueNationality             Player  PlayerAge       PlayerPosition PlayerPositionScut  PlayerNationality     Operation Bought/Sold PlayerMarketValue                ClubAssigned ClubAssignedLeagueLevel ClubAssignedLeagueNationality                  TransferValue  \\\n",
       "1          Legia Warszawa               1                Polska        Ernest Muci         19   Środkowy napastnik                ŚNP            Albania      Transfer     Kupiony        1,00 mln €                   KF Tirana                  1.liga                       Albania                     500 tys. €   \n",
       "2          Legia Warszawa               1                Polska    Josip Juranovic         24        Prawy obrońca                POB          Chorwacja      Transfer     Kupiony        2,50 mln €            HNK Hajduk Split                  1.liga                     Chorwacja                     400 tys. €   \n",
       "3          Legia Warszawa               1                Polska  Jasur Yakhshiboev         23      Prawy napastnik                PNP         Uzbekistan      Transfer     Kupiony        700 tys. €          Pakhtakor Tashkent                  1.liga                    Uzbekistan                     300 tys. €   \n",
       "4          Legia Warszawa               1                Polska         Rafa Lopes         29   Środkowy napastnik                ŚNP         Portugalia      Transfer     Kupiony        500 tys. €                    Cracovia                  1.liga                        Polska                     150 tys. €   \n",
       "5          Legia Warszawa               1                Polska   Bartosz Kapustka         23   Ofensywny pomocnik                OPM             Polska      Transfer     Kupiony        1,50 mln €              Leicester City                  1.liga                        Anglia                 bez odstępnego   \n",
       "...                   ...             ...                   ...                ...        ...                  ...                ...                ...           ...         ...               ...                         ...                     ...                           ...                            ...   \n",
       "19015  Los Angeles Galaxy               1     Stany Zjednaczone      David Bingham         31             Bramkarz                BRK  Stany Zjednaczone      Transfer   Sprzedany        400 tys. €                   Bez Klubu                                                                                    -   \n",
       "19016  Los Angeles Galaxy               1     Stany Zjednaczone      Diédié Traoré         22         Lewy obrońca                LOB            Francja      Transfer   Sprzedany        200 tys. €                   Bez Klubu                                                                                    -   \n",
       "19017  Los Angeles Galaxy               1     Stany Zjednaczone      Yony González         26      Prawy napastnik                PNP           Kolumbia  Wypożyczenie   Sprzedany        1,60 mln €             Benfika Lizbona                  1.liga                    Portugalia  koniec wypżyczenia31 gru 2020   \n",
       "19018  Los Angeles Galaxy               1     Stany Zjednaczone      Carlos Harvey         20  Defensywny pomocnik                DPM             Panama  Wypożyczenie   Sprzedany        175 tys. €       Los Angeles Galaxy II                  2.liga             Stany Zjednaczone  koniec wypżyczenia30 gru 2020   \n",
       "19019  Los Angeles Galaxy               1     Stany Zjednaczone     Cristian Pavón         24      Prawy napastnik                PNP          Argentyna  Wypożyczenie   Sprzedany       10,00 mln €  Club Atlético Boca Juniors                  1.liga                     Argentyna  koniec wypżyczenia31 gru 2020   \n",
       "\n",
       "       PlayerWithoutClub PlayerGenericPosition  \n",
       "1                  False             Napastnik  \n",
       "2                  False               Obrońca  \n",
       "3                  False             Napastnik  \n",
       "4                  False             Napastnik  \n",
       "5                  False              Pomocnik  \n",
       "...                  ...                   ...  \n",
       "19015               True              Bramkarz  \n",
       "19016               True               Obrońca  \n",
       "19017              False             Napastnik  \n",
       "19018              False              Pomocnik  \n",
       "19019              False             Napastnik  \n",
       "\n",
       "[16087 rows x 17 columns]"
      ]
     },
     "metadata": {},
     "output_type": "display_data"
    }
   ],
   "source": [
    "transfers_to_remove = transfer_df[rows_has_nan].loc[transfer_df['PlayerWithoutClub'] == False]\n",
    "display(transfers_to_remove)\n",
    "\n",
    "transfer_df.drop(transfers_to_remove.index.tolist(), inplace=True)\n",
    "\n",
    "display(transfer_df)"
   ]
  },
  {
   "cell_type": "markdown",
   "metadata": {},
   "source": [
    "### Spośród pozostałych wierszy zawierających wartości nieokreślone wszystkie posiadają dla kolumny 'PlayerWithoutClub' wartość True\n",
    "### Wiersze te nie zostaną usunięte, dlatego też należy usunąć z nich wartości NaN i zastąpić je pustym ciągiem znaków"
   ]
  },
  {
   "cell_type": "code",
   "execution_count": 36,
   "metadata": {
    "pycharm": {
     "name": "#%%\n"
    }
   },
   "outputs": [
    {
     "name": "stderr",
     "output_type": "stream",
     "text": [
      "/home/maciek/.local/lib/python3.6/site-packages/ipykernel_launcher.py:1: UserWarning: Boolean Series key will be reindexed to match DataFrame index.\n",
      "  \"\"\"Entry point for launching an IPython kernel.\n"
     ]
    },
    {
     "data": {
      "text/html": [
       "<div>\n",
       "<style scoped>\n",
       "    .dataframe tbody tr th:only-of-type {\n",
       "        vertical-align: middle;\n",
       "    }\n",
       "\n",
       "    .dataframe tbody tr th {\n",
       "        vertical-align: top;\n",
       "    }\n",
       "\n",
       "    .dataframe thead th {\n",
       "        text-align: right;\n",
       "    }\n",
       "</style>\n",
       "<table border=\"1\" class=\"dataframe\">\n",
       "  <thead>\n",
       "    <tr style=\"text-align: right;\">\n",
       "      <th></th>\n",
       "      <th>Club</th>\n",
       "      <th>Player</th>\n",
       "      <th>ClubAssigned</th>\n",
       "      <th>PlayerWithoutClub</th>\n",
       "      <th>ClubAssignedLeagueLevel</th>\n",
       "      <th>ClubAssignedLeagueNationality</th>\n",
       "      <th>TransferValue</th>\n",
       "    </tr>\n",
       "  </thead>\n",
       "  <tbody>\n",
       "    <tr>\n",
       "      <th>36</th>\n",
       "      <td>Legia Warszawa</td>\n",
       "      <td>Dominik Nagy</td>\n",
       "      <td>Bez Klubu</td>\n",
       "      <td>True</td>\n",
       "      <td></td>\n",
       "      <td></td>\n",
       "      <td>-</td>\n",
       "    </tr>\n",
       "    <tr>\n",
       "      <th>37</th>\n",
       "      <td>Legia Warszawa</td>\n",
       "      <td>William Rémy</td>\n",
       "      <td>Bez Klubu</td>\n",
       "      <td>True</td>\n",
       "      <td></td>\n",
       "      <td></td>\n",
       "      <td>-</td>\n",
       "    </tr>\n",
       "    <tr>\n",
       "      <th>100</th>\n",
       "      <td>Piast Gliwice</td>\n",
       "      <td>Michal Chrapek</td>\n",
       "      <td>Bez Klubu</td>\n",
       "      <td>True</td>\n",
       "      <td></td>\n",
       "      <td></td>\n",
       "      <td>-</td>\n",
       "    </tr>\n",
       "    <tr>\n",
       "      <th>186</th>\n",
       "      <td>Śląsk Wrocław</td>\n",
       "      <td>Filip Markovic</td>\n",
       "      <td>Bez Klubu</td>\n",
       "      <td>True</td>\n",
       "      <td></td>\n",
       "      <td></td>\n",
       "      <td>-</td>\n",
       "    </tr>\n",
       "    <tr>\n",
       "      <th>187</th>\n",
       "      <td>Śląsk Wrocław</td>\n",
       "      <td>Michal Chrapek</td>\n",
       "      <td>Bez Klubu</td>\n",
       "      <td>True</td>\n",
       "      <td></td>\n",
       "      <td></td>\n",
       "      <td>-</td>\n",
       "    </tr>\n",
       "    <tr>\n",
       "      <th>...</th>\n",
       "      <td>...</td>\n",
       "      <td>...</td>\n",
       "      <td>...</td>\n",
       "      <td>...</td>\n",
       "      <td>...</td>\n",
       "      <td>...</td>\n",
       "      <td>...</td>\n",
       "    </tr>\n",
       "    <tr>\n",
       "      <th>18966</th>\n",
       "      <td>Colorado Rapids</td>\n",
       "      <td>Oliver Larraz</td>\n",
       "      <td>Bez Klubu</td>\n",
       "      <td>True</td>\n",
       "      <td></td>\n",
       "      <td></td>\n",
       "      <td>-</td>\n",
       "    </tr>\n",
       "    <tr>\n",
       "      <th>18992</th>\n",
       "      <td>Los Angeles Galaxy</td>\n",
       "      <td>Víctor Vázquez</td>\n",
       "      <td>Bez Klubu</td>\n",
       "      <td>True</td>\n",
       "      <td></td>\n",
       "      <td></td>\n",
       "      <td>bez odstępnego</td>\n",
       "    </tr>\n",
       "    <tr>\n",
       "      <th>19014</th>\n",
       "      <td>Los Angeles Galaxy</td>\n",
       "      <td>Josh Drack</td>\n",
       "      <td>Bez Klubu</td>\n",
       "      <td>True</td>\n",
       "      <td></td>\n",
       "      <td></td>\n",
       "      <td>-</td>\n",
       "    </tr>\n",
       "    <tr>\n",
       "      <th>19015</th>\n",
       "      <td>Los Angeles Galaxy</td>\n",
       "      <td>David Bingham</td>\n",
       "      <td>Bez Klubu</td>\n",
       "      <td>True</td>\n",
       "      <td></td>\n",
       "      <td></td>\n",
       "      <td>-</td>\n",
       "    </tr>\n",
       "    <tr>\n",
       "      <th>19016</th>\n",
       "      <td>Los Angeles Galaxy</td>\n",
       "      <td>Diédié Traoré</td>\n",
       "      <td>Bez Klubu</td>\n",
       "      <td>True</td>\n",
       "      <td></td>\n",
       "      <td></td>\n",
       "      <td>-</td>\n",
       "    </tr>\n",
       "  </tbody>\n",
       "</table>\n",
       "<p>893 rows × 7 columns</p>\n",
       "</div>"
      ],
      "text/plain": [
       "                     Club          Player ClubAssigned  PlayerWithoutClub ClubAssignedLeagueLevel ClubAssignedLeagueNationality   TransferValue\n",
       "36         Legia Warszawa    Dominik Nagy    Bez Klubu               True                                                                     -\n",
       "37         Legia Warszawa    William Rémy    Bez Klubu               True                                                                     -\n",
       "100         Piast Gliwice  Michal Chrapek    Bez Klubu               True                                                                     -\n",
       "186         Śląsk Wrocław  Filip Markovic    Bez Klubu               True                                                                     -\n",
       "187         Śląsk Wrocław  Michal Chrapek    Bez Klubu               True                                                                     -\n",
       "...                   ...             ...          ...                ...                     ...                           ...             ...\n",
       "18966     Colorado Rapids   Oliver Larraz    Bez Klubu               True                                                                     -\n",
       "18992  Los Angeles Galaxy  Víctor Vázquez    Bez Klubu               True                                                        bez odstępnego\n",
       "19014  Los Angeles Galaxy      Josh Drack    Bez Klubu               True                                                                     -\n",
       "19015  Los Angeles Galaxy   David Bingham    Bez Klubu               True                                                                     -\n",
       "19016  Los Angeles Galaxy   Diédié Traoré    Bez Klubu               True                                                                     -\n",
       "\n",
       "[893 rows x 7 columns]"
      ]
     },
     "metadata": {},
     "output_type": "display_data"
    },
    {
     "name": "stderr",
     "output_type": "stream",
     "text": [
      "/usr/local/lib/python3.6/dist-packages/pandas/core/frame.py:4327: SettingWithCopyWarning: \n",
      "A value is trying to be set on a copy of a slice from a DataFrame\n",
      "\n",
      "See the caveats in the documentation: https://pandas.pydata.org/pandas-docs/stable/user_guide/indexing.html#returning-a-view-versus-a-copy\n",
      "  downcast=downcast,\n"
     ]
    }
   ],
   "source": [
    "display(transfer_df[rows_has_nan][[\"Club\", \"Player\", \"ClubAssigned\", \"PlayerWithoutClub\", \"ClubAssignedLeagueLevel\", \"ClubAssignedLeagueNationality\", \"TransferValue\"]])\n",
    "\n",
    "transfer_df.fillna('', inplace=True)"
   ]
  },
  {
   "cell_type": "markdown",
   "metadata": {},
   "source": [
    "### Jak możemy zauważyć, po wykonaniu powyższej czynności w zbiorze danych nie występują już żadne wartości nieokreślone"
   ]
  },
  {
   "cell_type": "code",
   "execution_count": 37,
   "metadata": {
    "pycharm": {
     "name": "#%%\n"
    }
   },
   "outputs": [
    {
     "data": {
      "text/html": [
       "<div>\n",
       "<style scoped>\n",
       "    .dataframe tbody tr th:only-of-type {\n",
       "        vertical-align: middle;\n",
       "    }\n",
       "\n",
       "    .dataframe tbody tr th {\n",
       "        vertical-align: top;\n",
       "    }\n",
       "\n",
       "    .dataframe thead th {\n",
       "        text-align: right;\n",
       "    }\n",
       "</style>\n",
       "<table border=\"1\" class=\"dataframe\">\n",
       "  <thead>\n",
       "    <tr style=\"text-align: right;\">\n",
       "      <th></th>\n",
       "      <th>Club</th>\n",
       "      <th>ClubLeagueLevel</th>\n",
       "      <th>ClubLeagueNationality</th>\n",
       "      <th>Player</th>\n",
       "      <th>PlayerAge</th>\n",
       "      <th>PlayerPosition</th>\n",
       "      <th>PlayerPositionScut</th>\n",
       "      <th>PlayerNationality</th>\n",
       "      <th>Operation</th>\n",
       "      <th>Bought/Sold</th>\n",
       "      <th>PlayerMarketValue</th>\n",
       "      <th>ClubAssigned</th>\n",
       "      <th>ClubAssignedLeagueLevel</th>\n",
       "      <th>ClubAssignedLeagueNationality</th>\n",
       "      <th>TransferValue</th>\n",
       "      <th>PlayerWithoutClub</th>\n",
       "      <th>PlayerGenericPosition</th>\n",
       "    </tr>\n",
       "  </thead>\n",
       "  <tbody>\n",
       "  </tbody>\n",
       "</table>\n",
       "</div>"
      ],
      "text/plain": [
       "Empty DataFrame\n",
       "Columns: [Club, ClubLeagueLevel, ClubLeagueNationality, Player, PlayerAge, PlayerPosition, PlayerPositionScut, PlayerNationality, Operation, Bought/Sold, PlayerMarketValue, ClubAssigned, ClubAssignedLeagueLevel, ClubAssignedLeagueNationality, TransferValue, PlayerWithoutClub, PlayerGenericPosition]\n",
       "Index: []"
      ]
     },
     "execution_count": 37,
     "metadata": {},
     "output_type": "execute_result"
    }
   ],
   "source": [
    "transfer_df[transfer_df.isna().any(axis=1)]"
   ]
  },
  {
   "cell_type": "markdown",
   "metadata": {
    "pycharm": {
     "name": "#%% md\n"
    }
   },
   "source": [
    "### Wyczyszczenie danych z kolumn 'ClubLeagueLevel' oraz 'ClubAssignedLeagueLevel'"
   ]
  },
  {
   "cell_type": "code",
   "execution_count": 38,
   "metadata": {
    "pycharm": {
     "name": "#%%\n"
    }
   },
   "outputs": [
    {
     "data": {
      "text/plain": [
       "1    16087\n",
       "Name: ClubLeagueLevel, dtype: Int64"
      ]
     },
     "metadata": {},
     "output_type": "display_data"
    },
    {
     "data": {
      "text/plain": [
       "1.liga              8740\n",
       "2.liga              4496\n",
       "3.liga              1191\n",
       "                     893\n",
       "4.liga               442\n",
       "Liga Młodzieżowa     222\n",
       "Rezerwy klubowe       93\n",
       "5.liga                 8\n",
       "6.liga                 2\n",
       "Name: ClubAssignedLeagueLevel, dtype: Int64"
      ]
     },
     "metadata": {},
     "output_type": "display_data"
    },
    {
     "name": "stderr",
     "output_type": "stream",
     "text": [
      "/usr/local/lib/python3.6/dist-packages/pandas/core/series.py:4582: SettingWithCopyWarning: \n",
      "A value is trying to be set on a copy of a slice from a DataFrame\n",
      "\n",
      "See the caveats in the documentation: https://pandas.pydata.org/pandas-docs/stable/user_guide/indexing.html#returning-a-view-versus-a-copy\n",
      "  method=method,\n",
      "/home/maciek/.local/lib/python3.6/site-packages/ipykernel_launcher.py:6: SettingWithCopyWarning: \n",
      "A value is trying to be set on a copy of a slice from a DataFrame.\n",
      "Try using .loc[row_indexer,col_indexer] = value instead\n",
      "\n",
      "See the caveats in the documentation: https://pandas.pydata.org/pandas-docs/stable/user_guide/indexing.html#returning-a-view-versus-a-copy\n",
      "  \n",
      "/home/maciek/.local/lib/python3.6/site-packages/ipykernel_launcher.py:7: SettingWithCopyWarning: \n",
      "A value is trying to be set on a copy of a slice from a DataFrame.\n",
      "Try using .loc[row_indexer,col_indexer] = value instead\n",
      "\n",
      "See the caveats in the documentation: https://pandas.pydata.org/pandas-docs/stable/user_guide/indexing.html#returning-a-view-versus-a-copy\n",
      "  import sys\n"
     ]
    },
    {
     "name": "stdout",
     "output_type": "stream",
     "text": [
      "<class 'pandas.core.frame.DataFrame'>\n",
      "Int64Index: 16087 entries, 1 to 19019\n",
      "Data columns (total 17 columns):\n",
      " #   Column                         Non-Null Count  Dtype \n",
      "---  ------                         --------------  ----- \n",
      " 0   Club                           16087 non-null  object\n",
      " 1   ClubLeagueLevel                16087 non-null  string\n",
      " 2   ClubLeagueNationality          16087 non-null  object\n",
      " 3   Player                         16087 non-null  object\n",
      " 4   PlayerAge                      16087 non-null  int64 \n",
      " 5   PlayerPosition                 16087 non-null  object\n",
      " 6   PlayerPositionScut             16087 non-null  object\n",
      " 7   PlayerNationality              16087 non-null  object\n",
      " 8   Operation                      16087 non-null  object\n",
      " 9   Bought/Sold                    16087 non-null  object\n",
      " 10  PlayerMarketValue              16087 non-null  object\n",
      " 11  ClubAssigned                   16087 non-null  object\n",
      " 12  ClubAssignedLeagueLevel        16087 non-null  string\n",
      " 13  ClubAssignedLeagueNationality  16087 non-null  object\n",
      " 14  TransferValue                  16087 non-null  object\n",
      " 15  PlayerWithoutClub              16087 non-null  bool  \n",
      " 16  PlayerGenericPosition          16087 non-null  object\n",
      "dtypes: bool(1), int64(1), object(13), string(2)\n",
      "memory usage: 2.7+ MB\n"
     ]
    }
   ],
   "source": [
    "display(transfer_df['ClubLeagueLevel'].value_counts())\n",
    "\n",
    "display(transfer_df['ClubAssignedLeagueLevel'].value_counts())\n",
    "transfer_df[\"ClubAssignedLeagueLevel\"].replace({\"ieżowa\": \"Liga Młodzieżowa\", \"onship\": \"2.liga\", \"rezerw\": \"Rezerwy klubowe\"}, inplace=True)\n",
    "\n",
    "transfer_df['ClubLeagueLevel'] = transfer_df['ClubLeagueLevel'].astype(\"string\")\n",
    "transfer_df['ClubAssignedLeagueLevel'] = transfer_df['ClubAssignedLeagueLevel'].astype(\"string\")\n",
    "\n",
    "transfer_df.info()"
   ]
  },
  {
   "cell_type": "markdown",
   "metadata": {},
   "source": [
    "### Wyświetlenie zgrupowanych wartości dla kolumn w celu określenia, w jaki sposób powinny być czyszczone"
   ]
  },
  {
   "cell_type": "code",
   "execution_count": 39,
   "metadata": {
    "pycharm": {
     "name": "#%%\n"
    }
   },
   "outputs": [
    {
     "data": {
      "text/plain": [
       "Włochy               1886\n",
       "Argentyna            1758\n",
       "Brazylia             1692\n",
       "Stany Zjednaczone    1460\n",
       "Austria              1356\n",
       "Anglia               1350\n",
       "Hiszpania            1314\n",
       "Portugalia           1274\n",
       "Rosja                1180\n",
       "Polska               1126\n",
       "Holandia             1124\n",
       "Francja               567\n",
       "Name: ClubLeagueNationality, dtype: int64"
      ]
     },
     "metadata": {},
     "output_type": "display_data"
    },
    {
     "data": {
      "text/plain": [
       "23    1635\n",
       "22    1449\n",
       "21    1426\n",
       "24    1410\n",
       "25    1234\n",
       "26    1232\n",
       "20    1114\n",
       "27    1050\n",
       "29     927\n",
       "28     878\n",
       "19     803\n",
       "30     596\n",
       "31     481\n",
       "18     417\n",
       "32     404\n",
       "33     305\n",
       "34     210\n",
       "35     149\n",
       "17     131\n",
       "36      70\n",
       "37      62\n",
       "16      54\n",
       "38      32\n",
       "40       8\n",
       "39       6\n",
       "15       4\n",
       "Name: PlayerAge, dtype: int64"
      ]
     },
     "metadata": {},
     "output_type": "display_data"
    },
    {
     "data": {
      "text/plain": [
       "Środkowy napastnik     2697\n",
       "Środkowy obrońca       2478\n",
       "Środkowy pomocnik      1749\n",
       "Bramkarz               1342\n",
       "Prawy napastnik        1287\n",
       "Ofensywny pomocnik     1238\n",
       "Prawy obrońca          1219\n",
       "Lewy napastnik         1196\n",
       "Lewy obrońca           1181\n",
       "Defensywny pomocnik    1162\n",
       "Lewy pomocnik           199\n",
       "Prawy pomocnik          159\n",
       "Cofnięty napastnik      150\n",
       "Pomocnik                 12\n",
       "Napastnik                10\n",
       "Obrońca                   8\n",
       "Name: PlayerPosition, dtype: int64"
      ]
     },
     "metadata": {},
     "output_type": "display_data"
    },
    {
     "data": {
      "text/plain": [
       "Brazylia            2120\n",
       "Argentyna           1850\n",
       "Włochy               986\n",
       "Hiszpania            986\n",
       "Polska               858\n",
       "                    ... \n",
       "Zambia                 2\n",
       "Belize                 2\n",
       "Chad                   1\n",
       "Gujana Francuska       1\n",
       "Zimbabwe               1\n",
       "Name: PlayerNationality, Length: 133, dtype: int64"
      ]
     },
     "metadata": {},
     "output_type": "display_data"
    },
    {
     "data": {
      "text/plain": [
       "Wypożyczenie    8326\n",
       "Transfer        7761\n",
       "Name: Operation, dtype: int64"
      ]
     },
     "metadata": {},
     "output_type": "display_data"
    },
    {
     "data": {
      "text/plain": [
       "Sprzedany    8562\n",
       "Kupiony      7525\n",
       "Name: Bought/Sold, dtype: int64"
      ]
     },
     "metadata": {},
     "output_type": "display_data"
    },
    {
     "data": {
      "text/plain": [
       "200 tys. €     828\n",
       "300 tys. €     822\n",
       "500 tys. €     761\n",
       "400 tys. €     729\n",
       "250 tys. €     649\n",
       "              ... \n",
       "19,00 mln €      2\n",
       "80,00 mln €      2\n",
       "825 tys. €       2\n",
       "3,10 mln €       2\n",
       "2,90 mln €       2\n",
       "Name: PlayerMarketValue, Length: 120, dtype: int64"
      ]
     },
     "metadata": {},
     "output_type": "display_data"
    },
    {
     "data": {
      "text/plain": [
       "Włochy         1695\n",
       "Brazylia       1478\n",
       "Argentyna      1242\n",
       "Anglia         1221\n",
       "Hiszpania      1203\n",
       "               ... \n",
       "Mozambik          2\n",
       "Singapur          2\n",
       "Azerbejdżan       2\n",
       "Bangladesz        2\n",
       "Irlandia          2\n",
       "Name: ClubAssignedLeagueNationality, Length: 82, dtype: int64"
      ]
     },
     "metadata": {},
     "output_type": "display_data"
    },
    {
     "data": {
      "text/plain": [
       "wypożyczenie                         4153\n",
       "bez odstępnego                       3802\n",
       "-                                    1610\n",
       "koniec wypżyczenia30 cze 2020         842\n",
       "koniec wypżyczenia31 lip 2020         431\n",
       "                                     ... \n",
       "2,90 mln €                              1\n",
       "3,40 mln €                              1\n",
       "750 tys. €                              1\n",
       "16,70 mln €                             1\n",
       "opłata za wypożyczenie:700 tys. €       1\n",
       "Name: TransferValue, Length: 523, dtype: int64"
      ]
     },
     "metadata": {},
     "output_type": "display_data"
    }
   ],
   "source": [
    "display(transfer_df['ClubLeagueNationality'].value_counts())         # nie wymaga czyszczenia\n",
    "display(transfer_df['PlayerAge'].value_counts())                     # nie wymaga czyszczenia\n",
    "display(transfer_df['PlayerPosition'].value_counts())                # nie wymaga czyszczenia (stworzenie dodatkowej kolumny danych określających pozycję ogólną - Pomocnik, Napastnik, Obrońca, Bramkarz\n",
    "display(transfer_df['PlayerNationality'].value_counts())             # nie wymaga czyszczenia\n",
    "display(transfer_df['Operation'].value_counts())                     # wymaga czyszczenia (usunięcie danych niepoprawnych oraz modyfikacja formatu numerycznego, usunięcie wierszy dla wartości '?'\n",
    "display(transfer_df['Bought/Sold'].value_counts())                   # zmiana wartości 'nabytki' na 'kupiony' oraz 'odejścia' na 'sprzedany'\n",
    "display(transfer_df['PlayerMarketValue'].value_counts())             # modyfikacja danych do wartości liczbowych\n",
    "display(transfer_df['ClubAssignedLeagueNationality'].value_counts()) # nie wymaga czyszczenia\n",
    "display(transfer_df['TransferValue'].value_counts())                 # analogicznie do kolumny 'Operation'"
   ]
  },
  {
   "cell_type": "markdown",
   "metadata": {
    "pycharm": {
     "name": "#%% md\n"
    }
   },
   "source": [
    "### Stworzenie dodatkowej kolumny określającej ogólną pozycję zawodnika"
   ]
  },
  {
   "cell_type": "code",
   "execution_count": 40,
   "metadata": {
    "pycharm": {
     "name": "#%%\n"
    }
   },
   "outputs": [
    {
     "name": "stderr",
     "output_type": "stream",
     "text": [
      "/home/maciek/.local/lib/python3.6/site-packages/ipykernel_launcher.py:1: SettingWithCopyWarning: \n",
      "A value is trying to be set on a copy of a slice from a DataFrame.\n",
      "Try using .loc[row_indexer,col_indexer] = value instead\n",
      "\n",
      "See the caveats in the documentation: https://pandas.pydata.org/pandas-docs/stable/user_guide/indexing.html#returning-a-view-versus-a-copy\n",
      "  \"\"\"Entry point for launching an IPython kernel.\n"
     ]
    },
    {
     "data": {
      "text/html": [
       "<div>\n",
       "<style scoped>\n",
       "    .dataframe tbody tr th:only-of-type {\n",
       "        vertical-align: middle;\n",
       "    }\n",
       "\n",
       "    .dataframe tbody tr th {\n",
       "        vertical-align: top;\n",
       "    }\n",
       "\n",
       "    .dataframe thead th {\n",
       "        text-align: right;\n",
       "    }\n",
       "</style>\n",
       "<table border=\"1\" class=\"dataframe\">\n",
       "  <thead>\n",
       "    <tr style=\"text-align: right;\">\n",
       "      <th></th>\n",
       "      <th>PlayerPosition</th>\n",
       "      <th>PlayerGenericPosition</th>\n",
       "    </tr>\n",
       "  </thead>\n",
       "  <tbody>\n",
       "    <tr>\n",
       "      <th>1</th>\n",
       "      <td>Środkowy napastnik</td>\n",
       "      <td>Napastnik</td>\n",
       "    </tr>\n",
       "    <tr>\n",
       "      <th>2</th>\n",
       "      <td>Prawy obrońca</td>\n",
       "      <td>Obrońca</td>\n",
       "    </tr>\n",
       "    <tr>\n",
       "      <th>3</th>\n",
       "      <td>Prawy napastnik</td>\n",
       "      <td>Napastnik</td>\n",
       "    </tr>\n",
       "    <tr>\n",
       "      <th>4</th>\n",
       "      <td>Środkowy napastnik</td>\n",
       "      <td>Napastnik</td>\n",
       "    </tr>\n",
       "    <tr>\n",
       "      <th>5</th>\n",
       "      <td>Ofensywny pomocnik</td>\n",
       "      <td>Pomocnik</td>\n",
       "    </tr>\n",
       "    <tr>\n",
       "      <th>...</th>\n",
       "      <td>...</td>\n",
       "      <td>...</td>\n",
       "    </tr>\n",
       "    <tr>\n",
       "      <th>19015</th>\n",
       "      <td>Bramkarz</td>\n",
       "      <td>Bramkarz</td>\n",
       "    </tr>\n",
       "    <tr>\n",
       "      <th>19016</th>\n",
       "      <td>Lewy obrońca</td>\n",
       "      <td>Obrońca</td>\n",
       "    </tr>\n",
       "    <tr>\n",
       "      <th>19017</th>\n",
       "      <td>Prawy napastnik</td>\n",
       "      <td>Napastnik</td>\n",
       "    </tr>\n",
       "    <tr>\n",
       "      <th>19018</th>\n",
       "      <td>Defensywny pomocnik</td>\n",
       "      <td>Pomocnik</td>\n",
       "    </tr>\n",
       "    <tr>\n",
       "      <th>19019</th>\n",
       "      <td>Prawy napastnik</td>\n",
       "      <td>Napastnik</td>\n",
       "    </tr>\n",
       "  </tbody>\n",
       "</table>\n",
       "<p>16087 rows × 2 columns</p>\n",
       "</div>"
      ],
      "text/plain": [
       "            PlayerPosition PlayerGenericPosition\n",
       "1       Środkowy napastnik             Napastnik\n",
       "2            Prawy obrońca               Obrońca\n",
       "3          Prawy napastnik             Napastnik\n",
       "4       Środkowy napastnik             Napastnik\n",
       "5       Ofensywny pomocnik              Pomocnik\n",
       "...                    ...                   ...\n",
       "19015             Bramkarz              Bramkarz\n",
       "19016         Lewy obrońca               Obrońca\n",
       "19017      Prawy napastnik             Napastnik\n",
       "19018  Defensywny pomocnik              Pomocnik\n",
       "19019      Prawy napastnik             Napastnik\n",
       "\n",
       "[16087 rows x 2 columns]"
      ]
     },
     "execution_count": 40,
     "metadata": {},
     "output_type": "execute_result"
    }
   ],
   "source": [
    "transfer_df['PlayerGenericPosition'] = transfer_df['PlayerPosition'].map(lambda x: x.split(' ')[-1].capitalize())\n",
    "\n",
    "transfer_df[['PlayerPosition', 'PlayerGenericPosition']]"
   ]
  },
  {
   "cell_type": "markdown",
   "metadata": {
    "pycharm": {
     "name": "#%% md\n"
    }
   },
   "source": [
    "### Wyczyszczenie danych z kolumny 'Operation'"
   ]
  },
  {
   "cell_type": "code",
   "execution_count": 41,
   "metadata": {
    "pycharm": {
     "name": "#%%\n"
    }
   },
   "outputs": [
    {
     "name": "stderr",
     "output_type": "stream",
     "text": [
      "/usr/local/lib/python3.6/dist-packages/pandas/core/series.py:4582: SettingWithCopyWarning: \n",
      "A value is trying to be set on a copy of a slice from a DataFrame\n",
      "\n",
      "See the caveats in the documentation: https://pandas.pydata.org/pandas-docs/stable/user_guide/indexing.html#returning-a-view-versus-a-copy\n",
      "  method=method,\n"
     ]
    },
    {
     "data": {
      "text/plain": [
       "Wypożyczenie    8326\n",
       "Transfer        7761\n",
       "Name: Operation, dtype: int64"
      ]
     },
     "execution_count": 41,
     "metadata": {},
     "output_type": "execute_result"
    }
   ],
   "source": [
    "transfer_df[\"Operation\"].replace({\"bez odstępnego\": \"Transfer\", \"-\": \"Transfer\", \"wypożyczenie\": \"Wypożyczenie\", \"draft\": \"Transfer\"}, inplace=True)\n",
    "transfer_df[\"Operation\"].replace([\"^koniec wypżyczenia[0-9]{1,2}[ ][a-ź]{3}[ ][0-9]{4}$\"], [\"Wypożyczenie\"], regex=True, inplace=True)\n",
    "transfer_df[\"Operation\"].replace([\"^opłata za wypożyczenie:.*$\"], [\"Wypożyczenie\"], regex=True, inplace=True)\n",
    "transfer_df[\"Operation\"].replace([\"^.*€$\"], [\"Transfer\"], regex=True, inplace=True)\n",
    "\n",
    "transfer_df = transfer_df[transfer_df[\"Operation\"] != \"?\"]\n",
    "\n",
    "transfer_df[\"Operation\"].value_counts()"
   ]
  },
  {
   "cell_type": "markdown",
   "metadata": {
    "pycharm": {
     "name": "#%% md\n"
    }
   },
   "source": [
    "### Wyczyszczenie danych z kolumny 'Bought/Sold'"
   ]
  },
  {
   "cell_type": "code",
   "execution_count": 42,
   "metadata": {
    "pycharm": {
     "name": "#%%\n"
    }
   },
   "outputs": [
    {
     "data": {
      "text/plain": [
       "Sprzedany    8562\n",
       "Kupiony      7525\n",
       "Name: Bought/Sold, dtype: int64"
      ]
     },
     "execution_count": 42,
     "metadata": {},
     "output_type": "execute_result"
    }
   ],
   "source": [
    "transfer_df[\"Bought/Sold\"].replace({\"Odejścia\": \"Sprzedany\", \"Nabytki\": \"Kupiony\"}, inplace=True)\n",
    "\n",
    "transfer_df['Bought/Sold'].value_counts()"
   ]
  },
  {
   "cell_type": "code",
   "execution_count": 43,
   "metadata": {
    "pycharm": {
     "name": "#%%\n"
    }
   },
   "outputs": [
    {
     "data": {
      "text/plain": [
       "200 tys. €     828\n",
       "300 tys. €     822\n",
       "500 tys. €     761\n",
       "400 tys. €     729\n",
       "250 tys. €     649\n",
       "              ... \n",
       "19,00 mln €      2\n",
       "80,00 mln €      2\n",
       "825 tys. €       2\n",
       "3,10 mln €       2\n",
       "2,90 mln €       2\n",
       "Name: PlayerMarketValue, Length: 120, dtype: int64"
      ]
     },
     "execution_count": 43,
     "metadata": {},
     "output_type": "execute_result"
    }
   ],
   "source": [
    "transfer_df[\"PlayerMarketValue\"].replace({\"-\": 0}, inplace=True)\n",
    "\n",
    "transfer_df['PlayerMarketValue'].value_counts()"
   ]
  },
  {
   "cell_type": "code",
   "execution_count": 43,
   "metadata": {
    "pycharm": {
     "name": "#%%\n"
    }
   },
   "outputs": [],
   "source": []
  }
 ],
 "metadata": {
  "kernelspec": {
   "display_name": "Python 3",
   "language": "python",
   "name": "python3"
  },
  "language_info": {
   "codemirror_mode": {
    "name": "ipython",
    "version": 3
   },
   "file_extension": ".py",
   "mimetype": "text/x-python",
   "name": "python",
   "nbconvert_exporter": "python",
   "pygments_lexer": "ipython3",
   "version": "3.6.9"
  }
 },
 "nbformat": 4,
 "nbformat_minor": 1
}