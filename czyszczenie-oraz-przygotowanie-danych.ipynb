{
 "cells": [
  {
   "cell_type": "markdown",
   "metadata": {
    "collapsed": true,
    "pycharm": {
     "name": "#%% md\n"
    }
   },
   "source": [
    "# Analiza sportowa - Czyszczenie danych oraz ich przygotowanie do analizy\n",
    "## Projekt realizowany w ramach przedmiotu: Metody Przetwarzania Dużych Ilości Danych\n",
    "### Grupa projektowa:\n",
    "+  Filip Kozak\n",
    "+  Maciej Grzela\n",
    "+  Paweł Owczarek\n",
    "+  Szymon Tusznio"
   ]
  },
  {
   "cell_type": "markdown",
   "metadata": {
    "pycharm": {
     "name": "#%% md\n"
    }
   },
   "source": [
    "## W ramach niniejszego etapu przeprowadzone zostaną następujące operacje:\n",
    "+ ### Wczytanie danych z pliku CSV\n",
    "+ ### Usunięcie wpisów niepoprawnych z punktu widzenia typu danych\n",
    "+ ### Usunięcie wpisów niepoprawnych z punktu widzenia wiedzy dziedzinowej\n",
    "+ ### Modyfikacja formatu przechowywania wartości liczbowych\n",
    "+ ### Wyliczenie wartości dla danych pustych"
   ]
  },
  {
   "cell_type": "markdown",
   "metadata": {},
   "source": [
    "### Zaimportowanie wykorzystywanych bibliotek oraz konfiguracja wyświetlania zbiorów danych dla biblioteki Pandas"
   ]
  },
  {
   "cell_type": "code",
   "execution_count": 880,
   "metadata": {
    "pycharm": {
     "name": "#%%\n"
    }
   },
   "outputs": [
    {
     "data": {
      "text/plain": "<IPython.core.display.HTML object>",
      "text/html": "<style>\n.output {\n    flex-direction: row;\n}\n</style>"
     },
     "execution_count": 880,
     "metadata": {},
     "output_type": "execute_result"
    }
   ],
   "source": [
    "import pandas as pd\n",
    "import numpy as np\n",
    "from IPython.display import display, HTML\n",
    "from datetime import datetime\n",
    "\n",
    "pd.set_option('display.max_columns', None)\n",
    "pd.set_option('display.width', 320)\n",
    "pd.reset_option(\"display.max_rows\")\n",
    "\n",
    "# pd.set_option(\"display.max_rows\", None)           # Wyświetlenie wszystkich wierszy dla tabel / spowalnia działanie\n",
    "css = \"\"\"\n",
    ".output {\n",
    "    flex-direction: row;\n",
    "}\n",
    "\"\"\"\n",
    "HTML('<style>{}</style>'.format(css))"
   ]
  },
  {
   "cell_type": "markdown",
   "metadata": {
    "pycharm": {
     "name": "#%% md\n"
    }
   },
   "source": [
    "### Wczytanie danych z pliku csv oraz zapisanie ich do struktury DataFrame dostępnej w ramach biblioteki Pandas\n",
    "### Sprawdzenie dla jakich kolumn występują wartości nieokreślone"
   ]
  },
  {
   "cell_type": "code",
   "execution_count": 881,
   "metadata": {
    "pycharm": {
     "name": "#%%\n"
    }
   },
   "outputs": [
    {
     "data": {
      "text/plain": "                Club ClubLeagueLevel ClubLeagueNationality                 Player  PlayerAge  PlayerHeight TransferDate  PlayerMatchesPlayed  PlayerGoals  PlayerAssists  PlayerOwnGoals  PlayerSubstitutionIn  PlayerSubstitutionOut  PlayerYellowCards  PlayerSecondYellowCards  PlayerRedCards PlayerMinutesPlayed  \\\n0     Legia Warszawa          1.liga                Polska            Ernest Muci         19          1.80  23 lut 2021                   94           24              6               0                    41                     26                  6                        0               0              5.004'   \n1     Legia Warszawa          1.liga                Polska        Josip Juranovic         24          1.73  21 sie 2021                  224            8             23               3                    23                     12                 18                        0               1             18.428'   \n2     Legia Warszawa          1.liga                Polska      Jasur Yakhshiboev         23          1.80  30 sie 2021                  103           23             13               0                    50                     31                 14                        0               0              5.086'   \n3     Legia Warszawa          1.liga                Polska             Rafa Lopes         29          1.85   1 sie 2020                  375           75             19               1                   123                    120                 41                        0               1             23.321'   \n4     Legia Warszawa          1.liga                Polska       Bartosz Kapustka         23          1.79  13 sie 2020                  151           20             19               0                    36                     54                 25                        0               1             10.003'   \n...              ...             ...                   ...                    ...        ...           ...          ...                  ...          ...            ...             ...                   ...                    ...                ...                      ...             ...                 ...   \n1261    Warta Poznań          1.liga                Polska       Szymon Piekarski         21           NaN  20 lip 2021                  103           18              4               0                    10                     52                 17                        1               0              7.866'   \n1262    Warta Poznań          1.liga                Polska            Filip Malek         19          1.89   1 cze 2020                    7            0              0               0                     1                      1                  0                        0               0                545'   \n1263    Warta Poznań          1.liga                Polska  Krzysztof Danielewicz         29          1.82   7 lip 2021                  257           33             32               1                    61                     78                 51                        2               0             17.173'   \n1264    Warta Poznań          1.liga                Polska      Jakub Apolinarski         21          1.76            0                  118           15              3               0                    34                     50                 17                        0               0              7.267'   \n1265    Warta Poznań          1.liga                Polska    Karol Gardzielewicz         21          1.71  26 lip 2021                  104           15              0               0                    31                     34                  9                        0               0              6.512'   \n\n          PlayerPosition PlayerPositionScut PlayerNationality                      Operation Bought/Sold PlayerMarketValue        ClubAssigned ClubAssignedLeagueLevel ClubAssignedLeagueNationality                  TransferValue  \n0     Środkowy napastnik                ŚNP           Albania                     500 tys. €     Nabytki        1,00 mln €           KF Tirana                  1.liga                       Albania                     500 tys. €  \n1          Prawy obrońca                POB         Chorwacja                     400 tys. €     Nabytki        2,50 mln €    HNK Hajduk Split                  1.liga                     Chorwacja                     400 tys. €  \n2        Prawy napastnik                PNP        Uzbekistan                     300 tys. €     Nabytki        700 tys. €  Pakhtakor Tashkent                  1.liga                    Uzbekistan                     300 tys. €  \n3     Ofensywny pomocnik                OPM        Portugalia                     150 tys. €     Nabytki        500 tys. €            Cracovia                  1.liga                        Polska                     150 tys. €  \n4     Ofensywny pomocnik                OPM            Polska                 bez odstępnego     Nabytki        1,50 mln €      Leicester City                  1.liga                        Anglia                 bez odstępnego  \n...                  ...                ...               ...                            ...         ...               ...                 ...                     ...                           ...                            ...  \n1261   Środkowy pomocnik                ŚPM            Polska                   wypożyczenie    Odejścia                 -      Jarota Jarocin                  4.liga                        Polska                   wypożyczenie  \n1262    Środkowy obrońca                ŚOB            Polska                   wypożyczenie    Odejścia         50 tys. €       Unia Swarzędz                     NaN                           NaN                   wypożyczenie  \n1263  Ofensywny pomocnik                OPM            Polska  koniec wypżyczenia31 lip 2020    Odejścia                 -       Miedź Legnica                  2.liga                        Polska  koniec wypżyczenia31 lip 2020  \n1264      Prawy pomocnik                PPM            Polska  koniec wypżyczenia30 cze 2020    Odejścia        175 tys. €   Raków Częstochowa                  1.liga                        Polska  koniec wypżyczenia30 cze 2020  \n1265     Prawy napastnik                PNP            Polska  koniec wypżyczenia30 cze 2020    Odejścia                 -       Miedź Legnica                  2.liga                        Polska  koniec wypżyczenia30 cze 2020  \n\n[1266 rows x 27 columns]",
      "text/html": "<div>\n<style scoped>\n    .dataframe tbody tr th:only-of-type {\n        vertical-align: middle;\n    }\n\n    .dataframe tbody tr th {\n        vertical-align: top;\n    }\n\n    .dataframe thead th {\n        text-align: right;\n    }\n</style>\n<table border=\"1\" class=\"dataframe\">\n  <thead>\n    <tr style=\"text-align: right;\">\n      <th></th>\n      <th>Club</th>\n      <th>ClubLeagueLevel</th>\n      <th>ClubLeagueNationality</th>\n      <th>Player</th>\n      <th>PlayerAge</th>\n      <th>PlayerHeight</th>\n      <th>TransferDate</th>\n      <th>PlayerMatchesPlayed</th>\n      <th>PlayerGoals</th>\n      <th>PlayerAssists</th>\n      <th>PlayerOwnGoals</th>\n      <th>PlayerSubstitutionIn</th>\n      <th>PlayerSubstitutionOut</th>\n      <th>PlayerYellowCards</th>\n      <th>PlayerSecondYellowCards</th>\n      <th>PlayerRedCards</th>\n      <th>PlayerMinutesPlayed</th>\n      <th>PlayerPosition</th>\n      <th>PlayerPositionScut</th>\n      <th>PlayerNationality</th>\n      <th>Operation</th>\n      <th>Bought/Sold</th>\n      <th>PlayerMarketValue</th>\n      <th>ClubAssigned</th>\n      <th>ClubAssignedLeagueLevel</th>\n      <th>ClubAssignedLeagueNationality</th>\n      <th>TransferValue</th>\n    </tr>\n  </thead>\n  <tbody>\n    <tr>\n      <th>0</th>\n      <td>Legia Warszawa</td>\n      <td>1.liga</td>\n      <td>Polska</td>\n      <td>Ernest Muci</td>\n      <td>19</td>\n      <td>1.80</td>\n      <td>23 lut 2021</td>\n      <td>94</td>\n      <td>24</td>\n      <td>6</td>\n      <td>0</td>\n      <td>41</td>\n      <td>26</td>\n      <td>6</td>\n      <td>0</td>\n      <td>0</td>\n      <td>5.004'</td>\n      <td>Środkowy napastnik</td>\n      <td>ŚNP</td>\n      <td>Albania</td>\n      <td>500 tys. €</td>\n      <td>Nabytki</td>\n      <td>1,00 mln €</td>\n      <td>KF Tirana</td>\n      <td>1.liga</td>\n      <td>Albania</td>\n      <td>500 tys. €</td>\n    </tr>\n    <tr>\n      <th>1</th>\n      <td>Legia Warszawa</td>\n      <td>1.liga</td>\n      <td>Polska</td>\n      <td>Josip Juranovic</td>\n      <td>24</td>\n      <td>1.73</td>\n      <td>21 sie 2021</td>\n      <td>224</td>\n      <td>8</td>\n      <td>23</td>\n      <td>3</td>\n      <td>23</td>\n      <td>12</td>\n      <td>18</td>\n      <td>0</td>\n      <td>1</td>\n      <td>18.428'</td>\n      <td>Prawy obrońca</td>\n      <td>POB</td>\n      <td>Chorwacja</td>\n      <td>400 tys. €</td>\n      <td>Nabytki</td>\n      <td>2,50 mln €</td>\n      <td>HNK Hajduk Split</td>\n      <td>1.liga</td>\n      <td>Chorwacja</td>\n      <td>400 tys. €</td>\n    </tr>\n    <tr>\n      <th>2</th>\n      <td>Legia Warszawa</td>\n      <td>1.liga</td>\n      <td>Polska</td>\n      <td>Jasur Yakhshiboev</td>\n      <td>23</td>\n      <td>1.80</td>\n      <td>30 sie 2021</td>\n      <td>103</td>\n      <td>23</td>\n      <td>13</td>\n      <td>0</td>\n      <td>50</td>\n      <td>31</td>\n      <td>14</td>\n      <td>0</td>\n      <td>0</td>\n      <td>5.086'</td>\n      <td>Prawy napastnik</td>\n      <td>PNP</td>\n      <td>Uzbekistan</td>\n      <td>300 tys. €</td>\n      <td>Nabytki</td>\n      <td>700 tys. €</td>\n      <td>Pakhtakor Tashkent</td>\n      <td>1.liga</td>\n      <td>Uzbekistan</td>\n      <td>300 tys. €</td>\n    </tr>\n    <tr>\n      <th>3</th>\n      <td>Legia Warszawa</td>\n      <td>1.liga</td>\n      <td>Polska</td>\n      <td>Rafa Lopes</td>\n      <td>29</td>\n      <td>1.85</td>\n      <td>1 sie 2020</td>\n      <td>375</td>\n      <td>75</td>\n      <td>19</td>\n      <td>1</td>\n      <td>123</td>\n      <td>120</td>\n      <td>41</td>\n      <td>0</td>\n      <td>1</td>\n      <td>23.321'</td>\n      <td>Ofensywny pomocnik</td>\n      <td>OPM</td>\n      <td>Portugalia</td>\n      <td>150 tys. €</td>\n      <td>Nabytki</td>\n      <td>500 tys. €</td>\n      <td>Cracovia</td>\n      <td>1.liga</td>\n      <td>Polska</td>\n      <td>150 tys. €</td>\n    </tr>\n    <tr>\n      <th>4</th>\n      <td>Legia Warszawa</td>\n      <td>1.liga</td>\n      <td>Polska</td>\n      <td>Bartosz Kapustka</td>\n      <td>23</td>\n      <td>1.79</td>\n      <td>13 sie 2020</td>\n      <td>151</td>\n      <td>20</td>\n      <td>19</td>\n      <td>0</td>\n      <td>36</td>\n      <td>54</td>\n      <td>25</td>\n      <td>0</td>\n      <td>1</td>\n      <td>10.003'</td>\n      <td>Ofensywny pomocnik</td>\n      <td>OPM</td>\n      <td>Polska</td>\n      <td>bez odstępnego</td>\n      <td>Nabytki</td>\n      <td>1,50 mln €</td>\n      <td>Leicester City</td>\n      <td>1.liga</td>\n      <td>Anglia</td>\n      <td>bez odstępnego</td>\n    </tr>\n    <tr>\n      <th>...</th>\n      <td>...</td>\n      <td>...</td>\n      <td>...</td>\n      <td>...</td>\n      <td>...</td>\n      <td>...</td>\n      <td>...</td>\n      <td>...</td>\n      <td>...</td>\n      <td>...</td>\n      <td>...</td>\n      <td>...</td>\n      <td>...</td>\n      <td>...</td>\n      <td>...</td>\n      <td>...</td>\n      <td>...</td>\n      <td>...</td>\n      <td>...</td>\n      <td>...</td>\n      <td>...</td>\n      <td>...</td>\n      <td>...</td>\n      <td>...</td>\n      <td>...</td>\n      <td>...</td>\n      <td>...</td>\n    </tr>\n    <tr>\n      <th>1261</th>\n      <td>Warta Poznań</td>\n      <td>1.liga</td>\n      <td>Polska</td>\n      <td>Szymon Piekarski</td>\n      <td>21</td>\n      <td>NaN</td>\n      <td>20 lip 2021</td>\n      <td>103</td>\n      <td>18</td>\n      <td>4</td>\n      <td>0</td>\n      <td>10</td>\n      <td>52</td>\n      <td>17</td>\n      <td>1</td>\n      <td>0</td>\n      <td>7.866'</td>\n      <td>Środkowy pomocnik</td>\n      <td>ŚPM</td>\n      <td>Polska</td>\n      <td>wypożyczenie</td>\n      <td>Odejścia</td>\n      <td>-</td>\n      <td>Jarota Jarocin</td>\n      <td>4.liga</td>\n      <td>Polska</td>\n      <td>wypożyczenie</td>\n    </tr>\n    <tr>\n      <th>1262</th>\n      <td>Warta Poznań</td>\n      <td>1.liga</td>\n      <td>Polska</td>\n      <td>Filip Malek</td>\n      <td>19</td>\n      <td>1.89</td>\n      <td>1 cze 2020</td>\n      <td>7</td>\n      <td>0</td>\n      <td>0</td>\n      <td>0</td>\n      <td>1</td>\n      <td>1</td>\n      <td>0</td>\n      <td>0</td>\n      <td>0</td>\n      <td>545'</td>\n      <td>Środkowy obrońca</td>\n      <td>ŚOB</td>\n      <td>Polska</td>\n      <td>wypożyczenie</td>\n      <td>Odejścia</td>\n      <td>50 tys. €</td>\n      <td>Unia Swarzędz</td>\n      <td>NaN</td>\n      <td>NaN</td>\n      <td>wypożyczenie</td>\n    </tr>\n    <tr>\n      <th>1263</th>\n      <td>Warta Poznań</td>\n      <td>1.liga</td>\n      <td>Polska</td>\n      <td>Krzysztof Danielewicz</td>\n      <td>29</td>\n      <td>1.82</td>\n      <td>7 lip 2021</td>\n      <td>257</td>\n      <td>33</td>\n      <td>32</td>\n      <td>1</td>\n      <td>61</td>\n      <td>78</td>\n      <td>51</td>\n      <td>2</td>\n      <td>0</td>\n      <td>17.173'</td>\n      <td>Ofensywny pomocnik</td>\n      <td>OPM</td>\n      <td>Polska</td>\n      <td>koniec wypżyczenia31 lip 2020</td>\n      <td>Odejścia</td>\n      <td>-</td>\n      <td>Miedź Legnica</td>\n      <td>2.liga</td>\n      <td>Polska</td>\n      <td>koniec wypżyczenia31 lip 2020</td>\n    </tr>\n    <tr>\n      <th>1264</th>\n      <td>Warta Poznań</td>\n      <td>1.liga</td>\n      <td>Polska</td>\n      <td>Jakub Apolinarski</td>\n      <td>21</td>\n      <td>1.76</td>\n      <td>0</td>\n      <td>118</td>\n      <td>15</td>\n      <td>3</td>\n      <td>0</td>\n      <td>34</td>\n      <td>50</td>\n      <td>17</td>\n      <td>0</td>\n      <td>0</td>\n      <td>7.267'</td>\n      <td>Prawy pomocnik</td>\n      <td>PPM</td>\n      <td>Polska</td>\n      <td>koniec wypżyczenia30 cze 2020</td>\n      <td>Odejścia</td>\n      <td>175 tys. €</td>\n      <td>Raków Częstochowa</td>\n      <td>1.liga</td>\n      <td>Polska</td>\n      <td>koniec wypżyczenia30 cze 2020</td>\n    </tr>\n    <tr>\n      <th>1265</th>\n      <td>Warta Poznań</td>\n      <td>1.liga</td>\n      <td>Polska</td>\n      <td>Karol Gardzielewicz</td>\n      <td>21</td>\n      <td>1.71</td>\n      <td>26 lip 2021</td>\n      <td>104</td>\n      <td>15</td>\n      <td>0</td>\n      <td>0</td>\n      <td>31</td>\n      <td>34</td>\n      <td>9</td>\n      <td>0</td>\n      <td>0</td>\n      <td>6.512'</td>\n      <td>Prawy napastnik</td>\n      <td>PNP</td>\n      <td>Polska</td>\n      <td>koniec wypżyczenia30 cze 2020</td>\n      <td>Odejścia</td>\n      <td>-</td>\n      <td>Miedź Legnica</td>\n      <td>2.liga</td>\n      <td>Polska</td>\n      <td>koniec wypżyczenia30 cze 2020</td>\n    </tr>\n  </tbody>\n</table>\n<p>1266 rows × 27 columns</p>\n</div>"
     },
     "metadata": {},
     "output_type": "display_data"
    },
    {
     "data": {
      "text/plain": "Club                               0\nClubLeagueLevel                    0\nClubLeagueNationality              0\nPlayer                             0\nPlayerAge                          0\nPlayerHeight                      26\nTransferDate                      68\nPlayerMatchesPlayed                0\nPlayerGoals                        0\nPlayerAssists                      0\nPlayerOwnGoals                     0\nPlayerSubstitutionIn               0\nPlayerSubstitutionOut              0\nPlayerYellowCards                  0\nPlayerSecondYellowCards            0\nPlayerRedCards                     0\nPlayerMinutesPlayed                0\nPlayerPosition                     0\nPlayerPositionScut                 0\nPlayerNationality                  0\nOperation                          0\nBought/Sold                        0\nPlayerMarketValue                  0\nClubAssigned                       8\nClubAssignedLeagueLevel          152\nClubAssignedLeagueNationality    152\nTransferValue                      0\ndtype: int64"
     },
     "metadata": {},
     "output_type": "display_data"
    }
   ],
   "source": [
    "transfer_df = pd.read_csv(\n",
    "    'csv/transfers-data-frame.csv',\n",
    "    sep=',',\n",
    "    header=0,\n",
    "    index_col=0,\n",
    "    parse_dates=['TransferDate']\n",
    ")\n",
    "\n",
    "display(transfer_df)\n",
    "display(pd.isnull(transfer_df).sum())"
   ]
  },
  {
   "cell_type": "markdown",
   "metadata": {},
   "source": [
    "### Wyświetlenie wierszy dla których występują wartości nieokreślone"
   ]
  },
  {
   "cell_type": "code",
   "execution_count": 882,
   "metadata": {
    "pycharm": {
     "name": "#%%\n"
    }
   },
   "outputs": [
    {
     "data": {
      "text/plain": "                Club               Player  PlayerHeight TransferDate        ClubAssigned ClubAssignedLeagueLevel ClubAssignedLeagueNationality                 TransferValue\n35    Legia Warszawa         Dominik Nagy          1.74  20 sty 2021  Bez klubuBez klubu                     NaN                           NaN                             -\n36    Legia Warszawa         William Rémy          1.86          NaN  Bez klubuBez klubu                     NaN                           NaN                             -\n43       Lech Poznań      Aron Jóhannsson          1.84          NaN         Hammarby IF                  1.liga                       Szwecja                bez odstępnego\n59       Lech Poznań         Bogdan Butko          1.82          NaN    Szachtar Donieck                  1.liga                       Ukraina                  wypożyczenie\n85       Lech Poznań         Bogdan Butko          1.82          NaN    Szachtar Donieck                  1.liga                       Ukraina  koniec wypżyczenia4 sty 2021\n...              ...                  ...           ...          ...                 ...                     ...                           ...                           ...\n1254    Warta Poznań       Adrian Chopcia          1.78   1 lip 2020   Victoria Wrzesnia                     NaN                           NaN                bez odstępnego\n1259    Warta Poznań        Kajetan Szmyt          1.71  26 lip 2021    Nielba Wągrowiec                     NaN                           NaN                  wypożyczenie\n1260    Warta Poznań  Mateusz Szczepaniak          1.84          NaN                 NaN                     NaN                           NaN                             -\n1261    Warta Poznań     Szymon Piekarski           NaN  20 lip 2021      Jarota Jarocin                  4.liga                        Polska                  wypożyczenie\n1262    Warta Poznań          Filip Malek          1.89   1 cze 2020       Unia Swarzędz                     NaN                           NaN                  wypożyczenie\n\n[214 rows x 8 columns]",
      "text/html": "<div>\n<style scoped>\n    .dataframe tbody tr th:only-of-type {\n        vertical-align: middle;\n    }\n\n    .dataframe tbody tr th {\n        vertical-align: top;\n    }\n\n    .dataframe thead th {\n        text-align: right;\n    }\n</style>\n<table border=\"1\" class=\"dataframe\">\n  <thead>\n    <tr style=\"text-align: right;\">\n      <th></th>\n      <th>Club</th>\n      <th>Player</th>\n      <th>PlayerHeight</th>\n      <th>TransferDate</th>\n      <th>ClubAssigned</th>\n      <th>ClubAssignedLeagueLevel</th>\n      <th>ClubAssignedLeagueNationality</th>\n      <th>TransferValue</th>\n    </tr>\n  </thead>\n  <tbody>\n    <tr>\n      <th>35</th>\n      <td>Legia Warszawa</td>\n      <td>Dominik Nagy</td>\n      <td>1.74</td>\n      <td>20 sty 2021</td>\n      <td>Bez klubuBez klubu</td>\n      <td>NaN</td>\n      <td>NaN</td>\n      <td>-</td>\n    </tr>\n    <tr>\n      <th>36</th>\n      <td>Legia Warszawa</td>\n      <td>William Rémy</td>\n      <td>1.86</td>\n      <td>NaN</td>\n      <td>Bez klubuBez klubu</td>\n      <td>NaN</td>\n      <td>NaN</td>\n      <td>-</td>\n    </tr>\n    <tr>\n      <th>43</th>\n      <td>Lech Poznań</td>\n      <td>Aron Jóhannsson</td>\n      <td>1.84</td>\n      <td>NaN</td>\n      <td>Hammarby IF</td>\n      <td>1.liga</td>\n      <td>Szwecja</td>\n      <td>bez odstępnego</td>\n    </tr>\n    <tr>\n      <th>59</th>\n      <td>Lech Poznań</td>\n      <td>Bogdan Butko</td>\n      <td>1.82</td>\n      <td>NaN</td>\n      <td>Szachtar Donieck</td>\n      <td>1.liga</td>\n      <td>Ukraina</td>\n      <td>wypożyczenie</td>\n    </tr>\n    <tr>\n      <th>85</th>\n      <td>Lech Poznań</td>\n      <td>Bogdan Butko</td>\n      <td>1.82</td>\n      <td>NaN</td>\n      <td>Szachtar Donieck</td>\n      <td>1.liga</td>\n      <td>Ukraina</td>\n      <td>koniec wypżyczenia4 sty 2021</td>\n    </tr>\n    <tr>\n      <th>...</th>\n      <td>...</td>\n      <td>...</td>\n      <td>...</td>\n      <td>...</td>\n      <td>...</td>\n      <td>...</td>\n      <td>...</td>\n      <td>...</td>\n    </tr>\n    <tr>\n      <th>1254</th>\n      <td>Warta Poznań</td>\n      <td>Adrian Chopcia</td>\n      <td>1.78</td>\n      <td>1 lip 2020</td>\n      <td>Victoria Wrzesnia</td>\n      <td>NaN</td>\n      <td>NaN</td>\n      <td>bez odstępnego</td>\n    </tr>\n    <tr>\n      <th>1259</th>\n      <td>Warta Poznań</td>\n      <td>Kajetan Szmyt</td>\n      <td>1.71</td>\n      <td>26 lip 2021</td>\n      <td>Nielba Wągrowiec</td>\n      <td>NaN</td>\n      <td>NaN</td>\n      <td>wypożyczenie</td>\n    </tr>\n    <tr>\n      <th>1260</th>\n      <td>Warta Poznań</td>\n      <td>Mateusz Szczepaniak</td>\n      <td>1.84</td>\n      <td>NaN</td>\n      <td>NaN</td>\n      <td>NaN</td>\n      <td>NaN</td>\n      <td>-</td>\n    </tr>\n    <tr>\n      <th>1261</th>\n      <td>Warta Poznań</td>\n      <td>Szymon Piekarski</td>\n      <td>NaN</td>\n      <td>20 lip 2021</td>\n      <td>Jarota Jarocin</td>\n      <td>4.liga</td>\n      <td>Polska</td>\n      <td>wypożyczenie</td>\n    </tr>\n    <tr>\n      <th>1262</th>\n      <td>Warta Poznań</td>\n      <td>Filip Malek</td>\n      <td>1.89</td>\n      <td>1 cze 2020</td>\n      <td>Unia Swarzędz</td>\n      <td>NaN</td>\n      <td>NaN</td>\n      <td>wypożyczenie</td>\n    </tr>\n  </tbody>\n</table>\n<p>214 rows × 8 columns</p>\n</div>"
     },
     "execution_count": 882,
     "metadata": {},
     "output_type": "execute_result"
    }
   ],
   "source": [
    "is_nan = transfer_df.isna()\n",
    "rows_has_nan = is_nan.any(axis=1)\n",
    "transfer_df[rows_has_nan][[\"Club\", \"Player\", \"PlayerHeight\", \"TransferDate\", \"ClubAssigned\", \"ClubAssignedLeagueLevel\", \"ClubAssignedLeagueNationality\", \"TransferValue\"]]"
   ]
  },
  {
   "cell_type": "markdown",
   "metadata": {
    "pycharm": {
     "name": "#%% md\n"
    }
   },
   "source": [
    "### Wnioskując na podstawie wierszy zawierających wartości nieokreślone możemy zauważyć, że przeprowadzane transfery dotyczą:\n",
    "+ ### Przenosin zawodnika do drużyny rezerw/drużyny młodzieżowej/szkółki piłkarskiej\n",
    "+ ### Przenosin zawodnika do drużyny na poziomie rozgrywkowym nieuwzględnianym w ramach grupy poziomów rozgrywkowych futbolu profesjonalnego\n",
    "+ ### Dyskwalifikacji/pauzy zawodnika\n",
    "+ ### Przenosin zawodnika do klubu piłkarskiego, którego dane nie zostały wprowadzone\n",
    "+ ### Zakończenia współpracy pomiędzy zawodnikiem a klubem\n",
    "\n",
    "### Obserwacje spełniające jedno z czterech pierwszych kryteriów powyższej listy możemy uznać jako obserwacje odstające. Wiersze te, zostaną usunięte ze zbioru danych.\n",
    "### Obserwacje spełniające piąte kryterium należy uznać jako poprawne. Aby uwzględnić przypadek zakończenia współpracy pomiędzy zawodnikiem a klubem należy stworzyć nową kolumnę wartości True/False"
   ]
  },
  {
   "cell_type": "markdown",
   "metadata": {
    "pycharm": {
     "name": "#%% md\n"
    }
   },
   "source": [
    "### Zdefiniowanie kolumny 'PlayerWithoutClub' przyjmującej wartość true dla zawodników bez klubu po transferze\n",
    "### Wyczyszczenie wartości dla kolumny 'ClubAssigned'"
   ]
  },
  {
   "cell_type": "code",
   "execution_count": 883,
   "metadata": {
    "pycharm": {
     "name": "#%%\n"
    }
   },
   "outputs": [
    {
     "data": {
      "text/plain": "                Club               Player  PlayerHeight TransferDate       ClubAssigned ClubAssignedLeagueLevel ClubAssignedLeagueNationality                 TransferValue\n35    Legia Warszawa         Dominik Nagy          1.74  20 sty 2021          Bez Klubu                     NaN                           NaN                             -\n36    Legia Warszawa         William Rémy          1.86          NaN          Bez Klubu                     NaN                           NaN                             -\n43       Lech Poznań      Aron Jóhannsson          1.84          NaN        Hammarby IF                  1.liga                       Szwecja                bez odstępnego\n59       Lech Poznań         Bogdan Butko          1.82          NaN   Szachtar Donieck                  1.liga                       Ukraina                  wypożyczenie\n85       Lech Poznań         Bogdan Butko          1.82          NaN   Szachtar Donieck                  1.liga                       Ukraina  koniec wypżyczenia4 sty 2021\n...              ...                  ...           ...          ...                ...                     ...                           ...                           ...\n1254    Warta Poznań       Adrian Chopcia          1.78   1 lip 2020  Victoria Wrzesnia                     NaN                           NaN                bez odstępnego\n1259    Warta Poznań        Kajetan Szmyt          1.71  26 lip 2021   Nielba Wągrowiec                     NaN                           NaN                  wypożyczenie\n1260    Warta Poznań  Mateusz Szczepaniak          1.84          NaN                NaN                     NaN                           NaN                             -\n1261    Warta Poznań     Szymon Piekarski           NaN  20 lip 2021     Jarota Jarocin                  4.liga                        Polska                  wypożyczenie\n1262    Warta Poznań          Filip Malek          1.89   1 cze 2020      Unia Swarzędz                     NaN                           NaN                  wypożyczenie\n\n[214 rows x 8 columns]",
      "text/html": "<div>\n<style scoped>\n    .dataframe tbody tr th:only-of-type {\n        vertical-align: middle;\n    }\n\n    .dataframe tbody tr th {\n        vertical-align: top;\n    }\n\n    .dataframe thead th {\n        text-align: right;\n    }\n</style>\n<table border=\"1\" class=\"dataframe\">\n  <thead>\n    <tr style=\"text-align: right;\">\n      <th></th>\n      <th>Club</th>\n      <th>Player</th>\n      <th>PlayerHeight</th>\n      <th>TransferDate</th>\n      <th>ClubAssigned</th>\n      <th>ClubAssignedLeagueLevel</th>\n      <th>ClubAssignedLeagueNationality</th>\n      <th>TransferValue</th>\n    </tr>\n  </thead>\n  <tbody>\n    <tr>\n      <th>35</th>\n      <td>Legia Warszawa</td>\n      <td>Dominik Nagy</td>\n      <td>1.74</td>\n      <td>20 sty 2021</td>\n      <td>Bez Klubu</td>\n      <td>NaN</td>\n      <td>NaN</td>\n      <td>-</td>\n    </tr>\n    <tr>\n      <th>36</th>\n      <td>Legia Warszawa</td>\n      <td>William Rémy</td>\n      <td>1.86</td>\n      <td>NaN</td>\n      <td>Bez Klubu</td>\n      <td>NaN</td>\n      <td>NaN</td>\n      <td>-</td>\n    </tr>\n    <tr>\n      <th>43</th>\n      <td>Lech Poznań</td>\n      <td>Aron Jóhannsson</td>\n      <td>1.84</td>\n      <td>NaN</td>\n      <td>Hammarby IF</td>\n      <td>1.liga</td>\n      <td>Szwecja</td>\n      <td>bez odstępnego</td>\n    </tr>\n    <tr>\n      <th>59</th>\n      <td>Lech Poznań</td>\n      <td>Bogdan Butko</td>\n      <td>1.82</td>\n      <td>NaN</td>\n      <td>Szachtar Donieck</td>\n      <td>1.liga</td>\n      <td>Ukraina</td>\n      <td>wypożyczenie</td>\n    </tr>\n    <tr>\n      <th>85</th>\n      <td>Lech Poznań</td>\n      <td>Bogdan Butko</td>\n      <td>1.82</td>\n      <td>NaN</td>\n      <td>Szachtar Donieck</td>\n      <td>1.liga</td>\n      <td>Ukraina</td>\n      <td>koniec wypżyczenia4 sty 2021</td>\n    </tr>\n    <tr>\n      <th>...</th>\n      <td>...</td>\n      <td>...</td>\n      <td>...</td>\n      <td>...</td>\n      <td>...</td>\n      <td>...</td>\n      <td>...</td>\n      <td>...</td>\n    </tr>\n    <tr>\n      <th>1254</th>\n      <td>Warta Poznań</td>\n      <td>Adrian Chopcia</td>\n      <td>1.78</td>\n      <td>1 lip 2020</td>\n      <td>Victoria Wrzesnia</td>\n      <td>NaN</td>\n      <td>NaN</td>\n      <td>bez odstępnego</td>\n    </tr>\n    <tr>\n      <th>1259</th>\n      <td>Warta Poznań</td>\n      <td>Kajetan Szmyt</td>\n      <td>1.71</td>\n      <td>26 lip 2021</td>\n      <td>Nielba Wągrowiec</td>\n      <td>NaN</td>\n      <td>NaN</td>\n      <td>wypożyczenie</td>\n    </tr>\n    <tr>\n      <th>1260</th>\n      <td>Warta Poznań</td>\n      <td>Mateusz Szczepaniak</td>\n      <td>1.84</td>\n      <td>NaN</td>\n      <td>NaN</td>\n      <td>NaN</td>\n      <td>NaN</td>\n      <td>-</td>\n    </tr>\n    <tr>\n      <th>1261</th>\n      <td>Warta Poznań</td>\n      <td>Szymon Piekarski</td>\n      <td>NaN</td>\n      <td>20 lip 2021</td>\n      <td>Jarota Jarocin</td>\n      <td>4.liga</td>\n      <td>Polska</td>\n      <td>wypożyczenie</td>\n    </tr>\n    <tr>\n      <th>1262</th>\n      <td>Warta Poznań</td>\n      <td>Filip Malek</td>\n      <td>1.89</td>\n      <td>1 cze 2020</td>\n      <td>Unia Swarzędz</td>\n      <td>NaN</td>\n      <td>NaN</td>\n      <td>wypożyczenie</td>\n    </tr>\n  </tbody>\n</table>\n<p>214 rows × 8 columns</p>\n</div>"
     },
     "execution_count": 883,
     "metadata": {},
     "output_type": "execute_result"
    }
   ],
   "source": [
    "without_club_label = \"Bez Klubu\"\n",
    "\n",
    "transfer_df[\"ClubAssigned\"].replace({\"Bez klubuBez klubu\": without_club_label}, inplace=True)\n",
    "transfer_df['PlayerWithoutClub'] = transfer_df['ClubAssigned'].map(lambda x: x == True if without_club_label else False)\n",
    "\n",
    "transfer_df[rows_has_nan][[\"Club\", \"Player\", \"PlayerHeight\", \"TransferDate\", \"ClubAssigned\", \"ClubAssignedLeagueLevel\", \"ClubAssignedLeagueNationality\", \"TransferValue\"]]"
   ]
  },
  {
   "cell_type": "markdown",
   "metadata": {},
   "source": []
  },
  {
   "cell_type": "code",
   "execution_count": 884,
   "metadata": {
    "pycharm": {
     "name": "#%%\n"
    }
   },
   "outputs": [
    {
     "data": {
      "text/plain": "                Club ClubLeagueLevel ClubLeagueNationality                 Player  PlayerAge  PlayerHeight TransferDate  PlayerMatchesPlayed  PlayerGoals  PlayerAssists  PlayerOwnGoals  PlayerSubstitutionIn  PlayerSubstitutionOut  PlayerYellowCards  PlayerSecondYellowCards  PlayerRedCards PlayerMinutesPlayed  \\\n0     Legia Warszawa          1.liga                Polska            Ernest Muci         19          1.80  23 lut 2021                   94           24              6               0                    41                     26                  6                        0               0              5.004'   \n1     Legia Warszawa          1.liga                Polska        Josip Juranovic         24          1.73  21 sie 2021                  224            8             23               3                    23                     12                 18                        0               1             18.428'   \n2     Legia Warszawa          1.liga                Polska      Jasur Yakhshiboev         23          1.80  30 sie 2021                  103           23             13               0                    50                     31                 14                        0               0              5.086'   \n3     Legia Warszawa          1.liga                Polska             Rafa Lopes         29          1.85   1 sie 2020                  375           75             19               1                   123                    120                 41                        0               1             23.321'   \n4     Legia Warszawa          1.liga                Polska       Bartosz Kapustka         23          1.79  13 sie 2020                  151           20             19               0                    36                     54                 25                        0               1             10.003'   \n...              ...             ...                   ...                    ...        ...           ...          ...                  ...          ...            ...             ...                   ...                    ...                ...                      ...             ...                 ...   \n1257    Warta Poznań          1.liga                Polska      Dominik Smykowski         19          1.80  28 lip 2021                   21            1              0               0                    16                      5                  1                        0               0                538'   \n1258    Warta Poznań          1.liga                Polska    Sebastian Olszewski         19          1.82   1 lip 2021                   89            1              1               0                    37                     13                 21                        0               0              5.078'   \n1263    Warta Poznań          1.liga                Polska  Krzysztof Danielewicz         29          1.82   7 lip 2021                  257           33             32               1                    61                     78                 51                        2               0             17.173'   \n1264    Warta Poznań          1.liga                Polska      Jakub Apolinarski         21          1.76            0                  118           15              3               0                    34                     50                 17                        0               0              7.267'   \n1265    Warta Poznań          1.liga                Polska    Karol Gardzielewicz         21          1.71  26 lip 2021                  104           15              0               0                    31                     34                  9                        0               0              6.512'   \n\n          PlayerPosition PlayerPositionScut PlayerNationality                      Operation Bought/Sold PlayerMarketValue        ClubAssigned ClubAssignedLeagueLevel ClubAssignedLeagueNationality                  TransferValue  PlayerWithoutClub  \n0     Środkowy napastnik                ŚNP           Albania                     500 tys. €     Nabytki        1,00 mln €           KF Tirana                  1.liga                       Albania                     500 tys. €              False  \n1          Prawy obrońca                POB         Chorwacja                     400 tys. €     Nabytki        2,50 mln €    HNK Hajduk Split                  1.liga                     Chorwacja                     400 tys. €              False  \n2        Prawy napastnik                PNP        Uzbekistan                     300 tys. €     Nabytki        700 tys. €  Pakhtakor Tashkent                  1.liga                    Uzbekistan                     300 tys. €              False  \n3     Ofensywny pomocnik                OPM        Portugalia                     150 tys. €     Nabytki        500 tys. €            Cracovia                  1.liga                        Polska                     150 tys. €              False  \n4     Ofensywny pomocnik                OPM            Polska                 bez odstępnego     Nabytki        1,50 mln €      Leicester City                  1.liga                        Anglia                 bez odstępnego              False  \n...                  ...                ...               ...                            ...         ...               ...                 ...                     ...                           ...                            ...                ...  \n1257     Prawy napastnik                PNP            Polska                   wypożyczenie    Odejścia                 -    Skra Częstochowa                  2.liga                        Polska                   wypożyczenie              False  \n1258      Prawy pomocnik                PPM            Polska                   wypożyczenie    Odejścia                 -       Hutnik Kraków                  3.liga                        Polska                   wypożyczenie              False  \n1263  Ofensywny pomocnik                OPM            Polska  koniec wypżyczenia31 lip 2020    Odejścia                 -       Miedź Legnica                  2.liga                        Polska  koniec wypżyczenia31 lip 2020              False  \n1264      Prawy pomocnik                PPM            Polska  koniec wypżyczenia30 cze 2020    Odejścia        175 tys. €   Raków Częstochowa                  1.liga                        Polska  koniec wypżyczenia30 cze 2020              False  \n1265     Prawy napastnik                PNP            Polska  koniec wypżyczenia30 cze 2020    Odejścia                 -       Miedź Legnica                  2.liga                        Polska  koniec wypżyczenia30 cze 2020              False  \n\n[1052 rows x 28 columns]",
      "text/html": "<div>\n<style scoped>\n    .dataframe tbody tr th:only-of-type {\n        vertical-align: middle;\n    }\n\n    .dataframe tbody tr th {\n        vertical-align: top;\n    }\n\n    .dataframe thead th {\n        text-align: right;\n    }\n</style>\n<table border=\"1\" class=\"dataframe\">\n  <thead>\n    <tr style=\"text-align: right;\">\n      <th></th>\n      <th>Club</th>\n      <th>ClubLeagueLevel</th>\n      <th>ClubLeagueNationality</th>\n      <th>Player</th>\n      <th>PlayerAge</th>\n      <th>PlayerHeight</th>\n      <th>TransferDate</th>\n      <th>PlayerMatchesPlayed</th>\n      <th>PlayerGoals</th>\n      <th>PlayerAssists</th>\n      <th>PlayerOwnGoals</th>\n      <th>PlayerSubstitutionIn</th>\n      <th>PlayerSubstitutionOut</th>\n      <th>PlayerYellowCards</th>\n      <th>PlayerSecondYellowCards</th>\n      <th>PlayerRedCards</th>\n      <th>PlayerMinutesPlayed</th>\n      <th>PlayerPosition</th>\n      <th>PlayerPositionScut</th>\n      <th>PlayerNationality</th>\n      <th>Operation</th>\n      <th>Bought/Sold</th>\n      <th>PlayerMarketValue</th>\n      <th>ClubAssigned</th>\n      <th>ClubAssignedLeagueLevel</th>\n      <th>ClubAssignedLeagueNationality</th>\n      <th>TransferValue</th>\n      <th>PlayerWithoutClub</th>\n    </tr>\n  </thead>\n  <tbody>\n    <tr>\n      <th>0</th>\n      <td>Legia Warszawa</td>\n      <td>1.liga</td>\n      <td>Polska</td>\n      <td>Ernest Muci</td>\n      <td>19</td>\n      <td>1.80</td>\n      <td>23 lut 2021</td>\n      <td>94</td>\n      <td>24</td>\n      <td>6</td>\n      <td>0</td>\n      <td>41</td>\n      <td>26</td>\n      <td>6</td>\n      <td>0</td>\n      <td>0</td>\n      <td>5.004'</td>\n      <td>Środkowy napastnik</td>\n      <td>ŚNP</td>\n      <td>Albania</td>\n      <td>500 tys. €</td>\n      <td>Nabytki</td>\n      <td>1,00 mln €</td>\n      <td>KF Tirana</td>\n      <td>1.liga</td>\n      <td>Albania</td>\n      <td>500 tys. €</td>\n      <td>False</td>\n    </tr>\n    <tr>\n      <th>1</th>\n      <td>Legia Warszawa</td>\n      <td>1.liga</td>\n      <td>Polska</td>\n      <td>Josip Juranovic</td>\n      <td>24</td>\n      <td>1.73</td>\n      <td>21 sie 2021</td>\n      <td>224</td>\n      <td>8</td>\n      <td>23</td>\n      <td>3</td>\n      <td>23</td>\n      <td>12</td>\n      <td>18</td>\n      <td>0</td>\n      <td>1</td>\n      <td>18.428'</td>\n      <td>Prawy obrońca</td>\n      <td>POB</td>\n      <td>Chorwacja</td>\n      <td>400 tys. €</td>\n      <td>Nabytki</td>\n      <td>2,50 mln €</td>\n      <td>HNK Hajduk Split</td>\n      <td>1.liga</td>\n      <td>Chorwacja</td>\n      <td>400 tys. €</td>\n      <td>False</td>\n    </tr>\n    <tr>\n      <th>2</th>\n      <td>Legia Warszawa</td>\n      <td>1.liga</td>\n      <td>Polska</td>\n      <td>Jasur Yakhshiboev</td>\n      <td>23</td>\n      <td>1.80</td>\n      <td>30 sie 2021</td>\n      <td>103</td>\n      <td>23</td>\n      <td>13</td>\n      <td>0</td>\n      <td>50</td>\n      <td>31</td>\n      <td>14</td>\n      <td>0</td>\n      <td>0</td>\n      <td>5.086'</td>\n      <td>Prawy napastnik</td>\n      <td>PNP</td>\n      <td>Uzbekistan</td>\n      <td>300 tys. €</td>\n      <td>Nabytki</td>\n      <td>700 tys. €</td>\n      <td>Pakhtakor Tashkent</td>\n      <td>1.liga</td>\n      <td>Uzbekistan</td>\n      <td>300 tys. €</td>\n      <td>False</td>\n    </tr>\n    <tr>\n      <th>3</th>\n      <td>Legia Warszawa</td>\n      <td>1.liga</td>\n      <td>Polska</td>\n      <td>Rafa Lopes</td>\n      <td>29</td>\n      <td>1.85</td>\n      <td>1 sie 2020</td>\n      <td>375</td>\n      <td>75</td>\n      <td>19</td>\n      <td>1</td>\n      <td>123</td>\n      <td>120</td>\n      <td>41</td>\n      <td>0</td>\n      <td>1</td>\n      <td>23.321'</td>\n      <td>Ofensywny pomocnik</td>\n      <td>OPM</td>\n      <td>Portugalia</td>\n      <td>150 tys. €</td>\n      <td>Nabytki</td>\n      <td>500 tys. €</td>\n      <td>Cracovia</td>\n      <td>1.liga</td>\n      <td>Polska</td>\n      <td>150 tys. €</td>\n      <td>False</td>\n    </tr>\n    <tr>\n      <th>4</th>\n      <td>Legia Warszawa</td>\n      <td>1.liga</td>\n      <td>Polska</td>\n      <td>Bartosz Kapustka</td>\n      <td>23</td>\n      <td>1.79</td>\n      <td>13 sie 2020</td>\n      <td>151</td>\n      <td>20</td>\n      <td>19</td>\n      <td>0</td>\n      <td>36</td>\n      <td>54</td>\n      <td>25</td>\n      <td>0</td>\n      <td>1</td>\n      <td>10.003'</td>\n      <td>Ofensywny pomocnik</td>\n      <td>OPM</td>\n      <td>Polska</td>\n      <td>bez odstępnego</td>\n      <td>Nabytki</td>\n      <td>1,50 mln €</td>\n      <td>Leicester City</td>\n      <td>1.liga</td>\n      <td>Anglia</td>\n      <td>bez odstępnego</td>\n      <td>False</td>\n    </tr>\n    <tr>\n      <th>...</th>\n      <td>...</td>\n      <td>...</td>\n      <td>...</td>\n      <td>...</td>\n      <td>...</td>\n      <td>...</td>\n      <td>...</td>\n      <td>...</td>\n      <td>...</td>\n      <td>...</td>\n      <td>...</td>\n      <td>...</td>\n      <td>...</td>\n      <td>...</td>\n      <td>...</td>\n      <td>...</td>\n      <td>...</td>\n      <td>...</td>\n      <td>...</td>\n      <td>...</td>\n      <td>...</td>\n      <td>...</td>\n      <td>...</td>\n      <td>...</td>\n      <td>...</td>\n      <td>...</td>\n      <td>...</td>\n      <td>...</td>\n    </tr>\n    <tr>\n      <th>1257</th>\n      <td>Warta Poznań</td>\n      <td>1.liga</td>\n      <td>Polska</td>\n      <td>Dominik Smykowski</td>\n      <td>19</td>\n      <td>1.80</td>\n      <td>28 lip 2021</td>\n      <td>21</td>\n      <td>1</td>\n      <td>0</td>\n      <td>0</td>\n      <td>16</td>\n      <td>5</td>\n      <td>1</td>\n      <td>0</td>\n      <td>0</td>\n      <td>538'</td>\n      <td>Prawy napastnik</td>\n      <td>PNP</td>\n      <td>Polska</td>\n      <td>wypożyczenie</td>\n      <td>Odejścia</td>\n      <td>-</td>\n      <td>Skra Częstochowa</td>\n      <td>2.liga</td>\n      <td>Polska</td>\n      <td>wypożyczenie</td>\n      <td>False</td>\n    </tr>\n    <tr>\n      <th>1258</th>\n      <td>Warta Poznań</td>\n      <td>1.liga</td>\n      <td>Polska</td>\n      <td>Sebastian Olszewski</td>\n      <td>19</td>\n      <td>1.82</td>\n      <td>1 lip 2021</td>\n      <td>89</td>\n      <td>1</td>\n      <td>1</td>\n      <td>0</td>\n      <td>37</td>\n      <td>13</td>\n      <td>21</td>\n      <td>0</td>\n      <td>0</td>\n      <td>5.078'</td>\n      <td>Prawy pomocnik</td>\n      <td>PPM</td>\n      <td>Polska</td>\n      <td>wypożyczenie</td>\n      <td>Odejścia</td>\n      <td>-</td>\n      <td>Hutnik Kraków</td>\n      <td>3.liga</td>\n      <td>Polska</td>\n      <td>wypożyczenie</td>\n      <td>False</td>\n    </tr>\n    <tr>\n      <th>1263</th>\n      <td>Warta Poznań</td>\n      <td>1.liga</td>\n      <td>Polska</td>\n      <td>Krzysztof Danielewicz</td>\n      <td>29</td>\n      <td>1.82</td>\n      <td>7 lip 2021</td>\n      <td>257</td>\n      <td>33</td>\n      <td>32</td>\n      <td>1</td>\n      <td>61</td>\n      <td>78</td>\n      <td>51</td>\n      <td>2</td>\n      <td>0</td>\n      <td>17.173'</td>\n      <td>Ofensywny pomocnik</td>\n      <td>OPM</td>\n      <td>Polska</td>\n      <td>koniec wypżyczenia31 lip 2020</td>\n      <td>Odejścia</td>\n      <td>-</td>\n      <td>Miedź Legnica</td>\n      <td>2.liga</td>\n      <td>Polska</td>\n      <td>koniec wypżyczenia31 lip 2020</td>\n      <td>False</td>\n    </tr>\n    <tr>\n      <th>1264</th>\n      <td>Warta Poznań</td>\n      <td>1.liga</td>\n      <td>Polska</td>\n      <td>Jakub Apolinarski</td>\n      <td>21</td>\n      <td>1.76</td>\n      <td>0</td>\n      <td>118</td>\n      <td>15</td>\n      <td>3</td>\n      <td>0</td>\n      <td>34</td>\n      <td>50</td>\n      <td>17</td>\n      <td>0</td>\n      <td>0</td>\n      <td>7.267'</td>\n      <td>Prawy pomocnik</td>\n      <td>PPM</td>\n      <td>Polska</td>\n      <td>koniec wypżyczenia30 cze 2020</td>\n      <td>Odejścia</td>\n      <td>175 tys. €</td>\n      <td>Raków Częstochowa</td>\n      <td>1.liga</td>\n      <td>Polska</td>\n      <td>koniec wypżyczenia30 cze 2020</td>\n      <td>False</td>\n    </tr>\n    <tr>\n      <th>1265</th>\n      <td>Warta Poznań</td>\n      <td>1.liga</td>\n      <td>Polska</td>\n      <td>Karol Gardzielewicz</td>\n      <td>21</td>\n      <td>1.71</td>\n      <td>26 lip 2021</td>\n      <td>104</td>\n      <td>15</td>\n      <td>0</td>\n      <td>0</td>\n      <td>31</td>\n      <td>34</td>\n      <td>9</td>\n      <td>0</td>\n      <td>0</td>\n      <td>6.512'</td>\n      <td>Prawy napastnik</td>\n      <td>PNP</td>\n      <td>Polska</td>\n      <td>koniec wypżyczenia30 cze 2020</td>\n      <td>Odejścia</td>\n      <td>-</td>\n      <td>Miedź Legnica</td>\n      <td>2.liga</td>\n      <td>Polska</td>\n      <td>koniec wypżyczenia30 cze 2020</td>\n      <td>False</td>\n    </tr>\n  </tbody>\n</table>\n<p>1052 rows × 28 columns</p>\n</div>"
     },
     "metadata": {},
     "output_type": "display_data"
    }
   ],
   "source": [
    "nans_with_club = transfer_df[rows_has_nan].loc[transfer_df['PlayerWithoutClub'] == False]\n",
    "nans_with_height = transfer_df[rows_has_nan].loc[transfer_df['PlayerHeight'] == np.nan]\n",
    "nans_with_date = transfer_df[rows_has_nan].loc[transfer_df['TransferDate'] == np.nan]\n",
    "\n",
    "nans_for_height_or_date = pd.merge(nans_with_height, nans_with_date, how='inner')\n",
    "\n",
    "transfer_df.drop(nans_with_club.index.tolist(), inplace=True)\n",
    "transfer_df.drop(nans_for_height_or_date.index.tolist(), inplace=True)\n",
    "\n",
    "display(transfer_df)"
   ]
  },
  {
   "cell_type": "markdown",
   "metadata": {},
   "source": [
    "### Spośród pozostałych wierszy zawierających wartości nieokreślone wszystkie posiadają dla kolumny 'PlayerWithoutClub' wartość True\n",
    "### Wiersze te nie zostaną usunięte, dlatego też należy usunąć z nich wartości NaN i zastąpić je pustym ciągiem znaków"
   ]
  },
  {
   "cell_type": "code",
   "execution_count": 885,
   "metadata": {
    "pycharm": {
     "name": "#%%\n"
    }
   },
   "outputs": [],
   "source": [
    "transfer_df.fillna('', inplace=True)"
   ]
  },
  {
   "cell_type": "markdown",
   "metadata": {},
   "source": [
    "### Jak możemy zauważyć, po wykonaniu powyższej czynności w zbiorze danych nie występują już żadne wartości nieokreślone"
   ]
  },
  {
   "cell_type": "code",
   "execution_count": 886,
   "metadata": {
    "pycharm": {
     "name": "#%%\n"
    }
   },
   "outputs": [
    {
     "data": {
      "text/plain": "Empty DataFrame\nColumns: [Club, ClubLeagueLevel, ClubLeagueNationality, Player, PlayerAge, PlayerHeight, TransferDate, PlayerMatchesPlayed, PlayerGoals, PlayerAssists, PlayerOwnGoals, PlayerSubstitutionIn, PlayerSubstitutionOut, PlayerYellowCards, PlayerSecondYellowCards, PlayerRedCards, PlayerMinutesPlayed, PlayerPosition, PlayerPositionScut, PlayerNationality, Operation, Bought/Sold, PlayerMarketValue, ClubAssigned, ClubAssignedLeagueLevel, ClubAssignedLeagueNationality, TransferValue, PlayerWithoutClub]\nIndex: []",
      "text/html": "<div>\n<style scoped>\n    .dataframe tbody tr th:only-of-type {\n        vertical-align: middle;\n    }\n\n    .dataframe tbody tr th {\n        vertical-align: top;\n    }\n\n    .dataframe thead th {\n        text-align: right;\n    }\n</style>\n<table border=\"1\" class=\"dataframe\">\n  <thead>\n    <tr style=\"text-align: right;\">\n      <th></th>\n      <th>Club</th>\n      <th>ClubLeagueLevel</th>\n      <th>ClubLeagueNationality</th>\n      <th>Player</th>\n      <th>PlayerAge</th>\n      <th>PlayerHeight</th>\n      <th>TransferDate</th>\n      <th>PlayerMatchesPlayed</th>\n      <th>PlayerGoals</th>\n      <th>PlayerAssists</th>\n      <th>PlayerOwnGoals</th>\n      <th>PlayerSubstitutionIn</th>\n      <th>PlayerSubstitutionOut</th>\n      <th>PlayerYellowCards</th>\n      <th>PlayerSecondYellowCards</th>\n      <th>PlayerRedCards</th>\n      <th>PlayerMinutesPlayed</th>\n      <th>PlayerPosition</th>\n      <th>PlayerPositionScut</th>\n      <th>PlayerNationality</th>\n      <th>Operation</th>\n      <th>Bought/Sold</th>\n      <th>PlayerMarketValue</th>\n      <th>ClubAssigned</th>\n      <th>ClubAssignedLeagueLevel</th>\n      <th>ClubAssignedLeagueNationality</th>\n      <th>TransferValue</th>\n      <th>PlayerWithoutClub</th>\n    </tr>\n  </thead>\n  <tbody>\n  </tbody>\n</table>\n</div>"
     },
     "execution_count": 886,
     "metadata": {},
     "output_type": "execute_result"
    }
   ],
   "source": [
    "transfer_df[transfer_df.isna().any(axis=1)]"
   ]
  },
  {
   "cell_type": "markdown",
   "metadata": {
    "pycharm": {
     "name": "#%% md\n"
    }
   },
   "source": [
    "### Wyczyszczenie danych z kolumn 'ClubLeagueLevel' oraz 'ClubAssignedLeagueLevel'\n",
    "### Dla ligi młodzieżowej oraz rezerw klubowych założono najniższy (8smy) poziom rozgrywkowy, natomiast dla zawodników bez klubu przyjęto poziom ligi jako 0"
   ]
  },
  {
   "cell_type": "code",
   "execution_count": 887,
   "metadata": {
    "pycharm": {
     "name": "#%%\n"
    }
   },
   "outputs": [
    {
     "data": {
      "text/plain": "1    1052\nName: ClubLeagueLevel, dtype: int64"
     },
     "metadata": {},
     "output_type": "display_data"
    },
    {
     "data": {
      "text/plain": "1    450\n2    328\n3    130\n4    114\n8     30\nName: ClubAssignedLeagueLevel, dtype: int64"
     },
     "metadata": {},
     "output_type": "display_data"
    },
    {
     "name": "stdout",
     "output_type": "stream",
     "text": [
      "<class 'pandas.core.frame.DataFrame'>\n",
      "Int64Index: 1052 entries, 0 to 1265\n",
      "Data columns (total 28 columns):\n",
      " #   Column                         Non-Null Count  Dtype  \n",
      "---  ------                         --------------  -----  \n",
      " 0   Club                           1052 non-null   object \n",
      " 1   ClubLeagueLevel                1052 non-null   int64  \n",
      " 2   ClubLeagueNationality          1052 non-null   object \n",
      " 3   Player                         1052 non-null   object \n",
      " 4   PlayerAge                      1052 non-null   int64  \n",
      " 5   PlayerHeight                   1052 non-null   float64\n",
      " 6   TransferDate                   1052 non-null   object \n",
      " 7   PlayerMatchesPlayed            1052 non-null   int64  \n",
      " 8   PlayerGoals                    1052 non-null   int64  \n",
      " 9   PlayerAssists                  1052 non-null   int64  \n",
      " 10  PlayerOwnGoals                 1052 non-null   int64  \n",
      " 11  PlayerSubstitutionIn           1052 non-null   int64  \n",
      " 12  PlayerSubstitutionOut          1052 non-null   int64  \n",
      " 13  PlayerYellowCards              1052 non-null   int64  \n",
      " 14  PlayerSecondYellowCards        1052 non-null   int64  \n",
      " 15  PlayerRedCards                 1052 non-null   int64  \n",
      " 16  PlayerMinutesPlayed            1052 non-null   object \n",
      " 17  PlayerPosition                 1052 non-null   object \n",
      " 18  PlayerPositionScut             1052 non-null   object \n",
      " 19  PlayerNationality              1052 non-null   object \n",
      " 20  Operation                      1052 non-null   object \n",
      " 21  Bought/Sold                    1052 non-null   object \n",
      " 22  PlayerMarketValue              1052 non-null   object \n",
      " 23  ClubAssigned                   1052 non-null   object \n",
      " 24  ClubAssignedLeagueLevel        1052 non-null   int64  \n",
      " 25  ClubAssignedLeagueNationality  1052 non-null   object \n",
      " 26  TransferValue                  1052 non-null   object \n",
      " 27  PlayerWithoutClub              1052 non-null   bool   \n",
      "dtypes: bool(1), float64(1), int64(12), object(14)\n",
      "memory usage: 271.2+ KB\n"
     ]
    }
   ],
   "source": [
    "transfer_df[\"ClubLeagueLevel\"] = transfer_df['ClubLeagueLevel'].map(lambda x: x[0])\n",
    "display(transfer_df['ClubLeagueLevel'].value_counts())\n",
    "\n",
    "transfer_df[\"ClubAssignedLeagueLevel\"].replace({\"ieżowa\": \"8.liga\", \"onship\": \"2.liga\", \"rezerw\": \"8.liga\", \"\": \"0.liga\"}, inplace=True)\n",
    "transfer_df[\"ClubAssignedLeagueLevel\"] = transfer_df['ClubAssignedLeagueLevel'].map(lambda x: x[0])\n",
    "display(transfer_df['ClubAssignedLeagueLevel'].value_counts())\n",
    "\n",
    "transfer_df['ClubLeagueLevel'] = transfer_df['ClubLeagueLevel'].astype(\"int64\")\n",
    "transfer_df['ClubAssignedLeagueLevel'] = transfer_df['ClubAssignedLeagueLevel'].astype(\"int64\")\n",
    "\n",
    "transfer_df.info()"
   ]
  },
  {
   "cell_type": "markdown",
   "metadata": {},
   "source": [
    "### Wyświetlenie zgrupowanych wartości dla kolumn w celu określenia, w jaki sposób powinny być czyszczone"
   ]
  },
  {
   "cell_type": "code",
   "execution_count": 888,
   "metadata": {
    "pycharm": {
     "name": "#%%\n"
    }
   },
   "outputs": [
    {
     "data": {
      "text/plain": "Polska    1052\nName: ClubLeagueNationality, dtype: int64"
     },
     "metadata": {},
     "output_type": "display_data"
    },
    {
     "data": {
      "text/plain": "19    114\n21    108\n20     98\n22     82\n26     76\n25     72\n24     68\n23     62\n18     58\n27     58\n29     58\n28     54\n17     40\n32     24\n30     22\n16     18\n31     12\n33     10\n15      4\n38      4\n34      4\n35      2\n36      2\n40      2\nName: PlayerAge, dtype: int64"
     },
     "metadata": {},
     "output_type": "display_data"
    },
    {
     "data": {
      "text/plain": "1.85    74\n1.78    68\n1.83    64\n1.88    62\n1.80    62\n1.84    60\n1.81    60\n1.86    58\n1.90    56\n1.91    48\n1.82    44\n1.75    42\n1.77    38\n1.79    34\n1.89    34\n1.94    30\n1.74    30\n1.93    28\n1.76    26\n1.92    26\n1.87    24\n1.70    14\n1.73    14\n1.95    14\n1.71    12\n1.72    10\n1.97     6\n1.96     4\n1.98     2\n1.69     2\n1.66     2\n1.64     2\n1.68     2\nName: PlayerHeight, dtype: int64"
     },
     "metadata": {},
     "output_type": "display_data"
    },
    {
     "data": {
      "text/plain": "1 lip 2021     94\n1 sie 2020     68\n1 lip 2020     22\n0              22\n4 sie 2020     20\n               ..\n5 sty 2021      2\n15 lip 2020     2\n21 sie 2020     2\n14 sie 2021     2\n22 lip 2020     2\nName: TransferDate, Length: 191, dtype: int64"
     },
     "metadata": {},
     "output_type": "display_data"
    },
    {
     "data": {
      "text/plain": "207    18\n138    16\n60     14\n191    14\n144    14\n       ..\n198     2\n197     2\n196     2\n195     2\n0       2\nName: PlayerMatchesPlayed, Length: 234, dtype: int64"
     },
     "metadata": {},
     "output_type": "display_data"
    },
    {
     "data": {
      "text/plain": "0     140\n6      58\n8      46\n1      44\n5      42\n     ... \n63      2\n56      2\n48      2\n42      2\n38      2\nName: PlayerGoals, Length: 78, dtype: int64"
     },
     "metadata": {},
     "output_type": "display_data"
    },
    {
     "data": {
      "text/plain": "0     206\n2     100\n3      66\n4      64\n7      50\n13     48\n5      46\n10     42\n1      42\n12     28\n6      26\n11     26\n19     26\n14     26\n8      26\n9      16\n22     16\n18     14\n31     14\n17     12\n49     10\n15     10\n21     10\n30     10\n23      8\n27      8\n35      8\n40      8\n29      6\n32      6\n20      6\n51      6\n37      4\n46      4\n43      4\n42      4\n26      4\n48      4\n36      4\n28      4\n24      4\n25      4\n54      2\n55      2\n53      2\n52      2\n64      2\n39      2\n45      2\n44      2\n34      2\n33      2\n65      2\nName: PlayerAssists, dtype: int64"
     },
     "metadata": {},
     "output_type": "display_data"
    },
    {
     "data": {
      "text/plain": "0    832\n1    160\n2     34\n3     18\n4      6\n5      2\nName: PlayerOwnGoals, dtype: int64"
     },
     "metadata": {},
     "output_type": "display_data"
    },
    {
     "data": {
      "text/plain": "0      52\n1      38\n11     34\n2      28\n33     26\n       ..\n77      2\n76      2\n64      2\n47      2\n129     2\nName: PlayerSubstitutionIn, Length: 101, dtype: int64"
     },
     "metadata": {},
     "output_type": "display_data"
    },
    {
     "data": {
      "text/plain": "0      50\n1      48\n14     32\n23     30\n12     28\n       ..\n97      2\n70      2\n91      2\n88      2\n187     2\nName: PlayerSubstitutionOut, Length: 116, dtype: int64"
     },
     "metadata": {},
     "output_type": "display_data"
    },
    {
     "data": {
      "text/plain": "15    52\n8     46\n17    42\n6     42\n14    38\n      ..\n22     2\n85     2\n83     2\n84     2\n87     2\nName: PlayerYellowCards, Length: 71, dtype: int64"
     },
     "metadata": {},
     "output_type": "display_data"
    },
    {
     "data": {
      "text/plain": "0     648\n1     232\n2     102\n3      50\n5       6\n11      4\n6       4\n4       4\n7       2\nName: PlayerSecondYellowCards, dtype: int64"
     },
     "metadata": {},
     "output_type": "display_data"
    },
    {
     "data": {
      "text/plain": "0    740\n1    224\n2     44\n3     32\n4     10\n6      2\nName: PlayerRedCards, dtype: int64"
     },
     "metadata": {},
     "output_type": "display_data"
    },
    {
     "data": {
      "text/plain": "9.262'     10\n17.242'     8\n10.956'     8\n4.416'      8\n13.444'     8\n           ..\n7.990'      2\n14.609'     2\n24.172'     2\n10.749'     2\n3.146'      2\nName: PlayerMinutesPlayed, Length: 404, dtype: int64"
     },
     "metadata": {},
     "output_type": "display_data"
    },
    {
     "data": {
      "text/plain": "Środkowy obrońca       184\nŚrodkowy napastnik     180\nBramkarz               110\nŚrodkowy pomocnik       92\nOfensywny pomocnik      88\nPrawy obrońca           78\nPrawy napastnik         68\nDefensywny pomocnik     66\nLewy napastnik          64\nLewy obrońca            62\nPrawy pomocnik          38\nLewy pomocnik           18\nPomocnik                 4\nName: PlayerPosition, dtype: int64"
     },
     "metadata": {},
     "output_type": "display_data"
    },
    {
     "data": {
      "text/plain": "Polska                  732\nSłowacja                 36\nChorwacja                32\nSerbia                   30\nHiszpania                28\nUkraina                  18\nPortugalia               12\nGhana                    10\nCzarnogóra               10\nSłowenia                 10\nCzechy                    8\nGrecja                    8\nDania                     8\nAustria                   8\nLitwa                     8\nNiemcy                    8\nŁotwa                     8\nFinlandia                 6\nSzwecja                   6\nWęgry                     6\nBrazylia                  6\nIzrael                    6\nBośnia i Hercegowina      4\nBułgaria                  4\nGruzja                    4\nKostaryka                 4\nFrancja                   4\nUzbekistan                2\nKosowo                    2\nRosja                     2\nEkwador                   2\nAlbania                   2\nAnglia                    2\nNigeria                   2\nIslandia                  2\nKanada                    2\nLiberia                   2\nLuksemburg                2\nMacedonia Północna        2\nNorwegia                  2\nGwinea                    2\nName: PlayerNationality, dtype: int64"
     },
     "metadata": {},
     "output_type": "display_data"
    },
    {
     "data": {
      "text/plain": "bez odstępnego                       386\nwypożyczenie                         230\n-                                     76\nkoniec wypżyczenia31 lip 2020         68\nkoniec wypżyczenia30 cze 2020         58\n?                                     30\nkoniec wypżyczenia31 gru 2020         28\n50 tys. €                             22\n250 tys. €                            12\nkoniec wypżyczenia20 lip 2020         12\n100 tys. €                             8\n150 tys. €                             8\n350 tys. €                             8\n300 tys. €                             8\nkoniec wypżyczenia30 lip 2020          6\n800 tys. €                             6\n500 tys. €                             6\n70 tys. €                              4\n200 tys. €                             4\nkoniec wypżyczenia30 cze 2021          4\n35 tys. €                              4\nkoniec wypżyczenia7 lut 2021           4\n45 tys. €                              4\nopłata za wypożyczenie:150 tys. €      2\n25 tys. €                              2\nkoniec wypżyczenia11 lut 2021          2\n1,40 mln €                             2\n110 tys. €                             2\n65 tys. €                              2\nkoniec wypżyczenia30 cze 2019          2\n5,50 mln €                             2\n11,00 mln €                            2\nkoniec wypżyczenia17 sty 2021          2\nkoniec wypżyczenia3 sie 2020           2\n2,00 mln €                             2\n5 tys. €                               2\n400 tys. €                             2\nkoniec wypżyczenia30 wrz 2020          2\n3,00 mln €                             2\n600 tys. €                             2\n5,00 mln €                             2\n40 tys. €                              2\nkoniec wypżyczenia31 sie 2020          2\nkoniec wypżyczenia23 lut 2021          2\n15 tys. €                              2\n1,70 mln €                             2\n700 tys. €                             2\nkoniec wypżyczenia16 cze 2020          2\n180 tys. €                             2\n4,30 mln €                             2\n850 tys. €                             2\nName: Operation, dtype: int64"
     },
     "metadata": {},
     "output_type": "display_data"
    },
    {
     "data": {
      "text/plain": "Nabytki     548\nOdejścia    504\nName: Bought/Sold, dtype: int64"
     },
     "metadata": {},
     "output_type": "display_data"
    },
    {
     "data": {
      "text/plain": "-              160\n200 tys. €      96\n150 tys. €      84\n100 tys. €      82\n250 tys. €      76\n300 tys. €      74\n400 tys. €      66\n500 tys. €      50\n350 tys. €      42\n600 tys. €      40\n50 tys. €       40\n125 tys. €      30\n700 tys. €      26\n800 tys. €      20\n75 tys. €       18\n450 tys. €      18\n1,50 mln €      16\n750 tys. €      14\n2,50 mln €      14\n25 tys. €       12\n175 tys. €      12\n1,20 mln €       8\n5,00 mln €       8\n3,00 mln €       8\n650 tys. €       6\n10,00 mln €      6\n850 tys. €       4\n550 tys. €       4\n900 tys. €       4\n2,00 mln €       4\n1,00 mln €       4\n950 tys. €       2\n3,50 mln €       2\n2,20 mln €       2\nName: PlayerMarketValue, dtype: int64"
     },
     "metadata": {},
     "output_type": "display_data"
    },
    {
     "data": {
      "text/plain": "Polska                  712\nAnglia                   32\nWłochy                   32\nNiemcy                   28\nChorwacja                18\nSerbia                   18\nTurcja                   18\nCzechy                   18\nSłowacja                 16\nHiszpania                14\nRumunia                  10\nGrecja                   10\nSzwecja                   8\nSłowenia                  8\nUkraina                   8\nWęgry                     8\nKazachstan                8\nIzrael                    8\nRosja                     8\nDania                     6\nBułgaria                  6\nŁotwa                     6\nPortugalia                6\nBiałoruś                  4\nHolandia                  4\nCypr                      4\nBośnia i Hercegowina      4\nArabia Saudyjska          2\nAustria                   2\nFinlandia                 2\nBelgia                    2\nUzbekistan                2\nGruzja                    2\nFrancja                   2\nIrlandia                  2\nAlbania                   2\nIndie                     2\nJaponia                   2\nMołdawia                  2\nAzerbejdżan               2\nNorwegia                  2\nKorea Południowa          2\nName: ClubAssignedLeagueNationality, dtype: int64"
     },
     "metadata": {},
     "output_type": "display_data"
    },
    {
     "data": {
      "text/plain": "bez odstępnego                       386\nwypożyczenie                         230\n-                                     76\nkoniec wypżyczenia31 lip 2020         68\nkoniec wypżyczenia30 cze 2020         58\n?                                     30\nkoniec wypżyczenia31 gru 2020         28\n50 tys. €                             22\n250 tys. €                            12\nkoniec wypżyczenia20 lip 2020         12\n100 tys. €                             8\n150 tys. €                             8\n350 tys. €                             8\n300 tys. €                             8\nkoniec wypżyczenia30 lip 2020          6\n800 tys. €                             6\n500 tys. €                             6\n70 tys. €                              4\n200 tys. €                             4\nkoniec wypżyczenia30 cze 2021          4\n35 tys. €                              4\nkoniec wypżyczenia7 lut 2021           4\n45 tys. €                              4\nopłata za wypożyczenie:150 tys. €      2\n25 tys. €                              2\nkoniec wypżyczenia11 lut 2021          2\n1,40 mln €                             2\n110 tys. €                             2\n65 tys. €                              2\nkoniec wypżyczenia30 cze 2019          2\n5,50 mln €                             2\n11,00 mln €                            2\nkoniec wypżyczenia17 sty 2021          2\nkoniec wypżyczenia3 sie 2020           2\n2,00 mln €                             2\n5 tys. €                               2\n400 tys. €                             2\nkoniec wypżyczenia30 wrz 2020          2\n3,00 mln €                             2\n600 tys. €                             2\n5,00 mln €                             2\n40 tys. €                              2\nkoniec wypżyczenia31 sie 2020          2\nkoniec wypżyczenia23 lut 2021          2\n15 tys. €                              2\n1,70 mln €                             2\n700 tys. €                             2\nkoniec wypżyczenia16 cze 2020          2\n180 tys. €                             2\n4,30 mln €                             2\n850 tys. €                             2\nName: TransferValue, dtype: int64"
     },
     "metadata": {},
     "output_type": "display_data"
    }
   ],
   "source": [
    "display(transfer_df['ClubLeagueNationality'].value_counts())         # nie wymaga czyszczenia\n",
    "display(transfer_df['PlayerAge'].value_counts())                     # nie wymaga czyszczenia\n",
    "display(transfer_df['PlayerHeight'].value_counts())                  # nie wymaga czyszczenia\n",
    "display(transfer_df['TransferDate'].value_counts())                  # usunięcie wierszy dla wartości zero / konwersja daty\n",
    "display(transfer_df['PlayerMatchesPlayed'].value_counts())           # nie wymaga czyszczenia\n",
    "display(transfer_df['PlayerGoals'].value_counts())                   # nie wymaga czyszczenia\n",
    "display(transfer_df['PlayerAssists'].value_counts())                 # nie wymaga czyszczenia\n",
    "display(transfer_df['PlayerOwnGoals'].value_counts())                # nie wymaga czyszczenia\n",
    "display(transfer_df['PlayerSubstitutionIn'].value_counts())          # nie wymaga czyszczenia\n",
    "display(transfer_df['PlayerSubstitutionOut'].value_counts())         # nie wymaga czyszczenia\n",
    "display(transfer_df['PlayerYellowCards'].value_counts())             # nie wymaga czyszczenia\n",
    "display(transfer_df['PlayerSecondYellowCards'].value_counts())       # nie wymaga czyszczenia\n",
    "display(transfer_df['PlayerRedCards'].value_counts())                # nie wymaga czyszczenia\n",
    "display(transfer_df['PlayerMinutesPlayed'].value_counts())           # usunięcie apostrofu oraz znaku kropki, a także konwersja na typ liczbowy\n",
    "display(transfer_df['PlayerPosition'].value_counts())                # nie wymaga czyszczenia (stworzenie dodatkowej kolumny danych określających pozycję ogólną - Pomocnik, Napastnik, Obrońca, Bramkarz\n",
    "display(transfer_df['PlayerNationality'].value_counts())             # nie wymaga czyszczenia\n",
    "display(transfer_df['Operation'].value_counts())                     # wymaga czyszczenia (usunięcie danych niepoprawnych oraz modyfikacja formatu numerycznego, usunięcie wierszy dla wartości '?'\n",
    "display(transfer_df['Bought/Sold'].value_counts())                   # zmiana wartości 'nabytki' na 'kupiony' oraz 'odejścia' na 'sprzedany'\n",
    "display(transfer_df['PlayerMarketValue'].value_counts())             # modyfikacja danych do wartości liczbowych\n",
    "display(transfer_df['ClubAssignedLeagueNationality'].value_counts()) # nie wymaga czyszczenia\n",
    "display(transfer_df['TransferValue'].value_counts())                 # analogicznie do kolumny 'Operation'"
   ]
  },
  {
   "cell_type": "markdown",
   "metadata": {
    "pycharm": {
     "name": "#%% md\n"
    }
   },
   "source": [
    "### Stworzenie dodatkowych kolumn określających ogólną pozycję zawodnika oraz przedział wiekowy"
   ]
  },
  {
   "cell_type": "code",
   "execution_count": 889,
   "metadata": {
    "pycharm": {
     "name": "#%%\n"
    }
   },
   "outputs": [
    {
     "data": {
      "text/plain": "          PlayerPosition PlayerGenericPosition  PlayerAge PlayerAgeGroup\n0     Środkowy napastnik             Napastnik         19          Młody\n1          Prawy obrońca               Obrońca         24   W sile wieku\n2        Prawy napastnik             Napastnik         23   W sile wieku\n3     Ofensywny pomocnik              Pomocnik         29   W sile wieku\n4     Ofensywny pomocnik              Pomocnik         23   W sile wieku\n...                  ...                   ...        ...            ...\n1257     Prawy napastnik             Napastnik         19          Młody\n1258      Prawy pomocnik              Pomocnik         19          Młody\n1263  Ofensywny pomocnik              Pomocnik         29   W sile wieku\n1264      Prawy pomocnik              Pomocnik         21          Młody\n1265     Prawy napastnik             Napastnik         21          Młody\n\n[1052 rows x 4 columns]",
      "text/html": "<div>\n<style scoped>\n    .dataframe tbody tr th:only-of-type {\n        vertical-align: middle;\n    }\n\n    .dataframe tbody tr th {\n        vertical-align: top;\n    }\n\n    .dataframe thead th {\n        text-align: right;\n    }\n</style>\n<table border=\"1\" class=\"dataframe\">\n  <thead>\n    <tr style=\"text-align: right;\">\n      <th></th>\n      <th>PlayerPosition</th>\n      <th>PlayerGenericPosition</th>\n      <th>PlayerAge</th>\n      <th>PlayerAgeGroup</th>\n    </tr>\n  </thead>\n  <tbody>\n    <tr>\n      <th>0</th>\n      <td>Środkowy napastnik</td>\n      <td>Napastnik</td>\n      <td>19</td>\n      <td>Młody</td>\n    </tr>\n    <tr>\n      <th>1</th>\n      <td>Prawy obrońca</td>\n      <td>Obrońca</td>\n      <td>24</td>\n      <td>W sile wieku</td>\n    </tr>\n    <tr>\n      <th>2</th>\n      <td>Prawy napastnik</td>\n      <td>Napastnik</td>\n      <td>23</td>\n      <td>W sile wieku</td>\n    </tr>\n    <tr>\n      <th>3</th>\n      <td>Ofensywny pomocnik</td>\n      <td>Pomocnik</td>\n      <td>29</td>\n      <td>W sile wieku</td>\n    </tr>\n    <tr>\n      <th>4</th>\n      <td>Ofensywny pomocnik</td>\n      <td>Pomocnik</td>\n      <td>23</td>\n      <td>W sile wieku</td>\n    </tr>\n    <tr>\n      <th>...</th>\n      <td>...</td>\n      <td>...</td>\n      <td>...</td>\n      <td>...</td>\n    </tr>\n    <tr>\n      <th>1257</th>\n      <td>Prawy napastnik</td>\n      <td>Napastnik</td>\n      <td>19</td>\n      <td>Młody</td>\n    </tr>\n    <tr>\n      <th>1258</th>\n      <td>Prawy pomocnik</td>\n      <td>Pomocnik</td>\n      <td>19</td>\n      <td>Młody</td>\n    </tr>\n    <tr>\n      <th>1263</th>\n      <td>Ofensywny pomocnik</td>\n      <td>Pomocnik</td>\n      <td>29</td>\n      <td>W sile wieku</td>\n    </tr>\n    <tr>\n      <th>1264</th>\n      <td>Prawy pomocnik</td>\n      <td>Pomocnik</td>\n      <td>21</td>\n      <td>Młody</td>\n    </tr>\n    <tr>\n      <th>1265</th>\n      <td>Prawy napastnik</td>\n      <td>Napastnik</td>\n      <td>21</td>\n      <td>Młody</td>\n    </tr>\n  </tbody>\n</table>\n<p>1052 rows × 4 columns</p>\n</div>"
     },
     "metadata": {},
     "output_type": "display_data"
    }
   ],
   "source": [
    "def get_player_age_group(age):\n",
    "    if 15 <= age < 16:\n",
    "        return 'Junior młodszy'\n",
    "    elif 16 <= age < 17:\n",
    "        return 'Junior starszy'\n",
    "    elif 17 <= age < 22:\n",
    "        return 'Młody'\n",
    "    elif 22 <= age < 30:\n",
    "        return 'W sile wieku'\n",
    "    elif 30 <= age < 37:\n",
    "        return 'Doświadczony'\n",
    "    elif 37 <= age < 42:\n",
    "        return 'Zbliżający się do końca kariery'\n",
    "    elif age >= 42:\n",
    "        return 'Oldboy'\n",
    "    else:\n",
    "        return 'Inny'\n",
    "\n",
    "transfer_df['PlayerGenericPosition'] = transfer_df['PlayerPosition'].map(lambda x: x.split(' ')[-1].capitalize())\n",
    "transfer_df['PlayerAgeGroup'] = transfer_df['PlayerAge'].map(lambda x: get_player_age_group(int(x)))\n",
    "\n",
    "display(transfer_df[['PlayerPosition', 'PlayerGenericPosition', 'PlayerAge', 'PlayerAgeGroup']])"
   ]
  },
  {
   "cell_type": "markdown",
   "source": [
    "### Wyczyszczenie danych z kolumny 'TransferDate'"
   ],
   "metadata": {
    "collapsed": false
   }
  },
  {
   "cell_type": "code",
   "execution_count": 890,
   "outputs": [
    {
     "data": {
      "text/plain": "2021-07-01    94\n2020-08-01    68\n2020-07-01    22\n2020-08-04    20\n2020-08-05    20\n              ..\n2021-05-14     2\n2017-08-08     2\n2020-07-22     2\n2020-09-08     2\n2021-03-03     2\nName: TransferDate, Length: 190, dtype: int64"
     },
     "execution_count": 890,
     "metadata": {},
     "output_type": "execute_result"
    }
   ],
   "source": [
    "def translate_months(month):\n",
    "    if month == \"sty\": return \"january\"\n",
    "    if month == \"lut\": return \"february\"\n",
    "    if month == \"mar\": return \"march\"\n",
    "    if month == \"kwi\": return \"april\"\n",
    "    if month == \"maj\": return \"may\"\n",
    "    if month == \"cze\": return \"june\"\n",
    "    if month == \"lip\": return \"july\"\n",
    "    if month == \"sie\": return \"august\"\n",
    "    if month == \"wrz\": return \"september\"\n",
    "    if month == \"paź\": return \"october\"\n",
    "    if month == \"lis\": return \"november\"\n",
    "    if month == \"gru\": return \"december\"\n",
    "\n",
    "\n",
    "transfer_df = transfer_df[transfer_df['TransferDate'] != '0']\n",
    "\n",
    "transfer_df['TransferDate'] = transfer_df['TransferDate'].astype(\"string\")\n",
    "\n",
    "transfer_df['TransferDate'] = transfer_df['TransferDate'].map(lambda x: datetime.strptime(x.split(\" \")[0]+\" \"+translate_months(x.split(\" \")[1])+\" \"+x.split(\" \")[2], '%d %B %Y'))\n",
    "\n",
    "transfer_df['TransferDate']= pd.to_datetime(transfer_df['TransferDate'])\n",
    "\n",
    "transfer_df['TransferDate'].value_counts()"
   ],
   "metadata": {
    "collapsed": false,
    "pycharm": {
     "name": "#%%\n"
    }
   }
  },
  {
   "cell_type": "markdown",
   "source": [
    "### Wyczyszczenie danych z kolumny 'PlayerMinutesPlayed'"
   ],
   "metadata": {
    "collapsed": false
   }
  },
  {
   "cell_type": "code",
   "execution_count": 891,
   "outputs": [],
   "source": [
    "transfer_df['PlayerMinutesPlayed'] = transfer_df['PlayerMinutesPlayed'].map(lambda x: x if len(x) == 1 else x[:-1])\n",
    "transfer_df['PlayerMinutesPlayed'] = transfer_df['PlayerMinutesPlayed'].map(lambda x: x.replace(\".\", \"\").replace(\"-\", \"\"))\n",
    "\n",
    "transfer_df[\"PlayerMinutesPlayed\"].value_counts()\n",
    "transfer_df['PlayerMinutesPlayed'] = transfer_df['PlayerMinutesPlayed'].astype(\"int64\")"
   ],
   "metadata": {
    "collapsed": false,
    "pycharm": {
     "name": "#%%\n"
    }
   }
  },
  {
   "cell_type": "markdown",
   "metadata": {
    "pycharm": {
     "name": "#%% md\n"
    }
   },
   "source": [
    "### Wyczyszczenie danych z kolumny 'Operation'"
   ]
  },
  {
   "cell_type": "code",
   "execution_count": 892,
   "metadata": {
    "pycharm": {
     "name": "#%%\n"
    }
   },
   "outputs": [
    {
     "data": {
      "text/plain": "Transfer        588\nWypożyczenie    414\nName: Operation, dtype: int64"
     },
     "execution_count": 892,
     "metadata": {},
     "output_type": "execute_result"
    }
   ],
   "source": [
    "transfer_df[\"Operation\"].replace({\"bez odstępnego\": \"Transfer\", \"-\": \"Transfer\", \"wypożyczenie\": \"Wypożyczenie\", \"draft\": \"Transfer\"}, inplace=True)\n",
    "transfer_df[\"Operation\"].replace([\"^koniec wypżyczenia[0-9]{1,2}[ ][a-ź]{3}[ ][0-9]{4}$\"], [\"Wypożyczenie\"], regex=True, inplace=True)\n",
    "transfer_df[\"Operation\"].replace([\"^opłata za wypożyczenie:.*$\"], [\"Wypożyczenie\"], regex=True, inplace=True)\n",
    "transfer_df[\"Operation\"].replace([\"^.*€$\"], [\"Transfer\"], regex=True, inplace=True)\n",
    "\n",
    "transfer_df = transfer_df[transfer_df[\"Operation\"] != \"?\"]\n",
    "\n",
    "transfer_df[\"Operation\"].value_counts()"
   ]
  },
  {
   "cell_type": "markdown",
   "metadata": {
    "pycharm": {
     "name": "#%% md\n"
    }
   },
   "source": [
    "### Wyczyszczenie danych z kolumny 'Bought/Sold'"
   ]
  },
  {
   "cell_type": "code",
   "execution_count": 893,
   "metadata": {
    "pycharm": {
     "name": "#%%\n"
    }
   },
   "outputs": [
    {
     "data": {
      "text/plain": "Kupiony      518\nSprzedany    484\nName: Bought/Sold, dtype: int64"
     },
     "execution_count": 893,
     "metadata": {},
     "output_type": "execute_result"
    }
   ],
   "source": [
    "transfer_df[\"Bought/Sold\"].replace({\"Odejścia\": \"Sprzedany\", \"Nabytki\": \"Kupiony\"}, inplace=True)\n",
    "transfer_df['Bought/Sold'].value_counts()"
   ]
  },
  {
   "cell_type": "code",
   "execution_count": 894,
   "metadata": {
    "pycharm": {
     "name": "#%%\n"
    }
   },
   "outputs": [
    {
     "data": {
      "text/plain": "0           146\n200000       94\n100000       82\n150000       82\n250000       72\n300000       68\n400000       66\n500000       48\n50000        38\n600000       38\n350000       36\n125000       30\n700000       26\n800000       20\n450000       18\n75000        18\n1500000      14\n750000       14\n2500000      14\n25000        10\n3000000       8\n5000000       8\n1200000       8\n175000        6\n10000000      6\n650000        6\n1000000       4\n900000        4\n2000000       4\n550000        4\n850000        4\n3500000       2\n950000        2\n2200000       2\nName: PlayerMarketValue, dtype: int64"
     },
     "metadata": {},
     "output_type": "display_data"
    }
   ],
   "source": [
    "def human_readable_to_numeric(value):\n",
    "    if value == 0:\n",
    "        return 0\n",
    "    elements = value.split(\" \")\n",
    "    base = float(elements[0].replace(',', '.'))\n",
    "    if elements[1] == \"mln\":\n",
    "        times = 1000000\n",
    "    elif elements[1] == \"tys.\":\n",
    "        times = 1000\n",
    "    else:\n",
    "        times = 1\n",
    "\n",
    "    return base * times\n",
    "\n",
    "\n",
    "\n",
    "transfer_df[\"PlayerMarketValue\"].replace({\"-\": 0}, inplace=True)\n",
    "transfer_df[\"PlayerMarketValue\"] = transfer_df[\"PlayerMarketValue\"].map(lambda x: human_readable_to_numeric(x))\n",
    "transfer_df['PlayerMarketValue'] = transfer_df['PlayerMarketValue'].astype(\"int64\")\n",
    "\n",
    "display(transfer_df['PlayerMarketValue'].value_counts())"
   ]
  },
  {
   "cell_type": "markdown",
   "metadata": {
    "pycharm": {
     "name": "#%% md\n"
    }
   },
   "source": [
    "### Wyczyszczenie danych z kolumny 'TransferValue'"
   ]
  },
  {
   "cell_type": "code",
   "execution_count": 895,
   "outputs": [
    {
     "data": {
      "text/plain": "0           868\n50000        22\n250000       12\n150000       10\n350000        8\n100000        8\n300000        8\n800000        6\n500000        6\n200000        4\n35000         4\n45000         4\n70000         4\n40000         2\n850000        2\n5500000       2\n2000000       2\n600000        2\n1700000       2\n11000000      2\n4300000       2\n180000        2\n3000000       2\n25000         2\n65000         2\n5000          2\n1400000       2\n700000        2\n400000        2\n15000         2\n5000000       2\n110000        2\nName: TransferValue, dtype: int64"
     },
     "execution_count": 895,
     "metadata": {},
     "output_type": "execute_result"
    }
   ],
   "source": [
    "def remove_text_about_loan_fee(value):\n",
    "    if value == 0:\n",
    "        return 0\n",
    "\n",
    "    elements = value.split(\"opłata za wypożyczenie:\")\n",
    "    return elements[-1]\n",
    "\n",
    "\n",
    "transfer_df[\"TransferValue\"].replace({\"bez odstępnego\": 0, \"-\": 0, \"wypożyczenie\": 0, \"draft\": 0, \"\": 0}, inplace=True)\n",
    "transfer_df[\"TransferValue\"].replace([\"^koniec wypżyczenia[0-9]{1,2}[ ][a-ź]{3}[ ][0-9]{4}$\"], [0], regex=True, inplace=True)\n",
    "transfer_df[\"TransferValue\"] = transfer_df[\"TransferValue\"].map(lambda x: remove_text_about_loan_fee(x))\n",
    "transfer_df[\"TransferValue\"] = transfer_df[\"TransferValue\"].map(lambda x: human_readable_to_numeric(x))\n",
    "\n",
    "transfer_df = transfer_df[transfer_df[\"TransferValue\"] != \"?\"]\n",
    "\n",
    "transfer_df['TransferValue'] = transfer_df['TransferValue'].astype(\"int64\")\n",
    "\n",
    "transfer_df[\"TransferValue\"].value_counts()"
   ],
   "metadata": {
    "collapsed": false,
    "pycharm": {
     "name": "#%%\n"
    }
   }
  },
  {
   "cell_type": "markdown",
   "source": [
    "### Uzyskanie listy duplikatów oraz ich usunięcie"
   ],
   "metadata": {
    "collapsed": false
   }
  },
  {
   "cell_type": "code",
   "execution_count": 896,
   "outputs": [
    {
     "data": {
      "text/plain": "                Club  ClubLeagueLevel ClubLeagueNationality                 Player  PlayerAge  PlayerHeight TransferDate  PlayerMatchesPlayed  PlayerGoals  PlayerAssists  PlayerOwnGoals  PlayerSubstitutionIn  PlayerSubstitutionOut  PlayerYellowCards  PlayerSecondYellowCards  PlayerRedCards  PlayerMinutesPlayed  \\\n633   Legia Warszawa                1                Polska            Ernest Muci         19          1.80   2021-02-23                   94           24              6               0                    41                     26                  6                        0               0                 5004   \n634   Legia Warszawa                1                Polska        Josip Juranovic         24          1.73   2021-08-21                  224            8             23               3                    23                     12                 18                        0               1                18428   \n635   Legia Warszawa                1                Polska      Jasur Yakhshiboev         23          1.80   2021-08-30                  103           23             13               0                    50                     31                 14                        0               0                 5086   \n636   Legia Warszawa                1                Polska             Rafa Lopes         29          1.85   2020-08-01                  375           75             19               1                   123                    120                 41                        0               1                23321   \n637   Legia Warszawa                1                Polska       Bartosz Kapustka         23          1.79   2020-08-13                  151           20             19               0                    36                     54                 25                        0               1                10003   \n...              ...              ...                   ...                    ...        ...           ...          ...                  ...          ...            ...             ...                   ...                    ...                ...                      ...             ...                  ...   \n1256    Warta Poznań                1                Polska         Bartosz Kalupa         22          1.81   2021-07-01                  131            4              0               0                    21                     35                 32                        0               1                 9601   \n1257    Warta Poznań                1                Polska      Dominik Smykowski         19          1.80   2021-07-28                   21            1              0               0                    16                      5                  1                        0               0                  538   \n1258    Warta Poznań                1                Polska    Sebastian Olszewski         19          1.82   2021-07-01                   89            1              1               0                    37                     13                 21                        0               0                 5078   \n1263    Warta Poznań                1                Polska  Krzysztof Danielewicz         29          1.82   2021-07-07                  257           33             32               1                    61                     78                 51                        2               0                17173   \n1265    Warta Poznań                1                Polska    Karol Gardzielewicz         21          1.71   2021-07-26                  104           15              0               0                    31                     34                  9                        0               0                 6512   \n\n           PlayerPosition PlayerPositionScut PlayerNationality     Operation Bought/Sold  PlayerMarketValue        ClubAssigned  ClubAssignedLeagueLevel ClubAssignedLeagueNationality  TransferValue  PlayerWithoutClub PlayerGenericPosition PlayerAgeGroup  \n633    Środkowy napastnik                ŚNP           Albania      Transfer     Kupiony            1000000           KF Tirana                        1                       Albania         500000              False             Napastnik          Młody  \n634         Prawy obrońca                POB         Chorwacja      Transfer     Kupiony            2500000    HNK Hajduk Split                        1                     Chorwacja         400000              False               Obrońca   W sile wieku  \n635       Prawy napastnik                PNP        Uzbekistan      Transfer     Kupiony             700000  Pakhtakor Tashkent                        1                    Uzbekistan         300000              False             Napastnik   W sile wieku  \n636    Ofensywny pomocnik                OPM        Portugalia      Transfer     Kupiony             500000            Cracovia                        1                        Polska         150000              False              Pomocnik   W sile wieku  \n637    Ofensywny pomocnik                OPM            Polska      Transfer     Kupiony            1500000      Leicester City                        1                        Anglia              0              False              Pomocnik   W sile wieku  \n...                   ...                ...               ...           ...         ...                ...                 ...                      ...                           ...            ...                ...                   ...            ...  \n1256  Defensywny pomocnik                DPM            Polska  Wypożyczenie   Sprzedany                  0   Kotwica Kołobrzeg                        4                        Polska              0              False              Pomocnik   W sile wieku  \n1257      Prawy napastnik                PNP            Polska  Wypożyczenie   Sprzedany                  0    Skra Częstochowa                        2                        Polska              0              False             Napastnik          Młody  \n1258       Prawy pomocnik                PPM            Polska  Wypożyczenie   Sprzedany                  0       Hutnik Kraków                        3                        Polska              0              False              Pomocnik          Młody  \n1263   Ofensywny pomocnik                OPM            Polska  Wypożyczenie   Sprzedany                  0       Miedź Legnica                        2                        Polska              0              False              Pomocnik   W sile wieku  \n1265      Prawy napastnik                PNP            Polska  Wypożyczenie   Sprzedany                  0       Miedź Legnica                        2                        Polska              0              False             Napastnik          Młody  \n\n[501 rows x 30 columns]",
      "text/html": "<div>\n<style scoped>\n    .dataframe tbody tr th:only-of-type {\n        vertical-align: middle;\n    }\n\n    .dataframe tbody tr th {\n        vertical-align: top;\n    }\n\n    .dataframe thead th {\n        text-align: right;\n    }\n</style>\n<table border=\"1\" class=\"dataframe\">\n  <thead>\n    <tr style=\"text-align: right;\">\n      <th></th>\n      <th>Club</th>\n      <th>ClubLeagueLevel</th>\n      <th>ClubLeagueNationality</th>\n      <th>Player</th>\n      <th>PlayerAge</th>\n      <th>PlayerHeight</th>\n      <th>TransferDate</th>\n      <th>PlayerMatchesPlayed</th>\n      <th>PlayerGoals</th>\n      <th>PlayerAssists</th>\n      <th>PlayerOwnGoals</th>\n      <th>PlayerSubstitutionIn</th>\n      <th>PlayerSubstitutionOut</th>\n      <th>PlayerYellowCards</th>\n      <th>PlayerSecondYellowCards</th>\n      <th>PlayerRedCards</th>\n      <th>PlayerMinutesPlayed</th>\n      <th>PlayerPosition</th>\n      <th>PlayerPositionScut</th>\n      <th>PlayerNationality</th>\n      <th>Operation</th>\n      <th>Bought/Sold</th>\n      <th>PlayerMarketValue</th>\n      <th>ClubAssigned</th>\n      <th>ClubAssignedLeagueLevel</th>\n      <th>ClubAssignedLeagueNationality</th>\n      <th>TransferValue</th>\n      <th>PlayerWithoutClub</th>\n      <th>PlayerGenericPosition</th>\n      <th>PlayerAgeGroup</th>\n    </tr>\n  </thead>\n  <tbody>\n    <tr>\n      <th>633</th>\n      <td>Legia Warszawa</td>\n      <td>1</td>\n      <td>Polska</td>\n      <td>Ernest Muci</td>\n      <td>19</td>\n      <td>1.80</td>\n      <td>2021-02-23</td>\n      <td>94</td>\n      <td>24</td>\n      <td>6</td>\n      <td>0</td>\n      <td>41</td>\n      <td>26</td>\n      <td>6</td>\n      <td>0</td>\n      <td>0</td>\n      <td>5004</td>\n      <td>Środkowy napastnik</td>\n      <td>ŚNP</td>\n      <td>Albania</td>\n      <td>Transfer</td>\n      <td>Kupiony</td>\n      <td>1000000</td>\n      <td>KF Tirana</td>\n      <td>1</td>\n      <td>Albania</td>\n      <td>500000</td>\n      <td>False</td>\n      <td>Napastnik</td>\n      <td>Młody</td>\n    </tr>\n    <tr>\n      <th>634</th>\n      <td>Legia Warszawa</td>\n      <td>1</td>\n      <td>Polska</td>\n      <td>Josip Juranovic</td>\n      <td>24</td>\n      <td>1.73</td>\n      <td>2021-08-21</td>\n      <td>224</td>\n      <td>8</td>\n      <td>23</td>\n      <td>3</td>\n      <td>23</td>\n      <td>12</td>\n      <td>18</td>\n      <td>0</td>\n      <td>1</td>\n      <td>18428</td>\n      <td>Prawy obrońca</td>\n      <td>POB</td>\n      <td>Chorwacja</td>\n      <td>Transfer</td>\n      <td>Kupiony</td>\n      <td>2500000</td>\n      <td>HNK Hajduk Split</td>\n      <td>1</td>\n      <td>Chorwacja</td>\n      <td>400000</td>\n      <td>False</td>\n      <td>Obrońca</td>\n      <td>W sile wieku</td>\n    </tr>\n    <tr>\n      <th>635</th>\n      <td>Legia Warszawa</td>\n      <td>1</td>\n      <td>Polska</td>\n      <td>Jasur Yakhshiboev</td>\n      <td>23</td>\n      <td>1.80</td>\n      <td>2021-08-30</td>\n      <td>103</td>\n      <td>23</td>\n      <td>13</td>\n      <td>0</td>\n      <td>50</td>\n      <td>31</td>\n      <td>14</td>\n      <td>0</td>\n      <td>0</td>\n      <td>5086</td>\n      <td>Prawy napastnik</td>\n      <td>PNP</td>\n      <td>Uzbekistan</td>\n      <td>Transfer</td>\n      <td>Kupiony</td>\n      <td>700000</td>\n      <td>Pakhtakor Tashkent</td>\n      <td>1</td>\n      <td>Uzbekistan</td>\n      <td>300000</td>\n      <td>False</td>\n      <td>Napastnik</td>\n      <td>W sile wieku</td>\n    </tr>\n    <tr>\n      <th>636</th>\n      <td>Legia Warszawa</td>\n      <td>1</td>\n      <td>Polska</td>\n      <td>Rafa Lopes</td>\n      <td>29</td>\n      <td>1.85</td>\n      <td>2020-08-01</td>\n      <td>375</td>\n      <td>75</td>\n      <td>19</td>\n      <td>1</td>\n      <td>123</td>\n      <td>120</td>\n      <td>41</td>\n      <td>0</td>\n      <td>1</td>\n      <td>23321</td>\n      <td>Ofensywny pomocnik</td>\n      <td>OPM</td>\n      <td>Portugalia</td>\n      <td>Transfer</td>\n      <td>Kupiony</td>\n      <td>500000</td>\n      <td>Cracovia</td>\n      <td>1</td>\n      <td>Polska</td>\n      <td>150000</td>\n      <td>False</td>\n      <td>Pomocnik</td>\n      <td>W sile wieku</td>\n    </tr>\n    <tr>\n      <th>637</th>\n      <td>Legia Warszawa</td>\n      <td>1</td>\n      <td>Polska</td>\n      <td>Bartosz Kapustka</td>\n      <td>23</td>\n      <td>1.79</td>\n      <td>2020-08-13</td>\n      <td>151</td>\n      <td>20</td>\n      <td>19</td>\n      <td>0</td>\n      <td>36</td>\n      <td>54</td>\n      <td>25</td>\n      <td>0</td>\n      <td>1</td>\n      <td>10003</td>\n      <td>Ofensywny pomocnik</td>\n      <td>OPM</td>\n      <td>Polska</td>\n      <td>Transfer</td>\n      <td>Kupiony</td>\n      <td>1500000</td>\n      <td>Leicester City</td>\n      <td>1</td>\n      <td>Anglia</td>\n      <td>0</td>\n      <td>False</td>\n      <td>Pomocnik</td>\n      <td>W sile wieku</td>\n    </tr>\n    <tr>\n      <th>...</th>\n      <td>...</td>\n      <td>...</td>\n      <td>...</td>\n      <td>...</td>\n      <td>...</td>\n      <td>...</td>\n      <td>...</td>\n      <td>...</td>\n      <td>...</td>\n      <td>...</td>\n      <td>...</td>\n      <td>...</td>\n      <td>...</td>\n      <td>...</td>\n      <td>...</td>\n      <td>...</td>\n      <td>...</td>\n      <td>...</td>\n      <td>...</td>\n      <td>...</td>\n      <td>...</td>\n      <td>...</td>\n      <td>...</td>\n      <td>...</td>\n      <td>...</td>\n      <td>...</td>\n      <td>...</td>\n      <td>...</td>\n      <td>...</td>\n      <td>...</td>\n    </tr>\n    <tr>\n      <th>1256</th>\n      <td>Warta Poznań</td>\n      <td>1</td>\n      <td>Polska</td>\n      <td>Bartosz Kalupa</td>\n      <td>22</td>\n      <td>1.81</td>\n      <td>2021-07-01</td>\n      <td>131</td>\n      <td>4</td>\n      <td>0</td>\n      <td>0</td>\n      <td>21</td>\n      <td>35</td>\n      <td>32</td>\n      <td>0</td>\n      <td>1</td>\n      <td>9601</td>\n      <td>Defensywny pomocnik</td>\n      <td>DPM</td>\n      <td>Polska</td>\n      <td>Wypożyczenie</td>\n      <td>Sprzedany</td>\n      <td>0</td>\n      <td>Kotwica Kołobrzeg</td>\n      <td>4</td>\n      <td>Polska</td>\n      <td>0</td>\n      <td>False</td>\n      <td>Pomocnik</td>\n      <td>W sile wieku</td>\n    </tr>\n    <tr>\n      <th>1257</th>\n      <td>Warta Poznań</td>\n      <td>1</td>\n      <td>Polska</td>\n      <td>Dominik Smykowski</td>\n      <td>19</td>\n      <td>1.80</td>\n      <td>2021-07-28</td>\n      <td>21</td>\n      <td>1</td>\n      <td>0</td>\n      <td>0</td>\n      <td>16</td>\n      <td>5</td>\n      <td>1</td>\n      <td>0</td>\n      <td>0</td>\n      <td>538</td>\n      <td>Prawy napastnik</td>\n      <td>PNP</td>\n      <td>Polska</td>\n      <td>Wypożyczenie</td>\n      <td>Sprzedany</td>\n      <td>0</td>\n      <td>Skra Częstochowa</td>\n      <td>2</td>\n      <td>Polska</td>\n      <td>0</td>\n      <td>False</td>\n      <td>Napastnik</td>\n      <td>Młody</td>\n    </tr>\n    <tr>\n      <th>1258</th>\n      <td>Warta Poznań</td>\n      <td>1</td>\n      <td>Polska</td>\n      <td>Sebastian Olszewski</td>\n      <td>19</td>\n      <td>1.82</td>\n      <td>2021-07-01</td>\n      <td>89</td>\n      <td>1</td>\n      <td>1</td>\n      <td>0</td>\n      <td>37</td>\n      <td>13</td>\n      <td>21</td>\n      <td>0</td>\n      <td>0</td>\n      <td>5078</td>\n      <td>Prawy pomocnik</td>\n      <td>PPM</td>\n      <td>Polska</td>\n      <td>Wypożyczenie</td>\n      <td>Sprzedany</td>\n      <td>0</td>\n      <td>Hutnik Kraków</td>\n      <td>3</td>\n      <td>Polska</td>\n      <td>0</td>\n      <td>False</td>\n      <td>Pomocnik</td>\n      <td>Młody</td>\n    </tr>\n    <tr>\n      <th>1263</th>\n      <td>Warta Poznań</td>\n      <td>1</td>\n      <td>Polska</td>\n      <td>Krzysztof Danielewicz</td>\n      <td>29</td>\n      <td>1.82</td>\n      <td>2021-07-07</td>\n      <td>257</td>\n      <td>33</td>\n      <td>32</td>\n      <td>1</td>\n      <td>61</td>\n      <td>78</td>\n      <td>51</td>\n      <td>2</td>\n      <td>0</td>\n      <td>17173</td>\n      <td>Ofensywny pomocnik</td>\n      <td>OPM</td>\n      <td>Polska</td>\n      <td>Wypożyczenie</td>\n      <td>Sprzedany</td>\n      <td>0</td>\n      <td>Miedź Legnica</td>\n      <td>2</td>\n      <td>Polska</td>\n      <td>0</td>\n      <td>False</td>\n      <td>Pomocnik</td>\n      <td>W sile wieku</td>\n    </tr>\n    <tr>\n      <th>1265</th>\n      <td>Warta Poznań</td>\n      <td>1</td>\n      <td>Polska</td>\n      <td>Karol Gardzielewicz</td>\n      <td>21</td>\n      <td>1.71</td>\n      <td>2021-07-26</td>\n      <td>104</td>\n      <td>15</td>\n      <td>0</td>\n      <td>0</td>\n      <td>31</td>\n      <td>34</td>\n      <td>9</td>\n      <td>0</td>\n      <td>0</td>\n      <td>6512</td>\n      <td>Prawy napastnik</td>\n      <td>PNP</td>\n      <td>Polska</td>\n      <td>Wypożyczenie</td>\n      <td>Sprzedany</td>\n      <td>0</td>\n      <td>Miedź Legnica</td>\n      <td>2</td>\n      <td>Polska</td>\n      <td>0</td>\n      <td>False</td>\n      <td>Napastnik</td>\n      <td>Młody</td>\n    </tr>\n  </tbody>\n</table>\n<p>501 rows × 30 columns</p>\n</div>"
     },
     "metadata": {},
     "output_type": "display_data"
    },
    {
     "data": {
      "text/plain": "Empty DataFrame\nColumns: [Club, ClubLeagueLevel, ClubLeagueNationality, Player, PlayerAge, PlayerHeight, TransferDate, PlayerMatchesPlayed, PlayerGoals, PlayerAssists, PlayerOwnGoals, PlayerSubstitutionIn, PlayerSubstitutionOut, PlayerYellowCards, PlayerSecondYellowCards, PlayerRedCards, PlayerMinutesPlayed, PlayerPosition, PlayerPositionScut, PlayerNationality, Operation, Bought/Sold, PlayerMarketValue, ClubAssigned, ClubAssignedLeagueLevel, ClubAssignedLeagueNationality, TransferValue, PlayerWithoutClub, PlayerGenericPosition, PlayerAgeGroup]\nIndex: []",
      "text/html": "<div>\n<style scoped>\n    .dataframe tbody tr th:only-of-type {\n        vertical-align: middle;\n    }\n\n    .dataframe tbody tr th {\n        vertical-align: top;\n    }\n\n    .dataframe thead th {\n        text-align: right;\n    }\n</style>\n<table border=\"1\" class=\"dataframe\">\n  <thead>\n    <tr style=\"text-align: right;\">\n      <th></th>\n      <th>Club</th>\n      <th>ClubLeagueLevel</th>\n      <th>ClubLeagueNationality</th>\n      <th>Player</th>\n      <th>PlayerAge</th>\n      <th>PlayerHeight</th>\n      <th>TransferDate</th>\n      <th>PlayerMatchesPlayed</th>\n      <th>PlayerGoals</th>\n      <th>PlayerAssists</th>\n      <th>PlayerOwnGoals</th>\n      <th>PlayerSubstitutionIn</th>\n      <th>PlayerSubstitutionOut</th>\n      <th>PlayerYellowCards</th>\n      <th>PlayerSecondYellowCards</th>\n      <th>PlayerRedCards</th>\n      <th>PlayerMinutesPlayed</th>\n      <th>PlayerPosition</th>\n      <th>PlayerPositionScut</th>\n      <th>PlayerNationality</th>\n      <th>Operation</th>\n      <th>Bought/Sold</th>\n      <th>PlayerMarketValue</th>\n      <th>ClubAssigned</th>\n      <th>ClubAssignedLeagueLevel</th>\n      <th>ClubAssignedLeagueNationality</th>\n      <th>TransferValue</th>\n      <th>PlayerWithoutClub</th>\n      <th>PlayerGenericPosition</th>\n      <th>PlayerAgeGroup</th>\n    </tr>\n  </thead>\n  <tbody>\n  </tbody>\n</table>\n</div>"
     },
     "metadata": {},
     "output_type": "display_data"
    }
   ],
   "source": [
    "display(transfer_df[transfer_df.duplicated()])\n",
    "transfer_df.drop_duplicates(keep='first', inplace=True)\n",
    "display(transfer_df[transfer_df.duplicated()])"
   ],
   "metadata": {
    "collapsed": false,
    "pycharm": {
     "name": "#%%\n"
    }
   }
  },
  {
   "cell_type": "markdown",
   "source": [
    "### Zapisanie wyczyszczonego zbioru danych do pliku csv"
   ],
   "metadata": {
    "collapsed": false,
    "pycharm": {
     "name": "#%% md\n"
    }
   }
  },
  {
   "cell_type": "code",
   "execution_count": 897,
   "outputs": [],
   "source": [
    "transfer_df.to_csv('csv/transfers-data-frame-cleared.csv', encoding='utf-8')"
   ],
   "metadata": {
    "collapsed": false,
    "pycharm": {
     "name": "#%%\n"
    }
   }
  }
 ],
 "metadata": {
  "kernelspec": {
   "display_name": "Python 3",
   "language": "python",
   "name": "python3"
  },
  "language_info": {
   "codemirror_mode": {
    "name": "ipython",
    "version": 3
   },
   "file_extension": ".py",
   "mimetype": "text/x-python",
   "name": "python",
   "nbconvert_exporter": "python",
   "pygments_lexer": "ipython3",
   "version": "3.6.9"
  }
 },
 "nbformat": 4,
 "nbformat_minor": 1
}