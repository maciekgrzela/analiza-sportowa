{
 "cells": [
  {
   "cell_type": "markdown",
   "metadata": {
    "collapsed": true,
    "pycharm": {
     "name": "#%% md\n"
    }
   },
   "source": [
    "# Analiza sportowa - Czyszczenie danych oraz ich przygotowanie do analizy\n",
    "## Projekt realizowany w ramach przedmiotu: Metody Przetwarzania Dużych Ilości Danych\n",
    "### Grupa projektowa:\n",
    "+  Filip Kozak\n",
    "+  Maciej Grzela\n",
    "+  Paweł Owczarek\n",
    "+  Szymon Tusznio"
   ]
  },
  {
   "cell_type": "markdown",
   "metadata": {
    "pycharm": {
     "name": "#%% md\n"
    }
   },
   "source": [
    "## W ramach niniejszego etapu przeprowadzone zostaną następujące operacje:\n",
    "+ ### Wczytanie danych z pliku CSV\n",
    "+ ### Usunięcie wpisów niepoprawnych z punktu widzenia typu danych\n",
    "+ ### Usunięcie wpisów niepoprawnych z punktu widzenia wiedzy dziedzinowej\n",
    "+ ### Modyfikacja formatu przechowywania wartości liczbowych\n",
    "+ ### Wyliczenie wartości dla danych pustych"
   ]
  },
  {
   "cell_type": "markdown",
   "metadata": {},
   "source": [
    "### Zaimportowanie wykorzystywanych bibliotek oraz konfiguracja wyświetlania zbiorów danych dla biblioteki Pandas"
   ]
  },
  {
   "cell_type": "code",
   "execution_count": 1,
   "metadata": {
    "pycharm": {
     "name": "#%%\n"
    }
   },
   "outputs": [
    {
     "data": {
      "text/plain": "<IPython.core.display.HTML object>",
      "text/html": "<style>\n.output {\n    flex-direction: row;\n}\n</style>"
     },
     "execution_count": 1,
     "metadata": {},
     "output_type": "execute_result"
    }
   ],
   "source": [
    "import pandas as pd\n",
    "from IPython.display import display, HTML\n",
    "\n",
    "pd.set_option('display.max_columns', None)\n",
    "pd.set_option('display.width', 320)\n",
    "pd.reset_option(\"display.max_rows\")\n",
    "\n",
    "# pd.set_option(\"display.max_rows\", None)           # Wyświetlenie wszystkich wierszy dla tabel / spowalnia działanie\n",
    "css = \"\"\"\n",
    ".output {\n",
    "    flex-direction: row;\n",
    "}\n",
    "\"\"\"\n",
    "HTML('<style>{}</style>'.format(css))"
   ]
  },
  {
   "cell_type": "markdown",
   "metadata": {
    "pycharm": {
     "name": "#%% md\n"
    }
   },
   "source": [
    "### Wczytanie danych z pliku csv oraz zapisanie ich do struktury DataFrame dostępnej w ramach biblioteki Pandas\n",
    "### Sprawdzenie dla jakich kolumn występują wartości nieokreślone"
   ]
  },
  {
   "cell_type": "code",
   "execution_count": 2,
   "metadata": {
    "pycharm": {
     "name": "#%%\n"
    }
   },
   "outputs": [
    {
     "data": {
      "text/plain": "                 Club ClubLeagueLevel ClubLeagueNationality             Player PlayerAge      PlayerPosition PlayerPositionScut PlayerNationality                      Operation Bought/Sold PlayerMarketValue        ClubAssigned ClubAssignedLeagueLevel ClubAssignedLeagueNationality                  TransferValue\n1      Legia Warszawa          1.liga                Polska        Ernest Muci        19  Środkowy napastnik                ŚNP           Albania                     500 tys. €     Nabytki        1,00 mln €           KF Tirana                  1.liga                       Albania                     500 tys. €\n2      Legia Warszawa          1.liga                Polska    Josip Juranovic        24       Prawy obrońca                POB         Chorwacja                     400 tys. €     Nabytki        2,50 mln €    HNK Hajduk Split                  1.liga                     Chorwacja                     400 tys. €\n3      Legia Warszawa          1.liga                Polska  Jasur Yakhshiboev        23     Prawy napastnik                PNP        Uzbekistan                     300 tys. €     Nabytki        700 tys. €  Pakhtakor Tashkent                  1.liga                    Uzbekistan                     300 tys. €\n4      Legia Warszawa          1.liga                Polska         Rafa Lopes        29  Środkowy napastnik                ŚNP        Portugalia                     150 tys. €     Nabytki        500 tys. €            Cracovia                  1.liga                        Polska                     150 tys. €\n5      Legia Warszawa          1.liga                Polska   Bartosz Kapustka        23  Ofensywny pomocnik                OPM            Polska                 bez odstępnego     Nabytki        1,50 mln €      Leicester City                  1.liga                        Anglia                 bez odstępnego\n...               ...             ...                   ...                ...       ...                 ...                ...               ...                            ...         ...               ...                 ...                     ...                           ...                            ...\n29919    Umm Salal SC          1.liga                 Katar       Jasser Yahya        27   Środkowy pomocnik                ŚPM             Katar  koniec wypżyczenia30 cze 2020    Odejścia        175 tys. €         Al-Arabi SC                  1.liga                         Katar  koniec wypżyczenia30 cze 2020\n29920    Umm Salal SC          1.liga                 Katar          Fadl Omar        30   Środkowy pomocnik                ŚPM             Katar  koniec wypżyczenia31 sie 2020    Odejścia         25 tys. €            Qatar SC                  1.liga                         Katar  koniec wypżyczenia31 sie 2020\n29921    Umm Salal SC          1.liga                 Katar      Fahad Khalfan        28  Środkowy napastnik                ŚNP             Katar  koniec wypżyczenia31 sie 2020    Odejścia        125 tys. €         Al-Arabi SC                  1.liga                         Katar  koniec wypżyczenia31 sie 2020\n29922    Umm Salal SC          1.liga                 Katar         Murad Naji        29       Prawy obrońca                POB             Katar  koniec wypżyczenia30 cze 2020    Odejścia        250 tys. €        Al-Duhail SC                  1.liga                         Katar  koniec wypżyczenia30 cze 2020\n29923    Umm Salal SC          1.liga                 Katar        Salmin Atiq        23     Prawy napastnik                PNP             Katar  koniec wypżyczenia30 cze 2020    Odejścia         75 tys. €        Al-Duhail SC                  1.liga                         Katar  koniec wypżyczenia30 cze 2020\n\n[29923 rows x 15 columns]",
      "text/html": "<div>\n<style scoped>\n    .dataframe tbody tr th:only-of-type {\n        vertical-align: middle;\n    }\n\n    .dataframe tbody tr th {\n        vertical-align: top;\n    }\n\n    .dataframe thead th {\n        text-align: right;\n    }\n</style>\n<table border=\"1\" class=\"dataframe\">\n  <thead>\n    <tr style=\"text-align: right;\">\n      <th></th>\n      <th>Club</th>\n      <th>ClubLeagueLevel</th>\n      <th>ClubLeagueNationality</th>\n      <th>Player</th>\n      <th>PlayerAge</th>\n      <th>PlayerPosition</th>\n      <th>PlayerPositionScut</th>\n      <th>PlayerNationality</th>\n      <th>Operation</th>\n      <th>Bought/Sold</th>\n      <th>PlayerMarketValue</th>\n      <th>ClubAssigned</th>\n      <th>ClubAssignedLeagueLevel</th>\n      <th>ClubAssignedLeagueNationality</th>\n      <th>TransferValue</th>\n    </tr>\n  </thead>\n  <tbody>\n    <tr>\n      <th>1</th>\n      <td>Legia Warszawa</td>\n      <td>1.liga</td>\n      <td>Polska</td>\n      <td>Ernest Muci</td>\n      <td>19</td>\n      <td>Środkowy napastnik</td>\n      <td>ŚNP</td>\n      <td>Albania</td>\n      <td>500 tys. €</td>\n      <td>Nabytki</td>\n      <td>1,00 mln €</td>\n      <td>KF Tirana</td>\n      <td>1.liga</td>\n      <td>Albania</td>\n      <td>500 tys. €</td>\n    </tr>\n    <tr>\n      <th>2</th>\n      <td>Legia Warszawa</td>\n      <td>1.liga</td>\n      <td>Polska</td>\n      <td>Josip Juranovic</td>\n      <td>24</td>\n      <td>Prawy obrońca</td>\n      <td>POB</td>\n      <td>Chorwacja</td>\n      <td>400 tys. €</td>\n      <td>Nabytki</td>\n      <td>2,50 mln €</td>\n      <td>HNK Hajduk Split</td>\n      <td>1.liga</td>\n      <td>Chorwacja</td>\n      <td>400 tys. €</td>\n    </tr>\n    <tr>\n      <th>3</th>\n      <td>Legia Warszawa</td>\n      <td>1.liga</td>\n      <td>Polska</td>\n      <td>Jasur Yakhshiboev</td>\n      <td>23</td>\n      <td>Prawy napastnik</td>\n      <td>PNP</td>\n      <td>Uzbekistan</td>\n      <td>300 tys. €</td>\n      <td>Nabytki</td>\n      <td>700 tys. €</td>\n      <td>Pakhtakor Tashkent</td>\n      <td>1.liga</td>\n      <td>Uzbekistan</td>\n      <td>300 tys. €</td>\n    </tr>\n    <tr>\n      <th>4</th>\n      <td>Legia Warszawa</td>\n      <td>1.liga</td>\n      <td>Polska</td>\n      <td>Rafa Lopes</td>\n      <td>29</td>\n      <td>Środkowy napastnik</td>\n      <td>ŚNP</td>\n      <td>Portugalia</td>\n      <td>150 tys. €</td>\n      <td>Nabytki</td>\n      <td>500 tys. €</td>\n      <td>Cracovia</td>\n      <td>1.liga</td>\n      <td>Polska</td>\n      <td>150 tys. €</td>\n    </tr>\n    <tr>\n      <th>5</th>\n      <td>Legia Warszawa</td>\n      <td>1.liga</td>\n      <td>Polska</td>\n      <td>Bartosz Kapustka</td>\n      <td>23</td>\n      <td>Ofensywny pomocnik</td>\n      <td>OPM</td>\n      <td>Polska</td>\n      <td>bez odstępnego</td>\n      <td>Nabytki</td>\n      <td>1,50 mln €</td>\n      <td>Leicester City</td>\n      <td>1.liga</td>\n      <td>Anglia</td>\n      <td>bez odstępnego</td>\n    </tr>\n    <tr>\n      <th>...</th>\n      <td>...</td>\n      <td>...</td>\n      <td>...</td>\n      <td>...</td>\n      <td>...</td>\n      <td>...</td>\n      <td>...</td>\n      <td>...</td>\n      <td>...</td>\n      <td>...</td>\n      <td>...</td>\n      <td>...</td>\n      <td>...</td>\n      <td>...</td>\n      <td>...</td>\n    </tr>\n    <tr>\n      <th>29919</th>\n      <td>Umm Salal SC</td>\n      <td>1.liga</td>\n      <td>Katar</td>\n      <td>Jasser Yahya</td>\n      <td>27</td>\n      <td>Środkowy pomocnik</td>\n      <td>ŚPM</td>\n      <td>Katar</td>\n      <td>koniec wypżyczenia30 cze 2020</td>\n      <td>Odejścia</td>\n      <td>175 tys. €</td>\n      <td>Al-Arabi SC</td>\n      <td>1.liga</td>\n      <td>Katar</td>\n      <td>koniec wypżyczenia30 cze 2020</td>\n    </tr>\n    <tr>\n      <th>29920</th>\n      <td>Umm Salal SC</td>\n      <td>1.liga</td>\n      <td>Katar</td>\n      <td>Fadl Omar</td>\n      <td>30</td>\n      <td>Środkowy pomocnik</td>\n      <td>ŚPM</td>\n      <td>Katar</td>\n      <td>koniec wypżyczenia31 sie 2020</td>\n      <td>Odejścia</td>\n      <td>25 tys. €</td>\n      <td>Qatar SC</td>\n      <td>1.liga</td>\n      <td>Katar</td>\n      <td>koniec wypżyczenia31 sie 2020</td>\n    </tr>\n    <tr>\n      <th>29921</th>\n      <td>Umm Salal SC</td>\n      <td>1.liga</td>\n      <td>Katar</td>\n      <td>Fahad Khalfan</td>\n      <td>28</td>\n      <td>Środkowy napastnik</td>\n      <td>ŚNP</td>\n      <td>Katar</td>\n      <td>koniec wypżyczenia31 sie 2020</td>\n      <td>Odejścia</td>\n      <td>125 tys. €</td>\n      <td>Al-Arabi SC</td>\n      <td>1.liga</td>\n      <td>Katar</td>\n      <td>koniec wypżyczenia31 sie 2020</td>\n    </tr>\n    <tr>\n      <th>29922</th>\n      <td>Umm Salal SC</td>\n      <td>1.liga</td>\n      <td>Katar</td>\n      <td>Murad Naji</td>\n      <td>29</td>\n      <td>Prawy obrońca</td>\n      <td>POB</td>\n      <td>Katar</td>\n      <td>koniec wypżyczenia30 cze 2020</td>\n      <td>Odejścia</td>\n      <td>250 tys. €</td>\n      <td>Al-Duhail SC</td>\n      <td>1.liga</td>\n      <td>Katar</td>\n      <td>koniec wypżyczenia30 cze 2020</td>\n    </tr>\n    <tr>\n      <th>29923</th>\n      <td>Umm Salal SC</td>\n      <td>1.liga</td>\n      <td>Katar</td>\n      <td>Salmin Atiq</td>\n      <td>23</td>\n      <td>Prawy napastnik</td>\n      <td>PNP</td>\n      <td>Katar</td>\n      <td>koniec wypżyczenia30 cze 2020</td>\n      <td>Odejścia</td>\n      <td>75 tys. €</td>\n      <td>Al-Duhail SC</td>\n      <td>1.liga</td>\n      <td>Katar</td>\n      <td>koniec wypżyczenia30 cze 2020</td>\n    </tr>\n  </tbody>\n</table>\n<p>29923 rows × 15 columns</p>\n</div>"
     },
     "metadata": {},
     "output_type": "display_data"
    },
    {
     "data": {
      "text/plain": "Club                                0\nClubLeagueLevel                     0\nClubLeagueNationality               0\nPlayer                              0\nPlayerAge                           0\nPlayerPosition                      0\nPlayerPositionScut                  0\nPlayerNationality                   0\nOperation                           0\nBought/Sold                         0\nPlayerMarketValue                   0\nClubAssigned                      243\nClubAssignedLeagueLevel          5806\nClubAssignedLeagueNationality    5806\nTransferValue                       0\ndtype: int64"
     },
     "metadata": {},
     "output_type": "display_data"
    }
   ],
   "source": [
    "transfer_df = pd.read_csv(\n",
    "    'csv/transfers-data-frame.csv',\n",
    "    sep=',',\n",
    "    header=0,\n",
    "    index_col=0\n",
    ")\n",
    "\n",
    "display(transfer_df)\n",
    "display(pd.isnull(transfer_df).sum())"
   ]
  },
  {
   "cell_type": "markdown",
   "metadata": {},
   "source": [
    "### Wyświetlenie wierszy dla których występują wartości nieokreślone"
   ]
  },
  {
   "cell_type": "code",
   "execution_count": 3,
   "metadata": {
    "pycharm": {
     "name": "#%%\n"
    }
   },
   "outputs": [
    {
     "data": {
      "text/plain": "                 Club           Player                         ClubAssigned ClubAssignedLeagueLevel ClubAssignedLeagueNationality   TransferValue\n36     Legia Warszawa     Dominik Nagy                   Bez klubuBez klubu                     NaN                           NaN               -\n37     Legia Warszawa     William Rémy                   Bez klubuBez klubu                     NaN                           NaN               -\n94      Piast Gliwice     Javier Hyjek  Atlético de Madryt Młodzież A (U19)                     NaN                           NaN  bez odstępnego\n97      Piast Gliwice   Maksym Gendera                     Piast Gliwice II                     NaN                           NaN               -\n98      Piast Gliwice    Wiktor Preuss                     Piast Gliwice II                     NaN                           NaN               -\n...               ...              ...                                  ...                     ...                           ...             ...\n29913    Umm Salal SC  Mohammed Kasola             Al-Mesaimeer Sports Club                     NaN                           NaN               ?\n29914    Umm Salal SC     Raúl Becerra                   Bez klubuBez klubu                     NaN                           NaN               -\n29915    Umm Salal SC    Yannick Sagbo                   Bez klubuBez klubu                     NaN                           NaN               -\n29916    Umm Salal SC    Walid Mesloub                                  NaN                     NaN                           NaN               -\n29917    Umm Salal SC   Sami Al-Hasawi                   Bez klubuBez klubu                     NaN                           NaN               -\n\n[5806 rows x 6 columns]",
      "text/html": "<div>\n<style scoped>\n    .dataframe tbody tr th:only-of-type {\n        vertical-align: middle;\n    }\n\n    .dataframe tbody tr th {\n        vertical-align: top;\n    }\n\n    .dataframe thead th {\n        text-align: right;\n    }\n</style>\n<table border=\"1\" class=\"dataframe\">\n  <thead>\n    <tr style=\"text-align: right;\">\n      <th></th>\n      <th>Club</th>\n      <th>Player</th>\n      <th>ClubAssigned</th>\n      <th>ClubAssignedLeagueLevel</th>\n      <th>ClubAssignedLeagueNationality</th>\n      <th>TransferValue</th>\n    </tr>\n  </thead>\n  <tbody>\n    <tr>\n      <th>36</th>\n      <td>Legia Warszawa</td>\n      <td>Dominik Nagy</td>\n      <td>Bez klubuBez klubu</td>\n      <td>NaN</td>\n      <td>NaN</td>\n      <td>-</td>\n    </tr>\n    <tr>\n      <th>37</th>\n      <td>Legia Warszawa</td>\n      <td>William Rémy</td>\n      <td>Bez klubuBez klubu</td>\n      <td>NaN</td>\n      <td>NaN</td>\n      <td>-</td>\n    </tr>\n    <tr>\n      <th>94</th>\n      <td>Piast Gliwice</td>\n      <td>Javier Hyjek</td>\n      <td>Atlético de Madryt Młodzież A (U19)</td>\n      <td>NaN</td>\n      <td>NaN</td>\n      <td>bez odstępnego</td>\n    </tr>\n    <tr>\n      <th>97</th>\n      <td>Piast Gliwice</td>\n      <td>Maksym Gendera</td>\n      <td>Piast Gliwice II</td>\n      <td>NaN</td>\n      <td>NaN</td>\n      <td>-</td>\n    </tr>\n    <tr>\n      <th>98</th>\n      <td>Piast Gliwice</td>\n      <td>Wiktor Preuss</td>\n      <td>Piast Gliwice II</td>\n      <td>NaN</td>\n      <td>NaN</td>\n      <td>-</td>\n    </tr>\n    <tr>\n      <th>...</th>\n      <td>...</td>\n      <td>...</td>\n      <td>...</td>\n      <td>...</td>\n      <td>...</td>\n      <td>...</td>\n    </tr>\n    <tr>\n      <th>29913</th>\n      <td>Umm Salal SC</td>\n      <td>Mohammed Kasola</td>\n      <td>Al-Mesaimeer Sports Club</td>\n      <td>NaN</td>\n      <td>NaN</td>\n      <td>?</td>\n    </tr>\n    <tr>\n      <th>29914</th>\n      <td>Umm Salal SC</td>\n      <td>Raúl Becerra</td>\n      <td>Bez klubuBez klubu</td>\n      <td>NaN</td>\n      <td>NaN</td>\n      <td>-</td>\n    </tr>\n    <tr>\n      <th>29915</th>\n      <td>Umm Salal SC</td>\n      <td>Yannick Sagbo</td>\n      <td>Bez klubuBez klubu</td>\n      <td>NaN</td>\n      <td>NaN</td>\n      <td>-</td>\n    </tr>\n    <tr>\n      <th>29916</th>\n      <td>Umm Salal SC</td>\n      <td>Walid Mesloub</td>\n      <td>NaN</td>\n      <td>NaN</td>\n      <td>NaN</td>\n      <td>-</td>\n    </tr>\n    <tr>\n      <th>29917</th>\n      <td>Umm Salal SC</td>\n      <td>Sami Al-Hasawi</td>\n      <td>Bez klubuBez klubu</td>\n      <td>NaN</td>\n      <td>NaN</td>\n      <td>-</td>\n    </tr>\n  </tbody>\n</table>\n<p>5806 rows × 6 columns</p>\n</div>"
     },
     "execution_count": 3,
     "metadata": {},
     "output_type": "execute_result"
    }
   ],
   "source": [
    "is_nan = transfer_df.isna()\n",
    "rows_has_nan = is_nan.any(axis=1)\n",
    "transfer_df[rows_has_nan][[\"Club\", \"Player\", \"ClubAssigned\", \"ClubAssignedLeagueLevel\", \"ClubAssignedLeagueNationality\", \"TransferValue\"]]"
   ]
  },
  {
   "cell_type": "markdown",
   "metadata": {
    "pycharm": {
     "name": "#%% md\n"
    }
   },
   "source": [
    "### Wnioskując na podstawie wierszy zawierających wartości nieokreślone możemy zauważyć, że przeprowadzane transfery dotyczą:\n",
    "+ ### Przenosin zawodnika do drużyny rezerw/drużyny młodzieżowej/szkółki piłkarskiej\n",
    "+ ### Przenosin zawodnika do drużyny na poziomie rozgrywkowym nieuwzględnianym w ramach grupy poziomów rozgrywkowych futbolu profesjonalnego\n",
    "+ ### Dyskwalifikacji/pauzy zawodnika\n",
    "+ ### Przenosin zawodnika do klubu piłkarskiego, którego dane nie zostały wprowadzone\n",
    "+ ### Zakończenia współpracy pomiędzy zawodnikiem a klubem\n",
    "\n",
    "### Obserwacje spełniające jedno z czterech pierwszych kryteriów powyższej listy możemy uznać jako obserwacje odstające. Wiersze te, zostaną usunięte ze zbioru danych.\n",
    "### Obserwacje spełniające piąte kryterium należy uznać jako poprawne. Aby uwzględnić przypadek zakończenia współpracy pomiędzy zawodnikiem a klubem należy stworzyć nową kolumnę wartości True/False"
   ]
  },
  {
   "cell_type": "markdown",
   "metadata": {
    "pycharm": {
     "name": "#%% md\n"
    }
   },
   "source": [
    "### Zdefiniowanie kolumny 'PlayerWithoutClub' przyjmującej wartość true dla zawodników bez klubu po transferze\n",
    "### Wyczyszczenie wartości dla kolumny 'ClubAssigned'"
   ]
  },
  {
   "cell_type": "code",
   "execution_count": 4,
   "metadata": {
    "pycharm": {
     "name": "#%%\n"
    }
   },
   "outputs": [
    {
     "data": {
      "text/plain": "                 Club           Player                         ClubAssigned  PlayerWithoutClub ClubAssignedLeagueLevel ClubAssignedLeagueNationality   TransferValue\n36     Legia Warszawa     Dominik Nagy                            Bez Klubu               True                     NaN                           NaN               -\n37     Legia Warszawa     William Rémy                            Bez Klubu               True                     NaN                           NaN               -\n94      Piast Gliwice     Javier Hyjek  Atlético de Madryt Młodzież A (U19)              False                     NaN                           NaN  bez odstępnego\n97      Piast Gliwice   Maksym Gendera                     Piast Gliwice II              False                     NaN                           NaN               -\n98      Piast Gliwice    Wiktor Preuss                     Piast Gliwice II              False                     NaN                           NaN               -\n...               ...              ...                                  ...                ...                     ...                           ...             ...\n29913    Umm Salal SC  Mohammed Kasola             Al-Mesaimeer Sports Club              False                     NaN                           NaN               ?\n29914    Umm Salal SC     Raúl Becerra                            Bez Klubu               True                     NaN                           NaN               -\n29915    Umm Salal SC    Yannick Sagbo                            Bez Klubu               True                     NaN                           NaN               -\n29916    Umm Salal SC    Walid Mesloub                                  NaN              False                     NaN                           NaN               -\n29917    Umm Salal SC   Sami Al-Hasawi                            Bez Klubu               True                     NaN                           NaN               -\n\n[5806 rows x 7 columns]",
      "text/html": "<div>\n<style scoped>\n    .dataframe tbody tr th:only-of-type {\n        vertical-align: middle;\n    }\n\n    .dataframe tbody tr th {\n        vertical-align: top;\n    }\n\n    .dataframe thead th {\n        text-align: right;\n    }\n</style>\n<table border=\"1\" class=\"dataframe\">\n  <thead>\n    <tr style=\"text-align: right;\">\n      <th></th>\n      <th>Club</th>\n      <th>Player</th>\n      <th>ClubAssigned</th>\n      <th>PlayerWithoutClub</th>\n      <th>ClubAssignedLeagueLevel</th>\n      <th>ClubAssignedLeagueNationality</th>\n      <th>TransferValue</th>\n    </tr>\n  </thead>\n  <tbody>\n    <tr>\n      <th>36</th>\n      <td>Legia Warszawa</td>\n      <td>Dominik Nagy</td>\n      <td>Bez Klubu</td>\n      <td>True</td>\n      <td>NaN</td>\n      <td>NaN</td>\n      <td>-</td>\n    </tr>\n    <tr>\n      <th>37</th>\n      <td>Legia Warszawa</td>\n      <td>William Rémy</td>\n      <td>Bez Klubu</td>\n      <td>True</td>\n      <td>NaN</td>\n      <td>NaN</td>\n      <td>-</td>\n    </tr>\n    <tr>\n      <th>94</th>\n      <td>Piast Gliwice</td>\n      <td>Javier Hyjek</td>\n      <td>Atlético de Madryt Młodzież A (U19)</td>\n      <td>False</td>\n      <td>NaN</td>\n      <td>NaN</td>\n      <td>bez odstępnego</td>\n    </tr>\n    <tr>\n      <th>97</th>\n      <td>Piast Gliwice</td>\n      <td>Maksym Gendera</td>\n      <td>Piast Gliwice II</td>\n      <td>False</td>\n      <td>NaN</td>\n      <td>NaN</td>\n      <td>-</td>\n    </tr>\n    <tr>\n      <th>98</th>\n      <td>Piast Gliwice</td>\n      <td>Wiktor Preuss</td>\n      <td>Piast Gliwice II</td>\n      <td>False</td>\n      <td>NaN</td>\n      <td>NaN</td>\n      <td>-</td>\n    </tr>\n    <tr>\n      <th>...</th>\n      <td>...</td>\n      <td>...</td>\n      <td>...</td>\n      <td>...</td>\n      <td>...</td>\n      <td>...</td>\n      <td>...</td>\n    </tr>\n    <tr>\n      <th>29913</th>\n      <td>Umm Salal SC</td>\n      <td>Mohammed Kasola</td>\n      <td>Al-Mesaimeer Sports Club</td>\n      <td>False</td>\n      <td>NaN</td>\n      <td>NaN</td>\n      <td>?</td>\n    </tr>\n    <tr>\n      <th>29914</th>\n      <td>Umm Salal SC</td>\n      <td>Raúl Becerra</td>\n      <td>Bez Klubu</td>\n      <td>True</td>\n      <td>NaN</td>\n      <td>NaN</td>\n      <td>-</td>\n    </tr>\n    <tr>\n      <th>29915</th>\n      <td>Umm Salal SC</td>\n      <td>Yannick Sagbo</td>\n      <td>Bez Klubu</td>\n      <td>True</td>\n      <td>NaN</td>\n      <td>NaN</td>\n      <td>-</td>\n    </tr>\n    <tr>\n      <th>29916</th>\n      <td>Umm Salal SC</td>\n      <td>Walid Mesloub</td>\n      <td>NaN</td>\n      <td>False</td>\n      <td>NaN</td>\n      <td>NaN</td>\n      <td>-</td>\n    </tr>\n    <tr>\n      <th>29917</th>\n      <td>Umm Salal SC</td>\n      <td>Sami Al-Hasawi</td>\n      <td>Bez Klubu</td>\n      <td>True</td>\n      <td>NaN</td>\n      <td>NaN</td>\n      <td>-</td>\n    </tr>\n  </tbody>\n</table>\n<p>5806 rows × 7 columns</p>\n</div>"
     },
     "execution_count": 4,
     "metadata": {},
     "output_type": "execute_result"
    }
   ],
   "source": [
    "without_club_label = \"Bez Klubu\"\n",
    "transfer_df[\"ClubAssigned\"].replace({\"Bez klubuBez klubu\": without_club_label}, inplace=True)\n",
    "\n",
    "transfer_df['PlayerWithoutClub'] = transfer_df['ClubAssigned'].map(lambda x: x == without_club_label)\n",
    "\n",
    "transfer_df[rows_has_nan][[\"Club\", \"Player\", \"ClubAssigned\", \"PlayerWithoutClub\", \"ClubAssignedLeagueLevel\", \"ClubAssignedLeagueNationality\", \"TransferValue\"]]"
   ]
  },
  {
   "cell_type": "markdown",
   "metadata": {},
   "source": [
    "### Wyznaczenie zbioru obserwacji do usunięcia\n",
    "### Usunięcie zbioru obserwacji odstających"
   ]
  },
  {
   "cell_type": "code",
   "execution_count": 5,
   "metadata": {
    "pycharm": {
     "name": "#%%\n"
    }
   },
   "outputs": [
    {
     "data": {
      "text/plain": "                Club ClubLeagueLevel ClubLeagueNationality              Player PlayerAge       PlayerPosition PlayerPositionScut PlayerNationality                      Operation Bought/Sold PlayerMarketValue                         ClubAssigned ClubAssignedLeagueLevel ClubAssignedLeagueNationality  \\\n94     Piast Gliwice          1.liga                Polska        Javier Hyjek        19    Środkowy pomocnik                ŚPM            Polska                 bez odstępnego     Nabytki        100 tys. €  Atlético de Madryt Młodzież A (U19)                     NaN                           NaN   \n97     Piast Gliwice          1.liga                Polska      Maksym Gendera        20        Prawy obrońca                POB            Polska                              -     Nabytki         50 tys. €                     Piast Gliwice II                     NaN                           NaN   \n98     Piast Gliwice          1.liga                Polska       Wiktor Preuss        18      Prawy napastnik                PNP            Polska                              -     Nabytki                 -                     Piast Gliwice II                     NaN                           NaN   \n99     Piast Gliwice          1.liga                Polska     Michal Zachcial        21             Pomocnik           Pomocnik            Polska                              -     Nabytki                 -                     Piast Gliwice II                     NaN                           NaN   \n102    Piast Gliwice          1.liga                Polska         Pawel Rabin        19             Bramkarz                BRK            Polska  koniec wypżyczenia31 gru 2020     Nabytki                 -                         Stal Kraśnik                     NaN                           NaN   \n...              ...             ...                   ...                 ...       ...                  ...                ...               ...                            ...         ...               ...                                  ...                     ...                           ...   \n29906   Umm Salal SC          1.liga                 Katar  Abdulaziz Al-Yahri        30      Prawy napastnik                PNP             Katar                              ?    Odejścia         50 tys. €                       Al-Shahania SC                     NaN                           NaN   \n29908   Umm Salal SC          1.liga                 Katar    Dheyab Al-Annabi        30    Środkowy pomocnik                ŚPM             Katar                              ?    Odejścia         25 tys. €                       Al-Shahania SC                     NaN                           NaN   \n29909   Umm Salal SC          1.liga                 Katar       Abdulla Kamal        24   Środkowy napastnik                ŚNP             Katar                              ?    Odejścia         25 tys. €                    Al-Kharitiyath SC                     NaN                           NaN   \n29913   Umm Salal SC          1.liga                 Katar     Mohammed Kasola        34  Defensywny pomocnik                DPM             Katar                              ?    Odejścia         75 tys. €             Al-Mesaimeer Sports Club                     NaN                           NaN   \n29916   Umm Salal SC          1.liga                 Katar       Walid Mesloub        35    Środkowy pomocnik                ŚPM          Algieria                              -    Odejścia                 -                                  NaN                     NaN                           NaN   \n\n                       TransferValue  PlayerWithoutClub  \n94                    bez odstępnego              False  \n97                                 -              False  \n98                                 -              False  \n99                                 -              False  \n102    koniec wypżyczenia31 gru 2020              False  \n...                              ...                ...  \n29906                              ?              False  \n29908                              ?              False  \n29909                              ?              False  \n29913                              ?              False  \n29916                              -              False  \n\n[4251 rows x 16 columns]",
      "text/html": "<div>\n<style scoped>\n    .dataframe tbody tr th:only-of-type {\n        vertical-align: middle;\n    }\n\n    .dataframe tbody tr th {\n        vertical-align: top;\n    }\n\n    .dataframe thead th {\n        text-align: right;\n    }\n</style>\n<table border=\"1\" class=\"dataframe\">\n  <thead>\n    <tr style=\"text-align: right;\">\n      <th></th>\n      <th>Club</th>\n      <th>ClubLeagueLevel</th>\n      <th>ClubLeagueNationality</th>\n      <th>Player</th>\n      <th>PlayerAge</th>\n      <th>PlayerPosition</th>\n      <th>PlayerPositionScut</th>\n      <th>PlayerNationality</th>\n      <th>Operation</th>\n      <th>Bought/Sold</th>\n      <th>PlayerMarketValue</th>\n      <th>ClubAssigned</th>\n      <th>ClubAssignedLeagueLevel</th>\n      <th>ClubAssignedLeagueNationality</th>\n      <th>TransferValue</th>\n      <th>PlayerWithoutClub</th>\n    </tr>\n  </thead>\n  <tbody>\n    <tr>\n      <th>94</th>\n      <td>Piast Gliwice</td>\n      <td>1.liga</td>\n      <td>Polska</td>\n      <td>Javier Hyjek</td>\n      <td>19</td>\n      <td>Środkowy pomocnik</td>\n      <td>ŚPM</td>\n      <td>Polska</td>\n      <td>bez odstępnego</td>\n      <td>Nabytki</td>\n      <td>100 tys. €</td>\n      <td>Atlético de Madryt Młodzież A (U19)</td>\n      <td>NaN</td>\n      <td>NaN</td>\n      <td>bez odstępnego</td>\n      <td>False</td>\n    </tr>\n    <tr>\n      <th>97</th>\n      <td>Piast Gliwice</td>\n      <td>1.liga</td>\n      <td>Polska</td>\n      <td>Maksym Gendera</td>\n      <td>20</td>\n      <td>Prawy obrońca</td>\n      <td>POB</td>\n      <td>Polska</td>\n      <td>-</td>\n      <td>Nabytki</td>\n      <td>50 tys. €</td>\n      <td>Piast Gliwice II</td>\n      <td>NaN</td>\n      <td>NaN</td>\n      <td>-</td>\n      <td>False</td>\n    </tr>\n    <tr>\n      <th>98</th>\n      <td>Piast Gliwice</td>\n      <td>1.liga</td>\n      <td>Polska</td>\n      <td>Wiktor Preuss</td>\n      <td>18</td>\n      <td>Prawy napastnik</td>\n      <td>PNP</td>\n      <td>Polska</td>\n      <td>-</td>\n      <td>Nabytki</td>\n      <td>-</td>\n      <td>Piast Gliwice II</td>\n      <td>NaN</td>\n      <td>NaN</td>\n      <td>-</td>\n      <td>False</td>\n    </tr>\n    <tr>\n      <th>99</th>\n      <td>Piast Gliwice</td>\n      <td>1.liga</td>\n      <td>Polska</td>\n      <td>Michal Zachcial</td>\n      <td>21</td>\n      <td>Pomocnik</td>\n      <td>Pomocnik</td>\n      <td>Polska</td>\n      <td>-</td>\n      <td>Nabytki</td>\n      <td>-</td>\n      <td>Piast Gliwice II</td>\n      <td>NaN</td>\n      <td>NaN</td>\n      <td>-</td>\n      <td>False</td>\n    </tr>\n    <tr>\n      <th>102</th>\n      <td>Piast Gliwice</td>\n      <td>1.liga</td>\n      <td>Polska</td>\n      <td>Pawel Rabin</td>\n      <td>19</td>\n      <td>Bramkarz</td>\n      <td>BRK</td>\n      <td>Polska</td>\n      <td>koniec wypżyczenia31 gru 2020</td>\n      <td>Nabytki</td>\n      <td>-</td>\n      <td>Stal Kraśnik</td>\n      <td>NaN</td>\n      <td>NaN</td>\n      <td>koniec wypżyczenia31 gru 2020</td>\n      <td>False</td>\n    </tr>\n    <tr>\n      <th>...</th>\n      <td>...</td>\n      <td>...</td>\n      <td>...</td>\n      <td>...</td>\n      <td>...</td>\n      <td>...</td>\n      <td>...</td>\n      <td>...</td>\n      <td>...</td>\n      <td>...</td>\n      <td>...</td>\n      <td>...</td>\n      <td>...</td>\n      <td>...</td>\n      <td>...</td>\n      <td>...</td>\n    </tr>\n    <tr>\n      <th>29906</th>\n      <td>Umm Salal SC</td>\n      <td>1.liga</td>\n      <td>Katar</td>\n      <td>Abdulaziz Al-Yahri</td>\n      <td>30</td>\n      <td>Prawy napastnik</td>\n      <td>PNP</td>\n      <td>Katar</td>\n      <td>?</td>\n      <td>Odejścia</td>\n      <td>50 tys. €</td>\n      <td>Al-Shahania SC</td>\n      <td>NaN</td>\n      <td>NaN</td>\n      <td>?</td>\n      <td>False</td>\n    </tr>\n    <tr>\n      <th>29908</th>\n      <td>Umm Salal SC</td>\n      <td>1.liga</td>\n      <td>Katar</td>\n      <td>Dheyab Al-Annabi</td>\n      <td>30</td>\n      <td>Środkowy pomocnik</td>\n      <td>ŚPM</td>\n      <td>Katar</td>\n      <td>?</td>\n      <td>Odejścia</td>\n      <td>25 tys. €</td>\n      <td>Al-Shahania SC</td>\n      <td>NaN</td>\n      <td>NaN</td>\n      <td>?</td>\n      <td>False</td>\n    </tr>\n    <tr>\n      <th>29909</th>\n      <td>Umm Salal SC</td>\n      <td>1.liga</td>\n      <td>Katar</td>\n      <td>Abdulla Kamal</td>\n      <td>24</td>\n      <td>Środkowy napastnik</td>\n      <td>ŚNP</td>\n      <td>Katar</td>\n      <td>?</td>\n      <td>Odejścia</td>\n      <td>25 tys. €</td>\n      <td>Al-Kharitiyath SC</td>\n      <td>NaN</td>\n      <td>NaN</td>\n      <td>?</td>\n      <td>False</td>\n    </tr>\n    <tr>\n      <th>29913</th>\n      <td>Umm Salal SC</td>\n      <td>1.liga</td>\n      <td>Katar</td>\n      <td>Mohammed Kasola</td>\n      <td>34</td>\n      <td>Defensywny pomocnik</td>\n      <td>DPM</td>\n      <td>Katar</td>\n      <td>?</td>\n      <td>Odejścia</td>\n      <td>75 tys. €</td>\n      <td>Al-Mesaimeer Sports Club</td>\n      <td>NaN</td>\n      <td>NaN</td>\n      <td>?</td>\n      <td>False</td>\n    </tr>\n    <tr>\n      <th>29916</th>\n      <td>Umm Salal SC</td>\n      <td>1.liga</td>\n      <td>Katar</td>\n      <td>Walid Mesloub</td>\n      <td>35</td>\n      <td>Środkowy pomocnik</td>\n      <td>ŚPM</td>\n      <td>Algieria</td>\n      <td>-</td>\n      <td>Odejścia</td>\n      <td>-</td>\n      <td>NaN</td>\n      <td>NaN</td>\n      <td>NaN</td>\n      <td>-</td>\n      <td>False</td>\n    </tr>\n  </tbody>\n</table>\n<p>4251 rows × 16 columns</p>\n</div>"
     },
     "metadata": {},
     "output_type": "display_data"
    },
    {
     "data": {
      "text/plain": "                 Club ClubLeagueLevel ClubLeagueNationality             Player PlayerAge      PlayerPosition PlayerPositionScut PlayerNationality                      Operation Bought/Sold PlayerMarketValue        ClubAssigned ClubAssignedLeagueLevel ClubAssignedLeagueNationality                  TransferValue  \\\n1      Legia Warszawa          1.liga                Polska        Ernest Muci        19  Środkowy napastnik                ŚNP           Albania                     500 tys. €     Nabytki        1,00 mln €           KF Tirana                  1.liga                       Albania                     500 tys. €   \n2      Legia Warszawa          1.liga                Polska    Josip Juranovic        24       Prawy obrońca                POB         Chorwacja                     400 tys. €     Nabytki        2,50 mln €    HNK Hajduk Split                  1.liga                     Chorwacja                     400 tys. €   \n3      Legia Warszawa          1.liga                Polska  Jasur Yakhshiboev        23     Prawy napastnik                PNP        Uzbekistan                     300 tys. €     Nabytki        700 tys. €  Pakhtakor Tashkent                  1.liga                    Uzbekistan                     300 tys. €   \n4      Legia Warszawa          1.liga                Polska         Rafa Lopes        29  Środkowy napastnik                ŚNP        Portugalia                     150 tys. €     Nabytki        500 tys. €            Cracovia                  1.liga                        Polska                     150 tys. €   \n5      Legia Warszawa          1.liga                Polska   Bartosz Kapustka        23  Ofensywny pomocnik                OPM            Polska                 bez odstępnego     Nabytki        1,50 mln €      Leicester City                  1.liga                        Anglia                 bez odstępnego   \n...               ...             ...                   ...                ...       ...                 ...                ...               ...                            ...         ...               ...                 ...                     ...                           ...                            ...   \n29919    Umm Salal SC          1.liga                 Katar       Jasser Yahya        27   Środkowy pomocnik                ŚPM             Katar  koniec wypżyczenia30 cze 2020    Odejścia        175 tys. €         Al-Arabi SC                  1.liga                         Katar  koniec wypżyczenia30 cze 2020   \n29920    Umm Salal SC          1.liga                 Katar          Fadl Omar        30   Środkowy pomocnik                ŚPM             Katar  koniec wypżyczenia31 sie 2020    Odejścia         25 tys. €            Qatar SC                  1.liga                         Katar  koniec wypżyczenia31 sie 2020   \n29921    Umm Salal SC          1.liga                 Katar      Fahad Khalfan        28  Środkowy napastnik                ŚNP             Katar  koniec wypżyczenia31 sie 2020    Odejścia        125 tys. €         Al-Arabi SC                  1.liga                         Katar  koniec wypżyczenia31 sie 2020   \n29922    Umm Salal SC          1.liga                 Katar         Murad Naji        29       Prawy obrońca                POB             Katar  koniec wypżyczenia30 cze 2020    Odejścia        250 tys. €        Al-Duhail SC                  1.liga                         Katar  koniec wypżyczenia30 cze 2020   \n29923    Umm Salal SC          1.liga                 Katar        Salmin Atiq        23     Prawy napastnik                PNP             Katar  koniec wypżyczenia30 cze 2020    Odejścia         75 tys. €        Al-Duhail SC                  1.liga                         Katar  koniec wypżyczenia30 cze 2020   \n\n       PlayerWithoutClub  \n1                  False  \n2                  False  \n3                  False  \n4                  False  \n5                  False  \n...                  ...  \n29919              False  \n29920              False  \n29921              False  \n29922              False  \n29923              False  \n\n[25672 rows x 16 columns]",
      "text/html": "<div>\n<style scoped>\n    .dataframe tbody tr th:only-of-type {\n        vertical-align: middle;\n    }\n\n    .dataframe tbody tr th {\n        vertical-align: top;\n    }\n\n    .dataframe thead th {\n        text-align: right;\n    }\n</style>\n<table border=\"1\" class=\"dataframe\">\n  <thead>\n    <tr style=\"text-align: right;\">\n      <th></th>\n      <th>Club</th>\n      <th>ClubLeagueLevel</th>\n      <th>ClubLeagueNationality</th>\n      <th>Player</th>\n      <th>PlayerAge</th>\n      <th>PlayerPosition</th>\n      <th>PlayerPositionScut</th>\n      <th>PlayerNationality</th>\n      <th>Operation</th>\n      <th>Bought/Sold</th>\n      <th>PlayerMarketValue</th>\n      <th>ClubAssigned</th>\n      <th>ClubAssignedLeagueLevel</th>\n      <th>ClubAssignedLeagueNationality</th>\n      <th>TransferValue</th>\n      <th>PlayerWithoutClub</th>\n    </tr>\n  </thead>\n  <tbody>\n    <tr>\n      <th>1</th>\n      <td>Legia Warszawa</td>\n      <td>1.liga</td>\n      <td>Polska</td>\n      <td>Ernest Muci</td>\n      <td>19</td>\n      <td>Środkowy napastnik</td>\n      <td>ŚNP</td>\n      <td>Albania</td>\n      <td>500 tys. €</td>\n      <td>Nabytki</td>\n      <td>1,00 mln €</td>\n      <td>KF Tirana</td>\n      <td>1.liga</td>\n      <td>Albania</td>\n      <td>500 tys. €</td>\n      <td>False</td>\n    </tr>\n    <tr>\n      <th>2</th>\n      <td>Legia Warszawa</td>\n      <td>1.liga</td>\n      <td>Polska</td>\n      <td>Josip Juranovic</td>\n      <td>24</td>\n      <td>Prawy obrońca</td>\n      <td>POB</td>\n      <td>Chorwacja</td>\n      <td>400 tys. €</td>\n      <td>Nabytki</td>\n      <td>2,50 mln €</td>\n      <td>HNK Hajduk Split</td>\n      <td>1.liga</td>\n      <td>Chorwacja</td>\n      <td>400 tys. €</td>\n      <td>False</td>\n    </tr>\n    <tr>\n      <th>3</th>\n      <td>Legia Warszawa</td>\n      <td>1.liga</td>\n      <td>Polska</td>\n      <td>Jasur Yakhshiboev</td>\n      <td>23</td>\n      <td>Prawy napastnik</td>\n      <td>PNP</td>\n      <td>Uzbekistan</td>\n      <td>300 tys. €</td>\n      <td>Nabytki</td>\n      <td>700 tys. €</td>\n      <td>Pakhtakor Tashkent</td>\n      <td>1.liga</td>\n      <td>Uzbekistan</td>\n      <td>300 tys. €</td>\n      <td>False</td>\n    </tr>\n    <tr>\n      <th>4</th>\n      <td>Legia Warszawa</td>\n      <td>1.liga</td>\n      <td>Polska</td>\n      <td>Rafa Lopes</td>\n      <td>29</td>\n      <td>Środkowy napastnik</td>\n      <td>ŚNP</td>\n      <td>Portugalia</td>\n      <td>150 tys. €</td>\n      <td>Nabytki</td>\n      <td>500 tys. €</td>\n      <td>Cracovia</td>\n      <td>1.liga</td>\n      <td>Polska</td>\n      <td>150 tys. €</td>\n      <td>False</td>\n    </tr>\n    <tr>\n      <th>5</th>\n      <td>Legia Warszawa</td>\n      <td>1.liga</td>\n      <td>Polska</td>\n      <td>Bartosz Kapustka</td>\n      <td>23</td>\n      <td>Ofensywny pomocnik</td>\n      <td>OPM</td>\n      <td>Polska</td>\n      <td>bez odstępnego</td>\n      <td>Nabytki</td>\n      <td>1,50 mln €</td>\n      <td>Leicester City</td>\n      <td>1.liga</td>\n      <td>Anglia</td>\n      <td>bez odstępnego</td>\n      <td>False</td>\n    </tr>\n    <tr>\n      <th>...</th>\n      <td>...</td>\n      <td>...</td>\n      <td>...</td>\n      <td>...</td>\n      <td>...</td>\n      <td>...</td>\n      <td>...</td>\n      <td>...</td>\n      <td>...</td>\n      <td>...</td>\n      <td>...</td>\n      <td>...</td>\n      <td>...</td>\n      <td>...</td>\n      <td>...</td>\n      <td>...</td>\n    </tr>\n    <tr>\n      <th>29919</th>\n      <td>Umm Salal SC</td>\n      <td>1.liga</td>\n      <td>Katar</td>\n      <td>Jasser Yahya</td>\n      <td>27</td>\n      <td>Środkowy pomocnik</td>\n      <td>ŚPM</td>\n      <td>Katar</td>\n      <td>koniec wypżyczenia30 cze 2020</td>\n      <td>Odejścia</td>\n      <td>175 tys. €</td>\n      <td>Al-Arabi SC</td>\n      <td>1.liga</td>\n      <td>Katar</td>\n      <td>koniec wypżyczenia30 cze 2020</td>\n      <td>False</td>\n    </tr>\n    <tr>\n      <th>29920</th>\n      <td>Umm Salal SC</td>\n      <td>1.liga</td>\n      <td>Katar</td>\n      <td>Fadl Omar</td>\n      <td>30</td>\n      <td>Środkowy pomocnik</td>\n      <td>ŚPM</td>\n      <td>Katar</td>\n      <td>koniec wypżyczenia31 sie 2020</td>\n      <td>Odejścia</td>\n      <td>25 tys. €</td>\n      <td>Qatar SC</td>\n      <td>1.liga</td>\n      <td>Katar</td>\n      <td>koniec wypżyczenia31 sie 2020</td>\n      <td>False</td>\n    </tr>\n    <tr>\n      <th>29921</th>\n      <td>Umm Salal SC</td>\n      <td>1.liga</td>\n      <td>Katar</td>\n      <td>Fahad Khalfan</td>\n      <td>28</td>\n      <td>Środkowy napastnik</td>\n      <td>ŚNP</td>\n      <td>Katar</td>\n      <td>koniec wypżyczenia31 sie 2020</td>\n      <td>Odejścia</td>\n      <td>125 tys. €</td>\n      <td>Al-Arabi SC</td>\n      <td>1.liga</td>\n      <td>Katar</td>\n      <td>koniec wypżyczenia31 sie 2020</td>\n      <td>False</td>\n    </tr>\n    <tr>\n      <th>29922</th>\n      <td>Umm Salal SC</td>\n      <td>1.liga</td>\n      <td>Katar</td>\n      <td>Murad Naji</td>\n      <td>29</td>\n      <td>Prawy obrońca</td>\n      <td>POB</td>\n      <td>Katar</td>\n      <td>koniec wypżyczenia30 cze 2020</td>\n      <td>Odejścia</td>\n      <td>250 tys. €</td>\n      <td>Al-Duhail SC</td>\n      <td>1.liga</td>\n      <td>Katar</td>\n      <td>koniec wypżyczenia30 cze 2020</td>\n      <td>False</td>\n    </tr>\n    <tr>\n      <th>29923</th>\n      <td>Umm Salal SC</td>\n      <td>1.liga</td>\n      <td>Katar</td>\n      <td>Salmin Atiq</td>\n      <td>23</td>\n      <td>Prawy napastnik</td>\n      <td>PNP</td>\n      <td>Katar</td>\n      <td>koniec wypżyczenia30 cze 2020</td>\n      <td>Odejścia</td>\n      <td>75 tys. €</td>\n      <td>Al-Duhail SC</td>\n      <td>1.liga</td>\n      <td>Katar</td>\n      <td>koniec wypżyczenia30 cze 2020</td>\n      <td>False</td>\n    </tr>\n  </tbody>\n</table>\n<p>25672 rows × 16 columns</p>\n</div>"
     },
     "metadata": {},
     "output_type": "display_data"
    }
   ],
   "source": [
    "transfers_to_remove = transfer_df[rows_has_nan].loc[transfer_df['PlayerWithoutClub'] == False]\n",
    "display(transfers_to_remove)\n",
    "\n",
    "transfer_df.drop(transfers_to_remove.index.tolist(), inplace=True)\n",
    "\n",
    "display(transfer_df)"
   ]
  },
  {
   "cell_type": "markdown",
   "metadata": {},
   "source": [
    "### Spośród pozostałych wierszy zawierających wartości nieokreślone wszystkie posiadają dla kolumny 'PlayerWithoutClub' wartość True\n",
    "### Wiersze te nie zostaną usunięte, dlatego też należy usunąć z nich wartości NaN i zastąpić je pustym ciągiem znaków"
   ]
  },
  {
   "cell_type": "code",
   "execution_count": 6,
   "metadata": {
    "pycharm": {
     "name": "#%%\n"
    }
   },
   "outputs": [
    {
     "name": "stderr",
     "output_type": "stream",
     "text": [
      "C:\\Users\\Maciek\\AppData\\Local\\Temp/ipykernel_9380/1337730546.py:1: UserWarning: Boolean Series key will be reindexed to match DataFrame index.\n",
      "  display(transfer_df[rows_has_nan][[\"Club\", \"Player\", \"ClubAssigned\", \"PlayerWithoutClub\", \"ClubAssignedLeagueLevel\", \"ClubAssignedLeagueNationality\", \"TransferValue\"]])\n"
     ]
    },
    {
     "data": {
      "text/plain": "                 Club             Player ClubAssigned  PlayerWithoutClub ClubAssignedLeagueLevel ClubAssignedLeagueNationality TransferValue\n36     Legia Warszawa       Dominik Nagy    Bez Klubu               True                     NaN                           NaN             -\n37     Legia Warszawa       William Rémy    Bez Klubu               True                     NaN                           NaN             -\n100     Piast Gliwice     Michal Chrapek    Bez Klubu               True                     NaN                           NaN             -\n186     Śląsk Wrocław     Filip Markovic    Bez Klubu               True                     NaN                           NaN             -\n187     Śląsk Wrocław     Michal Chrapek    Bez Klubu               True                     NaN                           NaN             -\n...               ...                ...          ...                ...                     ...                           ...           ...\n29874        Qatar SC  Nasser El Khayati    Bez Klubu               True                     NaN                           NaN             -\n29907    Umm Salal SC     Saleh Al-Kaany    Bez Klubu               True                     NaN                           NaN             ?\n29914    Umm Salal SC       Raúl Becerra    Bez Klubu               True                     NaN                           NaN             -\n29915    Umm Salal SC      Yannick Sagbo    Bez Klubu               True                     NaN                           NaN             -\n29917    Umm Salal SC     Sami Al-Hasawi    Bez Klubu               True                     NaN                           NaN             -\n\n[1555 rows x 7 columns]",
      "text/html": "<div>\n<style scoped>\n    .dataframe tbody tr th:only-of-type {\n        vertical-align: middle;\n    }\n\n    .dataframe tbody tr th {\n        vertical-align: top;\n    }\n\n    .dataframe thead th {\n        text-align: right;\n    }\n</style>\n<table border=\"1\" class=\"dataframe\">\n  <thead>\n    <tr style=\"text-align: right;\">\n      <th></th>\n      <th>Club</th>\n      <th>Player</th>\n      <th>ClubAssigned</th>\n      <th>PlayerWithoutClub</th>\n      <th>ClubAssignedLeagueLevel</th>\n      <th>ClubAssignedLeagueNationality</th>\n      <th>TransferValue</th>\n    </tr>\n  </thead>\n  <tbody>\n    <tr>\n      <th>36</th>\n      <td>Legia Warszawa</td>\n      <td>Dominik Nagy</td>\n      <td>Bez Klubu</td>\n      <td>True</td>\n      <td>NaN</td>\n      <td>NaN</td>\n      <td>-</td>\n    </tr>\n    <tr>\n      <th>37</th>\n      <td>Legia Warszawa</td>\n      <td>William Rémy</td>\n      <td>Bez Klubu</td>\n      <td>True</td>\n      <td>NaN</td>\n      <td>NaN</td>\n      <td>-</td>\n    </tr>\n    <tr>\n      <th>100</th>\n      <td>Piast Gliwice</td>\n      <td>Michal Chrapek</td>\n      <td>Bez Klubu</td>\n      <td>True</td>\n      <td>NaN</td>\n      <td>NaN</td>\n      <td>-</td>\n    </tr>\n    <tr>\n      <th>186</th>\n      <td>Śląsk Wrocław</td>\n      <td>Filip Markovic</td>\n      <td>Bez Klubu</td>\n      <td>True</td>\n      <td>NaN</td>\n      <td>NaN</td>\n      <td>-</td>\n    </tr>\n    <tr>\n      <th>187</th>\n      <td>Śląsk Wrocław</td>\n      <td>Michal Chrapek</td>\n      <td>Bez Klubu</td>\n      <td>True</td>\n      <td>NaN</td>\n      <td>NaN</td>\n      <td>-</td>\n    </tr>\n    <tr>\n      <th>...</th>\n      <td>...</td>\n      <td>...</td>\n      <td>...</td>\n      <td>...</td>\n      <td>...</td>\n      <td>...</td>\n      <td>...</td>\n    </tr>\n    <tr>\n      <th>29874</th>\n      <td>Qatar SC</td>\n      <td>Nasser El Khayati</td>\n      <td>Bez Klubu</td>\n      <td>True</td>\n      <td>NaN</td>\n      <td>NaN</td>\n      <td>-</td>\n    </tr>\n    <tr>\n      <th>29907</th>\n      <td>Umm Salal SC</td>\n      <td>Saleh Al-Kaany</td>\n      <td>Bez Klubu</td>\n      <td>True</td>\n      <td>NaN</td>\n      <td>NaN</td>\n      <td>?</td>\n    </tr>\n    <tr>\n      <th>29914</th>\n      <td>Umm Salal SC</td>\n      <td>Raúl Becerra</td>\n      <td>Bez Klubu</td>\n      <td>True</td>\n      <td>NaN</td>\n      <td>NaN</td>\n      <td>-</td>\n    </tr>\n    <tr>\n      <th>29915</th>\n      <td>Umm Salal SC</td>\n      <td>Yannick Sagbo</td>\n      <td>Bez Klubu</td>\n      <td>True</td>\n      <td>NaN</td>\n      <td>NaN</td>\n      <td>-</td>\n    </tr>\n    <tr>\n      <th>29917</th>\n      <td>Umm Salal SC</td>\n      <td>Sami Al-Hasawi</td>\n      <td>Bez Klubu</td>\n      <td>True</td>\n      <td>NaN</td>\n      <td>NaN</td>\n      <td>-</td>\n    </tr>\n  </tbody>\n</table>\n<p>1555 rows × 7 columns</p>\n</div>"
     },
     "metadata": {},
     "output_type": "display_data"
    }
   ],
   "source": [
    "display(transfer_df[rows_has_nan][[\"Club\", \"Player\", \"ClubAssigned\", \"PlayerWithoutClub\", \"ClubAssignedLeagueLevel\", \"ClubAssignedLeagueNationality\", \"TransferValue\"]])\n",
    "\n",
    "transfer_df.fillna('', inplace=True)"
   ]
  },
  {
   "cell_type": "markdown",
   "metadata": {},
   "source": [
    "### Jak możemy zauważyć, po wykonaniu powyższej czynności w zbiorze danych nie występują już żadne wartości nieokreślone"
   ]
  },
  {
   "cell_type": "code",
   "execution_count": 7,
   "metadata": {
    "pycharm": {
     "name": "#%%\n"
    }
   },
   "outputs": [
    {
     "data": {
      "text/plain": "Empty DataFrame\nColumns: [Club, ClubLeagueLevel, ClubLeagueNationality, Player, PlayerAge, PlayerPosition, PlayerPositionScut, PlayerNationality, Operation, Bought/Sold, PlayerMarketValue, ClubAssigned, ClubAssignedLeagueLevel, ClubAssignedLeagueNationality, TransferValue, PlayerWithoutClub]\nIndex: []",
      "text/html": "<div>\n<style scoped>\n    .dataframe tbody tr th:only-of-type {\n        vertical-align: middle;\n    }\n\n    .dataframe tbody tr th {\n        vertical-align: top;\n    }\n\n    .dataframe thead th {\n        text-align: right;\n    }\n</style>\n<table border=\"1\" class=\"dataframe\">\n  <thead>\n    <tr style=\"text-align: right;\">\n      <th></th>\n      <th>Club</th>\n      <th>ClubLeagueLevel</th>\n      <th>ClubLeagueNationality</th>\n      <th>Player</th>\n      <th>PlayerAge</th>\n      <th>PlayerPosition</th>\n      <th>PlayerPositionScut</th>\n      <th>PlayerNationality</th>\n      <th>Operation</th>\n      <th>Bought/Sold</th>\n      <th>PlayerMarketValue</th>\n      <th>ClubAssigned</th>\n      <th>ClubAssignedLeagueLevel</th>\n      <th>ClubAssignedLeagueNationality</th>\n      <th>TransferValue</th>\n      <th>PlayerWithoutClub</th>\n    </tr>\n  </thead>\n  <tbody>\n  </tbody>\n</table>\n</div>"
     },
     "execution_count": 7,
     "metadata": {},
     "output_type": "execute_result"
    }
   ],
   "source": [
    "transfer_df[transfer_df.isna().any(axis=1)]"
   ]
  },
  {
   "cell_type": "markdown",
   "metadata": {
    "pycharm": {
     "name": "#%% md\n"
    }
   },
   "source": [
    "### Wyczyszczenie danych z kolumn 'ClubLeagueLevel' oraz 'ClubAssignedLeagueLevel'\n",
    "### Dla ligi młodzieżowej oraz rezerw klubowych założono najniższy (8smy) poziom rozgrywkowy, natomiast dla zawodników bez klubu przyjęto poziom ligi jako 0"
   ]
  },
  {
   "cell_type": "code",
   "execution_count": 8,
   "metadata": {
    "pycharm": {
     "name": "#%%\n"
    }
   },
   "outputs": [
    {
     "data": {
      "text/plain": "1    25672\nName: ClubLeagueLevel, dtype: int64"
     },
     "metadata": {},
     "output_type": "display_data"
    },
    {
     "data": {
      "text/plain": "1    13646\n2     6889\n3     1976\n0     1555\n4      885\n8      665\n5       46\n6       10\nName: ClubAssignedLeagueLevel, dtype: int64"
     },
     "metadata": {},
     "output_type": "display_data"
    },
    {
     "name": "stdout",
     "output_type": "stream",
     "text": [
      "<class 'pandas.core.frame.DataFrame'>\n",
      "Int64Index: 25672 entries, 1 to 29923\n",
      "Data columns (total 16 columns):\n",
      " #   Column                         Non-Null Count  Dtype \n",
      "---  ------                         --------------  ----- \n",
      " 0   Club                           25672 non-null  object\n",
      " 1   ClubLeagueLevel                25672 non-null  int64 \n",
      " 2   ClubLeagueNationality          25672 non-null  object\n",
      " 3   Player                         25672 non-null  object\n",
      " 4   PlayerAge                      25672 non-null  object\n",
      " 5   PlayerPosition                 25672 non-null  object\n",
      " 6   PlayerPositionScut             25672 non-null  object\n",
      " 7   PlayerNationality              25672 non-null  object\n",
      " 8   Operation                      25672 non-null  object\n",
      " 9   Bought/Sold                    25672 non-null  object\n",
      " 10  PlayerMarketValue              25672 non-null  object\n",
      " 11  ClubAssigned                   25672 non-null  object\n",
      " 12  ClubAssignedLeagueLevel        25672 non-null  int64 \n",
      " 13  ClubAssignedLeagueNationality  25672 non-null  object\n",
      " 14  TransferValue                  25672 non-null  object\n",
      " 15  PlayerWithoutClub              25672 non-null  bool  \n",
      "dtypes: bool(1), int64(2), object(13)\n",
      "memory usage: 3.2+ MB\n"
     ]
    }
   ],
   "source": [
    "transfer_df[\"ClubLeagueLevel\"] = transfer_df['ClubLeagueLevel'].map(lambda x: x[0])\n",
    "display(transfer_df['ClubLeagueLevel'].value_counts())\n",
    "\n",
    "transfer_df[\"ClubAssignedLeagueLevel\"].replace({\"ieżowa\": \"8.liga\", \"onship\": \"2.liga\", \"rezerw\": \"8.liga\", \"\": \"0.liga\"}, inplace=True)\n",
    "transfer_df[\"ClubAssignedLeagueLevel\"] = transfer_df['ClubAssignedLeagueLevel'].map(lambda x: x[0])\n",
    "display(transfer_df['ClubAssignedLeagueLevel'].value_counts())\n",
    "\n",
    "transfer_df['ClubLeagueLevel'] = transfer_df['ClubLeagueLevel'].astype(\"int64\")\n",
    "transfer_df['ClubAssignedLeagueLevel'] = transfer_df['ClubAssignedLeagueLevel'].astype(\"int64\")\n",
    "\n",
    "transfer_df.info()"
   ]
  },
  {
   "cell_type": "markdown",
   "metadata": {},
   "source": [
    "### Wyświetlenie zgrupowanych wartości dla kolumn w celu określenia, w jaki sposób powinny być czyszczone"
   ]
  },
  {
   "cell_type": "code",
   "execution_count": 9,
   "metadata": {
    "pycharm": {
     "name": "#%%\n"
    }
   },
   "outputs": [
    {
     "data": {
      "text/plain": "Turcja               2364\nWłochy               1956\nArgentyna            1776\nBrazylia             1760\nStany Zjednaczone    1576\nSerbia               1536\nAustria              1516\nPortugalia           1456\nAnglia               1370\nHiszpania            1328\nBelgia               1270\nHolandia             1220\nRosja                1192\nPolska               1156\nSzkocja               924\nChiny                 816\nUkraina               732\nSzwajcaria            622\nFrancja               590\nKatar                 512\nName: ClubLeagueNationality, dtype: int64"
     },
     "metadata": {},
     "output_type": "display_data"
    },
    {
     "data": {
      "text/plain": "23    2512\n21    2353\n22    2323\n24    2113\n26    1927\n25    1894\n20    1891\n27    1589\n29    1413\n28    1401\n19    1281\n30     988\n31     869\n32     692\n18     619\n33     589\n34     386\n35     255\n17     231\n36     130\n37      76\n16      70\n38      48\n39      10\n40       8\n15       4\nName: PlayerAge, dtype: int64"
     },
     "metadata": {},
     "output_type": "display_data"
    },
    {
     "data": {
      "text/plain": "Środkowy napastnik     4297\nŚrodkowy obrońca       4012\nŚrodkowy pomocnik      2703\nBramkarz               2159\nPrawy napastnik        2001\nLewy napastnik         1997\nDefensywny pomocnik    1965\nLewy obrońca           1940\nPrawy obrońca          1896\nOfensywny pomocnik     1823\nLewy pomocnik           281\nPrawy pomocnik          276\nCofnięty napastnik      196\nPomocnik                 68\nObrońca                  30\nNapastnik                28\nName: PlayerPosition, dtype: int64"
     },
     "metadata": {},
     "output_type": "display_data"
    },
    {
     "data": {
      "text/plain": "Brazylia            2528\nArgentyna           1910\nSerbia              1551\nTurcja              1502\nWłochy              1077\n                    ... \nWietnam                2\nUganda                 2\nKuba                   2\nZambia                 2\nGujana Francuska       1\nName: PlayerNationality, Length: 145, dtype: int64"
     },
     "metadata": {},
     "output_type": "display_data"
    },
    {
     "data": {
      "text/plain": "bez odstępnego                   6574\nwypożyczenie                     6039\n-                                2498\n?                                1409\nkoniec wypżyczenia30 cze 2020    1352\n                                 ... \n3,60 mln €                          2\n10,50 mln €                         2\n8,48 mln €                          2\n2,90 mln €                          1\n3,40 mln €                          1\nName: Operation, Length: 636, dtype: int64"
     },
     "metadata": {},
     "output_type": "display_data"
    },
    {
     "data": {
      "text/plain": "Odejścia    13506\nNabytki     12166\nName: Bought/Sold, dtype: int64"
     },
     "metadata": {},
     "output_type": "display_data"
    },
    {
     "data": {
      "text/plain": "200 tys. €     1506\n300 tys. €     1381\n400 tys. €     1234\n100 tys. €     1195\n250 tys. €     1164\n               ... \n55,00 mln €       2\n80,00 mln €       2\n3,40 mln €        2\n825 tys. €        2\n9,50 mln €        2\nName: PlayerMarketValue, Length: 123, dtype: int64"
     },
     "metadata": {},
     "output_type": "display_data"
    },
    {
     "data": {
      "text/plain": "Turcja               1933\nWłochy               1927\nAnglia               1673\nBrazylia             1624\n                     1555\n                     ... \nMozambik                2\nSingapur                2\nBangladesz              2\nPanama                  2\nIrlandia Północna       2\nName: ClubAssignedLeagueNationality, Length: 89, dtype: int64"
     },
     "metadata": {},
     "output_type": "display_data"
    },
    {
     "data": {
      "text/plain": "bez odstępnego                   6574\nwypożyczenie                     6039\n-                                2498\n?                                1409\nkoniec wypżyczenia30 cze 2020    1352\n                                 ... \n3,60 mln €                          2\n10,50 mln €                         2\n8,48 mln €                          2\n2,90 mln €                          1\n3,40 mln €                          1\nName: TransferValue, Length: 636, dtype: int64"
     },
     "metadata": {},
     "output_type": "display_data"
    }
   ],
   "source": [
    "display(transfer_df['ClubLeagueNationality'].value_counts())         # nie wymaga czyszczenia\n",
    "display(transfer_df['PlayerAge'].value_counts())                     # nie wymaga czyszczenia\n",
    "display(transfer_df['PlayerPosition'].value_counts())                # nie wymaga czyszczenia (stworzenie dodatkowej kolumny danych określających pozycję ogólną - Pomocnik, Napastnik, Obrońca, Bramkarz\n",
    "display(transfer_df['PlayerNationality'].value_counts())             # nie wymaga czyszczenia\n",
    "display(transfer_df['Operation'].value_counts())                     # wymaga czyszczenia (usunięcie danych niepoprawnych oraz modyfikacja formatu numerycznego, usunięcie wierszy dla wartości '?'\n",
    "display(transfer_df['Bought/Sold'].value_counts())                   # zmiana wartości 'nabytki' na 'kupiony' oraz 'odejścia' na 'sprzedany'\n",
    "display(transfer_df['PlayerMarketValue'].value_counts())             # modyfikacja danych do wartości liczbowych\n",
    "display(transfer_df['ClubAssignedLeagueNationality'].value_counts()) # nie wymaga czyszczenia\n",
    "display(transfer_df['TransferValue'].value_counts())                 # analogicznie do kolumny 'Operation'"
   ]
  },
  {
   "cell_type": "markdown",
   "metadata": {
    "pycharm": {
     "name": "#%% md\n"
    }
   },
   "source": [
    "### Stworzenie dodatkowych kolumn określających ogólną pozycję zawodnika oraz przedział wiekowy"
   ]
  },
  {
   "cell_type": "code",
   "execution_count": 11,
   "metadata": {
    "pycharm": {
     "name": "#%%\n"
    }
   },
   "outputs": [
    {
     "data": {
      "text/plain": "           PlayerPosition PlayerGenericPosition PlayerAge PlayerAgeGroup\n1      Środkowy napastnik             Napastnik        19          Młody\n2           Prawy obrońca               Obrońca        24   W sile wieku\n3         Prawy napastnik             Napastnik        23   W sile wieku\n4      Środkowy napastnik             Napastnik        29   W sile wieku\n5      Ofensywny pomocnik              Pomocnik        23   W sile wieku\n...                   ...                   ...       ...            ...\n29919   Środkowy pomocnik              Pomocnik        27   W sile wieku\n29920   Środkowy pomocnik              Pomocnik        30   Doświadczony\n29921  Środkowy napastnik             Napastnik        28   W sile wieku\n29922       Prawy obrońca               Obrońca        29   W sile wieku\n29923     Prawy napastnik             Napastnik        23   W sile wieku\n\n[25672 rows x 4 columns]",
      "text/html": "<div>\n<style scoped>\n    .dataframe tbody tr th:only-of-type {\n        vertical-align: middle;\n    }\n\n    .dataframe tbody tr th {\n        vertical-align: top;\n    }\n\n    .dataframe thead th {\n        text-align: right;\n    }\n</style>\n<table border=\"1\" class=\"dataframe\">\n  <thead>\n    <tr style=\"text-align: right;\">\n      <th></th>\n      <th>PlayerPosition</th>\n      <th>PlayerGenericPosition</th>\n      <th>PlayerAge</th>\n      <th>PlayerAgeGroup</th>\n    </tr>\n  </thead>\n  <tbody>\n    <tr>\n      <th>1</th>\n      <td>Środkowy napastnik</td>\n      <td>Napastnik</td>\n      <td>19</td>\n      <td>Młody</td>\n    </tr>\n    <tr>\n      <th>2</th>\n      <td>Prawy obrońca</td>\n      <td>Obrońca</td>\n      <td>24</td>\n      <td>W sile wieku</td>\n    </tr>\n    <tr>\n      <th>3</th>\n      <td>Prawy napastnik</td>\n      <td>Napastnik</td>\n      <td>23</td>\n      <td>W sile wieku</td>\n    </tr>\n    <tr>\n      <th>4</th>\n      <td>Środkowy napastnik</td>\n      <td>Napastnik</td>\n      <td>29</td>\n      <td>W sile wieku</td>\n    </tr>\n    <tr>\n      <th>5</th>\n      <td>Ofensywny pomocnik</td>\n      <td>Pomocnik</td>\n      <td>23</td>\n      <td>W sile wieku</td>\n    </tr>\n    <tr>\n      <th>...</th>\n      <td>...</td>\n      <td>...</td>\n      <td>...</td>\n      <td>...</td>\n    </tr>\n    <tr>\n      <th>29919</th>\n      <td>Środkowy pomocnik</td>\n      <td>Pomocnik</td>\n      <td>27</td>\n      <td>W sile wieku</td>\n    </tr>\n    <tr>\n      <th>29920</th>\n      <td>Środkowy pomocnik</td>\n      <td>Pomocnik</td>\n      <td>30</td>\n      <td>Doświadczony</td>\n    </tr>\n    <tr>\n      <th>29921</th>\n      <td>Środkowy napastnik</td>\n      <td>Napastnik</td>\n      <td>28</td>\n      <td>W sile wieku</td>\n    </tr>\n    <tr>\n      <th>29922</th>\n      <td>Prawy obrońca</td>\n      <td>Obrońca</td>\n      <td>29</td>\n      <td>W sile wieku</td>\n    </tr>\n    <tr>\n      <th>29923</th>\n      <td>Prawy napastnik</td>\n      <td>Napastnik</td>\n      <td>23</td>\n      <td>W sile wieku</td>\n    </tr>\n  </tbody>\n</table>\n<p>25672 rows × 4 columns</p>\n</div>"
     },
     "metadata": {},
     "output_type": "display_data"
    }
   ],
   "source": [
    "def get_player_age_group(age):\n",
    "    if 15 <= age < 16:\n",
    "        return 'Junior młodszy'\n",
    "    elif 16 <= age < 17:\n",
    "        return 'Junior starszy'\n",
    "    elif 17 <= age < 22:\n",
    "        return 'Młody'\n",
    "    elif 22 <= age < 30:\n",
    "        return 'W sile wieku'\n",
    "    elif 30 <= age < 37:\n",
    "        return 'Doświadczony'\n",
    "    elif 37 <= age < 42:\n",
    "        return 'Zbliżający się do końca kariery'\n",
    "    elif age >= 42:\n",
    "        return 'Oldboy'\n",
    "    else:\n",
    "        return 'Inny'\n",
    "\n",
    "transfer_df['PlayerGenericPosition'] = transfer_df['PlayerPosition'].map(lambda x: x.split(' ')[-1].capitalize())\n",
    "transfer_df['PlayerAgeGroup'] = transfer_df['PlayerAge'].map(lambda x: get_player_age_group(int(x)))\n",
    "\n",
    "display(transfer_df[['PlayerPosition', 'PlayerGenericPosition', 'PlayerAge', 'PlayerAgeGroup']])"
   ]
  },
  {
   "cell_type": "markdown",
   "metadata": {
    "pycharm": {
     "name": "#%% md\n"
    }
   },
   "source": [
    "### Wyczyszczenie danych z kolumny 'Operation'"
   ]
  },
  {
   "cell_type": "code",
   "execution_count": 12,
   "metadata": {
    "pycharm": {
     "name": "#%%\n"
    }
   },
   "outputs": [
    {
     "data": {
      "text/plain": "Wypożyczenie    12194\nTransfer        12069\nName: Operation, dtype: int64"
     },
     "execution_count": 12,
     "metadata": {},
     "output_type": "execute_result"
    }
   ],
   "source": [
    "transfer_df[\"Operation\"].replace({\"bez odstępnego\": \"Transfer\", \"-\": \"Transfer\", \"wypożyczenie\": \"Wypożyczenie\", \"draft\": \"Transfer\"}, inplace=True)\n",
    "transfer_df[\"Operation\"].replace([\"^koniec wypżyczenia[0-9]{1,2}[ ][a-ź]{3}[ ][0-9]{4}$\"], [\"Wypożyczenie\"], regex=True, inplace=True)\n",
    "transfer_df[\"Operation\"].replace([\"^opłata za wypożyczenie:.*$\"], [\"Wypożyczenie\"], regex=True, inplace=True)\n",
    "transfer_df[\"Operation\"].replace([\"^.*€$\"], [\"Transfer\"], regex=True, inplace=True)\n",
    "\n",
    "transfer_df = transfer_df[transfer_df[\"Operation\"] != \"?\"]\n",
    "\n",
    "transfer_df[\"Operation\"].value_counts()"
   ]
  },
  {
   "cell_type": "markdown",
   "metadata": {
    "pycharm": {
     "name": "#%% md\n"
    }
   },
   "source": [
    "### Wyczyszczenie danych z kolumny 'Bought/Sold'"
   ]
  },
  {
   "cell_type": "code",
   "execution_count": 13,
   "metadata": {
    "pycharm": {
     "name": "#%%\n"
    }
   },
   "outputs": [
    {
     "data": {
      "text/plain": "Sprzedany    12784\nKupiony      11479\nName: Bought/Sold, dtype: int64"
     },
     "execution_count": 13,
     "metadata": {},
     "output_type": "execute_result"
    }
   ],
   "source": [
    "transfer_df[\"Bought/Sold\"].replace({\"Odejścia\": \"Sprzedany\", \"Nabytki\": \"Kupiony\"}, inplace=True)\n",
    "transfer_df['Bought/Sold'].value_counts()"
   ]
  },
  {
   "cell_type": "code",
   "execution_count": 14,
   "metadata": {
    "pycharm": {
     "name": "#%%\n"
    }
   },
   "outputs": [
    {
     "data": {
      "text/plain": "200000      1422\n300000      1280\n100000      1133\n400000      1133\n250000      1077\n            ... \n55000000       2\n80000000       2\n3400000        2\n9500000        2\n825000         2\nName: PlayerMarketValue, Length: 123, dtype: int64"
     },
     "metadata": {},
     "output_type": "display_data"
    }
   ],
   "source": [
    "def human_readable_to_numeric(value):\n",
    "    if value == 0:\n",
    "        return 0\n",
    "    elements = value.split(\" \")\n",
    "    base = float(elements[0].replace(',', '.'))\n",
    "    if elements[1] == \"mln\":\n",
    "        times = 1000000\n",
    "    elif elements[1] == \"tys.\":\n",
    "        times = 1000\n",
    "    else:\n",
    "        times = 1\n",
    "\n",
    "    return base * times\n",
    "\n",
    "\n",
    "\n",
    "transfer_df[\"PlayerMarketValue\"].replace({\"-\": 0}, inplace=True)\n",
    "transfer_df[\"PlayerMarketValue\"] = transfer_df[\"PlayerMarketValue\"].map(lambda x: human_readable_to_numeric(x))\n",
    "transfer_df['PlayerMarketValue'] = transfer_df['PlayerMarketValue'].astype(\"int64\")\n",
    "\n",
    "display(transfer_df['PlayerMarketValue'].value_counts())"
   ]
  },
  {
   "cell_type": "markdown",
   "metadata": {
    "pycharm": {
     "name": "#%% md\n"
    }
   },
   "source": [
    "### Wyczyszczenie danych z kolumny 'TransferValue'"
   ]
  },
  {
   "cell_type": "code",
   "execution_count": 16,
   "outputs": [
    {
     "data": {
      "text/plain": "0           20763\n500000        188\n1000000       156\n2000000       139\n1500000       121\n            ...  \n10500000        2\n8480000         2\n1020000         2\n3400000         1\n2900000         1\nName: TransferValue, Length: 367, dtype: int64"
     },
     "execution_count": 16,
     "metadata": {},
     "output_type": "execute_result"
    }
   ],
   "source": [
    "def remove_text_about_loan_fee(value):\n",
    "    if value == 0:\n",
    "        return 0\n",
    "\n",
    "    elements = value.split(\"opłata za wypożyczenie:\")\n",
    "    return elements[-1]\n",
    "\n",
    "\n",
    "transfer_df[\"TransferValue\"].replace({\"bez odstępnego\": 0, \"-\": 0, \"wypożyczenie\": 0, \"draft\": 0, \"\": 0}, inplace=True)\n",
    "transfer_df[\"TransferValue\"].replace([\"^koniec wypżyczenia[0-9]{1,2}[ ][a-ź]{3}[ ][0-9]{4}$\"], [0], regex=True, inplace=True)\n",
    "transfer_df[\"TransferValue\"] = transfer_df[\"TransferValue\"].map(lambda x: remove_text_about_loan_fee(x))\n",
    "transfer_df[\"TransferValue\"] = transfer_df[\"TransferValue\"].map(lambda x: human_readable_to_numeric(x))\n",
    "\n",
    "transfer_df = transfer_df[transfer_df[\"TransferValue\"] != \"?\"]\n",
    "\n",
    "transfer_df['TransferValue'] = transfer_df['TransferValue'].astype(\"int64\")\n",
    "\n",
    "transfer_df[\"TransferValue\"].value_counts()"
   ],
   "metadata": {
    "collapsed": false,
    "pycharm": {
     "name": "#%%\n"
    }
   }
  },
  {
   "cell_type": "markdown",
   "source": [
    "### Uzyskanie listy duplikatów oraz ich usunięcie"
   ],
   "metadata": {
    "collapsed": false
   }
  },
  {
   "cell_type": "code",
   "execution_count": 17,
   "outputs": [
    {
     "data": {
      "text/plain": "                  Club  ClubLeagueLevel ClubLeagueNationality            Player PlayerAge      PlayerPosition PlayerPositionScut PlayerNationality     Operation Bought/Sold  PlayerMarketValue      ClubAssigned  ClubAssignedLeagueLevel ClubAssignedLeagueNationality  TransferValue  PlayerWithoutClub  \\\n89         Lech Poznań                1                Polska      Bogdan Butko        29       Prawy obrońca                POB           Ukraina  Wypożyczenie   Sprzedany             500000  Szachtar Donieck                        1                       Ukraina              0              False   \n1030   Manchester City                1                Anglia   Patrick Roberts        23     Prawy napastnik                PNP            Anglia  Wypożyczenie     Kupiony            2000000  FC Middlesbrough                        2                        Anglia              0              False   \n1180    FC Southampton                1                Anglia         Josh Sims        23     Prawy napastnik                PNP            Anglia  Wypożyczenie   Sprzedany             900000  Doncaster Rovers                        3                        Anglia              0              False   \n4080     SK Sturm Graz                1               Austria     Kelvin Yeboah        20  Środkowy napastnik                ŚNP            Włochy      Transfer     Kupiony            3500000         WSG Tirol                        1                       Austria         550000              False   \n4081     SK Sturm Graz                1               Austria  Gregory Wüthrich        25    Środkowy obrońca                ŚOB        Szwajcaria      Transfer     Kupiony            1500000       Perth Glory                        1                     Australia              0              False   \n...                ...              ...                   ...               ...       ...                 ...                ...               ...           ...         ...                ...               ...                      ...                           ...            ...                ...   \n29919     Umm Salal SC                1                 Katar      Jasser Yahya        27   Środkowy pomocnik                ŚPM             Katar  Wypożyczenie   Sprzedany             175000       Al-Arabi SC                        1                         Katar              0              False   \n29920     Umm Salal SC                1                 Katar         Fadl Omar        30   Środkowy pomocnik                ŚPM             Katar  Wypożyczenie   Sprzedany              25000          Qatar SC                        1                         Katar              0              False   \n29921     Umm Salal SC                1                 Katar     Fahad Khalfan        28  Środkowy napastnik                ŚNP             Katar  Wypożyczenie   Sprzedany             125000       Al-Arabi SC                        1                         Katar              0              False   \n29922     Umm Salal SC                1                 Katar        Murad Naji        29       Prawy obrońca                POB             Katar  Wypożyczenie   Sprzedany             250000      Al-Duhail SC                        1                         Katar              0              False   \n29923     Umm Salal SC                1                 Katar       Salmin Atiq        23     Prawy napastnik                PNP             Katar  Wypożyczenie   Sprzedany              75000      Al-Duhail SC                        1                         Katar              0              False   \n\n      PlayerGenericPosition PlayerAgeGroup  \n89                  Obrońca   W sile wieku  \n1030              Napastnik   W sile wieku  \n1180              Napastnik   W sile wieku  \n4080              Napastnik          Młody  \n4081                Obrońca   W sile wieku  \n...                     ...            ...  \n29919              Pomocnik   W sile wieku  \n29920              Pomocnik   Doświadczony  \n29921             Napastnik   W sile wieku  \n29922               Obrońca   W sile wieku  \n29923             Napastnik   W sile wieku  \n\n[12202 rows x 18 columns]",
      "text/html": "<div>\n<style scoped>\n    .dataframe tbody tr th:only-of-type {\n        vertical-align: middle;\n    }\n\n    .dataframe tbody tr th {\n        vertical-align: top;\n    }\n\n    .dataframe thead th {\n        text-align: right;\n    }\n</style>\n<table border=\"1\" class=\"dataframe\">\n  <thead>\n    <tr style=\"text-align: right;\">\n      <th></th>\n      <th>Club</th>\n      <th>ClubLeagueLevel</th>\n      <th>ClubLeagueNationality</th>\n      <th>Player</th>\n      <th>PlayerAge</th>\n      <th>PlayerPosition</th>\n      <th>PlayerPositionScut</th>\n      <th>PlayerNationality</th>\n      <th>Operation</th>\n      <th>Bought/Sold</th>\n      <th>PlayerMarketValue</th>\n      <th>ClubAssigned</th>\n      <th>ClubAssignedLeagueLevel</th>\n      <th>ClubAssignedLeagueNationality</th>\n      <th>TransferValue</th>\n      <th>PlayerWithoutClub</th>\n      <th>PlayerGenericPosition</th>\n      <th>PlayerAgeGroup</th>\n    </tr>\n  </thead>\n  <tbody>\n    <tr>\n      <th>89</th>\n      <td>Lech Poznań</td>\n      <td>1</td>\n      <td>Polska</td>\n      <td>Bogdan Butko</td>\n      <td>29</td>\n      <td>Prawy obrońca</td>\n      <td>POB</td>\n      <td>Ukraina</td>\n      <td>Wypożyczenie</td>\n      <td>Sprzedany</td>\n      <td>500000</td>\n      <td>Szachtar Donieck</td>\n      <td>1</td>\n      <td>Ukraina</td>\n      <td>0</td>\n      <td>False</td>\n      <td>Obrońca</td>\n      <td>W sile wieku</td>\n    </tr>\n    <tr>\n      <th>1030</th>\n      <td>Manchester City</td>\n      <td>1</td>\n      <td>Anglia</td>\n      <td>Patrick Roberts</td>\n      <td>23</td>\n      <td>Prawy napastnik</td>\n      <td>PNP</td>\n      <td>Anglia</td>\n      <td>Wypożyczenie</td>\n      <td>Kupiony</td>\n      <td>2000000</td>\n      <td>FC Middlesbrough</td>\n      <td>2</td>\n      <td>Anglia</td>\n      <td>0</td>\n      <td>False</td>\n      <td>Napastnik</td>\n      <td>W sile wieku</td>\n    </tr>\n    <tr>\n      <th>1180</th>\n      <td>FC Southampton</td>\n      <td>1</td>\n      <td>Anglia</td>\n      <td>Josh Sims</td>\n      <td>23</td>\n      <td>Prawy napastnik</td>\n      <td>PNP</td>\n      <td>Anglia</td>\n      <td>Wypożyczenie</td>\n      <td>Sprzedany</td>\n      <td>900000</td>\n      <td>Doncaster Rovers</td>\n      <td>3</td>\n      <td>Anglia</td>\n      <td>0</td>\n      <td>False</td>\n      <td>Napastnik</td>\n      <td>W sile wieku</td>\n    </tr>\n    <tr>\n      <th>4080</th>\n      <td>SK Sturm Graz</td>\n      <td>1</td>\n      <td>Austria</td>\n      <td>Kelvin Yeboah</td>\n      <td>20</td>\n      <td>Środkowy napastnik</td>\n      <td>ŚNP</td>\n      <td>Włochy</td>\n      <td>Transfer</td>\n      <td>Kupiony</td>\n      <td>3500000</td>\n      <td>WSG Tirol</td>\n      <td>1</td>\n      <td>Austria</td>\n      <td>550000</td>\n      <td>False</td>\n      <td>Napastnik</td>\n      <td>Młody</td>\n    </tr>\n    <tr>\n      <th>4081</th>\n      <td>SK Sturm Graz</td>\n      <td>1</td>\n      <td>Austria</td>\n      <td>Gregory Wüthrich</td>\n      <td>25</td>\n      <td>Środkowy obrońca</td>\n      <td>ŚOB</td>\n      <td>Szwajcaria</td>\n      <td>Transfer</td>\n      <td>Kupiony</td>\n      <td>1500000</td>\n      <td>Perth Glory</td>\n      <td>1</td>\n      <td>Australia</td>\n      <td>0</td>\n      <td>False</td>\n      <td>Obrońca</td>\n      <td>W sile wieku</td>\n    </tr>\n    <tr>\n      <th>...</th>\n      <td>...</td>\n      <td>...</td>\n      <td>...</td>\n      <td>...</td>\n      <td>...</td>\n      <td>...</td>\n      <td>...</td>\n      <td>...</td>\n      <td>...</td>\n      <td>...</td>\n      <td>...</td>\n      <td>...</td>\n      <td>...</td>\n      <td>...</td>\n      <td>...</td>\n      <td>...</td>\n      <td>...</td>\n      <td>...</td>\n    </tr>\n    <tr>\n      <th>29919</th>\n      <td>Umm Salal SC</td>\n      <td>1</td>\n      <td>Katar</td>\n      <td>Jasser Yahya</td>\n      <td>27</td>\n      <td>Środkowy pomocnik</td>\n      <td>ŚPM</td>\n      <td>Katar</td>\n      <td>Wypożyczenie</td>\n      <td>Sprzedany</td>\n      <td>175000</td>\n      <td>Al-Arabi SC</td>\n      <td>1</td>\n      <td>Katar</td>\n      <td>0</td>\n      <td>False</td>\n      <td>Pomocnik</td>\n      <td>W sile wieku</td>\n    </tr>\n    <tr>\n      <th>29920</th>\n      <td>Umm Salal SC</td>\n      <td>1</td>\n      <td>Katar</td>\n      <td>Fadl Omar</td>\n      <td>30</td>\n      <td>Środkowy pomocnik</td>\n      <td>ŚPM</td>\n      <td>Katar</td>\n      <td>Wypożyczenie</td>\n      <td>Sprzedany</td>\n      <td>25000</td>\n      <td>Qatar SC</td>\n      <td>1</td>\n      <td>Katar</td>\n      <td>0</td>\n      <td>False</td>\n      <td>Pomocnik</td>\n      <td>Doświadczony</td>\n    </tr>\n    <tr>\n      <th>29921</th>\n      <td>Umm Salal SC</td>\n      <td>1</td>\n      <td>Katar</td>\n      <td>Fahad Khalfan</td>\n      <td>28</td>\n      <td>Środkowy napastnik</td>\n      <td>ŚNP</td>\n      <td>Katar</td>\n      <td>Wypożyczenie</td>\n      <td>Sprzedany</td>\n      <td>125000</td>\n      <td>Al-Arabi SC</td>\n      <td>1</td>\n      <td>Katar</td>\n      <td>0</td>\n      <td>False</td>\n      <td>Napastnik</td>\n      <td>W sile wieku</td>\n    </tr>\n    <tr>\n      <th>29922</th>\n      <td>Umm Salal SC</td>\n      <td>1</td>\n      <td>Katar</td>\n      <td>Murad Naji</td>\n      <td>29</td>\n      <td>Prawy obrońca</td>\n      <td>POB</td>\n      <td>Katar</td>\n      <td>Wypożyczenie</td>\n      <td>Sprzedany</td>\n      <td>250000</td>\n      <td>Al-Duhail SC</td>\n      <td>1</td>\n      <td>Katar</td>\n      <td>0</td>\n      <td>False</td>\n      <td>Obrońca</td>\n      <td>W sile wieku</td>\n    </tr>\n    <tr>\n      <th>29923</th>\n      <td>Umm Salal SC</td>\n      <td>1</td>\n      <td>Katar</td>\n      <td>Salmin Atiq</td>\n      <td>23</td>\n      <td>Prawy napastnik</td>\n      <td>PNP</td>\n      <td>Katar</td>\n      <td>Wypożyczenie</td>\n      <td>Sprzedany</td>\n      <td>75000</td>\n      <td>Al-Duhail SC</td>\n      <td>1</td>\n      <td>Katar</td>\n      <td>0</td>\n      <td>False</td>\n      <td>Napastnik</td>\n      <td>W sile wieku</td>\n    </tr>\n  </tbody>\n</table>\n<p>12202 rows × 18 columns</p>\n</div>"
     },
     "metadata": {},
     "output_type": "display_data"
    },
    {
     "data": {
      "text/plain": "Empty DataFrame\nColumns: [Club, ClubLeagueLevel, ClubLeagueNationality, Player, PlayerAge, PlayerPosition, PlayerPositionScut, PlayerNationality, Operation, Bought/Sold, PlayerMarketValue, ClubAssigned, ClubAssignedLeagueLevel, ClubAssignedLeagueNationality, TransferValue, PlayerWithoutClub, PlayerGenericPosition, PlayerAgeGroup]\nIndex: []",
      "text/html": "<div>\n<style scoped>\n    .dataframe tbody tr th:only-of-type {\n        vertical-align: middle;\n    }\n\n    .dataframe tbody tr th {\n        vertical-align: top;\n    }\n\n    .dataframe thead th {\n        text-align: right;\n    }\n</style>\n<table border=\"1\" class=\"dataframe\">\n  <thead>\n    <tr style=\"text-align: right;\">\n      <th></th>\n      <th>Club</th>\n      <th>ClubLeagueLevel</th>\n      <th>ClubLeagueNationality</th>\n      <th>Player</th>\n      <th>PlayerAge</th>\n      <th>PlayerPosition</th>\n      <th>PlayerPositionScut</th>\n      <th>PlayerNationality</th>\n      <th>Operation</th>\n      <th>Bought/Sold</th>\n      <th>PlayerMarketValue</th>\n      <th>ClubAssigned</th>\n      <th>ClubAssignedLeagueLevel</th>\n      <th>ClubAssignedLeagueNationality</th>\n      <th>TransferValue</th>\n      <th>PlayerWithoutClub</th>\n      <th>PlayerGenericPosition</th>\n      <th>PlayerAgeGroup</th>\n    </tr>\n  </thead>\n  <tbody>\n  </tbody>\n</table>\n</div>"
     },
     "metadata": {},
     "output_type": "display_data"
    }
   ],
   "source": [
    "display(transfer_df[transfer_df.duplicated()])\n",
    "transfer_df.drop_duplicates(keep='first', inplace=True)\n",
    "display(transfer_df[transfer_df.duplicated()])"
   ],
   "metadata": {
    "collapsed": false,
    "pycharm": {
     "name": "#%%\n"
    }
   }
  },
  {
   "cell_type": "markdown",
   "source": [
    "### Zapisanie wyczyszczonego zbioru danych do pliku csv"
   ],
   "metadata": {
    "collapsed": false,
    "pycharm": {
     "name": "#%% md\n"
    }
   }
  },
  {
   "cell_type": "code",
   "execution_count": 18,
   "outputs": [],
   "source": [
    "transfer_df.to_csv('csv/transfers-data-frame-cleared.csv', encoding='utf-8')"
   ],
   "metadata": {
    "collapsed": false,
    "pycharm": {
     "name": "#%%\n"
    }
   }
  }
 ],
 "metadata": {
  "kernelspec": {
   "display_name": "Python 3",
   "language": "python",
   "name": "python3"
  },
  "language_info": {
   "codemirror_mode": {
    "name": "ipython",
    "version": 3
   },
   "file_extension": ".py",
   "mimetype": "text/x-python",
   "name": "python",
   "nbconvert_exporter": "python",
   "pygments_lexer": "ipython3",
   "version": "3.6.9"
  }
 },
 "nbformat": 4,
 "nbformat_minor": 1
}