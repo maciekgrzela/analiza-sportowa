{
 "cells": [
  {
   "cell_type": "markdown",
   "metadata": {
    "collapsed": true,
    "pycharm": {
     "name": "#%% md\n"
    }
   },
   "source": [
    "# Analiza sportowa - Czyszczenie danych oraz ich przygotowanie do analizy\n",
    "## Projekt realizowany w ramach przedmiotu: Metody Przetwarzania Dużych Ilości Danych\n",
    "### Grupa projektowa:\n",
    "+  Filip Kozak\n",
    "+  Maciej Grzela\n",
    "+  Paweł Owczarek\n",
    "+  Szymon Tusznio"
   ]
  },
  {
   "cell_type": "markdown",
   "metadata": {
    "pycharm": {
     "name": "#%% md\n"
    }
   },
   "source": [
    "## W ramach niniejszego etapu przeprowadzone zostaną następujące operacje:\n",
    "+ ### Wczytanie danych z pliku CSV\n",
    "+ ### Usunięcie wpisów niepoprawnych z punktu widzenia typu danych\n",
    "+ ### Usunięcie wpisów niepoprawnych z punktu widzenia wiedzy dziedzinowej\n",
    "+ ### Modyfikacja formatu przechowywania wartości liczbowych\n",
    "+ ### Wyliczenie wartości dla danych pustych"
   ]
  },
  {
   "cell_type": "markdown",
   "metadata": {},
   "source": [
    "### Zaimportowanie wykorzystywanych bibliotek oraz konfiguracja wyświetlania zbiorów danych dla biblioteki Pandas"
   ]
  },
  {
   "cell_type": "code",
   "execution_count": 1,
   "metadata": {
    "pycharm": {
     "name": "#%%\n"
    }
   },
   "outputs": [
    {
     "data": {
      "text/plain": "<IPython.core.display.HTML object>",
      "text/html": "<style>\n.output {\n    flex-direction: row;\n}\n</style>"
     },
     "execution_count": 1,
     "metadata": {},
     "output_type": "execute_result"
    }
   ],
   "source": [
    "import pandas as pd\n",
    "import numpy as np\n",
    "from IPython.display import display, HTML\n",
    "from datetime import datetime\n",
    "\n",
    "pd.set_option('display.max_columns', None)\n",
    "pd.set_option('display.width', 320)\n",
    "pd.reset_option(\"display.max_rows\")\n",
    "\n",
    "# pd.set_option(\"display.max_rows\", None)           # Wyświetlenie wszystkich wierszy dla tabel / spowalnia działanie\n",
    "css = \"\"\"\n",
    ".output {\n",
    "    flex-direction: row;\n",
    "}\n",
    "\"\"\"\n",
    "HTML('<style>{}</style>'.format(css))"
   ]
  },
  {
   "cell_type": "markdown",
   "metadata": {
    "pycharm": {
     "name": "#%% md\n"
    }
   },
   "source": [
    "### Wczytanie danych z pliku csv oraz zapisanie ich do struktury DataFrame dostępnej w ramach biblioteki Pandas\n",
    "### Sprawdzenie dla jakich kolumn występują wartości nieokreślone"
   ]
  },
  {
   "cell_type": "code",
   "execution_count": 2,
   "metadata": {
    "pycharm": {
     "name": "#%%\n"
    }
   },
   "outputs": [
    {
     "data": {
      "text/plain": "                 Club ClubLeagueLevel ClubLeagueNationality             Player PlayerAge  PlayerHeight TransferDate  PlayerMatchesPlayed  PlayerGoals  PlayerAssists  PlayerOwnGoals  PlayerSubstitutionIn  PlayerSubstitutionOut  PlayerYellowCards  PlayerSecondYellowCards  PlayerRedCards PlayerMinutesPlayed  \\\n0      Legia Warszawa          1.liga                Polska        Ernest Muci        19          1.80  23 lut 2021                   94           24              6               0                    41                     26                  6                        0               0              5.004'   \n1      Legia Warszawa          1.liga                Polska    Josip Juranovic        24          1.73  21 sie 2021                  224            8             23               3                    23                     12                 18                        0               1             18.428'   \n2      Legia Warszawa          1.liga                Polska  Jasur Yakhshiboev        23          1.80  30 sie 2021                  103           23             13               0                    50                     31                 14                        0               0              5.086'   \n3      Legia Warszawa          1.liga                Polska         Rafa Lopes        29          1.85   1 sie 2020                  375           75             19               1                   123                    120                 41                        0               1             23.321'   \n4      Legia Warszawa          1.liga                Polska   Bartosz Kapustka        23          1.79  13 sie 2020                  151           20             19               0                    36                     54                 25                        0               1             10.003'   \n...               ...             ...                   ...                ...       ...           ...          ...                  ...          ...            ...             ...                   ...                    ...                ...                      ...             ...                 ...   \n27105    Bank El Ahly          1.liga                 Egipt       Shady Radwan        19          1.73   6 wrz 2021                    7            0              0               0                     7                      1                  1                        0               0                 71'   \n27106    Bank El Ahly          1.liga                 Egipt   Ismail El Leithy        21           NaN  28 sty 2019                    0            0              0               0                     0                      0                  0                        0               0                   0   \n27107    Bank El Ahly          1.liga                 Egipt        Karim Bambo        28          1.75   2 wrz 2021                  154           38             11               0                    92                     50                  6                        0               0              6.527'   \n27108    Bank El Ahly          1.liga                 Egipt      Mohamed Fathi        27          1.78  12 wrz 2021                  171            5              2               0                    28                     40                 29                        4               2             12.329'   \n27109    Bank El Ahly          1.liga                 Egipt       Ahmed Yassin        24          1.80  12 wrz 2021                   42            0              3               0                     4                      6                  7                        0               1              3.371'   \n\n            PlayerPosition PlayerPositionScut PlayerNationality                      Operation Bought/Sold PlayerMarketValue        ClubAssigned ClubAssignedLeagueLevel ClubAssignedLeagueNationality                  TransferValue  \n0       Środkowy napastnik                ŚNP           Albania                     500 tys. €     Nabytki        1,00 mln €           KF Tirana                  1.liga                       Albania                     500 tys. €  \n1            Prawy obrońca                POB         Chorwacja                     400 tys. €     Nabytki        2,50 mln €    HNK Hajduk Split                  1.liga                     Chorwacja                     400 tys. €  \n2          Prawy napastnik                PNP        Uzbekistan                     300 tys. €     Nabytki        700 tys. €  Pakhtakor Tashkent                  1.liga                    Uzbekistan                     300 tys. €  \n3       Ofensywny pomocnik                OPM        Portugalia                     150 tys. €     Nabytki        500 tys. €            Cracovia                  1.liga                        Polska                     150 tys. €  \n4       Ofensywny pomocnik                OPM            Polska                 bez odstępnego     Nabytki        1,50 mln €      Leicester City                  1.liga                        Anglia                 bez odstępnego  \n...                    ...                ...               ...                            ...         ...               ...                 ...                     ...                           ...                            ...  \n27105      Prawy napastnik                PNP             Egipt  koniec wypżyczenia31 sie 2021    Odejścia         25 tys. €   El Ahly Kairo U21                     NaN                           NaN  koniec wypżyczenia31 sie 2021  \n27106    Środkowy pomocnik                ŚPM             Egipt  koniec wypżyczenia31 sie 2021    Odejścia         25 tys. €   El Ahly Kairo U21                     NaN                           NaN  koniec wypżyczenia31 sie 2021  \n27107       Lewy napastnik                LNP             Egipt  koniec wypżyczenia31 sie 2021    Odejścia        500 tys. €          Zamalek SC                  1.liga                         Egipt  koniec wypżyczenia31 sie 2021  \n27108  Defensywny pomocnik                DPM             Egipt  koniec wypżyczenia31 sie 2021    Odejścia        350 tys. €         Pyramids FC                  1.liga                         Egipt  koniec wypżyczenia31 sie 2021  \n27109     Środkowy obrońca                ŚOB             Egipt  koniec wypżyczenia31 sie 2021    Odejścia        500 tys. €      Masr El Makasa                  1.liga                         Egipt  koniec wypżyczenia31 sie 2021  \n\n[27110 rows x 27 columns]",
      "text/html": "<div>\n<style scoped>\n    .dataframe tbody tr th:only-of-type {\n        vertical-align: middle;\n    }\n\n    .dataframe tbody tr th {\n        vertical-align: top;\n    }\n\n    .dataframe thead th {\n        text-align: right;\n    }\n</style>\n<table border=\"1\" class=\"dataframe\">\n  <thead>\n    <tr style=\"text-align: right;\">\n      <th></th>\n      <th>Club</th>\n      <th>ClubLeagueLevel</th>\n      <th>ClubLeagueNationality</th>\n      <th>Player</th>\n      <th>PlayerAge</th>\n      <th>PlayerHeight</th>\n      <th>TransferDate</th>\n      <th>PlayerMatchesPlayed</th>\n      <th>PlayerGoals</th>\n      <th>PlayerAssists</th>\n      <th>PlayerOwnGoals</th>\n      <th>PlayerSubstitutionIn</th>\n      <th>PlayerSubstitutionOut</th>\n      <th>PlayerYellowCards</th>\n      <th>PlayerSecondYellowCards</th>\n      <th>PlayerRedCards</th>\n      <th>PlayerMinutesPlayed</th>\n      <th>PlayerPosition</th>\n      <th>PlayerPositionScut</th>\n      <th>PlayerNationality</th>\n      <th>Operation</th>\n      <th>Bought/Sold</th>\n      <th>PlayerMarketValue</th>\n      <th>ClubAssigned</th>\n      <th>ClubAssignedLeagueLevel</th>\n      <th>ClubAssignedLeagueNationality</th>\n      <th>TransferValue</th>\n    </tr>\n  </thead>\n  <tbody>\n    <tr>\n      <th>0</th>\n      <td>Legia Warszawa</td>\n      <td>1.liga</td>\n      <td>Polska</td>\n      <td>Ernest Muci</td>\n      <td>19</td>\n      <td>1.80</td>\n      <td>23 lut 2021</td>\n      <td>94</td>\n      <td>24</td>\n      <td>6</td>\n      <td>0</td>\n      <td>41</td>\n      <td>26</td>\n      <td>6</td>\n      <td>0</td>\n      <td>0</td>\n      <td>5.004'</td>\n      <td>Środkowy napastnik</td>\n      <td>ŚNP</td>\n      <td>Albania</td>\n      <td>500 tys. €</td>\n      <td>Nabytki</td>\n      <td>1,00 mln €</td>\n      <td>KF Tirana</td>\n      <td>1.liga</td>\n      <td>Albania</td>\n      <td>500 tys. €</td>\n    </tr>\n    <tr>\n      <th>1</th>\n      <td>Legia Warszawa</td>\n      <td>1.liga</td>\n      <td>Polska</td>\n      <td>Josip Juranovic</td>\n      <td>24</td>\n      <td>1.73</td>\n      <td>21 sie 2021</td>\n      <td>224</td>\n      <td>8</td>\n      <td>23</td>\n      <td>3</td>\n      <td>23</td>\n      <td>12</td>\n      <td>18</td>\n      <td>0</td>\n      <td>1</td>\n      <td>18.428'</td>\n      <td>Prawy obrońca</td>\n      <td>POB</td>\n      <td>Chorwacja</td>\n      <td>400 tys. €</td>\n      <td>Nabytki</td>\n      <td>2,50 mln €</td>\n      <td>HNK Hajduk Split</td>\n      <td>1.liga</td>\n      <td>Chorwacja</td>\n      <td>400 tys. €</td>\n    </tr>\n    <tr>\n      <th>2</th>\n      <td>Legia Warszawa</td>\n      <td>1.liga</td>\n      <td>Polska</td>\n      <td>Jasur Yakhshiboev</td>\n      <td>23</td>\n      <td>1.80</td>\n      <td>30 sie 2021</td>\n      <td>103</td>\n      <td>23</td>\n      <td>13</td>\n      <td>0</td>\n      <td>50</td>\n      <td>31</td>\n      <td>14</td>\n      <td>0</td>\n      <td>0</td>\n      <td>5.086'</td>\n      <td>Prawy napastnik</td>\n      <td>PNP</td>\n      <td>Uzbekistan</td>\n      <td>300 tys. €</td>\n      <td>Nabytki</td>\n      <td>700 tys. €</td>\n      <td>Pakhtakor Tashkent</td>\n      <td>1.liga</td>\n      <td>Uzbekistan</td>\n      <td>300 tys. €</td>\n    </tr>\n    <tr>\n      <th>3</th>\n      <td>Legia Warszawa</td>\n      <td>1.liga</td>\n      <td>Polska</td>\n      <td>Rafa Lopes</td>\n      <td>29</td>\n      <td>1.85</td>\n      <td>1 sie 2020</td>\n      <td>375</td>\n      <td>75</td>\n      <td>19</td>\n      <td>1</td>\n      <td>123</td>\n      <td>120</td>\n      <td>41</td>\n      <td>0</td>\n      <td>1</td>\n      <td>23.321'</td>\n      <td>Ofensywny pomocnik</td>\n      <td>OPM</td>\n      <td>Portugalia</td>\n      <td>150 tys. €</td>\n      <td>Nabytki</td>\n      <td>500 tys. €</td>\n      <td>Cracovia</td>\n      <td>1.liga</td>\n      <td>Polska</td>\n      <td>150 tys. €</td>\n    </tr>\n    <tr>\n      <th>4</th>\n      <td>Legia Warszawa</td>\n      <td>1.liga</td>\n      <td>Polska</td>\n      <td>Bartosz Kapustka</td>\n      <td>23</td>\n      <td>1.79</td>\n      <td>13 sie 2020</td>\n      <td>151</td>\n      <td>20</td>\n      <td>19</td>\n      <td>0</td>\n      <td>36</td>\n      <td>54</td>\n      <td>25</td>\n      <td>0</td>\n      <td>1</td>\n      <td>10.003'</td>\n      <td>Ofensywny pomocnik</td>\n      <td>OPM</td>\n      <td>Polska</td>\n      <td>bez odstępnego</td>\n      <td>Nabytki</td>\n      <td>1,50 mln €</td>\n      <td>Leicester City</td>\n      <td>1.liga</td>\n      <td>Anglia</td>\n      <td>bez odstępnego</td>\n    </tr>\n    <tr>\n      <th>...</th>\n      <td>...</td>\n      <td>...</td>\n      <td>...</td>\n      <td>...</td>\n      <td>...</td>\n      <td>...</td>\n      <td>...</td>\n      <td>...</td>\n      <td>...</td>\n      <td>...</td>\n      <td>...</td>\n      <td>...</td>\n      <td>...</td>\n      <td>...</td>\n      <td>...</td>\n      <td>...</td>\n      <td>...</td>\n      <td>...</td>\n      <td>...</td>\n      <td>...</td>\n      <td>...</td>\n      <td>...</td>\n      <td>...</td>\n      <td>...</td>\n      <td>...</td>\n      <td>...</td>\n      <td>...</td>\n    </tr>\n    <tr>\n      <th>27105</th>\n      <td>Bank El Ahly</td>\n      <td>1.liga</td>\n      <td>Egipt</td>\n      <td>Shady Radwan</td>\n      <td>19</td>\n      <td>1.73</td>\n      <td>6 wrz 2021</td>\n      <td>7</td>\n      <td>0</td>\n      <td>0</td>\n      <td>0</td>\n      <td>7</td>\n      <td>1</td>\n      <td>1</td>\n      <td>0</td>\n      <td>0</td>\n      <td>71'</td>\n      <td>Prawy napastnik</td>\n      <td>PNP</td>\n      <td>Egipt</td>\n      <td>koniec wypżyczenia31 sie 2021</td>\n      <td>Odejścia</td>\n      <td>25 tys. €</td>\n      <td>El Ahly Kairo U21</td>\n      <td>NaN</td>\n      <td>NaN</td>\n      <td>koniec wypżyczenia31 sie 2021</td>\n    </tr>\n    <tr>\n      <th>27106</th>\n      <td>Bank El Ahly</td>\n      <td>1.liga</td>\n      <td>Egipt</td>\n      <td>Ismail El Leithy</td>\n      <td>21</td>\n      <td>NaN</td>\n      <td>28 sty 2019</td>\n      <td>0</td>\n      <td>0</td>\n      <td>0</td>\n      <td>0</td>\n      <td>0</td>\n      <td>0</td>\n      <td>0</td>\n      <td>0</td>\n      <td>0</td>\n      <td>0</td>\n      <td>Środkowy pomocnik</td>\n      <td>ŚPM</td>\n      <td>Egipt</td>\n      <td>koniec wypżyczenia31 sie 2021</td>\n      <td>Odejścia</td>\n      <td>25 tys. €</td>\n      <td>El Ahly Kairo U21</td>\n      <td>NaN</td>\n      <td>NaN</td>\n      <td>koniec wypżyczenia31 sie 2021</td>\n    </tr>\n    <tr>\n      <th>27107</th>\n      <td>Bank El Ahly</td>\n      <td>1.liga</td>\n      <td>Egipt</td>\n      <td>Karim Bambo</td>\n      <td>28</td>\n      <td>1.75</td>\n      <td>2 wrz 2021</td>\n      <td>154</td>\n      <td>38</td>\n      <td>11</td>\n      <td>0</td>\n      <td>92</td>\n      <td>50</td>\n      <td>6</td>\n      <td>0</td>\n      <td>0</td>\n      <td>6.527'</td>\n      <td>Lewy napastnik</td>\n      <td>LNP</td>\n      <td>Egipt</td>\n      <td>koniec wypżyczenia31 sie 2021</td>\n      <td>Odejścia</td>\n      <td>500 tys. €</td>\n      <td>Zamalek SC</td>\n      <td>1.liga</td>\n      <td>Egipt</td>\n      <td>koniec wypżyczenia31 sie 2021</td>\n    </tr>\n    <tr>\n      <th>27108</th>\n      <td>Bank El Ahly</td>\n      <td>1.liga</td>\n      <td>Egipt</td>\n      <td>Mohamed Fathi</td>\n      <td>27</td>\n      <td>1.78</td>\n      <td>12 wrz 2021</td>\n      <td>171</td>\n      <td>5</td>\n      <td>2</td>\n      <td>0</td>\n      <td>28</td>\n      <td>40</td>\n      <td>29</td>\n      <td>4</td>\n      <td>2</td>\n      <td>12.329'</td>\n      <td>Defensywny pomocnik</td>\n      <td>DPM</td>\n      <td>Egipt</td>\n      <td>koniec wypżyczenia31 sie 2021</td>\n      <td>Odejścia</td>\n      <td>350 tys. €</td>\n      <td>Pyramids FC</td>\n      <td>1.liga</td>\n      <td>Egipt</td>\n      <td>koniec wypżyczenia31 sie 2021</td>\n    </tr>\n    <tr>\n      <th>27109</th>\n      <td>Bank El Ahly</td>\n      <td>1.liga</td>\n      <td>Egipt</td>\n      <td>Ahmed Yassin</td>\n      <td>24</td>\n      <td>1.80</td>\n      <td>12 wrz 2021</td>\n      <td>42</td>\n      <td>0</td>\n      <td>3</td>\n      <td>0</td>\n      <td>4</td>\n      <td>6</td>\n      <td>7</td>\n      <td>0</td>\n      <td>1</td>\n      <td>3.371'</td>\n      <td>Środkowy obrońca</td>\n      <td>ŚOB</td>\n      <td>Egipt</td>\n      <td>koniec wypżyczenia31 sie 2021</td>\n      <td>Odejścia</td>\n      <td>500 tys. €</td>\n      <td>Masr El Makasa</td>\n      <td>1.liga</td>\n      <td>Egipt</td>\n      <td>koniec wypżyczenia31 sie 2021</td>\n    </tr>\n  </tbody>\n</table>\n<p>27110 rows × 27 columns</p>\n</div>"
     },
     "metadata": {},
     "output_type": "display_data"
    },
    {
     "data": {
      "text/plain": "Club                                0\nClubLeagueLevel                     0\nClubLeagueNationality               0\nPlayer                              0\nPlayerAge                           0\nPlayerHeight                     1930\nTransferDate                     1857\nPlayerMatchesPlayed                 0\nPlayerGoals                         0\nPlayerAssists                       0\nPlayerOwnGoals                      0\nPlayerSubstitutionIn                0\nPlayerSubstitutionOut               0\nPlayerYellowCards                   0\nPlayerSecondYellowCards             0\nPlayerRedCards                      0\nPlayerMinutesPlayed                 0\nPlayerPosition                      0\nPlayerPositionScut                  0\nPlayerNationality                   0\nOperation                           0\nBought/Sold                         0\nPlayerMarketValue                   0\nClubAssigned                      233\nClubAssignedLeagueLevel          5772\nClubAssignedLeagueNationality    5772\nTransferValue                       0\ndtype: int64"
     },
     "metadata": {},
     "output_type": "display_data"
    }
   ],
   "source": [
    "transfer_df = pd.read_csv(\n",
    "    'csv/transfers-data-frame.csv',\n",
    "    sep=',',\n",
    "    header=0,\n",
    "    index_col=0,\n",
    "    parse_dates=['TransferDate']\n",
    ")\n",
    "\n",
    "display(transfer_df)\n",
    "display(pd.isnull(transfer_df).sum())"
   ]
  },
  {
   "cell_type": "markdown",
   "metadata": {},
   "source": [
    "### Wyświetlenie wierszy dla których występują wartości nieokreślone"
   ]
  },
  {
   "cell_type": "code",
   "execution_count": 3,
   "metadata": {
    "pycharm": {
     "name": "#%%\n"
    }
   },
   "outputs": [
    {
     "data": {
      "text/plain": "                 Club            Player  PlayerHeight TransferDate        ClubAssigned ClubAssignedLeagueLevel ClubAssignedLeagueNationality                  TransferValue\n35     Legia Warszawa      Dominik Nagy          1.74  20 sty 2021  Bez klubuBez klubu                     NaN                           NaN                              -\n36     Legia Warszawa      William Rémy          1.86          NaN  Bez klubuBez klubu                     NaN                           NaN                              -\n43        Lech Poznań   Aron Jóhannsson          1.84          NaN         Hammarby IF                  1.liga                       Szwecja                 bez odstępnego\n59        Lech Poznań      Bogdan Butko          1.82          NaN    Szachtar Donieck                  1.liga                       Ukraina                   wypożyczenie\n85        Lech Poznań      Bogdan Butko          1.82          NaN    Szachtar Donieck                  1.liga                       Ukraina   koniec wypżyczenia4 sty 2021\n...               ...               ...           ...          ...                 ...                     ...                           ...                            ...\n27102    Bank El Ahly     Mohamed Ateya          1.83          NaN  Bez klubuBez klubu                     NaN                           NaN                              -\n27103    Bank El Ahly  Hamad El Hanbaly          1.86          NaN  Bez klubuBez klubu                     NaN                           NaN                              -\n27104    Bank El Ahly    Mohamed Fakhri          1.85  16 sty 2018   El Ahly Kairo U21                     NaN                           NaN  koniec wypżyczenia31 sie 2021\n27105    Bank El Ahly      Shady Radwan          1.73   6 wrz 2021   El Ahly Kairo U21                     NaN                           NaN  koniec wypżyczenia31 sie 2021\n27106    Bank El Ahly  Ismail El Leithy           NaN  28 sty 2019   El Ahly Kairo U21                     NaN                           NaN  koniec wypżyczenia31 sie 2021\n\n[7627 rows x 8 columns]",
      "text/html": "<div>\n<style scoped>\n    .dataframe tbody tr th:only-of-type {\n        vertical-align: middle;\n    }\n\n    .dataframe tbody tr th {\n        vertical-align: top;\n    }\n\n    .dataframe thead th {\n        text-align: right;\n    }\n</style>\n<table border=\"1\" class=\"dataframe\">\n  <thead>\n    <tr style=\"text-align: right;\">\n      <th></th>\n      <th>Club</th>\n      <th>Player</th>\n      <th>PlayerHeight</th>\n      <th>TransferDate</th>\n      <th>ClubAssigned</th>\n      <th>ClubAssignedLeagueLevel</th>\n      <th>ClubAssignedLeagueNationality</th>\n      <th>TransferValue</th>\n    </tr>\n  </thead>\n  <tbody>\n    <tr>\n      <th>35</th>\n      <td>Legia Warszawa</td>\n      <td>Dominik Nagy</td>\n      <td>1.74</td>\n      <td>20 sty 2021</td>\n      <td>Bez klubuBez klubu</td>\n      <td>NaN</td>\n      <td>NaN</td>\n      <td>-</td>\n    </tr>\n    <tr>\n      <th>36</th>\n      <td>Legia Warszawa</td>\n      <td>William Rémy</td>\n      <td>1.86</td>\n      <td>NaN</td>\n      <td>Bez klubuBez klubu</td>\n      <td>NaN</td>\n      <td>NaN</td>\n      <td>-</td>\n    </tr>\n    <tr>\n      <th>43</th>\n      <td>Lech Poznań</td>\n      <td>Aron Jóhannsson</td>\n      <td>1.84</td>\n      <td>NaN</td>\n      <td>Hammarby IF</td>\n      <td>1.liga</td>\n      <td>Szwecja</td>\n      <td>bez odstępnego</td>\n    </tr>\n    <tr>\n      <th>59</th>\n      <td>Lech Poznań</td>\n      <td>Bogdan Butko</td>\n      <td>1.82</td>\n      <td>NaN</td>\n      <td>Szachtar Donieck</td>\n      <td>1.liga</td>\n      <td>Ukraina</td>\n      <td>wypożyczenie</td>\n    </tr>\n    <tr>\n      <th>85</th>\n      <td>Lech Poznań</td>\n      <td>Bogdan Butko</td>\n      <td>1.82</td>\n      <td>NaN</td>\n      <td>Szachtar Donieck</td>\n      <td>1.liga</td>\n      <td>Ukraina</td>\n      <td>koniec wypżyczenia4 sty 2021</td>\n    </tr>\n    <tr>\n      <th>...</th>\n      <td>...</td>\n      <td>...</td>\n      <td>...</td>\n      <td>...</td>\n      <td>...</td>\n      <td>...</td>\n      <td>...</td>\n      <td>...</td>\n    </tr>\n    <tr>\n      <th>27102</th>\n      <td>Bank El Ahly</td>\n      <td>Mohamed Ateya</td>\n      <td>1.83</td>\n      <td>NaN</td>\n      <td>Bez klubuBez klubu</td>\n      <td>NaN</td>\n      <td>NaN</td>\n      <td>-</td>\n    </tr>\n    <tr>\n      <th>27103</th>\n      <td>Bank El Ahly</td>\n      <td>Hamad El Hanbaly</td>\n      <td>1.86</td>\n      <td>NaN</td>\n      <td>Bez klubuBez klubu</td>\n      <td>NaN</td>\n      <td>NaN</td>\n      <td>-</td>\n    </tr>\n    <tr>\n      <th>27104</th>\n      <td>Bank El Ahly</td>\n      <td>Mohamed Fakhri</td>\n      <td>1.85</td>\n      <td>16 sty 2018</td>\n      <td>El Ahly Kairo U21</td>\n      <td>NaN</td>\n      <td>NaN</td>\n      <td>koniec wypżyczenia31 sie 2021</td>\n    </tr>\n    <tr>\n      <th>27105</th>\n      <td>Bank El Ahly</td>\n      <td>Shady Radwan</td>\n      <td>1.73</td>\n      <td>6 wrz 2021</td>\n      <td>El Ahly Kairo U21</td>\n      <td>NaN</td>\n      <td>NaN</td>\n      <td>koniec wypżyczenia31 sie 2021</td>\n    </tr>\n    <tr>\n      <th>27106</th>\n      <td>Bank El Ahly</td>\n      <td>Ismail El Leithy</td>\n      <td>NaN</td>\n      <td>28 sty 2019</td>\n      <td>El Ahly Kairo U21</td>\n      <td>NaN</td>\n      <td>NaN</td>\n      <td>koniec wypżyczenia31 sie 2021</td>\n    </tr>\n  </tbody>\n</table>\n<p>7627 rows × 8 columns</p>\n</div>"
     },
     "execution_count": 3,
     "metadata": {},
     "output_type": "execute_result"
    }
   ],
   "source": [
    "is_nan = transfer_df.isna()\n",
    "rows_has_nan = is_nan.any(axis=1)\n",
    "transfer_df[rows_has_nan][[\"Club\", \"Player\", \"PlayerHeight\", \"TransferDate\", \"ClubAssigned\", \"ClubAssignedLeagueLevel\", \"ClubAssignedLeagueNationality\", \"TransferValue\"]]"
   ]
  },
  {
   "cell_type": "markdown",
   "metadata": {
    "pycharm": {
     "name": "#%% md\n"
    }
   },
   "source": [
    "### Wnioskując na podstawie wierszy zawierających wartości nieokreślone możemy zauważyć, że przeprowadzane transfery dotyczą:\n",
    "+ ### Przenosin zawodnika do drużyny rezerw/drużyny młodzieżowej/szkółki piłkarskiej\n",
    "+ ### Przenosin zawodnika do drużyny na poziomie rozgrywkowym nieuwzględnianym w ramach grupy poziomów rozgrywkowych futbolu profesjonalnego\n",
    "+ ### Dyskwalifikacji/pauzy zawodnika\n",
    "+ ### Przenosin zawodnika do klubu piłkarskiego, którego dane nie zostały wprowadzone\n",
    "+ ### Zakończenia współpracy pomiędzy zawodnikiem a klubem\n",
    "\n",
    "### Obserwacje spełniające jedno z czterech pierwszych kryteriów powyższej listy możemy uznać jako obserwacje odstające. Wiersze te, zostaną usunięte ze zbioru danych.\n",
    "### Obserwacje spełniające piąte kryterium należy uznać jako poprawne. Aby uwzględnić przypadek zakończenia współpracy pomiędzy zawodnikiem a klubem należy stworzyć nową kolumnę wartości True/False"
   ]
  },
  {
   "cell_type": "markdown",
   "metadata": {
    "pycharm": {
     "name": "#%% md\n"
    }
   },
   "source": [
    "### Zdefiniowanie kolumny 'PlayerWithoutClub' przyjmującej wartość true dla zawodników bez klubu po transferze\n",
    "### Wyczyszczenie wartości dla kolumny 'ClubAssigned'"
   ]
  },
  {
   "cell_type": "code",
   "execution_count": 4,
   "metadata": {
    "pycharm": {
     "name": "#%%\n"
    }
   },
   "outputs": [
    {
     "data": {
      "text/plain": "                 Club            Player  PlayerHeight TransferDate       ClubAssigned ClubAssignedLeagueLevel ClubAssignedLeagueNationality                  TransferValue\n35     Legia Warszawa      Dominik Nagy          1.74  20 sty 2021          Bez Klubu                     NaN                           NaN                              -\n36     Legia Warszawa      William Rémy          1.86          NaN          Bez Klubu                     NaN                           NaN                              -\n43        Lech Poznań   Aron Jóhannsson          1.84          NaN        Hammarby IF                  1.liga                       Szwecja                 bez odstępnego\n59        Lech Poznań      Bogdan Butko          1.82          NaN   Szachtar Donieck                  1.liga                       Ukraina                   wypożyczenie\n85        Lech Poznań      Bogdan Butko          1.82          NaN   Szachtar Donieck                  1.liga                       Ukraina   koniec wypżyczenia4 sty 2021\n...               ...               ...           ...          ...                ...                     ...                           ...                            ...\n27102    Bank El Ahly     Mohamed Ateya          1.83          NaN          Bez Klubu                     NaN                           NaN                              -\n27103    Bank El Ahly  Hamad El Hanbaly          1.86          NaN          Bez Klubu                     NaN                           NaN                              -\n27104    Bank El Ahly    Mohamed Fakhri          1.85  16 sty 2018  El Ahly Kairo U21                     NaN                           NaN  koniec wypżyczenia31 sie 2021\n27105    Bank El Ahly      Shady Radwan          1.73   6 wrz 2021  El Ahly Kairo U21                     NaN                           NaN  koniec wypżyczenia31 sie 2021\n27106    Bank El Ahly  Ismail El Leithy           NaN  28 sty 2019  El Ahly Kairo U21                     NaN                           NaN  koniec wypżyczenia31 sie 2021\n\n[7627 rows x 8 columns]",
      "text/html": "<div>\n<style scoped>\n    .dataframe tbody tr th:only-of-type {\n        vertical-align: middle;\n    }\n\n    .dataframe tbody tr th {\n        vertical-align: top;\n    }\n\n    .dataframe thead th {\n        text-align: right;\n    }\n</style>\n<table border=\"1\" class=\"dataframe\">\n  <thead>\n    <tr style=\"text-align: right;\">\n      <th></th>\n      <th>Club</th>\n      <th>Player</th>\n      <th>PlayerHeight</th>\n      <th>TransferDate</th>\n      <th>ClubAssigned</th>\n      <th>ClubAssignedLeagueLevel</th>\n      <th>ClubAssignedLeagueNationality</th>\n      <th>TransferValue</th>\n    </tr>\n  </thead>\n  <tbody>\n    <tr>\n      <th>35</th>\n      <td>Legia Warszawa</td>\n      <td>Dominik Nagy</td>\n      <td>1.74</td>\n      <td>20 sty 2021</td>\n      <td>Bez Klubu</td>\n      <td>NaN</td>\n      <td>NaN</td>\n      <td>-</td>\n    </tr>\n    <tr>\n      <th>36</th>\n      <td>Legia Warszawa</td>\n      <td>William Rémy</td>\n      <td>1.86</td>\n      <td>NaN</td>\n      <td>Bez Klubu</td>\n      <td>NaN</td>\n      <td>NaN</td>\n      <td>-</td>\n    </tr>\n    <tr>\n      <th>43</th>\n      <td>Lech Poznań</td>\n      <td>Aron Jóhannsson</td>\n      <td>1.84</td>\n      <td>NaN</td>\n      <td>Hammarby IF</td>\n      <td>1.liga</td>\n      <td>Szwecja</td>\n      <td>bez odstępnego</td>\n    </tr>\n    <tr>\n      <th>59</th>\n      <td>Lech Poznań</td>\n      <td>Bogdan Butko</td>\n      <td>1.82</td>\n      <td>NaN</td>\n      <td>Szachtar Donieck</td>\n      <td>1.liga</td>\n      <td>Ukraina</td>\n      <td>wypożyczenie</td>\n    </tr>\n    <tr>\n      <th>85</th>\n      <td>Lech Poznań</td>\n      <td>Bogdan Butko</td>\n      <td>1.82</td>\n      <td>NaN</td>\n      <td>Szachtar Donieck</td>\n      <td>1.liga</td>\n      <td>Ukraina</td>\n      <td>koniec wypżyczenia4 sty 2021</td>\n    </tr>\n    <tr>\n      <th>...</th>\n      <td>...</td>\n      <td>...</td>\n      <td>...</td>\n      <td>...</td>\n      <td>...</td>\n      <td>...</td>\n      <td>...</td>\n      <td>...</td>\n    </tr>\n    <tr>\n      <th>27102</th>\n      <td>Bank El Ahly</td>\n      <td>Mohamed Ateya</td>\n      <td>1.83</td>\n      <td>NaN</td>\n      <td>Bez Klubu</td>\n      <td>NaN</td>\n      <td>NaN</td>\n      <td>-</td>\n    </tr>\n    <tr>\n      <th>27103</th>\n      <td>Bank El Ahly</td>\n      <td>Hamad El Hanbaly</td>\n      <td>1.86</td>\n      <td>NaN</td>\n      <td>Bez Klubu</td>\n      <td>NaN</td>\n      <td>NaN</td>\n      <td>-</td>\n    </tr>\n    <tr>\n      <th>27104</th>\n      <td>Bank El Ahly</td>\n      <td>Mohamed Fakhri</td>\n      <td>1.85</td>\n      <td>16 sty 2018</td>\n      <td>El Ahly Kairo U21</td>\n      <td>NaN</td>\n      <td>NaN</td>\n      <td>koniec wypżyczenia31 sie 2021</td>\n    </tr>\n    <tr>\n      <th>27105</th>\n      <td>Bank El Ahly</td>\n      <td>Shady Radwan</td>\n      <td>1.73</td>\n      <td>6 wrz 2021</td>\n      <td>El Ahly Kairo U21</td>\n      <td>NaN</td>\n      <td>NaN</td>\n      <td>koniec wypżyczenia31 sie 2021</td>\n    </tr>\n    <tr>\n      <th>27106</th>\n      <td>Bank El Ahly</td>\n      <td>Ismail El Leithy</td>\n      <td>NaN</td>\n      <td>28 sty 2019</td>\n      <td>El Ahly Kairo U21</td>\n      <td>NaN</td>\n      <td>NaN</td>\n      <td>koniec wypżyczenia31 sie 2021</td>\n    </tr>\n  </tbody>\n</table>\n<p>7627 rows × 8 columns</p>\n</div>"
     },
     "execution_count": 4,
     "metadata": {},
     "output_type": "execute_result"
    }
   ],
   "source": [
    "without_club_label = \"Bez Klubu\"\n",
    "\n",
    "transfer_df[\"ClubAssigned\"].replace({\"Bez klubuBez klubu\": without_club_label}, inplace=True)\n",
    "transfer_df['PlayerWithoutClub'] = transfer_df['ClubAssigned'].map(lambda x: x == True if without_club_label else False)\n",
    "\n",
    "transfer_df[rows_has_nan][[\"Club\", \"Player\", \"PlayerHeight\", \"TransferDate\", \"ClubAssigned\", \"ClubAssignedLeagueLevel\", \"ClubAssignedLeagueNationality\", \"TransferValue\"]]"
   ]
  },
  {
   "cell_type": "markdown",
   "metadata": {},
   "source": []
  },
  {
   "cell_type": "code",
   "execution_count": 5,
   "metadata": {
    "pycharm": {
     "name": "#%%\n"
    }
   },
   "outputs": [
    {
     "data": {
      "text/plain": "                 Club ClubLeagueLevel ClubLeagueNationality             Player PlayerAge  PlayerHeight TransferDate  PlayerMatchesPlayed  PlayerGoals  PlayerAssists  PlayerOwnGoals  PlayerSubstitutionIn  PlayerSubstitutionOut  PlayerYellowCards  PlayerSecondYellowCards  PlayerRedCards PlayerMinutesPlayed  \\\n0      Legia Warszawa          1.liga                Polska        Ernest Muci        19          1.80  23 lut 2021                   94           24              6               0                    41                     26                  6                        0               0              5.004'   \n1      Legia Warszawa          1.liga                Polska    Josip Juranovic        24          1.73  21 sie 2021                  224            8             23               3                    23                     12                 18                        0               1             18.428'   \n2      Legia Warszawa          1.liga                Polska  Jasur Yakhshiboev        23          1.80  30 sie 2021                  103           23             13               0                    50                     31                 14                        0               0              5.086'   \n3      Legia Warszawa          1.liga                Polska         Rafa Lopes        29          1.85   1 sie 2020                  375           75             19               1                   123                    120                 41                        0               1             23.321'   \n4      Legia Warszawa          1.liga                Polska   Bartosz Kapustka        23          1.79  13 sie 2020                  151           20             19               0                    36                     54                 25                        0               1             10.003'   \n...               ...             ...                   ...                ...       ...           ...          ...                  ...          ...            ...             ...                   ...                    ...                ...                      ...             ...                 ...   \n27084    Bank El Ahly          1.liga                 Egipt      Mohamed Fathi        26          1.78  12 wrz 2021                  171            5              2               0                    28                     40                 29                        4               2             12.329'   \n27085    Bank El Ahly          1.liga                 Egipt        Karim Bambo        27          1.75   2 wrz 2021                  154           38             11               0                    92                     50                  6                        0               0              6.527'   \n27107    Bank El Ahly          1.liga                 Egipt        Karim Bambo        28          1.75   2 wrz 2021                  154           38             11               0                    92                     50                  6                        0               0              6.527'   \n27108    Bank El Ahly          1.liga                 Egipt      Mohamed Fathi        27          1.78  12 wrz 2021                  171            5              2               0                    28                     40                 29                        4               2             12.329'   \n27109    Bank El Ahly          1.liga                 Egipt       Ahmed Yassin        24          1.80  12 wrz 2021                   42            0              3               0                     4                      6                  7                        0               1              3.371'   \n\n            PlayerPosition PlayerPositionScut PlayerNationality                      Operation Bought/Sold PlayerMarketValue        ClubAssigned ClubAssignedLeagueLevel ClubAssignedLeagueNationality                  TransferValue  PlayerWithoutClub  \n0       Środkowy napastnik                ŚNP           Albania                     500 tys. €     Nabytki        1,00 mln €           KF Tirana                  1.liga                       Albania                     500 tys. €              False  \n1            Prawy obrońca                POB         Chorwacja                     400 tys. €     Nabytki        2,50 mln €    HNK Hajduk Split                  1.liga                     Chorwacja                     400 tys. €              False  \n2          Prawy napastnik                PNP        Uzbekistan                     300 tys. €     Nabytki        700 tys. €  Pakhtakor Tashkent                  1.liga                    Uzbekistan                     300 tys. €              False  \n3       Ofensywny pomocnik                OPM        Portugalia                     150 tys. €     Nabytki        500 tys. €            Cracovia                  1.liga                        Polska                     150 tys. €              False  \n4       Ofensywny pomocnik                OPM            Polska                 bez odstępnego     Nabytki        1,50 mln €      Leicester City                  1.liga                        Anglia                 bez odstępnego              False  \n...                    ...                ...               ...                            ...         ...               ...                 ...                     ...                           ...                            ...                ...  \n27084  Defensywny pomocnik                DPM             Egipt                   wypożyczenie     Nabytki        350 tys. €         Pyramids FC                  1.liga                         Egipt                   wypożyczenie              False  \n27085       Lewy napastnik                LNP             Egipt                   wypożyczenie     Nabytki        500 tys. €          Zamalek SC                  1.liga                         Egipt                   wypożyczenie              False  \n27107       Lewy napastnik                LNP             Egipt  koniec wypżyczenia31 sie 2021    Odejścia        500 tys. €          Zamalek SC                  1.liga                         Egipt  koniec wypżyczenia31 sie 2021              False  \n27108  Defensywny pomocnik                DPM             Egipt  koniec wypżyczenia31 sie 2021    Odejścia        350 tys. €         Pyramids FC                  1.liga                         Egipt  koniec wypżyczenia31 sie 2021              False  \n27109     Środkowy obrońca                ŚOB             Egipt  koniec wypżyczenia31 sie 2021    Odejścia        500 tys. €      Masr El Makasa                  1.liga                         Egipt  koniec wypżyczenia31 sie 2021              False  \n\n[19483 rows x 28 columns]",
      "text/html": "<div>\n<style scoped>\n    .dataframe tbody tr th:only-of-type {\n        vertical-align: middle;\n    }\n\n    .dataframe tbody tr th {\n        vertical-align: top;\n    }\n\n    .dataframe thead th {\n        text-align: right;\n    }\n</style>\n<table border=\"1\" class=\"dataframe\">\n  <thead>\n    <tr style=\"text-align: right;\">\n      <th></th>\n      <th>Club</th>\n      <th>ClubLeagueLevel</th>\n      <th>ClubLeagueNationality</th>\n      <th>Player</th>\n      <th>PlayerAge</th>\n      <th>PlayerHeight</th>\n      <th>TransferDate</th>\n      <th>PlayerMatchesPlayed</th>\n      <th>PlayerGoals</th>\n      <th>PlayerAssists</th>\n      <th>PlayerOwnGoals</th>\n      <th>PlayerSubstitutionIn</th>\n      <th>PlayerSubstitutionOut</th>\n      <th>PlayerYellowCards</th>\n      <th>PlayerSecondYellowCards</th>\n      <th>PlayerRedCards</th>\n      <th>PlayerMinutesPlayed</th>\n      <th>PlayerPosition</th>\n      <th>PlayerPositionScut</th>\n      <th>PlayerNationality</th>\n      <th>Operation</th>\n      <th>Bought/Sold</th>\n      <th>PlayerMarketValue</th>\n      <th>ClubAssigned</th>\n      <th>ClubAssignedLeagueLevel</th>\n      <th>ClubAssignedLeagueNationality</th>\n      <th>TransferValue</th>\n      <th>PlayerWithoutClub</th>\n    </tr>\n  </thead>\n  <tbody>\n    <tr>\n      <th>0</th>\n      <td>Legia Warszawa</td>\n      <td>1.liga</td>\n      <td>Polska</td>\n      <td>Ernest Muci</td>\n      <td>19</td>\n      <td>1.80</td>\n      <td>23 lut 2021</td>\n      <td>94</td>\n      <td>24</td>\n      <td>6</td>\n      <td>0</td>\n      <td>41</td>\n      <td>26</td>\n      <td>6</td>\n      <td>0</td>\n      <td>0</td>\n      <td>5.004'</td>\n      <td>Środkowy napastnik</td>\n      <td>ŚNP</td>\n      <td>Albania</td>\n      <td>500 tys. €</td>\n      <td>Nabytki</td>\n      <td>1,00 mln €</td>\n      <td>KF Tirana</td>\n      <td>1.liga</td>\n      <td>Albania</td>\n      <td>500 tys. €</td>\n      <td>False</td>\n    </tr>\n    <tr>\n      <th>1</th>\n      <td>Legia Warszawa</td>\n      <td>1.liga</td>\n      <td>Polska</td>\n      <td>Josip Juranovic</td>\n      <td>24</td>\n      <td>1.73</td>\n      <td>21 sie 2021</td>\n      <td>224</td>\n      <td>8</td>\n      <td>23</td>\n      <td>3</td>\n      <td>23</td>\n      <td>12</td>\n      <td>18</td>\n      <td>0</td>\n      <td>1</td>\n      <td>18.428'</td>\n      <td>Prawy obrońca</td>\n      <td>POB</td>\n      <td>Chorwacja</td>\n      <td>400 tys. €</td>\n      <td>Nabytki</td>\n      <td>2,50 mln €</td>\n      <td>HNK Hajduk Split</td>\n      <td>1.liga</td>\n      <td>Chorwacja</td>\n      <td>400 tys. €</td>\n      <td>False</td>\n    </tr>\n    <tr>\n      <th>2</th>\n      <td>Legia Warszawa</td>\n      <td>1.liga</td>\n      <td>Polska</td>\n      <td>Jasur Yakhshiboev</td>\n      <td>23</td>\n      <td>1.80</td>\n      <td>30 sie 2021</td>\n      <td>103</td>\n      <td>23</td>\n      <td>13</td>\n      <td>0</td>\n      <td>50</td>\n      <td>31</td>\n      <td>14</td>\n      <td>0</td>\n      <td>0</td>\n      <td>5.086'</td>\n      <td>Prawy napastnik</td>\n      <td>PNP</td>\n      <td>Uzbekistan</td>\n      <td>300 tys. €</td>\n      <td>Nabytki</td>\n      <td>700 tys. €</td>\n      <td>Pakhtakor Tashkent</td>\n      <td>1.liga</td>\n      <td>Uzbekistan</td>\n      <td>300 tys. €</td>\n      <td>False</td>\n    </tr>\n    <tr>\n      <th>3</th>\n      <td>Legia Warszawa</td>\n      <td>1.liga</td>\n      <td>Polska</td>\n      <td>Rafa Lopes</td>\n      <td>29</td>\n      <td>1.85</td>\n      <td>1 sie 2020</td>\n      <td>375</td>\n      <td>75</td>\n      <td>19</td>\n      <td>1</td>\n      <td>123</td>\n      <td>120</td>\n      <td>41</td>\n      <td>0</td>\n      <td>1</td>\n      <td>23.321'</td>\n      <td>Ofensywny pomocnik</td>\n      <td>OPM</td>\n      <td>Portugalia</td>\n      <td>150 tys. €</td>\n      <td>Nabytki</td>\n      <td>500 tys. €</td>\n      <td>Cracovia</td>\n      <td>1.liga</td>\n      <td>Polska</td>\n      <td>150 tys. €</td>\n      <td>False</td>\n    </tr>\n    <tr>\n      <th>4</th>\n      <td>Legia Warszawa</td>\n      <td>1.liga</td>\n      <td>Polska</td>\n      <td>Bartosz Kapustka</td>\n      <td>23</td>\n      <td>1.79</td>\n      <td>13 sie 2020</td>\n      <td>151</td>\n      <td>20</td>\n      <td>19</td>\n      <td>0</td>\n      <td>36</td>\n      <td>54</td>\n      <td>25</td>\n      <td>0</td>\n      <td>1</td>\n      <td>10.003'</td>\n      <td>Ofensywny pomocnik</td>\n      <td>OPM</td>\n      <td>Polska</td>\n      <td>bez odstępnego</td>\n      <td>Nabytki</td>\n      <td>1,50 mln €</td>\n      <td>Leicester City</td>\n      <td>1.liga</td>\n      <td>Anglia</td>\n      <td>bez odstępnego</td>\n      <td>False</td>\n    </tr>\n    <tr>\n      <th>...</th>\n      <td>...</td>\n      <td>...</td>\n      <td>...</td>\n      <td>...</td>\n      <td>...</td>\n      <td>...</td>\n      <td>...</td>\n      <td>...</td>\n      <td>...</td>\n      <td>...</td>\n      <td>...</td>\n      <td>...</td>\n      <td>...</td>\n      <td>...</td>\n      <td>...</td>\n      <td>...</td>\n      <td>...</td>\n      <td>...</td>\n      <td>...</td>\n      <td>...</td>\n      <td>...</td>\n      <td>...</td>\n      <td>...</td>\n      <td>...</td>\n      <td>...</td>\n      <td>...</td>\n      <td>...</td>\n      <td>...</td>\n    </tr>\n    <tr>\n      <th>27084</th>\n      <td>Bank El Ahly</td>\n      <td>1.liga</td>\n      <td>Egipt</td>\n      <td>Mohamed Fathi</td>\n      <td>26</td>\n      <td>1.78</td>\n      <td>12 wrz 2021</td>\n      <td>171</td>\n      <td>5</td>\n      <td>2</td>\n      <td>0</td>\n      <td>28</td>\n      <td>40</td>\n      <td>29</td>\n      <td>4</td>\n      <td>2</td>\n      <td>12.329'</td>\n      <td>Defensywny pomocnik</td>\n      <td>DPM</td>\n      <td>Egipt</td>\n      <td>wypożyczenie</td>\n      <td>Nabytki</td>\n      <td>350 tys. €</td>\n      <td>Pyramids FC</td>\n      <td>1.liga</td>\n      <td>Egipt</td>\n      <td>wypożyczenie</td>\n      <td>False</td>\n    </tr>\n    <tr>\n      <th>27085</th>\n      <td>Bank El Ahly</td>\n      <td>1.liga</td>\n      <td>Egipt</td>\n      <td>Karim Bambo</td>\n      <td>27</td>\n      <td>1.75</td>\n      <td>2 wrz 2021</td>\n      <td>154</td>\n      <td>38</td>\n      <td>11</td>\n      <td>0</td>\n      <td>92</td>\n      <td>50</td>\n      <td>6</td>\n      <td>0</td>\n      <td>0</td>\n      <td>6.527'</td>\n      <td>Lewy napastnik</td>\n      <td>LNP</td>\n      <td>Egipt</td>\n      <td>wypożyczenie</td>\n      <td>Nabytki</td>\n      <td>500 tys. €</td>\n      <td>Zamalek SC</td>\n      <td>1.liga</td>\n      <td>Egipt</td>\n      <td>wypożyczenie</td>\n      <td>False</td>\n    </tr>\n    <tr>\n      <th>27107</th>\n      <td>Bank El Ahly</td>\n      <td>1.liga</td>\n      <td>Egipt</td>\n      <td>Karim Bambo</td>\n      <td>28</td>\n      <td>1.75</td>\n      <td>2 wrz 2021</td>\n      <td>154</td>\n      <td>38</td>\n      <td>11</td>\n      <td>0</td>\n      <td>92</td>\n      <td>50</td>\n      <td>6</td>\n      <td>0</td>\n      <td>0</td>\n      <td>6.527'</td>\n      <td>Lewy napastnik</td>\n      <td>LNP</td>\n      <td>Egipt</td>\n      <td>koniec wypżyczenia31 sie 2021</td>\n      <td>Odejścia</td>\n      <td>500 tys. €</td>\n      <td>Zamalek SC</td>\n      <td>1.liga</td>\n      <td>Egipt</td>\n      <td>koniec wypżyczenia31 sie 2021</td>\n      <td>False</td>\n    </tr>\n    <tr>\n      <th>27108</th>\n      <td>Bank El Ahly</td>\n      <td>1.liga</td>\n      <td>Egipt</td>\n      <td>Mohamed Fathi</td>\n      <td>27</td>\n      <td>1.78</td>\n      <td>12 wrz 2021</td>\n      <td>171</td>\n      <td>5</td>\n      <td>2</td>\n      <td>0</td>\n      <td>28</td>\n      <td>40</td>\n      <td>29</td>\n      <td>4</td>\n      <td>2</td>\n      <td>12.329'</td>\n      <td>Defensywny pomocnik</td>\n      <td>DPM</td>\n      <td>Egipt</td>\n      <td>koniec wypżyczenia31 sie 2021</td>\n      <td>Odejścia</td>\n      <td>350 tys. €</td>\n      <td>Pyramids FC</td>\n      <td>1.liga</td>\n      <td>Egipt</td>\n      <td>koniec wypżyczenia31 sie 2021</td>\n      <td>False</td>\n    </tr>\n    <tr>\n      <th>27109</th>\n      <td>Bank El Ahly</td>\n      <td>1.liga</td>\n      <td>Egipt</td>\n      <td>Ahmed Yassin</td>\n      <td>24</td>\n      <td>1.80</td>\n      <td>12 wrz 2021</td>\n      <td>42</td>\n      <td>0</td>\n      <td>3</td>\n      <td>0</td>\n      <td>4</td>\n      <td>6</td>\n      <td>7</td>\n      <td>0</td>\n      <td>1</td>\n      <td>3.371'</td>\n      <td>Środkowy obrońca</td>\n      <td>ŚOB</td>\n      <td>Egipt</td>\n      <td>koniec wypżyczenia31 sie 2021</td>\n      <td>Odejścia</td>\n      <td>500 tys. €</td>\n      <td>Masr El Makasa</td>\n      <td>1.liga</td>\n      <td>Egipt</td>\n      <td>koniec wypżyczenia31 sie 2021</td>\n      <td>False</td>\n    </tr>\n  </tbody>\n</table>\n<p>19483 rows × 28 columns</p>\n</div>"
     },
     "metadata": {},
     "output_type": "display_data"
    }
   ],
   "source": [
    "nans_with_club = transfer_df[rows_has_nan].loc[transfer_df['PlayerWithoutClub'] == False]\n",
    "nans_with_height = transfer_df[rows_has_nan].loc[transfer_df['PlayerHeight'] == np.nan]\n",
    "nans_with_date = transfer_df[rows_has_nan].loc[transfer_df['TransferDate'] == np.nan]\n",
    "\n",
    "nans_for_height_or_date = pd.merge(nans_with_height, nans_with_date, how='inner')\n",
    "\n",
    "transfer_df.drop(nans_with_club.index.tolist(), inplace=True)\n",
    "transfer_df.drop(nans_for_height_or_date.index.tolist(), inplace=True)\n",
    "\n",
    "display(transfer_df)"
   ]
  },
  {
   "cell_type": "markdown",
   "metadata": {},
   "source": [
    "### Spośród pozostałych wierszy zawierających wartości nieokreślone wszystkie posiadają dla kolumny 'PlayerWithoutClub' wartość True\n",
    "### Wiersze te nie zostaną usunięte, dlatego też należy usunąć z nich wartości NaN i zastąpić je pustym ciągiem znaków"
   ]
  },
  {
   "cell_type": "code",
   "execution_count": 6,
   "metadata": {
    "pycharm": {
     "name": "#%%\n"
    }
   },
   "outputs": [],
   "source": [
    "transfer_df.fillna('', inplace=True)"
   ]
  },
  {
   "cell_type": "markdown",
   "metadata": {},
   "source": [
    "### Jak możemy zauważyć, po wykonaniu powyższej czynności w zbiorze danych nie występują już żadne wartości nieokreślone"
   ]
  },
  {
   "cell_type": "code",
   "execution_count": 7,
   "metadata": {
    "pycharm": {
     "name": "#%%\n"
    }
   },
   "outputs": [
    {
     "data": {
      "text/plain": "Empty DataFrame\nColumns: [Club, ClubLeagueLevel, ClubLeagueNationality, Player, PlayerAge, PlayerHeight, TransferDate, PlayerMatchesPlayed, PlayerGoals, PlayerAssists, PlayerOwnGoals, PlayerSubstitutionIn, PlayerSubstitutionOut, PlayerYellowCards, PlayerSecondYellowCards, PlayerRedCards, PlayerMinutesPlayed, PlayerPosition, PlayerPositionScut, PlayerNationality, Operation, Bought/Sold, PlayerMarketValue, ClubAssigned, ClubAssignedLeagueLevel, ClubAssignedLeagueNationality, TransferValue, PlayerWithoutClub]\nIndex: []",
      "text/html": "<div>\n<style scoped>\n    .dataframe tbody tr th:only-of-type {\n        vertical-align: middle;\n    }\n\n    .dataframe tbody tr th {\n        vertical-align: top;\n    }\n\n    .dataframe thead th {\n        text-align: right;\n    }\n</style>\n<table border=\"1\" class=\"dataframe\">\n  <thead>\n    <tr style=\"text-align: right;\">\n      <th></th>\n      <th>Club</th>\n      <th>ClubLeagueLevel</th>\n      <th>ClubLeagueNationality</th>\n      <th>Player</th>\n      <th>PlayerAge</th>\n      <th>PlayerHeight</th>\n      <th>TransferDate</th>\n      <th>PlayerMatchesPlayed</th>\n      <th>PlayerGoals</th>\n      <th>PlayerAssists</th>\n      <th>PlayerOwnGoals</th>\n      <th>PlayerSubstitutionIn</th>\n      <th>PlayerSubstitutionOut</th>\n      <th>PlayerYellowCards</th>\n      <th>PlayerSecondYellowCards</th>\n      <th>PlayerRedCards</th>\n      <th>PlayerMinutesPlayed</th>\n      <th>PlayerPosition</th>\n      <th>PlayerPositionScut</th>\n      <th>PlayerNationality</th>\n      <th>Operation</th>\n      <th>Bought/Sold</th>\n      <th>PlayerMarketValue</th>\n      <th>ClubAssigned</th>\n      <th>ClubAssignedLeagueLevel</th>\n      <th>ClubAssignedLeagueNationality</th>\n      <th>TransferValue</th>\n      <th>PlayerWithoutClub</th>\n    </tr>\n  </thead>\n  <tbody>\n  </tbody>\n</table>\n</div>"
     },
     "execution_count": 7,
     "metadata": {},
     "output_type": "execute_result"
    }
   ],
   "source": [
    "transfer_df[transfer_df.isna().any(axis=1)]"
   ]
  },
  {
   "cell_type": "markdown",
   "metadata": {
    "pycharm": {
     "name": "#%% md\n"
    }
   },
   "source": [
    "### Wyczyszczenie danych z kolumn 'ClubLeagueLevel' oraz 'ClubAssignedLeagueLevel'\n",
    "### Dla ligi młodzieżowej oraz rezerw klubowych założono najniższy (8smy) poziom rozgrywkowy, natomiast dla zawodników bez klubu przyjęto poziom ligi jako 0"
   ]
  },
  {
   "cell_type": "code",
   "execution_count": 8,
   "metadata": {
    "pycharm": {
     "name": "#%%\n"
    }
   },
   "outputs": [
    {
     "data": {
      "text/plain": "1    17750\n2      867\n3      866\nName: ClubLeagueLevel, dtype: int64"
     },
     "metadata": {},
     "output_type": "display_data"
    },
    {
     "data": {
      "text/plain": "1    11157\n2     5376\n3     1478\n8      662\n4      648\n5      107\n6       55\nName: ClubAssignedLeagueLevel, dtype: int64"
     },
     "metadata": {},
     "output_type": "display_data"
    },
    {
     "name": "stdout",
     "output_type": "stream",
     "text": [
      "<class 'pandas.core.frame.DataFrame'>\n",
      "Int64Index: 19483 entries, 0 to 27109\n",
      "Data columns (total 28 columns):\n",
      " #   Column                         Non-Null Count  Dtype  \n",
      "---  ------                         --------------  -----  \n",
      " 0   Club                           19483 non-null  object \n",
      " 1   ClubLeagueLevel                19483 non-null  int64  \n",
      " 2   ClubLeagueNationality          19483 non-null  object \n",
      " 3   Player                         19483 non-null  object \n",
      " 4   PlayerAge                      19483 non-null  object \n",
      " 5   PlayerHeight                   19483 non-null  float64\n",
      " 6   TransferDate                   19483 non-null  object \n",
      " 7   PlayerMatchesPlayed            19483 non-null  int64  \n",
      " 8   PlayerGoals                    19483 non-null  int64  \n",
      " 9   PlayerAssists                  19483 non-null  int64  \n",
      " 10  PlayerOwnGoals                 19483 non-null  int64  \n",
      " 11  PlayerSubstitutionIn           19483 non-null  int64  \n",
      " 12  PlayerSubstitutionOut          19483 non-null  int64  \n",
      " 13  PlayerYellowCards              19483 non-null  int64  \n",
      " 14  PlayerSecondYellowCards        19483 non-null  int64  \n",
      " 15  PlayerRedCards                 19483 non-null  int64  \n",
      " 16  PlayerMinutesPlayed            19483 non-null  object \n",
      " 17  PlayerPosition                 19483 non-null  object \n",
      " 18  PlayerPositionScut             19483 non-null  object \n",
      " 19  PlayerNationality              19483 non-null  object \n",
      " 20  Operation                      19483 non-null  object \n",
      " 21  Bought/Sold                    19483 non-null  object \n",
      " 22  PlayerMarketValue              19483 non-null  object \n",
      " 23  ClubAssigned                   19483 non-null  object \n",
      " 24  ClubAssignedLeagueLevel        19483 non-null  int64  \n",
      " 25  ClubAssignedLeagueNationality  19483 non-null  object \n",
      " 26  TransferValue                  19483 non-null  object \n",
      " 27  PlayerWithoutClub              19483 non-null  bool   \n",
      "dtypes: bool(1), float64(1), int64(11), object(15)\n",
      "memory usage: 4.7+ MB\n"
     ]
    }
   ],
   "source": [
    "transfer_df[\"ClubLeagueLevel\"] = transfer_df['ClubLeagueLevel'].map(lambda x: x[0])\n",
    "display(transfer_df['ClubLeagueLevel'].value_counts())\n",
    "\n",
    "transfer_df[\"ClubAssignedLeagueLevel\"].replace({\"ieżowa\": \"8.liga\", \"onship\": \"2.liga\", \"rezerw\": \"8.liga\", \"\": \"0.liga\"}, inplace=True)\n",
    "transfer_df[\"ClubAssignedLeagueLevel\"] = transfer_df['ClubAssignedLeagueLevel'].map(lambda x: x[0])\n",
    "display(transfer_df['ClubAssignedLeagueLevel'].value_counts())\n",
    "\n",
    "transfer_df['ClubLeagueLevel'] = transfer_df['ClubLeagueLevel'].astype(\"int64\")\n",
    "transfer_df['ClubAssignedLeagueLevel'] = transfer_df['ClubAssignedLeagueLevel'].astype(\"int64\")\n",
    "\n",
    "transfer_df.info()"
   ]
  },
  {
   "cell_type": "markdown",
   "metadata": {},
   "source": [
    "### Wyświetlenie zgrupowanych wartości dla kolumn w celu określenia, w jaki sposób powinny być czyszczone"
   ]
  },
  {
   "cell_type": "code",
   "execution_count": 9,
   "metadata": {
    "pycharm": {
     "name": "#%%\n"
    }
   },
   "outputs": [
    {
     "data": {
      "text/plain": "Anglia                          2379\nTurcja                           968\nWłochy                           886\nBrazylia                         801\nArgentyna                        799\nPortugalia                       656\nStany Zjednaczone                639\nSerbia                           638\nHiszpania                        623\nMeksyk                           612\nJaponia                          609\nFrancja                          561\nCzechy                           559\nHolandia                         553\nBelgia                           552\nRosja                            544\nPolska                           526\nNiemcy                           510\nKolumbia                         489\nGrecja                           473\nChorwacja                        403\nBułgaria                         362\nChiny                            362\nNorwegia                         348\nWęgry                            335\nSzwecja                          331\nCypr                             326\nAustria                          324\nUkraina                          305\nFinlandia                        289\nSzwajcaria                       273\nDania                            271\nArabia Saudyjska                 265\nIzrael                           263\nEgipt                            256\nZjednaczone Emiraty Arabskie     247\nKatar                            146\nName: ClubLeagueNationality, dtype: int64"
     },
     "metadata": {},
     "output_type": "display_data"
    },
    {
     "data": {
      "text/plain": "23    1902\n21    1780\n22    1733\n24    1642\n20    1539\n25    1522\n26    1482\n27    1309\n28    1125\n29    1081\n19     956\n30     766\n31     687\n32     511\n18     425\n33     352\n34     199\n17     155\n35     139\n36      77\n16      36\n37      30\n38      16\n39       8\n40       6\n15       3\n-        1\n41       1\nName: PlayerAge, dtype: int64"
     },
     "metadata": {},
     "output_type": "display_data"
    },
    {
     "data": {
      "text/plain": "1.80    1399\n1.85    1222\n1.83    1144\n1.78    1134\n1.75    1027\n1.88     955\n1.86     929\n1.84     897\n1.82     879\n1.87     862\n1.90     790\n1.81     789\n1.77     744\n1.76     682\n1.79     633\n1.73     590\n1.74     570\n1.91     485\n1.89     473\n1.72     431\n1.70     426\n1.93     356\n1.92     308\n1.71     282\n1.68     210\n1.95     196\n1.94     174\n1.69     158\n1.96     158\n1.67     137\n1.65      79\n1.97      62\n1.66      61\n1.98      53\n1.64      46\n1.63      29\n1.99      20\n2.01      19\n1.60      14\n2.02      14\n1.62      13\n2.00       8\n2.03       8\n1.55       6\n1.61       3\n1.56       2\n2.04       2\n1.57       2\n1.58       1\n1.54       1\nName: PlayerHeight, dtype: int64"
     },
     "metadata": {},
     "output_type": "display_data"
    },
    {
     "data": {
      "text/plain": "1 lip 2021     2038\n1 lip 2020      702\n1 sty 2021      605\n31 sie 2021     550\n1 lut 2021      460\n               ... \n5 lut 2020        1\n11 lip 2017       1\n16 lut 2017       1\n16 lis 2017       1\n6 gru 2021        1\nName: TransferDate, Length: 810, dtype: int64"
     },
     "metadata": {},
     "output_type": "display_data"
    },
    {
     "data": {
      "text/plain": "74     117\n119    113\n126    109\n103    107\n94     105\n      ... \n446      1\n723      1\n526      1\n464      1\n515      1\nName: PlayerMatchesPlayed, Length: 584, dtype: int64"
     },
     "metadata": {},
     "output_type": "display_data"
    },
    {
     "data": {
      "text/plain": "0      2516\n1      1040\n3       910\n2       871\n5       788\n       ... \n284       1\n182       1\n279       1\n215       1\n231       1\nName: PlayerGoals, Length: 201, dtype: int64"
     },
     "metadata": {},
     "output_type": "display_data"
    },
    {
     "data": {
      "text/plain": "0      3193\n1      1202\n2      1164\n3      1122\n4       989\n       ... \n85        1\n124       1\n125       1\n185       1\n164       1\nName: PlayerAssists, Length: 129, dtype: int64"
     },
     "metadata": {},
     "output_type": "display_data"
    },
    {
     "data": {
      "text/plain": "0    15208\n1     2953\n2      812\n3      303\n4      126\n5       41\n6       30\n8        6\n7        4\nName: PlayerOwnGoals, dtype: int64"
     },
     "metadata": {},
     "output_type": "display_data"
    },
    {
     "data": {
      "text/plain": "0      779\n1      590\n2      395\n14     362\n9      352\n      ... \n222      1\n148      1\n169      1\n203      1\n190      1\nName: PlayerSubstitutionIn, Length: 182, dtype: int64"
     },
     "metadata": {},
     "output_type": "display_data"
    },
    {
     "data": {
      "text/plain": "0      938\n1      550\n3      404\n11     380\n4      347\n      ... \n198      1\n186      1\n148      1\n185      1\n188      1\nName: PlayerSubstitutionOut, Length: 220, dtype: int64"
     },
     "metadata": {},
     "output_type": "display_data"
    },
    {
     "data": {
      "text/plain": "6      653\n7      648\n3      613\n9      609\n11     586\n      ... \n108      1\n127      1\n121      1\n130      1\n109      1\nName: PlayerYellowCards, Length: 137, dtype: int64"
     },
     "metadata": {},
     "output_type": "display_data"
    },
    {
     "data": {
      "text/plain": "0     11951\n1      4479\n2      1702\n3       693\n4       343\n5       163\n6        93\n7        26\n8        20\n11        5\n9         4\n10        4\nName: PlayerSecondYellowCards, dtype: int64"
     },
     "metadata": {},
     "output_type": "display_data"
    },
    {
     "data": {
      "text/plain": "0     11780\n1      4732\n2      1817\n3       706\n4       245\n5       124\n6        41\n7        23\n9         6\n8         5\n10        4\nName: PlayerRedCards, dtype: int64"
     },
     "metadata": {},
     "output_type": "display_data"
    },
    {
     "data": {
      "text/plain": "0          27\n7.155'     13\n7.500'     13\n9.464'     13\n12.390'    13\n           ..\n17.715'     1\n16.000'     1\n23.734'     1\n30.790'     1\n14.678'     1\nName: PlayerMinutesPlayed, Length: 8505, dtype: int64"
     },
     "metadata": {},
     "output_type": "display_data"
    },
    {
     "data": {
      "text/plain": "Środkowy napastnik     3334\nŚrodkowy obrońca       3064\nŚrodkowy pomocnik      2017\nBramkarz               1688\nPrawy napastnik        1486\nOfensywny pomocnik     1479\nLewy napastnik         1478\nDefensywny pomocnik    1441\nLewy obrońca           1411\nPrawy obrońca          1346\nLewy pomocnik           254\nPrawy pomocnik          220\nCofnięty napastnik      163\nPomocnik                 53\nNapastnik                26\nObrońca                  23\nName: PlayerPosition, dtype: int64"
     },
     "metadata": {},
     "output_type": "display_data"
    },
    {
     "data": {
      "text/plain": "Brazylia            1379\nAnglia              1217\nArgentyna           1024\nSerbia               750\nTurcja               659\n                    ... \nKuba                   1\nAruba                  1\nGujana Francuska       1\nSan Marino             1\nSudan                  1\nName: PlayerNationality, Length: 156, dtype: int64"
     },
     "metadata": {},
     "output_type": "display_data"
    },
    {
     "data": {
      "text/plain": "bez odstępnego                       5368\nwypożyczenie                         4638\n?                                    1758\nkoniec wypżyczenia30 cze 2020        1208\n-                                     620\n                                     ... \nkoniec wypżyczenia7 paź 2020            1\nopłata za wypożyczenie:13 tys. €        1\nopłata za wypożyczenie:577 tys. €       1\n1,55 mln €                              1\nkoniec wypżyczenia5 cze 2019            1\nName: Operation, Length: 732, dtype: int64"
     },
     "metadata": {},
     "output_type": "display_data"
    },
    {
     "data": {
      "text/plain": "Odejścia    9867\nNabytki     9616\nName: Bought/Sold, dtype: int64"
     },
     "metadata": {},
     "output_type": "display_data"
    },
    {
     "data": {
      "text/plain": "200 tys. €     1307\n300 tys. €     1176\n400 tys. €     1051\n250 tys. €     1038\n100 tys. €      961\n               ... \n1,75 mln €        2\n75,00 mln €       2\n1,25 mln €        2\n80,00 mln €       1\n825 tys. €        1\nName: PlayerMarketValue, Length: 124, dtype: int64"
     },
     "metadata": {},
     "output_type": "display_data"
    },
    {
     "data": {
      "text/plain": "Anglia           2218\nWłochy           1026\nTurcja            932\nBrazylia          848\nHiszpania         793\n                 ... \nWyspy Owcze         2\nMozambik            1\nBangladesz          1\nNigeria             1\nNowa Zelandia       1\nName: ClubAssignedLeagueNationality, Length: 94, dtype: int64"
     },
     "metadata": {},
     "output_type": "display_data"
    },
    {
     "data": {
      "text/plain": "bez odstępnego                       5368\nwypożyczenie                         4638\n?                                    1758\nkoniec wypżyczenia30 cze 2020        1208\n-                                     620\n                                     ... \nkoniec wypżyczenia7 paź 2020            1\nopłata za wypożyczenie:13 tys. €        1\nopłata za wypożyczenie:577 tys. €       1\n1,55 mln €                              1\nkoniec wypżyczenia5 cze 2019            1\nName: TransferValue, Length: 732, dtype: int64"
     },
     "metadata": {},
     "output_type": "display_data"
    }
   ],
   "source": [
    "display(transfer_df['ClubLeagueNationality'].value_counts())         # nie wymaga czyszczenia\n",
    "display(transfer_df['PlayerAge'].value_counts())                     # nie wymaga czyszczenia\n",
    "display(transfer_df['PlayerHeight'].value_counts())                  # nie wymaga czyszczenia\n",
    "display(transfer_df['TransferDate'].value_counts())                  # usunięcie wierszy dla wartości zero / konwersja daty\n",
    "display(transfer_df['PlayerMatchesPlayed'].value_counts())           # nie wymaga czyszczenia\n",
    "display(transfer_df['PlayerGoals'].value_counts())                   # nie wymaga czyszczenia\n",
    "display(transfer_df['PlayerAssists'].value_counts())                 # nie wymaga czyszczenia\n",
    "display(transfer_df['PlayerOwnGoals'].value_counts())                # nie wymaga czyszczenia\n",
    "display(transfer_df['PlayerSubstitutionIn'].value_counts())          # nie wymaga czyszczenia\n",
    "display(transfer_df['PlayerSubstitutionOut'].value_counts())         # nie wymaga czyszczenia\n",
    "display(transfer_df['PlayerYellowCards'].value_counts())             # nie wymaga czyszczenia\n",
    "display(transfer_df['PlayerSecondYellowCards'].value_counts())       # nie wymaga czyszczenia\n",
    "display(transfer_df['PlayerRedCards'].value_counts())                # nie wymaga czyszczenia\n",
    "display(transfer_df['PlayerMinutesPlayed'].value_counts())           # usunięcie apostrofu oraz znaku kropki, a także konwersja na typ liczbowy\n",
    "display(transfer_df['PlayerPosition'].value_counts())                # nie wymaga czyszczenia (stworzenie dodatkowej kolumny danych określających pozycję ogólną - Pomocnik, Napastnik, Obrońca, Bramkarz\n",
    "display(transfer_df['PlayerNationality'].value_counts())             # nie wymaga czyszczenia\n",
    "display(transfer_df['Operation'].value_counts())                     # wymaga czyszczenia (usunięcie danych niepoprawnych oraz modyfikacja formatu numerycznego, usunięcie wierszy dla wartości '?'\n",
    "display(transfer_df['Bought/Sold'].value_counts())                   # zmiana wartości 'nabytki' na 'kupiony' oraz 'odejścia' na 'sprzedany'\n",
    "display(transfer_df['PlayerMarketValue'].value_counts())             # modyfikacja danych do wartości liczbowych\n",
    "display(transfer_df['ClubAssignedLeagueNationality'].value_counts()) # nie wymaga czyszczenia\n",
    "display(transfer_df['TransferValue'].value_counts())                 # analogicznie do kolumny 'Operation'"
   ]
  },
  {
   "cell_type": "markdown",
   "metadata": {
    "pycharm": {
     "name": "#%% md\n"
    }
   },
   "source": [
    "### Stworzenie dodatkowych kolumn określających ogólną pozycję zawodnika oraz przedział wiekowy"
   ]
  },
  {
   "cell_type": "code",
   "execution_count": 11,
   "metadata": {
    "pycharm": {
     "name": "#%%\n"
    }
   },
   "outputs": [
    {
     "data": {
      "text/plain": "            PlayerPosition PlayerGenericPosition PlayerAge PlayerAgeGroup\n0       Środkowy napastnik             Napastnik        19          Młody\n1            Prawy obrońca               Obrońca        24   W sile wieku\n2          Prawy napastnik             Napastnik        23   W sile wieku\n3       Ofensywny pomocnik              Pomocnik        29   W sile wieku\n4       Ofensywny pomocnik              Pomocnik        23   W sile wieku\n...                    ...                   ...       ...            ...\n27084  Defensywny pomocnik              Pomocnik        26   W sile wieku\n27085       Lewy napastnik             Napastnik        27   W sile wieku\n27107       Lewy napastnik             Napastnik        28   W sile wieku\n27108  Defensywny pomocnik              Pomocnik        27   W sile wieku\n27109     Środkowy obrońca               Obrońca        24   W sile wieku\n\n[19483 rows x 4 columns]",
      "text/html": "<div>\n<style scoped>\n    .dataframe tbody tr th:only-of-type {\n        vertical-align: middle;\n    }\n\n    .dataframe tbody tr th {\n        vertical-align: top;\n    }\n\n    .dataframe thead th {\n        text-align: right;\n    }\n</style>\n<table border=\"1\" class=\"dataframe\">\n  <thead>\n    <tr style=\"text-align: right;\">\n      <th></th>\n      <th>PlayerPosition</th>\n      <th>PlayerGenericPosition</th>\n      <th>PlayerAge</th>\n      <th>PlayerAgeGroup</th>\n    </tr>\n  </thead>\n  <tbody>\n    <tr>\n      <th>0</th>\n      <td>Środkowy napastnik</td>\n      <td>Napastnik</td>\n      <td>19</td>\n      <td>Młody</td>\n    </tr>\n    <tr>\n      <th>1</th>\n      <td>Prawy obrońca</td>\n      <td>Obrońca</td>\n      <td>24</td>\n      <td>W sile wieku</td>\n    </tr>\n    <tr>\n      <th>2</th>\n      <td>Prawy napastnik</td>\n      <td>Napastnik</td>\n      <td>23</td>\n      <td>W sile wieku</td>\n    </tr>\n    <tr>\n      <th>3</th>\n      <td>Ofensywny pomocnik</td>\n      <td>Pomocnik</td>\n      <td>29</td>\n      <td>W sile wieku</td>\n    </tr>\n    <tr>\n      <th>4</th>\n      <td>Ofensywny pomocnik</td>\n      <td>Pomocnik</td>\n      <td>23</td>\n      <td>W sile wieku</td>\n    </tr>\n    <tr>\n      <th>...</th>\n      <td>...</td>\n      <td>...</td>\n      <td>...</td>\n      <td>...</td>\n    </tr>\n    <tr>\n      <th>27084</th>\n      <td>Defensywny pomocnik</td>\n      <td>Pomocnik</td>\n      <td>26</td>\n      <td>W sile wieku</td>\n    </tr>\n    <tr>\n      <th>27085</th>\n      <td>Lewy napastnik</td>\n      <td>Napastnik</td>\n      <td>27</td>\n      <td>W sile wieku</td>\n    </tr>\n    <tr>\n      <th>27107</th>\n      <td>Lewy napastnik</td>\n      <td>Napastnik</td>\n      <td>28</td>\n      <td>W sile wieku</td>\n    </tr>\n    <tr>\n      <th>27108</th>\n      <td>Defensywny pomocnik</td>\n      <td>Pomocnik</td>\n      <td>27</td>\n      <td>W sile wieku</td>\n    </tr>\n    <tr>\n      <th>27109</th>\n      <td>Środkowy obrońca</td>\n      <td>Obrońca</td>\n      <td>24</td>\n      <td>W sile wieku</td>\n    </tr>\n  </tbody>\n</table>\n<p>19483 rows × 4 columns</p>\n</div>"
     },
     "metadata": {},
     "output_type": "display_data"
    }
   ],
   "source": [
    "import random\n",
    "\n",
    "def get_player_age_group(age):\n",
    "    if 15 <= age < 16:\n",
    "        return 'Junior młodszy'\n",
    "    elif 16 <= age < 17:\n",
    "        return 'Junior starszy'\n",
    "    elif 17 <= age < 22:\n",
    "        return 'Młody'\n",
    "    elif 22 <= age < 30:\n",
    "        return 'W sile wieku'\n",
    "    elif 30 <= age < 37:\n",
    "        return 'Doświadczony'\n",
    "    elif 37 <= age < 42:\n",
    "        return 'Zbliżający się do końca kariery'\n",
    "    elif age >= 42:\n",
    "        return 'Oldboy'\n",
    "    else:\n",
    "        return 'Inny'\n",
    "\n",
    "transfer_df['PlayerGenericPosition'] = transfer_df['PlayerPosition'].map(lambda x: x.split(' ')[-1].capitalize())\n",
    "transfer_df['PlayerAgeGroup'] = transfer_df['PlayerAge'].map(lambda x: get_player_age_group(random.randint(15,45) if x == '-' else int(x)))\n",
    "\n",
    "display(transfer_df[['PlayerPosition', 'PlayerGenericPosition', 'PlayerAge', 'PlayerAgeGroup']])"
   ]
  },
  {
   "cell_type": "markdown",
   "source": [
    "### Wyczyszczenie danych z kolumny 'TransferDate'"
   ],
   "metadata": {
    "collapsed": false
   }
  },
  {
   "cell_type": "code",
   "execution_count": 12,
   "outputs": [
    {
     "data": {
      "text/plain": "2021-07-01    2038\n2020-07-01     702\n2021-01-01     605\n2021-08-31     550\n2021-02-01     460\n              ... \n2020-02-05       1\n2017-07-11       1\n2017-02-16       1\n2017-11-16       1\n2021-12-06       1\nName: TransferDate, Length: 809, dtype: int64"
     },
     "execution_count": 12,
     "metadata": {},
     "output_type": "execute_result"
    }
   ],
   "source": [
    "def translate_months(month):\n",
    "    if month == \"sty\": return \"january\"\n",
    "    if month == \"lut\": return \"february\"\n",
    "    if month == \"mar\": return \"march\"\n",
    "    if month == \"kwi\": return \"april\"\n",
    "    if month == \"maj\": return \"may\"\n",
    "    if month == \"cze\": return \"june\"\n",
    "    if month == \"lip\": return \"july\"\n",
    "    if month == \"sie\": return \"august\"\n",
    "    if month == \"wrz\": return \"september\"\n",
    "    if month == \"paź\": return \"october\"\n",
    "    if month == \"lis\": return \"november\"\n",
    "    if month == \"gru\": return \"december\"\n",
    "\n",
    "\n",
    "transfer_df = transfer_df[transfer_df['TransferDate'] != '0']\n",
    "\n",
    "transfer_df['TransferDate'] = transfer_df['TransferDate'].astype(\"string\")\n",
    "\n",
    "transfer_df['TransferDate'] = transfer_df['TransferDate'].map(lambda x: datetime.strptime(x.split(\" \")[0]+\" \"+translate_months(x.split(\" \")[1])+\" \"+x.split(\" \")[2], '%d %B %Y'))\n",
    "\n",
    "transfer_df['TransferDate']= pd.to_datetime(transfer_df['TransferDate'])\n",
    "\n",
    "transfer_df['TransferDate'].value_counts()"
   ],
   "metadata": {
    "collapsed": false,
    "pycharm": {
     "name": "#%%\n"
    }
   }
  },
  {
   "cell_type": "markdown",
   "source": [
    "### Wyczyszczenie danych z kolumny 'PlayerMinutesPlayed'"
   ],
   "metadata": {
    "collapsed": false
   }
  },
  {
   "cell_type": "code",
   "execution_count": 13,
   "outputs": [],
   "source": [
    "transfer_df['PlayerMinutesPlayed'] = transfer_df['PlayerMinutesPlayed'].map(lambda x: x if len(x) == 1 else x[:-1])\n",
    "transfer_df['PlayerMinutesPlayed'] = transfer_df['PlayerMinutesPlayed'].map(lambda x: x.replace(\".\", \"\").replace(\"-\", \"\"))\n",
    "\n",
    "transfer_df[\"PlayerMinutesPlayed\"].value_counts()\n",
    "transfer_df['PlayerMinutesPlayed'] = transfer_df['PlayerMinutesPlayed'].astype(\"int64\")"
   ],
   "metadata": {
    "collapsed": false,
    "pycharm": {
     "name": "#%%\n"
    }
   }
  },
  {
   "cell_type": "markdown",
   "metadata": {
    "pycharm": {
     "name": "#%% md\n"
    }
   },
   "source": [
    "### Wyczyszczenie danych z kolumny 'Operation'"
   ]
  },
  {
   "cell_type": "code",
   "execution_count": 17,
   "metadata": {
    "pycharm": {
     "name": "#%%\n"
    }
   },
   "outputs": [
    {
     "data": {
      "text/plain": "Wypożyczenie    9528\nTransfer        8120\nName: Operation, dtype: int64"
     },
     "execution_count": 17,
     "metadata": {},
     "output_type": "execute_result"
    }
   ],
   "source": [
    "transfer_df[\"Operation\"].replace({\"bez odstępnego\": \"Transfer\", \"-\": \"Transfer\", \"wypożyczenie\": \"Wypożyczenie\", \"draft\": \"Transfer\"}, inplace=True)\n",
    "transfer_df[\"Operation\"].replace([\"^koniec wypżyczenia[0-9]{1,2}[ ][a-ź]{3}[ ][0-9]{4}$\"], [\"Wypożyczenie\"], regex=True, inplace=True)\n",
    "transfer_df[\"Operation\"].replace([\"^opłata za wypożyczenie:.*$\"], [\"Wypożyczenie\"], regex=True, inplace=True)\n",
    "transfer_df[\"Operation\"].replace([\"^.*€$\"], [\"Transfer\"], regex=True, inplace=True)\n",
    "\n",
    "transfer_df = transfer_df[transfer_df[\"Operation\"] != \"?\"]\n",
    "transfer_df = transfer_df[transfer_df[\"Operation\"] != '0']\n",
    "\n",
    "transfer_df[\"Operation\"].value_counts()"
   ]
  },
  {
   "cell_type": "markdown",
   "metadata": {
    "pycharm": {
     "name": "#%% md\n"
    }
   },
   "source": [
    "### Wyczyszczenie danych z kolumny 'Bought/Sold'"
   ]
  },
  {
   "cell_type": "code",
   "execution_count": 18,
   "metadata": {
    "pycharm": {
     "name": "#%%\n"
    }
   },
   "outputs": [
    {
     "data": {
      "text/plain": "Sprzedany    8968\nKupiony      8680\nName: Bought/Sold, dtype: int64"
     },
     "execution_count": 18,
     "metadata": {},
     "output_type": "execute_result"
    }
   ],
   "source": [
    "transfer_df[\"Bought/Sold\"].replace({\"Odejścia\": \"Sprzedany\", \"Nabytki\": \"Kupiony\"}, inplace=True)\n",
    "transfer_df['Bought/Sold'].value_counts()"
   ]
  },
  {
   "cell_type": "code",
   "execution_count": 19,
   "metadata": {
    "pycharm": {
     "name": "#%%\n"
    }
   },
   "outputs": [
    {
     "data": {
      "text/plain": "200000      1161\n300000      1014\n250000       924\n400000       911\n100000       871\n            ... \n9500000        2\n75000000       2\n825000         1\n80000000       1\n1250000        1\nName: PlayerMarketValue, Length: 124, dtype: int64"
     },
     "metadata": {},
     "output_type": "display_data"
    }
   ],
   "source": [
    "def human_readable_to_numeric(value):\n",
    "    if value == 0:\n",
    "        return 0\n",
    "    elements = value.split(\" \")\n",
    "    base = float(elements[0].replace(',', '.'))\n",
    "    if elements[1] == \"mln\":\n",
    "        times = 1000000\n",
    "    elif elements[1] == \"tys.\":\n",
    "        times = 1000\n",
    "    else:\n",
    "        times = 1\n",
    "\n",
    "    return base * times\n",
    "\n",
    "\n",
    "\n",
    "transfer_df[\"PlayerMarketValue\"].replace({\"-\": 0}, inplace=True)\n",
    "transfer_df[\"PlayerMarketValue\"] = transfer_df[\"PlayerMarketValue\"].map(lambda x: human_readable_to_numeric(x))\n",
    "transfer_df['PlayerMarketValue'] = transfer_df['PlayerMarketValue'].astype(\"int64\")\n",
    "\n",
    "display(transfer_df['PlayerMarketValue'].value_counts())"
   ]
  },
  {
   "cell_type": "markdown",
   "metadata": {
    "pycharm": {
     "name": "#%% md\n"
    }
   },
   "source": [
    "### Wyczyszczenie danych z kolumny 'TransferValue'"
   ]
  },
  {
   "cell_type": "code",
   "execution_count": 22,
   "outputs": [
    {
     "data": {
      "text/plain": "0          15159\n500000       123\n1000000      118\n2000000       99\n1500000       82\n           ...  \n2900000        1\n980000         1\n112000         1\n230000         1\n479000         1\nName: TransferValue, Length: 409, dtype: int64"
     },
     "execution_count": 22,
     "metadata": {},
     "output_type": "execute_result"
    }
   ],
   "source": [
    "def remove_text_about_loan_fee(value):\n",
    "    if value == 0:\n",
    "        return 0\n",
    "\n",
    "    elements = value.split(\"opłata za wypożyczenie:\")\n",
    "    return elements[-1]\n",
    "\n",
    "\n",
    "transfer_df[\"TransferValue\"].replace({\"bez odstępnego\": 0, \"-\": 0, \"wypożyczenie\": 0, \"draft\": 0, \"\": 0}, inplace=True)\n",
    "transfer_df[\"TransferValue\"].replace([\"^koniec wypżyczenia[0-9]{1,2}[ ][a-ź]{3}[ ][0-9]{4}$\"], [0], regex=True, inplace=True)\n",
    "transfer_df[\"TransferValue\"] = transfer_df[\"TransferValue\"].map(lambda x: remove_text_about_loan_fee(x))\n",
    "transfer_df[\"TransferValue\"] = transfer_df[\"TransferValue\"].map(lambda x: human_readable_to_numeric(x))\n",
    "\n",
    "transfer_df = transfer_df[transfer_df[\"TransferValue\"] != \"?\"]\n",
    "transfer_df = transfer_df[transfer_df['TransferValue'] != '0']\n",
    "\n",
    "transfer_df['TransferValue'] = transfer_df['TransferValue'].astype(\"int64\")\n",
    "\n",
    "transfer_df[\"TransferValue\"].value_counts()"
   ],
   "metadata": {
    "collapsed": false,
    "pycharm": {
     "name": "#%%\n"
    }
   }
  },
  {
   "cell_type": "markdown",
   "source": [
    "### Uzyskanie listy duplikatów oraz ich usunięcie"
   ],
   "metadata": {
    "collapsed": false
   }
  },
  {
   "cell_type": "code",
   "execution_count": 23,
   "outputs": [
    {
     "data": {
      "text/plain": "                                  Club  ClubLeagueLevel ClubLeagueNationality            Player PlayerAge  PlayerHeight TransferDate  PlayerMatchesPlayed  PlayerGoals  PlayerAssists  PlayerOwnGoals  PlayerSubstitutionIn  PlayerSubstitutionOut  PlayerYellowCards  PlayerSecondYellowCards  PlayerRedCards  \\\n1022                   Manchester City                1                Anglia   Patrick Roberts        23          1.67   2021-08-31                  181           26             38               0                    84                     59                  6                        0               0   \n5943          Fluminense Football Club                1              Brazylia         Reginaldo        28          1.93   2021-04-01                  139            6              2               0                    13                      8                 25                        1               1   \n9239                 Atlanta United FC                1     Stany Zjednaczone   Rocco Ríos Novo        18          1.81   2019-01-07                   22            0              0               0                     1                      0                  1                        0               0   \n9266                 Atlanta United FC                1     Stany Zjednaczone   Rocco Ríos Novo        18          1.81   2019-01-07                   22            0              0               0                     1                      0                  1                        0               0   \n12539                         FC Vaduz                1            Szwajcaria    Besart Bajrami        20          1.80   2022-01-01                   36            1              0               0                    13                     11                  3                        0               0   \n13002                     Gaziantep FK                1                Turcja  Mücahid Albayrak        29          1.80   2021-08-03                  220           10             12               0                    40                     13                 29                        0               0   \n13785  Büyüksehir Belediye Erzurumspor                1                Turcja  Mücahid Albayrak        29          1.80   2021-08-03                  220           10             12               0                    40                     13                 29                        0               0   \n14271                 Shanghai Shenhua                1                 Chiny      Jianrong Zhu        29          1.85   2021-04-09                  223           38             15               1                   127                     78                 23                        0               0   \n14523                       Qingdao FC                1                 Chiny      Jianrong Zhu        29          1.85   2021-04-09                  223           38             15               1                   127                     78                 23                        0               0   \n16392                       AC Horsens                1                 Dania      Mikkel Qvist        27          2.03   2021-07-13                  134            9             14               1                    23                     37                 16                        1               1   \n16582                  SK Slavia Praga                1                Czechy     Jakub Hromada        24          1.80   2017-07-01                  177           13              4               1                    39                     88                 35                        0               1   \n16735                FC Slovan Liberec                1                Czechy     Jakub Hromada        24          1.80   2017-07-01                  177           13              4               1                    39                     88                 35                        0               1   \n17643                     MTK Budapest                1                 Węgry    Anton Bidzilya        20          1.75   2021-07-21                   36            1              1               0                     7                     16                 10                        0               0   \n21147                 FC Middlesbrough                2                Anglia   Patrick Roberts        23          1.67   2021-08-31                  181           26             38               0                    84                     59                  6                        0               0   \n21195                     Norwich City                2                Anglia       Simon Power        22          1.77   2021-01-18                   88            9              3               0                    39                     24                  3                        0               0   \n21289                Preston North End                2                Anglia      Ethan Walker        18          1.84   2021-09-17                   28            5              1               0                    18                      5                  3                        0               0   \n21538                     Swansea City                2                Anglia        Marc Guehi        20          1.82   2021-07-18                  181           11              7               3                     4                      9                 17                        0               0   \n22483                    Oxford United                3                Anglia      Malachi Napa        21          1.65   2021-08-13                   60            1              4               0                    30                     22                  3                        0               0   \n\n       PlayerMinutesPlayed       PlayerPosition PlayerPositionScut PlayerNationality     Operation Bought/Sold  PlayerMarketValue                     ClubAssigned  ClubAssignedLeagueLevel ClubAssignedLeagueNationality  TransferValue  PlayerWithoutClub PlayerGenericPosition PlayerAgeGroup  \n1022                  9010      Prawy napastnik                PNP            Anglia  Wypożyczenie     Kupiony            1500000                 FC Middlesbrough                        2                        Anglia              0              False             Napastnik   W sile wieku  \n5943                 11319     Środkowy obrońca                ŚOB          Brazylia  Wypożyczenie   Sprzedany             350000     Clube de Regatas Brasil (AL)                        2                      Brazylia              0              False               Obrońca   W sile wieku  \n9239                  1935             Bramkarz                BRK         Argentyna  Wypożyczenie     Kupiony             750000                 Atlanta United 2                        2             Stany Zjednaczone              0              False              Bramkarz          Młody  \n9266                  1935             Bramkarz                BRK         Argentyna  Wypożyczenie   Sprzedany             750000                 Atlanta United 2                        2             Stany Zjednaczone              0              False              Bramkarz          Młody  \n12539                 2171   Ofensywny pomocnik                OPM            Serbia  Wypożyczenie   Sprzedany                  0                       FC Balzers                        4                    Szwajcaria              0              False              Pomocnik          Młody  \n13002                16863         Lewy obrońca                LOB            Turcja  Wypożyczenie     Kupiony             200000  Büyüksehir Belediye Erzurumspor                        2                        Turcja              0              False               Obrońca   W sile wieku  \n13785                16863         Lewy obrońca                LOB            Turcja  Wypożyczenie   Sprzedany             200000                     Gaziantep FK                        1                        Turcja              0              False               Obrońca   W sile wieku  \n14271                 9693   Środkowy napastnik                ŚNP             Chiny  Wypożyczenie   Sprzedany             125000                       Qingdao FC                        1                         Chiny              0              False             Napastnik   W sile wieku  \n14523                 9693   Środkowy napastnik                ŚNP             Chiny  Wypożyczenie     Kupiony             125000                 Shanghai Shenhua                        1                         Chiny              0              False             Napastnik   W sile wieku  \n16392                 9593     Środkowy obrońca                ŚOB             Dania  Wypożyczenie     Kupiony             200000                      KA Akureyri                        1                      Islandia              0              False               Obrońca   W sile wieku  \n16582                11489  Defensywny pomocnik                DPM          Słowacja  Wypożyczenie     Kupiony            1000000                FC Slovan Liberec                        1                        Czechy              0              False              Pomocnik   W sile wieku  \n16735                11489  Defensywny pomocnik                DPM          Słowacja  Wypożyczenie   Sprzedany            1000000                  SK Slavia Praga                        1                        Czechy              0              False              Pomocnik   W sile wieku  \n17643                 2455   Ofensywny pomocnik                OPM             Węgry  Wypożyczenie     Kupiony              75000         Békéscsaba 1912 Elöre SE                        2                         Węgry              0              False              Pomocnik          Młody  \n21147                 9010      Prawy napastnik                PNP            Anglia  Wypożyczenie   Sprzedany            1500000                  Manchester City                        1                        Anglia              0              False             Napastnik   W sile wieku  \n21195                 4573       Prawy pomocnik                PPM          Irlandia  Wypożyczenie     Kupiony             150000                 King's Lynn Town                        5                        Anglia              0              False              Pomocnik   W sile wieku  \n21289                 1036       Lewy napastnik                LNP            Anglia  Wypożyczenie     Kupiony             100000                  Carlisle United                        4                        Anglia              0              False             Napastnik          Młody  \n21538                15800     Środkowy obrońca                ŚOB            Anglia  Wypożyczenie   Sprzedany           20000000                   Chelsea FC U23                        8                        Anglia              0              False               Obrońca          Młody  \n22483                 2797   Ofensywny pomocnik                OPM            Anglia  Wypożyczenie     Kupiony                  0                        Woking FC                        5                        Anglia              0              False              Pomocnik          Młody  ",
      "text/html": "<div>\n<style scoped>\n    .dataframe tbody tr th:only-of-type {\n        vertical-align: middle;\n    }\n\n    .dataframe tbody tr th {\n        vertical-align: top;\n    }\n\n    .dataframe thead th {\n        text-align: right;\n    }\n</style>\n<table border=\"1\" class=\"dataframe\">\n  <thead>\n    <tr style=\"text-align: right;\">\n      <th></th>\n      <th>Club</th>\n      <th>ClubLeagueLevel</th>\n      <th>ClubLeagueNationality</th>\n      <th>Player</th>\n      <th>PlayerAge</th>\n      <th>PlayerHeight</th>\n      <th>TransferDate</th>\n      <th>PlayerMatchesPlayed</th>\n      <th>PlayerGoals</th>\n      <th>PlayerAssists</th>\n      <th>PlayerOwnGoals</th>\n      <th>PlayerSubstitutionIn</th>\n      <th>PlayerSubstitutionOut</th>\n      <th>PlayerYellowCards</th>\n      <th>PlayerSecondYellowCards</th>\n      <th>PlayerRedCards</th>\n      <th>PlayerMinutesPlayed</th>\n      <th>PlayerPosition</th>\n      <th>PlayerPositionScut</th>\n      <th>PlayerNationality</th>\n      <th>Operation</th>\n      <th>Bought/Sold</th>\n      <th>PlayerMarketValue</th>\n      <th>ClubAssigned</th>\n      <th>ClubAssignedLeagueLevel</th>\n      <th>ClubAssignedLeagueNationality</th>\n      <th>TransferValue</th>\n      <th>PlayerWithoutClub</th>\n      <th>PlayerGenericPosition</th>\n      <th>PlayerAgeGroup</th>\n    </tr>\n  </thead>\n  <tbody>\n    <tr>\n      <th>1022</th>\n      <td>Manchester City</td>\n      <td>1</td>\n      <td>Anglia</td>\n      <td>Patrick Roberts</td>\n      <td>23</td>\n      <td>1.67</td>\n      <td>2021-08-31</td>\n      <td>181</td>\n      <td>26</td>\n      <td>38</td>\n      <td>0</td>\n      <td>84</td>\n      <td>59</td>\n      <td>6</td>\n      <td>0</td>\n      <td>0</td>\n      <td>9010</td>\n      <td>Prawy napastnik</td>\n      <td>PNP</td>\n      <td>Anglia</td>\n      <td>Wypożyczenie</td>\n      <td>Kupiony</td>\n      <td>1500000</td>\n      <td>FC Middlesbrough</td>\n      <td>2</td>\n      <td>Anglia</td>\n      <td>0</td>\n      <td>False</td>\n      <td>Napastnik</td>\n      <td>W sile wieku</td>\n    </tr>\n    <tr>\n      <th>5943</th>\n      <td>Fluminense Football Club</td>\n      <td>1</td>\n      <td>Brazylia</td>\n      <td>Reginaldo</td>\n      <td>28</td>\n      <td>1.93</td>\n      <td>2021-04-01</td>\n      <td>139</td>\n      <td>6</td>\n      <td>2</td>\n      <td>0</td>\n      <td>13</td>\n      <td>8</td>\n      <td>25</td>\n      <td>1</td>\n      <td>1</td>\n      <td>11319</td>\n      <td>Środkowy obrońca</td>\n      <td>ŚOB</td>\n      <td>Brazylia</td>\n      <td>Wypożyczenie</td>\n      <td>Sprzedany</td>\n      <td>350000</td>\n      <td>Clube de Regatas Brasil (AL)</td>\n      <td>2</td>\n      <td>Brazylia</td>\n      <td>0</td>\n      <td>False</td>\n      <td>Obrońca</td>\n      <td>W sile wieku</td>\n    </tr>\n    <tr>\n      <th>9239</th>\n      <td>Atlanta United FC</td>\n      <td>1</td>\n      <td>Stany Zjednaczone</td>\n      <td>Rocco Ríos Novo</td>\n      <td>18</td>\n      <td>1.81</td>\n      <td>2019-01-07</td>\n      <td>22</td>\n      <td>0</td>\n      <td>0</td>\n      <td>0</td>\n      <td>1</td>\n      <td>0</td>\n      <td>1</td>\n      <td>0</td>\n      <td>0</td>\n      <td>1935</td>\n      <td>Bramkarz</td>\n      <td>BRK</td>\n      <td>Argentyna</td>\n      <td>Wypożyczenie</td>\n      <td>Kupiony</td>\n      <td>750000</td>\n      <td>Atlanta United 2</td>\n      <td>2</td>\n      <td>Stany Zjednaczone</td>\n      <td>0</td>\n      <td>False</td>\n      <td>Bramkarz</td>\n      <td>Młody</td>\n    </tr>\n    <tr>\n      <th>9266</th>\n      <td>Atlanta United FC</td>\n      <td>1</td>\n      <td>Stany Zjednaczone</td>\n      <td>Rocco Ríos Novo</td>\n      <td>18</td>\n      <td>1.81</td>\n      <td>2019-01-07</td>\n      <td>22</td>\n      <td>0</td>\n      <td>0</td>\n      <td>0</td>\n      <td>1</td>\n      <td>0</td>\n      <td>1</td>\n      <td>0</td>\n      <td>0</td>\n      <td>1935</td>\n      <td>Bramkarz</td>\n      <td>BRK</td>\n      <td>Argentyna</td>\n      <td>Wypożyczenie</td>\n      <td>Sprzedany</td>\n      <td>750000</td>\n      <td>Atlanta United 2</td>\n      <td>2</td>\n      <td>Stany Zjednaczone</td>\n      <td>0</td>\n      <td>False</td>\n      <td>Bramkarz</td>\n      <td>Młody</td>\n    </tr>\n    <tr>\n      <th>12539</th>\n      <td>FC Vaduz</td>\n      <td>1</td>\n      <td>Szwajcaria</td>\n      <td>Besart Bajrami</td>\n      <td>20</td>\n      <td>1.80</td>\n      <td>2022-01-01</td>\n      <td>36</td>\n      <td>1</td>\n      <td>0</td>\n      <td>0</td>\n      <td>13</td>\n      <td>11</td>\n      <td>3</td>\n      <td>0</td>\n      <td>0</td>\n      <td>2171</td>\n      <td>Ofensywny pomocnik</td>\n      <td>OPM</td>\n      <td>Serbia</td>\n      <td>Wypożyczenie</td>\n      <td>Sprzedany</td>\n      <td>0</td>\n      <td>FC Balzers</td>\n      <td>4</td>\n      <td>Szwajcaria</td>\n      <td>0</td>\n      <td>False</td>\n      <td>Pomocnik</td>\n      <td>Młody</td>\n    </tr>\n    <tr>\n      <th>13002</th>\n      <td>Gaziantep FK</td>\n      <td>1</td>\n      <td>Turcja</td>\n      <td>Mücahid Albayrak</td>\n      <td>29</td>\n      <td>1.80</td>\n      <td>2021-08-03</td>\n      <td>220</td>\n      <td>10</td>\n      <td>12</td>\n      <td>0</td>\n      <td>40</td>\n      <td>13</td>\n      <td>29</td>\n      <td>0</td>\n      <td>0</td>\n      <td>16863</td>\n      <td>Lewy obrońca</td>\n      <td>LOB</td>\n      <td>Turcja</td>\n      <td>Wypożyczenie</td>\n      <td>Kupiony</td>\n      <td>200000</td>\n      <td>Büyüksehir Belediye Erzurumspor</td>\n      <td>2</td>\n      <td>Turcja</td>\n      <td>0</td>\n      <td>False</td>\n      <td>Obrońca</td>\n      <td>W sile wieku</td>\n    </tr>\n    <tr>\n      <th>13785</th>\n      <td>Büyüksehir Belediye Erzurumspor</td>\n      <td>1</td>\n      <td>Turcja</td>\n      <td>Mücahid Albayrak</td>\n      <td>29</td>\n      <td>1.80</td>\n      <td>2021-08-03</td>\n      <td>220</td>\n      <td>10</td>\n      <td>12</td>\n      <td>0</td>\n      <td>40</td>\n      <td>13</td>\n      <td>29</td>\n      <td>0</td>\n      <td>0</td>\n      <td>16863</td>\n      <td>Lewy obrońca</td>\n      <td>LOB</td>\n      <td>Turcja</td>\n      <td>Wypożyczenie</td>\n      <td>Sprzedany</td>\n      <td>200000</td>\n      <td>Gaziantep FK</td>\n      <td>1</td>\n      <td>Turcja</td>\n      <td>0</td>\n      <td>False</td>\n      <td>Obrońca</td>\n      <td>W sile wieku</td>\n    </tr>\n    <tr>\n      <th>14271</th>\n      <td>Shanghai Shenhua</td>\n      <td>1</td>\n      <td>Chiny</td>\n      <td>Jianrong Zhu</td>\n      <td>29</td>\n      <td>1.85</td>\n      <td>2021-04-09</td>\n      <td>223</td>\n      <td>38</td>\n      <td>15</td>\n      <td>1</td>\n      <td>127</td>\n      <td>78</td>\n      <td>23</td>\n      <td>0</td>\n      <td>0</td>\n      <td>9693</td>\n      <td>Środkowy napastnik</td>\n      <td>ŚNP</td>\n      <td>Chiny</td>\n      <td>Wypożyczenie</td>\n      <td>Sprzedany</td>\n      <td>125000</td>\n      <td>Qingdao FC</td>\n      <td>1</td>\n      <td>Chiny</td>\n      <td>0</td>\n      <td>False</td>\n      <td>Napastnik</td>\n      <td>W sile wieku</td>\n    </tr>\n    <tr>\n      <th>14523</th>\n      <td>Qingdao FC</td>\n      <td>1</td>\n      <td>Chiny</td>\n      <td>Jianrong Zhu</td>\n      <td>29</td>\n      <td>1.85</td>\n      <td>2021-04-09</td>\n      <td>223</td>\n      <td>38</td>\n      <td>15</td>\n      <td>1</td>\n      <td>127</td>\n      <td>78</td>\n      <td>23</td>\n      <td>0</td>\n      <td>0</td>\n      <td>9693</td>\n      <td>Środkowy napastnik</td>\n      <td>ŚNP</td>\n      <td>Chiny</td>\n      <td>Wypożyczenie</td>\n      <td>Kupiony</td>\n      <td>125000</td>\n      <td>Shanghai Shenhua</td>\n      <td>1</td>\n      <td>Chiny</td>\n      <td>0</td>\n      <td>False</td>\n      <td>Napastnik</td>\n      <td>W sile wieku</td>\n    </tr>\n    <tr>\n      <th>16392</th>\n      <td>AC Horsens</td>\n      <td>1</td>\n      <td>Dania</td>\n      <td>Mikkel Qvist</td>\n      <td>27</td>\n      <td>2.03</td>\n      <td>2021-07-13</td>\n      <td>134</td>\n      <td>9</td>\n      <td>14</td>\n      <td>1</td>\n      <td>23</td>\n      <td>37</td>\n      <td>16</td>\n      <td>1</td>\n      <td>1</td>\n      <td>9593</td>\n      <td>Środkowy obrońca</td>\n      <td>ŚOB</td>\n      <td>Dania</td>\n      <td>Wypożyczenie</td>\n      <td>Kupiony</td>\n      <td>200000</td>\n      <td>KA Akureyri</td>\n      <td>1</td>\n      <td>Islandia</td>\n      <td>0</td>\n      <td>False</td>\n      <td>Obrońca</td>\n      <td>W sile wieku</td>\n    </tr>\n    <tr>\n      <th>16582</th>\n      <td>SK Slavia Praga</td>\n      <td>1</td>\n      <td>Czechy</td>\n      <td>Jakub Hromada</td>\n      <td>24</td>\n      <td>1.80</td>\n      <td>2017-07-01</td>\n      <td>177</td>\n      <td>13</td>\n      <td>4</td>\n      <td>1</td>\n      <td>39</td>\n      <td>88</td>\n      <td>35</td>\n      <td>0</td>\n      <td>1</td>\n      <td>11489</td>\n      <td>Defensywny pomocnik</td>\n      <td>DPM</td>\n      <td>Słowacja</td>\n      <td>Wypożyczenie</td>\n      <td>Kupiony</td>\n      <td>1000000</td>\n      <td>FC Slovan Liberec</td>\n      <td>1</td>\n      <td>Czechy</td>\n      <td>0</td>\n      <td>False</td>\n      <td>Pomocnik</td>\n      <td>W sile wieku</td>\n    </tr>\n    <tr>\n      <th>16735</th>\n      <td>FC Slovan Liberec</td>\n      <td>1</td>\n      <td>Czechy</td>\n      <td>Jakub Hromada</td>\n      <td>24</td>\n      <td>1.80</td>\n      <td>2017-07-01</td>\n      <td>177</td>\n      <td>13</td>\n      <td>4</td>\n      <td>1</td>\n      <td>39</td>\n      <td>88</td>\n      <td>35</td>\n      <td>0</td>\n      <td>1</td>\n      <td>11489</td>\n      <td>Defensywny pomocnik</td>\n      <td>DPM</td>\n      <td>Słowacja</td>\n      <td>Wypożyczenie</td>\n      <td>Sprzedany</td>\n      <td>1000000</td>\n      <td>SK Slavia Praga</td>\n      <td>1</td>\n      <td>Czechy</td>\n      <td>0</td>\n      <td>False</td>\n      <td>Pomocnik</td>\n      <td>W sile wieku</td>\n    </tr>\n    <tr>\n      <th>17643</th>\n      <td>MTK Budapest</td>\n      <td>1</td>\n      <td>Węgry</td>\n      <td>Anton Bidzilya</td>\n      <td>20</td>\n      <td>1.75</td>\n      <td>2021-07-21</td>\n      <td>36</td>\n      <td>1</td>\n      <td>1</td>\n      <td>0</td>\n      <td>7</td>\n      <td>16</td>\n      <td>10</td>\n      <td>0</td>\n      <td>0</td>\n      <td>2455</td>\n      <td>Ofensywny pomocnik</td>\n      <td>OPM</td>\n      <td>Węgry</td>\n      <td>Wypożyczenie</td>\n      <td>Kupiony</td>\n      <td>75000</td>\n      <td>Békéscsaba 1912 Elöre SE</td>\n      <td>2</td>\n      <td>Węgry</td>\n      <td>0</td>\n      <td>False</td>\n      <td>Pomocnik</td>\n      <td>Młody</td>\n    </tr>\n    <tr>\n      <th>21147</th>\n      <td>FC Middlesbrough</td>\n      <td>2</td>\n      <td>Anglia</td>\n      <td>Patrick Roberts</td>\n      <td>23</td>\n      <td>1.67</td>\n      <td>2021-08-31</td>\n      <td>181</td>\n      <td>26</td>\n      <td>38</td>\n      <td>0</td>\n      <td>84</td>\n      <td>59</td>\n      <td>6</td>\n      <td>0</td>\n      <td>0</td>\n      <td>9010</td>\n      <td>Prawy napastnik</td>\n      <td>PNP</td>\n      <td>Anglia</td>\n      <td>Wypożyczenie</td>\n      <td>Sprzedany</td>\n      <td>1500000</td>\n      <td>Manchester City</td>\n      <td>1</td>\n      <td>Anglia</td>\n      <td>0</td>\n      <td>False</td>\n      <td>Napastnik</td>\n      <td>W sile wieku</td>\n    </tr>\n    <tr>\n      <th>21195</th>\n      <td>Norwich City</td>\n      <td>2</td>\n      <td>Anglia</td>\n      <td>Simon Power</td>\n      <td>22</td>\n      <td>1.77</td>\n      <td>2021-01-18</td>\n      <td>88</td>\n      <td>9</td>\n      <td>3</td>\n      <td>0</td>\n      <td>39</td>\n      <td>24</td>\n      <td>3</td>\n      <td>0</td>\n      <td>0</td>\n      <td>4573</td>\n      <td>Prawy pomocnik</td>\n      <td>PPM</td>\n      <td>Irlandia</td>\n      <td>Wypożyczenie</td>\n      <td>Kupiony</td>\n      <td>150000</td>\n      <td>King's Lynn Town</td>\n      <td>5</td>\n      <td>Anglia</td>\n      <td>0</td>\n      <td>False</td>\n      <td>Pomocnik</td>\n      <td>W sile wieku</td>\n    </tr>\n    <tr>\n      <th>21289</th>\n      <td>Preston North End</td>\n      <td>2</td>\n      <td>Anglia</td>\n      <td>Ethan Walker</td>\n      <td>18</td>\n      <td>1.84</td>\n      <td>2021-09-17</td>\n      <td>28</td>\n      <td>5</td>\n      <td>1</td>\n      <td>0</td>\n      <td>18</td>\n      <td>5</td>\n      <td>3</td>\n      <td>0</td>\n      <td>0</td>\n      <td>1036</td>\n      <td>Lewy napastnik</td>\n      <td>LNP</td>\n      <td>Anglia</td>\n      <td>Wypożyczenie</td>\n      <td>Kupiony</td>\n      <td>100000</td>\n      <td>Carlisle United</td>\n      <td>4</td>\n      <td>Anglia</td>\n      <td>0</td>\n      <td>False</td>\n      <td>Napastnik</td>\n      <td>Młody</td>\n    </tr>\n    <tr>\n      <th>21538</th>\n      <td>Swansea City</td>\n      <td>2</td>\n      <td>Anglia</td>\n      <td>Marc Guehi</td>\n      <td>20</td>\n      <td>1.82</td>\n      <td>2021-07-18</td>\n      <td>181</td>\n      <td>11</td>\n      <td>7</td>\n      <td>3</td>\n      <td>4</td>\n      <td>9</td>\n      <td>17</td>\n      <td>0</td>\n      <td>0</td>\n      <td>15800</td>\n      <td>Środkowy obrońca</td>\n      <td>ŚOB</td>\n      <td>Anglia</td>\n      <td>Wypożyczenie</td>\n      <td>Sprzedany</td>\n      <td>20000000</td>\n      <td>Chelsea FC U23</td>\n      <td>8</td>\n      <td>Anglia</td>\n      <td>0</td>\n      <td>False</td>\n      <td>Obrońca</td>\n      <td>Młody</td>\n    </tr>\n    <tr>\n      <th>22483</th>\n      <td>Oxford United</td>\n      <td>3</td>\n      <td>Anglia</td>\n      <td>Malachi Napa</td>\n      <td>21</td>\n      <td>1.65</td>\n      <td>2021-08-13</td>\n      <td>60</td>\n      <td>1</td>\n      <td>4</td>\n      <td>0</td>\n      <td>30</td>\n      <td>22</td>\n      <td>3</td>\n      <td>0</td>\n      <td>0</td>\n      <td>2797</td>\n      <td>Ofensywny pomocnik</td>\n      <td>OPM</td>\n      <td>Anglia</td>\n      <td>Wypożyczenie</td>\n      <td>Kupiony</td>\n      <td>0</td>\n      <td>Woking FC</td>\n      <td>5</td>\n      <td>Anglia</td>\n      <td>0</td>\n      <td>False</td>\n      <td>Pomocnik</td>\n      <td>Młody</td>\n    </tr>\n  </tbody>\n</table>\n</div>"
     },
     "metadata": {},
     "output_type": "display_data"
    },
    {
     "data": {
      "text/plain": "Empty DataFrame\nColumns: [Club, ClubLeagueLevel, ClubLeagueNationality, Player, PlayerAge, PlayerHeight, TransferDate, PlayerMatchesPlayed, PlayerGoals, PlayerAssists, PlayerOwnGoals, PlayerSubstitutionIn, PlayerSubstitutionOut, PlayerYellowCards, PlayerSecondYellowCards, PlayerRedCards, PlayerMinutesPlayed, PlayerPosition, PlayerPositionScut, PlayerNationality, Operation, Bought/Sold, PlayerMarketValue, ClubAssigned, ClubAssignedLeagueLevel, ClubAssignedLeagueNationality, TransferValue, PlayerWithoutClub, PlayerGenericPosition, PlayerAgeGroup]\nIndex: []",
      "text/html": "<div>\n<style scoped>\n    .dataframe tbody tr th:only-of-type {\n        vertical-align: middle;\n    }\n\n    .dataframe tbody tr th {\n        vertical-align: top;\n    }\n\n    .dataframe thead th {\n        text-align: right;\n    }\n</style>\n<table border=\"1\" class=\"dataframe\">\n  <thead>\n    <tr style=\"text-align: right;\">\n      <th></th>\n      <th>Club</th>\n      <th>ClubLeagueLevel</th>\n      <th>ClubLeagueNationality</th>\n      <th>Player</th>\n      <th>PlayerAge</th>\n      <th>PlayerHeight</th>\n      <th>TransferDate</th>\n      <th>PlayerMatchesPlayed</th>\n      <th>PlayerGoals</th>\n      <th>PlayerAssists</th>\n      <th>PlayerOwnGoals</th>\n      <th>PlayerSubstitutionIn</th>\n      <th>PlayerSubstitutionOut</th>\n      <th>PlayerYellowCards</th>\n      <th>PlayerSecondYellowCards</th>\n      <th>PlayerRedCards</th>\n      <th>PlayerMinutesPlayed</th>\n      <th>PlayerPosition</th>\n      <th>PlayerPositionScut</th>\n      <th>PlayerNationality</th>\n      <th>Operation</th>\n      <th>Bought/Sold</th>\n      <th>PlayerMarketValue</th>\n      <th>ClubAssigned</th>\n      <th>ClubAssignedLeagueLevel</th>\n      <th>ClubAssignedLeagueNationality</th>\n      <th>TransferValue</th>\n      <th>PlayerWithoutClub</th>\n      <th>PlayerGenericPosition</th>\n      <th>PlayerAgeGroup</th>\n    </tr>\n  </thead>\n  <tbody>\n  </tbody>\n</table>\n</div>"
     },
     "metadata": {},
     "output_type": "display_data"
    }
   ],
   "source": [
    "display(transfer_df[transfer_df.duplicated()])\n",
    "transfer_df.drop_duplicates(keep='first', inplace=True)\n",
    "display(transfer_df[transfer_df.duplicated()])"
   ],
   "metadata": {
    "collapsed": false,
    "pycharm": {
     "name": "#%%\n"
    }
   }
  },
  {
   "cell_type": "markdown",
   "source": [
    "### Zapisanie wyczyszczonego zbioru danych do pliku csv"
   ],
   "metadata": {
    "collapsed": false,
    "pycharm": {
     "name": "#%% md\n"
    }
   }
  },
  {
   "cell_type": "code",
   "execution_count": 24,
   "outputs": [],
   "source": [
    "transfer_df.to_csv('csv/transfers-data-frame-cleared.csv', encoding='utf-8')"
   ],
   "metadata": {
    "collapsed": false,
    "pycharm": {
     "name": "#%%\n"
    }
   }
  },
  {
   "cell_type": "code",
   "execution_count": null,
   "outputs": [],
   "source": [],
   "metadata": {
    "collapsed": false,
    "pycharm": {
     "name": "#%%\n"
    }
   }
  }
 ],
 "metadata": {
  "kernelspec": {
   "display_name": "Python 3",
   "language": "python",
   "name": "python3"
  },
  "language_info": {
   "codemirror_mode": {
    "name": "ipython",
    "version": 3
   },
   "file_extension": ".py",
   "mimetype": "text/x-python",
   "name": "python",
   "nbconvert_exporter": "python",
   "pygments_lexer": "ipython3",
   "version": "3.6.9"
  }
 },
 "nbformat": 4,
 "nbformat_minor": 1
}